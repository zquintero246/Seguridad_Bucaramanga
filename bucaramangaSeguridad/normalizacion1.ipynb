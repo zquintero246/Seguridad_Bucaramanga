{
 "cells": [
  {
   "cell_type": "code",
   "id": "initial_id",
   "metadata": {
    "collapsed": true,
    "ExecuteTime": {
     "end_time": "2024-08-26T00:57:20.550280Z",
     "start_time": "2024-08-26T00:57:20.547039Z"
    }
   },
   "source": [
    "# Pandas para manejo de datos\n",
    "import pandas as pd\n",
    "\n",
    "\n",
    "# MatplotLib para grafos\n",
    "import matplotlib.pyplot as plt\n",
    "\n",
    "# Seaborn para grafos\n",
    "import seaborn as sns\n",
    "\n",
    "# Numpy para manejo de datos\n",
    "import numpy as np"
   ],
   "outputs": [],
   "execution_count": 7
  },
  {
   "metadata": {
    "ExecuteTime": {
     "end_time": "2024-08-26T00:57:25.666403Z",
     "start_time": "2024-08-26T00:57:20.568418Z"
    }
   },
   "cell_type": "code",
   "source": [
    "# Url de los datos \n",
    "url = \"https://drive.google.com/uc?id=1-d1pn2OhZeaqiuUNtr6zAIXyXTHo3X7s&export=download\"\n",
    "\n",
    "\n",
    "# Convertir a DataFrame con pandas\n",
    "df = pd.read_csv(url)"
   ],
   "id": "b8995cf20734b267",
   "outputs": [
    {
     "name": "stderr",
     "output_type": "stream",
     "text": [
      "C:\\Users\\Owner\\AppData\\Local\\Temp\\ipykernel_4832\\3086643778.py:6: DtypeWarning: Columns (5) have mixed types. Specify dtype option on import or set low_memory=False.\n",
      "  df = pd.read_csv(url)\n"
     ]
    }
   ],
   "execution_count": 8
  },
  {
   "metadata": {
    "ExecuteTime": {
     "end_time": "2024-08-26T00:57:25.803847Z",
     "start_time": "2024-08-26T00:57:25.740187Z"
    }
   },
   "cell_type": "code",
   "source": [
    "# Mostra el tipo de dato de cada columna\n",
    "df.info()"
   ],
   "id": "f9e7f8d3049a9baa",
   "outputs": [
    {
     "name": "stdout",
     "output_type": "stream",
     "text": [
      "<class 'pandas.core.frame.DataFrame'>\n",
      "RangeIndex: 100993 entries, 0 to 100992\n",
      "Data columns (total 26 columns):\n",
      " #   Column                Non-Null Count   Dtype \n",
      "---  ------                --------------   ----- \n",
      " 0   DESCRIPCION_CONDUCTA  100993 non-null  object\n",
      " 1   ARMAS_MEDIOS          100993 non-null  object\n",
      " 2   BARRIOS_HECHO         100993 non-null  object\n",
      " 3   FECHA_HECHO           100993 non-null  object\n",
      " 4   HORA_HECHO            100993 non-null  object\n",
      " 5   EDAD                  100360 non-null  object\n",
      " 6   SEXO                  100993 non-null  object\n",
      " 7   MOVIL_VICTIMA         100993 non-null  object\n",
      " 8   MOVIL_AGRESOR         100993 non-null  object\n",
      " 9   CLASE_SITIO           100993 non-null  object\n",
      " 10  ARTICULO              100993 non-null  object\n",
      " 11  DELITO_SOLO           100993 non-null  object\n",
      " 12  CURSO_VIDA            100993 non-null  object\n",
      " 13  CURSO_VIDA_ORDEN      100993 non-null  int64 \n",
      " 14  AÑO_NUM               100993 non-null  int64 \n",
      " 15  MES_NUM               100993 non-null  int64 \n",
      " 16  DIA_NUM               100993 non-null  int64 \n",
      " 17  RANGO_HORARIO         100993 non-null  object\n",
      " 18  TIPOLOGÍA             100992 non-null  object\n",
      " 19  RANGO_HORARIO_ORDEN   100993 non-null  int64 \n",
      " 20  DIA_NOMBRE            100993 non-null  object\n",
      " 21  DIA_NOMBRE_ORDEN      100993 non-null  int64 \n",
      " 22  LOCALIDAD             100993 non-null  object\n",
      " 23  NUM_COM               100993 non-null  int64 \n",
      " 24  NOM_COM               100993 non-null  object\n",
      " 25  CANTIDAD_UNICA        100993 non-null  int64 \n",
      "dtypes: int64(8), object(18)\n",
      "memory usage: 20.0+ MB\n"
     ]
    }
   ],
   "execution_count": 9
  },
  {
   "metadata": {
    "ExecuteTime": {
     "end_time": "2024-08-26T00:57:25.901672Z",
     "start_time": "2024-08-26T00:57:25.881671Z"
    }
   },
   "cell_type": "code",
   "source": [
    "# Mostrar las primeras filas del DataFrame\n",
    "df.head()"
   ],
   "id": "7638e143ff960d17",
   "outputs": [
    {
     "data": {
      "text/plain": [
       "           DESCRIPCION_CONDUCTA                 ARMAS_MEDIOS  \\\n",
       "0  ARTÍCULO 239. HURTO PERSONAS  ARMA BLANCA / CORTOPUNZANTE   \n",
       "1  ARTÍCULO 239. HURTO PERSONAS  ARMA BLANCA / CORTOPUNZANTE   \n",
       "2  ARTÍCULO 239. HURTO PERSONAS  ARMA BLANCA / CORTOPUNZANTE   \n",
       "3  ARTÍCULO 239. HURTO PERSONAS  ARMA BLANCA / CORTOPUNZANTE   \n",
       "4  ARTÍCULO 239. HURTO PERSONAS  ARMA BLANCA / CORTOPUNZANTE   \n",
       "\n",
       "         BARRIOS_HECHO FECHA_HECHO HORA_HECHO EDAD       SEXO MOVIL_VICTIMA  \\\n",
       "0              MALPASO  2019-06-17   20:30:00   21  MASCULINO         A PIE   \n",
       "1  GRANJAS DE PROVENZA  2019-09-12   01:30:00   21  MASCULINO         A PIE   \n",
       "2             PROVENZA  2019-04-07   05:10:00   21  MASCULINO         A PIE   \n",
       "3       CIUDAD VENECIA  2019-01-30   23:15:00   21  MASCULINO         A PIE   \n",
       "4             PROVENZA  2019-06-12   14:30:00   21  MASCULINO         A PIE   \n",
       "\n",
       "  MOVIL_AGRESOR    CLASE_SITIO  ... DIA_NUM RANGO_HORARIO  \\\n",
       "0         A PIE  VIAS PUBLICAS  ...      17   20:00-20:59   \n",
       "1         A PIE  VIAS PUBLICAS  ...      12     1:00-1:59   \n",
       "2         A PIE  VIAS PUBLICAS  ...       7     5:00-5:59   \n",
       "3         A PIE  VIAS PUBLICAS  ...      30   23:00-23:59   \n",
       "4         A PIE  VIAS PUBLICAS  ...      12   14:00-14:59   \n",
       "\n",
       "                                TIPOLOGÍA  RANGO_HORARIO_ORDEN  DIA_NOMBRE  \\\n",
       "0  DELITOS CONTRA EL PATRIMONIO ECONOMICO                   20       lunes   \n",
       "1  DELITOS CONTRA EL PATRIMONIO ECONOMICO                    1      jueves   \n",
       "2  DELITOS CONTRA EL PATRIMONIO ECONOMICO                    5     domingo   \n",
       "3  DELITOS CONTRA EL PATRIMONIO ECONOMICO                   23   miércoles   \n",
       "4  DELITOS CONTRA EL PATRIMONIO ECONOMICO                   14   miércoles   \n",
       "\n",
       "   DIA_NOMBRE_ORDEN     LOCALIDAD NUM_COM   NOM_COM  CANTIDAD_UNICA  \n",
       "0                 1       11. SUR      11       SUR               1  \n",
       "1                 4  10. PROVENZA      10  PROVENZA               1  \n",
       "2                 7  10. PROVENZA      10  PROVENZA               1  \n",
       "3                 3       11. SUR      11       SUR               1  \n",
       "4                 3  10. PROVENZA      10  PROVENZA               1  \n",
       "\n",
       "[5 rows x 26 columns]"
      ],
      "text/html": [
       "<div>\n",
       "<style scoped>\n",
       "    .dataframe tbody tr th:only-of-type {\n",
       "        vertical-align: middle;\n",
       "    }\n",
       "\n",
       "    .dataframe tbody tr th {\n",
       "        vertical-align: top;\n",
       "    }\n",
       "\n",
       "    .dataframe thead th {\n",
       "        text-align: right;\n",
       "    }\n",
       "</style>\n",
       "<table border=\"1\" class=\"dataframe\">\n",
       "  <thead>\n",
       "    <tr style=\"text-align: right;\">\n",
       "      <th></th>\n",
       "      <th>DESCRIPCION_CONDUCTA</th>\n",
       "      <th>ARMAS_MEDIOS</th>\n",
       "      <th>BARRIOS_HECHO</th>\n",
       "      <th>FECHA_HECHO</th>\n",
       "      <th>HORA_HECHO</th>\n",
       "      <th>EDAD</th>\n",
       "      <th>SEXO</th>\n",
       "      <th>MOVIL_VICTIMA</th>\n",
       "      <th>MOVIL_AGRESOR</th>\n",
       "      <th>CLASE_SITIO</th>\n",
       "      <th>...</th>\n",
       "      <th>DIA_NUM</th>\n",
       "      <th>RANGO_HORARIO</th>\n",
       "      <th>TIPOLOGÍA</th>\n",
       "      <th>RANGO_HORARIO_ORDEN</th>\n",
       "      <th>DIA_NOMBRE</th>\n",
       "      <th>DIA_NOMBRE_ORDEN</th>\n",
       "      <th>LOCALIDAD</th>\n",
       "      <th>NUM_COM</th>\n",
       "      <th>NOM_COM</th>\n",
       "      <th>CANTIDAD_UNICA</th>\n",
       "    </tr>\n",
       "  </thead>\n",
       "  <tbody>\n",
       "    <tr>\n",
       "      <th>0</th>\n",
       "      <td>ARTÍCULO 239. HURTO PERSONAS</td>\n",
       "      <td>ARMA BLANCA / CORTOPUNZANTE</td>\n",
       "      <td>MALPASO</td>\n",
       "      <td>2019-06-17</td>\n",
       "      <td>20:30:00</td>\n",
       "      <td>21</td>\n",
       "      <td>MASCULINO</td>\n",
       "      <td>A PIE</td>\n",
       "      <td>A PIE</td>\n",
       "      <td>VIAS PUBLICAS</td>\n",
       "      <td>...</td>\n",
       "      <td>17</td>\n",
       "      <td>20:00-20:59</td>\n",
       "      <td>DELITOS CONTRA EL PATRIMONIO ECONOMICO</td>\n",
       "      <td>20</td>\n",
       "      <td>lunes</td>\n",
       "      <td>1</td>\n",
       "      <td>11. SUR</td>\n",
       "      <td>11</td>\n",
       "      <td>SUR</td>\n",
       "      <td>1</td>\n",
       "    </tr>\n",
       "    <tr>\n",
       "      <th>1</th>\n",
       "      <td>ARTÍCULO 239. HURTO PERSONAS</td>\n",
       "      <td>ARMA BLANCA / CORTOPUNZANTE</td>\n",
       "      <td>GRANJAS DE PROVENZA</td>\n",
       "      <td>2019-09-12</td>\n",
       "      <td>01:30:00</td>\n",
       "      <td>21</td>\n",
       "      <td>MASCULINO</td>\n",
       "      <td>A PIE</td>\n",
       "      <td>A PIE</td>\n",
       "      <td>VIAS PUBLICAS</td>\n",
       "      <td>...</td>\n",
       "      <td>12</td>\n",
       "      <td>1:00-1:59</td>\n",
       "      <td>DELITOS CONTRA EL PATRIMONIO ECONOMICO</td>\n",
       "      <td>1</td>\n",
       "      <td>jueves</td>\n",
       "      <td>4</td>\n",
       "      <td>10. PROVENZA</td>\n",
       "      <td>10</td>\n",
       "      <td>PROVENZA</td>\n",
       "      <td>1</td>\n",
       "    </tr>\n",
       "    <tr>\n",
       "      <th>2</th>\n",
       "      <td>ARTÍCULO 239. HURTO PERSONAS</td>\n",
       "      <td>ARMA BLANCA / CORTOPUNZANTE</td>\n",
       "      <td>PROVENZA</td>\n",
       "      <td>2019-04-07</td>\n",
       "      <td>05:10:00</td>\n",
       "      <td>21</td>\n",
       "      <td>MASCULINO</td>\n",
       "      <td>A PIE</td>\n",
       "      <td>A PIE</td>\n",
       "      <td>VIAS PUBLICAS</td>\n",
       "      <td>...</td>\n",
       "      <td>7</td>\n",
       "      <td>5:00-5:59</td>\n",
       "      <td>DELITOS CONTRA EL PATRIMONIO ECONOMICO</td>\n",
       "      <td>5</td>\n",
       "      <td>domingo</td>\n",
       "      <td>7</td>\n",
       "      <td>10. PROVENZA</td>\n",
       "      <td>10</td>\n",
       "      <td>PROVENZA</td>\n",
       "      <td>1</td>\n",
       "    </tr>\n",
       "    <tr>\n",
       "      <th>3</th>\n",
       "      <td>ARTÍCULO 239. HURTO PERSONAS</td>\n",
       "      <td>ARMA BLANCA / CORTOPUNZANTE</td>\n",
       "      <td>CIUDAD VENECIA</td>\n",
       "      <td>2019-01-30</td>\n",
       "      <td>23:15:00</td>\n",
       "      <td>21</td>\n",
       "      <td>MASCULINO</td>\n",
       "      <td>A PIE</td>\n",
       "      <td>A PIE</td>\n",
       "      <td>VIAS PUBLICAS</td>\n",
       "      <td>...</td>\n",
       "      <td>30</td>\n",
       "      <td>23:00-23:59</td>\n",
       "      <td>DELITOS CONTRA EL PATRIMONIO ECONOMICO</td>\n",
       "      <td>23</td>\n",
       "      <td>miércoles</td>\n",
       "      <td>3</td>\n",
       "      <td>11. SUR</td>\n",
       "      <td>11</td>\n",
       "      <td>SUR</td>\n",
       "      <td>1</td>\n",
       "    </tr>\n",
       "    <tr>\n",
       "      <th>4</th>\n",
       "      <td>ARTÍCULO 239. HURTO PERSONAS</td>\n",
       "      <td>ARMA BLANCA / CORTOPUNZANTE</td>\n",
       "      <td>PROVENZA</td>\n",
       "      <td>2019-06-12</td>\n",
       "      <td>14:30:00</td>\n",
       "      <td>21</td>\n",
       "      <td>MASCULINO</td>\n",
       "      <td>A PIE</td>\n",
       "      <td>A PIE</td>\n",
       "      <td>VIAS PUBLICAS</td>\n",
       "      <td>...</td>\n",
       "      <td>12</td>\n",
       "      <td>14:00-14:59</td>\n",
       "      <td>DELITOS CONTRA EL PATRIMONIO ECONOMICO</td>\n",
       "      <td>14</td>\n",
       "      <td>miércoles</td>\n",
       "      <td>3</td>\n",
       "      <td>10. PROVENZA</td>\n",
       "      <td>10</td>\n",
       "      <td>PROVENZA</td>\n",
       "      <td>1</td>\n",
       "    </tr>\n",
       "  </tbody>\n",
       "</table>\n",
       "<p>5 rows × 26 columns</p>\n",
       "</div>"
      ]
     },
     "execution_count": 10,
     "metadata": {},
     "output_type": "execute_result"
    }
   ],
   "execution_count": 10
  },
  {
   "metadata": {
    "ExecuteTime": {
     "end_time": "2024-08-26T00:57:26.084833Z",
     "start_time": "2024-08-26T00:57:25.995623Z"
    }
   },
   "cell_type": "code",
   "source": [
    "for column in df.columns:\n",
    "    num_distinct_values = len(df[column].unique())\n",
    "    print(f\"{column}: {num_distinct_values} distintos valores\")"
   ],
   "id": "5834fca7a1060451",
   "outputs": [
    {
     "name": "stdout",
     "output_type": "stream",
     "text": [
      "DESCRIPCION_CONDUCTA: 41 distintos valores\n",
      "ARMAS_MEDIOS: 40 distintos valores\n",
      "BARRIOS_HECHO: 327 distintos valores\n",
      "FECHA_HECHO: 2861 distintos valores\n",
      "HORA_HECHO: 1415 distintos valores\n",
      "EDAD: 185 distintos valores\n",
      "SEXO: 3 distintos valores\n",
      "MOVIL_VICTIMA: 14 distintos valores\n",
      "MOVIL_AGRESOR: 15 distintos valores\n",
      "CLASE_SITIO: 231 distintos valores\n",
      "ARTICULO: 30 distintos valores\n",
      "DELITO_SOLO: 41 distintos valores\n",
      "CURSO_VIDA: 19 distintos valores\n",
      "CURSO_VIDA_ORDEN: 19 distintos valores\n",
      "AÑO_NUM: 8 distintos valores\n",
      "MES_NUM: 12 distintos valores\n",
      "DIA_NUM: 31 distintos valores\n",
      "RANGO_HORARIO: 24 distintos valores\n",
      "TIPOLOGÍA: 6 distintos valores\n",
      "RANGO_HORARIO_ORDEN: 24 distintos valores\n",
      "DIA_NOMBRE: 7 distintos valores\n",
      "DIA_NOMBRE_ORDEN: 7 distintos valores\n",
      "LOCALIDAD: 21 distintos valores\n",
      "NUM_COM: 21 distintos valores\n",
      "NOM_COM: 21 distintos valores\n",
      "CANTIDAD_UNICA: 1 distintos valores\n"
     ]
    }
   ],
   "execution_count": 11
  },
  {
   "metadata": {},
   "cell_type": "code",
   "outputs": [],
   "execution_count": null,
   "source": "",
   "id": "1148839b995272b1"
  },
  {
   "metadata": {},
   "cell_type": "markdown",
   "source": "FEATURE ENGINEERING",
   "id": "c063a2af54a18eec"
  },
  {
   "metadata": {},
   "cell_type": "code",
   "outputs": [],
   "execution_count": null,
   "source": "",
   "id": "2117383b2585af24"
  }
 ],
 "metadata": {
  "kernelspec": {
   "display_name": "Python 3",
   "language": "python",
   "name": "python3"
  },
  "language_info": {
   "codemirror_mode": {
    "name": "ipython",
    "version": 2
   },
   "file_extension": ".py",
   "mimetype": "text/x-python",
   "name": "python",
   "nbconvert_exporter": "python",
   "pygments_lexer": "ipython2",
   "version": "2.7.6"
  }
 },
 "nbformat": 4,
 "nbformat_minor": 5
}
