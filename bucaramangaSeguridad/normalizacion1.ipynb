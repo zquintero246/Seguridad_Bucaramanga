{
 "cells": [
  {
   "cell_type": "code",
   "id": "initial_id",
   "metadata": {
    "collapsed": true,
    "ExecuteTime": {
     "end_time": "2024-08-26T15:10:06.005755Z",
     "start_time": "2024-08-26T15:10:06.002524Z"
    }
   },
   "source": [
    "# Pandas para manejo de datos\n",
    "import pandas as pd\n",
    "\n",
    "\n",
    "# MatplotLib para grafos\n",
    "import matplotlib.pyplot as plt\n",
    "\n",
    "# Seaborn para grafos\n",
    "import seaborn as sns\n",
    "\n",
    "# Numpy para manejo de datos\n",
    "import numpy as np"
   ],
   "outputs": [],
   "execution_count": 3
  },
  {
   "metadata": {},
   "cell_type": "markdown",
   "source": "CARGAR DATOS",
   "id": "a46d8a3cb5c51d5e"
  },
  {
   "metadata": {
    "ExecuteTime": {
     "end_time": "2024-08-26T15:10:13.778764Z",
     "start_time": "2024-08-26T15:10:07.930204Z"
    }
   },
   "cell_type": "code",
   "source": [
    "# Url de los datos \n",
    "url = \"https://drive.google.com/uc?id=1-d1pn2OhZeaqiuUNtr6zAIXyXTHo3X7s&export=download\"\n",
    "\n",
    "\n",
    "# Convertir a DataFrame con pandas\n",
    "df = pd.read_csv(url,low_memory=False)"
   ],
   "id": "b8995cf20734b267",
   "outputs": [],
   "execution_count": 4
  },
  {
   "metadata": {},
   "cell_type": "markdown",
   "source": "ANALISIS EXPLORATORIO DE DATOS",
   "id": "eb5e2873079f2ef1"
  },
  {
   "metadata": {
    "ExecuteTime": {
     "end_time": "2024-08-26T15:10:15.714880Z",
     "start_time": "2024-08-26T15:10:15.665409Z"
    }
   },
   "cell_type": "code",
   "source": [
    "# Mostra el tipo de dato de cada columna\n",
    "df.info()"
   ],
   "id": "f9e7f8d3049a9baa",
   "outputs": [
    {
     "name": "stdout",
     "output_type": "stream",
     "text": [
      "<class 'pandas.core.frame.DataFrame'>\n",
      "RangeIndex: 100993 entries, 0 to 100992\n",
      "Data columns (total 26 columns):\n",
      " #   Column                Non-Null Count   Dtype \n",
      "---  ------                --------------   ----- \n",
      " 0   DESCRIPCION_CONDUCTA  100993 non-null  object\n",
      " 1   ARMAS_MEDIOS          100993 non-null  object\n",
      " 2   BARRIOS_HECHO         100993 non-null  object\n",
      " 3   FECHA_HECHO           100993 non-null  object\n",
      " 4   HORA_HECHO            100993 non-null  object\n",
      " 5   EDAD                  100360 non-null  object\n",
      " 6   SEXO                  100993 non-null  object\n",
      " 7   MOVIL_VICTIMA         100993 non-null  object\n",
      " 8   MOVIL_AGRESOR         100993 non-null  object\n",
      " 9   CLASE_SITIO           100993 non-null  object\n",
      " 10  ARTICULO              100993 non-null  object\n",
      " 11  DELITO_SOLO           100993 non-null  object\n",
      " 12  CURSO_VIDA            100993 non-null  object\n",
      " 13  CURSO_VIDA_ORDEN      100993 non-null  int64 \n",
      " 14  AÑO_NUM               100993 non-null  int64 \n",
      " 15  MES_NUM               100993 non-null  int64 \n",
      " 16  DIA_NUM               100993 non-null  int64 \n",
      " 17  RANGO_HORARIO         100993 non-null  object\n",
      " 18  TIPOLOGÍA             100992 non-null  object\n",
      " 19  RANGO_HORARIO_ORDEN   100993 non-null  int64 \n",
      " 20  DIA_NOMBRE            100993 non-null  object\n",
      " 21  DIA_NOMBRE_ORDEN      100993 non-null  int64 \n",
      " 22  LOCALIDAD             100993 non-null  object\n",
      " 23  NUM_COM               100993 non-null  int64 \n",
      " 24  NOM_COM               100993 non-null  object\n",
      " 25  CANTIDAD_UNICA        100993 non-null  int64 \n",
      "dtypes: int64(8), object(18)\n",
      "memory usage: 20.0+ MB\n"
     ]
    }
   ],
   "execution_count": 5
  },
  {
   "metadata": {
    "ExecuteTime": {
     "end_time": "2024-08-26T15:10:18.000499Z",
     "start_time": "2024-08-26T15:10:17.985513Z"
    }
   },
   "cell_type": "code",
   "source": [
    "# Mostrar las primeras filas del DataFrame\n",
    "df.head()"
   ],
   "id": "7638e143ff960d17",
   "outputs": [
    {
     "data": {
      "text/plain": [
       "           DESCRIPCION_CONDUCTA                 ARMAS_MEDIOS  \\\n",
       "0  ARTÍCULO 239. HURTO PERSONAS  ARMA BLANCA / CORTOPUNZANTE   \n",
       "1  ARTÍCULO 239. HURTO PERSONAS  ARMA BLANCA / CORTOPUNZANTE   \n",
       "2  ARTÍCULO 239. HURTO PERSONAS  ARMA BLANCA / CORTOPUNZANTE   \n",
       "3  ARTÍCULO 239. HURTO PERSONAS  ARMA BLANCA / CORTOPUNZANTE   \n",
       "4  ARTÍCULO 239. HURTO PERSONAS  ARMA BLANCA / CORTOPUNZANTE   \n",
       "\n",
       "         BARRIOS_HECHO FECHA_HECHO HORA_HECHO EDAD       SEXO MOVIL_VICTIMA  \\\n",
       "0              MALPASO  2019-06-17   20:30:00   21  MASCULINO         A PIE   \n",
       "1  GRANJAS DE PROVENZA  2019-09-12   01:30:00   21  MASCULINO         A PIE   \n",
       "2             PROVENZA  2019-04-07   05:10:00   21  MASCULINO         A PIE   \n",
       "3       CIUDAD VENECIA  2019-01-30   23:15:00   21  MASCULINO         A PIE   \n",
       "4             PROVENZA  2019-06-12   14:30:00   21  MASCULINO         A PIE   \n",
       "\n",
       "  MOVIL_AGRESOR    CLASE_SITIO  ... DIA_NUM RANGO_HORARIO  \\\n",
       "0         A PIE  VIAS PUBLICAS  ...      17   20:00-20:59   \n",
       "1         A PIE  VIAS PUBLICAS  ...      12     1:00-1:59   \n",
       "2         A PIE  VIAS PUBLICAS  ...       7     5:00-5:59   \n",
       "3         A PIE  VIAS PUBLICAS  ...      30   23:00-23:59   \n",
       "4         A PIE  VIAS PUBLICAS  ...      12   14:00-14:59   \n",
       "\n",
       "                                TIPOLOGÍA  RANGO_HORARIO_ORDEN  DIA_NOMBRE  \\\n",
       "0  DELITOS CONTRA EL PATRIMONIO ECONOMICO                   20       lunes   \n",
       "1  DELITOS CONTRA EL PATRIMONIO ECONOMICO                    1      jueves   \n",
       "2  DELITOS CONTRA EL PATRIMONIO ECONOMICO                    5     domingo   \n",
       "3  DELITOS CONTRA EL PATRIMONIO ECONOMICO                   23   miércoles   \n",
       "4  DELITOS CONTRA EL PATRIMONIO ECONOMICO                   14   miércoles   \n",
       "\n",
       "   DIA_NOMBRE_ORDEN     LOCALIDAD NUM_COM   NOM_COM  CANTIDAD_UNICA  \n",
       "0                 1       11. SUR      11       SUR               1  \n",
       "1                 4  10. PROVENZA      10  PROVENZA               1  \n",
       "2                 7  10. PROVENZA      10  PROVENZA               1  \n",
       "3                 3       11. SUR      11       SUR               1  \n",
       "4                 3  10. PROVENZA      10  PROVENZA               1  \n",
       "\n",
       "[5 rows x 26 columns]"
      ],
      "text/html": [
       "<div>\n",
       "<style scoped>\n",
       "    .dataframe tbody tr th:only-of-type {\n",
       "        vertical-align: middle;\n",
       "    }\n",
       "\n",
       "    .dataframe tbody tr th {\n",
       "        vertical-align: top;\n",
       "    }\n",
       "\n",
       "    .dataframe thead th {\n",
       "        text-align: right;\n",
       "    }\n",
       "</style>\n",
       "<table border=\"1\" class=\"dataframe\">\n",
       "  <thead>\n",
       "    <tr style=\"text-align: right;\">\n",
       "      <th></th>\n",
       "      <th>DESCRIPCION_CONDUCTA</th>\n",
       "      <th>ARMAS_MEDIOS</th>\n",
       "      <th>BARRIOS_HECHO</th>\n",
       "      <th>FECHA_HECHO</th>\n",
       "      <th>HORA_HECHO</th>\n",
       "      <th>EDAD</th>\n",
       "      <th>SEXO</th>\n",
       "      <th>MOVIL_VICTIMA</th>\n",
       "      <th>MOVIL_AGRESOR</th>\n",
       "      <th>CLASE_SITIO</th>\n",
       "      <th>...</th>\n",
       "      <th>DIA_NUM</th>\n",
       "      <th>RANGO_HORARIO</th>\n",
       "      <th>TIPOLOGÍA</th>\n",
       "      <th>RANGO_HORARIO_ORDEN</th>\n",
       "      <th>DIA_NOMBRE</th>\n",
       "      <th>DIA_NOMBRE_ORDEN</th>\n",
       "      <th>LOCALIDAD</th>\n",
       "      <th>NUM_COM</th>\n",
       "      <th>NOM_COM</th>\n",
       "      <th>CANTIDAD_UNICA</th>\n",
       "    </tr>\n",
       "  </thead>\n",
       "  <tbody>\n",
       "    <tr>\n",
       "      <th>0</th>\n",
       "      <td>ARTÍCULO 239. HURTO PERSONAS</td>\n",
       "      <td>ARMA BLANCA / CORTOPUNZANTE</td>\n",
       "      <td>MALPASO</td>\n",
       "      <td>2019-06-17</td>\n",
       "      <td>20:30:00</td>\n",
       "      <td>21</td>\n",
       "      <td>MASCULINO</td>\n",
       "      <td>A PIE</td>\n",
       "      <td>A PIE</td>\n",
       "      <td>VIAS PUBLICAS</td>\n",
       "      <td>...</td>\n",
       "      <td>17</td>\n",
       "      <td>20:00-20:59</td>\n",
       "      <td>DELITOS CONTRA EL PATRIMONIO ECONOMICO</td>\n",
       "      <td>20</td>\n",
       "      <td>lunes</td>\n",
       "      <td>1</td>\n",
       "      <td>11. SUR</td>\n",
       "      <td>11</td>\n",
       "      <td>SUR</td>\n",
       "      <td>1</td>\n",
       "    </tr>\n",
       "    <tr>\n",
       "      <th>1</th>\n",
       "      <td>ARTÍCULO 239. HURTO PERSONAS</td>\n",
       "      <td>ARMA BLANCA / CORTOPUNZANTE</td>\n",
       "      <td>GRANJAS DE PROVENZA</td>\n",
       "      <td>2019-09-12</td>\n",
       "      <td>01:30:00</td>\n",
       "      <td>21</td>\n",
       "      <td>MASCULINO</td>\n",
       "      <td>A PIE</td>\n",
       "      <td>A PIE</td>\n",
       "      <td>VIAS PUBLICAS</td>\n",
       "      <td>...</td>\n",
       "      <td>12</td>\n",
       "      <td>1:00-1:59</td>\n",
       "      <td>DELITOS CONTRA EL PATRIMONIO ECONOMICO</td>\n",
       "      <td>1</td>\n",
       "      <td>jueves</td>\n",
       "      <td>4</td>\n",
       "      <td>10. PROVENZA</td>\n",
       "      <td>10</td>\n",
       "      <td>PROVENZA</td>\n",
       "      <td>1</td>\n",
       "    </tr>\n",
       "    <tr>\n",
       "      <th>2</th>\n",
       "      <td>ARTÍCULO 239. HURTO PERSONAS</td>\n",
       "      <td>ARMA BLANCA / CORTOPUNZANTE</td>\n",
       "      <td>PROVENZA</td>\n",
       "      <td>2019-04-07</td>\n",
       "      <td>05:10:00</td>\n",
       "      <td>21</td>\n",
       "      <td>MASCULINO</td>\n",
       "      <td>A PIE</td>\n",
       "      <td>A PIE</td>\n",
       "      <td>VIAS PUBLICAS</td>\n",
       "      <td>...</td>\n",
       "      <td>7</td>\n",
       "      <td>5:00-5:59</td>\n",
       "      <td>DELITOS CONTRA EL PATRIMONIO ECONOMICO</td>\n",
       "      <td>5</td>\n",
       "      <td>domingo</td>\n",
       "      <td>7</td>\n",
       "      <td>10. PROVENZA</td>\n",
       "      <td>10</td>\n",
       "      <td>PROVENZA</td>\n",
       "      <td>1</td>\n",
       "    </tr>\n",
       "    <tr>\n",
       "      <th>3</th>\n",
       "      <td>ARTÍCULO 239. HURTO PERSONAS</td>\n",
       "      <td>ARMA BLANCA / CORTOPUNZANTE</td>\n",
       "      <td>CIUDAD VENECIA</td>\n",
       "      <td>2019-01-30</td>\n",
       "      <td>23:15:00</td>\n",
       "      <td>21</td>\n",
       "      <td>MASCULINO</td>\n",
       "      <td>A PIE</td>\n",
       "      <td>A PIE</td>\n",
       "      <td>VIAS PUBLICAS</td>\n",
       "      <td>...</td>\n",
       "      <td>30</td>\n",
       "      <td>23:00-23:59</td>\n",
       "      <td>DELITOS CONTRA EL PATRIMONIO ECONOMICO</td>\n",
       "      <td>23</td>\n",
       "      <td>miércoles</td>\n",
       "      <td>3</td>\n",
       "      <td>11. SUR</td>\n",
       "      <td>11</td>\n",
       "      <td>SUR</td>\n",
       "      <td>1</td>\n",
       "    </tr>\n",
       "    <tr>\n",
       "      <th>4</th>\n",
       "      <td>ARTÍCULO 239. HURTO PERSONAS</td>\n",
       "      <td>ARMA BLANCA / CORTOPUNZANTE</td>\n",
       "      <td>PROVENZA</td>\n",
       "      <td>2019-06-12</td>\n",
       "      <td>14:30:00</td>\n",
       "      <td>21</td>\n",
       "      <td>MASCULINO</td>\n",
       "      <td>A PIE</td>\n",
       "      <td>A PIE</td>\n",
       "      <td>VIAS PUBLICAS</td>\n",
       "      <td>...</td>\n",
       "      <td>12</td>\n",
       "      <td>14:00-14:59</td>\n",
       "      <td>DELITOS CONTRA EL PATRIMONIO ECONOMICO</td>\n",
       "      <td>14</td>\n",
       "      <td>miércoles</td>\n",
       "      <td>3</td>\n",
       "      <td>10. PROVENZA</td>\n",
       "      <td>10</td>\n",
       "      <td>PROVENZA</td>\n",
       "      <td>1</td>\n",
       "    </tr>\n",
       "  </tbody>\n",
       "</table>\n",
       "<p>5 rows × 26 columns</p>\n",
       "</div>"
      ]
     },
     "execution_count": 6,
     "metadata": {},
     "output_type": "execute_result"
    }
   ],
   "execution_count": 6
  },
  {
   "metadata": {
    "ExecuteTime": {
     "end_time": "2024-08-26T15:23:50.373570Z",
     "start_time": "2024-08-26T15:23:50.369765Z"
    }
   },
   "cell_type": "code",
   "source": "df.shape",
   "id": "a494d9e5894334b2",
   "outputs": [
    {
     "data": {
      "text/plain": [
       "(100993, 26)"
      ]
     },
     "execution_count": 16,
     "metadata": {},
     "output_type": "execute_result"
    }
   ],
   "execution_count": 16
  },
  {
   "metadata": {
    "ExecuteTime": {
     "end_time": "2024-08-26T15:10:19.832586Z",
     "start_time": "2024-08-26T15:10:19.751932Z"
    }
   },
   "cell_type": "code",
   "source": [
    "for column in df.columns:\n",
    "    num_distinct_values = len(df[column].unique())\n",
    "    print(f\"{column}: {num_distinct_values} distintos valores\")"
   ],
   "id": "5834fca7a1060451",
   "outputs": [
    {
     "name": "stdout",
     "output_type": "stream",
     "text": [
      "DESCRIPCION_CONDUCTA: 41 distintos valores\n",
      "ARMAS_MEDIOS: 40 distintos valores\n",
      "BARRIOS_HECHO: 327 distintos valores\n",
      "FECHA_HECHO: 2861 distintos valores\n",
      "HORA_HECHO: 1415 distintos valores\n",
      "EDAD: 99 distintos valores\n",
      "SEXO: 3 distintos valores\n",
      "MOVIL_VICTIMA: 14 distintos valores\n",
      "MOVIL_AGRESOR: 15 distintos valores\n",
      "CLASE_SITIO: 231 distintos valores\n",
      "ARTICULO: 30 distintos valores\n",
      "DELITO_SOLO: 41 distintos valores\n",
      "CURSO_VIDA: 19 distintos valores\n",
      "CURSO_VIDA_ORDEN: 19 distintos valores\n",
      "AÑO_NUM: 8 distintos valores\n",
      "MES_NUM: 12 distintos valores\n",
      "DIA_NUM: 31 distintos valores\n",
      "RANGO_HORARIO: 24 distintos valores\n",
      "TIPOLOGÍA: 6 distintos valores\n",
      "RANGO_HORARIO_ORDEN: 24 distintos valores\n",
      "DIA_NOMBRE: 7 distintos valores\n",
      "DIA_NOMBRE_ORDEN: 7 distintos valores\n",
      "LOCALIDAD: 21 distintos valores\n",
      "NUM_COM: 21 distintos valores\n",
      "NOM_COM: 21 distintos valores\n",
      "CANTIDAD_UNICA: 1 distintos valores\n"
     ]
    }
   ],
   "execution_count": 7
  },
  {
   "metadata": {
    "ExecuteTime": {
     "end_time": "2024-08-26T15:17:52.500535Z",
     "start_time": "2024-08-26T15:17:52.388218Z"
    }
   },
   "cell_type": "code",
   "source": [
    "duplicate_rows_data = df[df.duplicated()]\n",
    "print(\"numero de filas dulicadas completamente: \", duplicate_rows_data.shape[0])"
   ],
   "id": "888cb5eef781a54a",
   "outputs": [
    {
     "name": "stdout",
     "output_type": "stream",
     "text": [
      "numero de filas dulicadas completamente:  25\n"
     ]
    }
   ],
   "execution_count": 12
  },
  {
   "metadata": {
    "ExecuteTime": {
     "end_time": "2024-08-26T15:13:21.638322Z",
     "start_time": "2024-08-26T15:13:21.626161Z"
    }
   },
   "cell_type": "code",
   "source": "df.DESCRIPCION_CONDUCTA.unique()",
   "id": "1148839b995272b1",
   "outputs": [
    {
     "data": {
      "text/plain": [
       "array(['ARTÍCULO 239. HURTO PERSONAS', 'ARTÍCULO 239. HURTO RESIDENCIAS',\n",
       "       'ARTÍCULO 239. HURTO MOTOCICLETAS',\n",
       "       'ARTÍCULO 239. HURTO AUTOMOTORES',\n",
       "       'ARTÍCULO 239. HURTO ENTIDADES COMERCIALES',\n",
       "       'ARTÍCULO 209. ACTOS SEXUALES CON MENOR DE 14 AÑOS',\n",
       "       'ARTÍCULO 208. ACCESO CARNAL ABUSIVO CON MENOR DE 14 AÑOS',\n",
       "       'ARTÍCULO 229. VIOLENCIA INTRAFAMILIAR',\n",
       "       'ARTÍCULO 120. LESIONES CULPOSAS',\n",
       "       'ARTÍCULO 206. ACTO SEXUAL VIOLENTO',\n",
       "       'ARTÍCULO 219 A. UTILIZACIÓN O FACILITACIÓN DE MEDIOS DE COMUNICACIÓN PARA OFRECER SERVICIOS SEXUALES DE MENORES',\n",
       "       'ARTÍCULO 205. ACCESO CARNAL VIOLENTO',\n",
       "       'ARTÍCULO 211. ACCESO CARNAL O ACTO SEXUAL EN PERSONA PUESTA EN INCAPACIDAD DE RESISTIR  (CIRCUNSTANCIAS AGRAVACIÓN)',\n",
       "       'ARTÍCULO 207. ACCESO CARNAL O ACTO SEXUAL EN PERSONA PUESTA EN INCAPACIDAD DE RESISTIR',\n",
       "       'ARTÍCULO 213. INDUCCIÓN A LA PROSTITUCIÓN',\n",
       "       'ARTÍCULO 210 A. ACOSO SEXUAL',\n",
       "       'ARTÍCULO 217 A. DEMANDA DE EXPLOTACION SEXUAL COMERCIAL DE PERSONA MENOR DE 18 AÑOS DE EDAD',\n",
       "       'ARTÍCULO 217. ESTÍMULO A LA PROSTITUCIÓN DE MENORES',\n",
       "       'ARTÍCULO 214. CONSTREÑIMIENTO A LA PROSTITUCIÓN',\n",
       "       'ARTÍCULO 211. ACTOS SEXUALES CON MENOR DE 14 AÑOS (CIRCUNSTANCIAS DE AGRAVACIÓN)',\n",
       "       'ARTÍCULO 211. ACCESO CARNAL ABUSIVO CON MENOR DE 14 AÑOS (CIRCUNSTANCIAS AGRAVACIÓN)',\n",
       "       'ARTÍCULO 210. ACCESO CARNAL O ACTO SEXUAL ABUSIVO CON INCAPAZ DE RESISTIR',\n",
       "       'ARTÍCULO 111. LESIONES PERSONALES', 'ARTÍCULO 244. EXTORSIÓN',\n",
       "       'ARTÍCULO 218. PORNOGRAFÍA CON MENORES',\n",
       "       'ARTÍCULO 213 A. PROXENETISMO CON MENOR DE EDAD',\n",
       "       'ARTÍCULO 211. ACCESO CARNAL VIOLENTO (CIRCUNSTANCIAS AGRAVACIÓN)',\n",
       "       'ARTÍCULO 103. HOMICIDIO', 'ARTÍCULO 104A. FEMINICIDIO',\n",
       "       'ARTÍCULO 125. LESIONES AL FETO', 'ARTÍCULO 347. AMENAZAS',\n",
       "       'ARTÍCULO 343. TERRORISMO', 'ARTÍCULO 265. DAÑO EN BIEN AJENO',\n",
       "       'ARTÍCULO 429. VIOLENCIA CONTRA SERVIDOR PÚBLICO',\n",
       "       'ARTÍCULO 350.  INCENDIO',\n",
       "       'ARTÍCULO 120. LESIONES CULPOSAS ( EN ACCIDENTE DE TRANSITO )',\n",
       "       'ARTÍCULO 243. ABIGEATO',\n",
       "       'ARTÍCULO 109. HOMICIDIO CULPOSO ( EN ACCIDENTE DE TRÁNSITO)',\n",
       "       'ARTÍCULO 211. ACTO SEXUAL VIOLENTO (CIRCUNSTANCIAS DE AGRAVACIÓN)',\n",
       "       'ARTÍCULO 211. ACCESO CARNAL O ACTO SEXUAL ABUSIVO CON INCAPAZ DE RESISTIR (CIRCUNSTANCIAS AGRAVACIÓN)',\n",
       "       'ARTÍCULO 243. HURTO ABIGEATO'], dtype=object)"
      ]
     },
     "execution_count": 8,
     "metadata": {},
     "output_type": "execute_result"
    }
   ],
   "execution_count": 8
  },
  {
   "metadata": {
    "ExecuteTime": {
     "end_time": "2024-08-26T15:14:58.312258Z",
     "start_time": "2024-08-26T15:14:58.301212Z"
    }
   },
   "cell_type": "code",
   "source": "df.DESCRIPCION_CONDUCTA.unique().shape",
   "id": "eb803729e135395a",
   "outputs": [
    {
     "data": {
      "text/plain": [
       "(41,)"
      ]
     },
     "execution_count": 10,
     "metadata": {},
     "output_type": "execute_result"
    }
   ],
   "execution_count": 10
  },
  {
   "metadata": {
    "ExecuteTime": {
     "end_time": "2024-08-26T15:16:29.537190Z",
     "start_time": "2024-08-26T15:16:29.527674Z"
    }
   },
   "cell_type": "code",
   "source": "df.ARMAS_MEDIOS.unique()",
   "id": "9103f691506bab68",
   "outputs": [
    {
     "data": {
      "text/plain": [
       "array(['ARMA BLANCA / CORTOPUNZANTE', 'ARMA DE FUEGO',\n",
       "       'SIN EMPLEO DE ARMAS', 'CONTUNDENTES', 'CORTANTES', 'ESCOPOLAMINA',\n",
       "       'LLAVE MAESTRA', 'PERRO', 'JERINGA', 'PALANCAS', 'PUNZANTES',\n",
       "       'NO DISPONIBLE', 'CORTOPUNZANTES', 'DIRECTA', 'VEHICULO', 'ACIDO',\n",
       "       'MOTO', 'AGUA CALIENTE', 'MEDICAMENTOS', 'PAPA EXPLOSIVA',\n",
       "       'ARTEFACTO INCENDIARIO', 'QUIMICOS', 'GASES', 'SUSTANCIAS TOXICAS',\n",
       "       'BOLSA PLASTICA', 'REDES SOCIALES', 'LLAMADA TELEFONICA',\n",
       "       'CARTA EXTORSIVA', 'MIXTA', 'CUERDA/SOGA/CADENA', 'VENENO',\n",
       "       'ARMA TRAUMATICA', 'COMBUSTIBLE', 'PRENDAS DE VESTIR', 'BICICLETA',\n",
       "       'NO REPORTADO', 'LICOR ADULTERADO', 'GRANADA DE MANO',\n",
       "       'ARTEFACTO EXPLOSIVO/CARGA DINAMITA', 'PAQUETE BOMBA'],\n",
       "      dtype=object)"
      ]
     },
     "execution_count": 11,
     "metadata": {},
     "output_type": "execute_result"
    }
   ],
   "execution_count": 11
  },
  {
   "metadata": {
    "ExecuteTime": {
     "end_time": "2024-08-26T15:20:38.814178Z",
     "start_time": "2024-08-26T15:20:38.803945Z"
    }
   },
   "cell_type": "code",
   "source": "df.BARRIOS_HECHO.unique()",
   "id": "a5a765a4a13e5050",
   "outputs": [
    {
     "data": {
      "text/plain": [
       "array(['MALPASO', 'GRANJAS DE PROVENZA', 'PROVENZA', 'CIUDAD VENECIA',\n",
       "       'URB. LOS NARANJOS', 'CIUDADELA REAL DE MINAS', 'LA CONCORDIA',\n",
       "       'CENTRO', 'CABECERA DEL LLANO', 'ANTONIA SANTOS CENTRO',\n",
       "       'GIRARDOT', 'ÁLVAREZ LAS AMÉRICAS', 'SAN ALONSO', 'SAN FRANCISCO',\n",
       "       'MUTUALIDAD', 'VILLA HELENA I', 'VILLA HELENA II', 'VILLA ROSA',\n",
       "       'DELICIAS', 'LA VICTORIA', 'LA SALLE', 'NUEVO SOTOMAYOR',\n",
       "       'SOTOMAYOR', 'PAN DE AZÚCAR', 'BOLÍVAR', 'EL JARDÍN', 'EL PRADO',\n",
       "       'EL CRISTAL', 'UNIVERSIDAD', 'COMUNEROS', 'VILLA MERCEDES',\n",
       "       'EL ROCÍO', 'BUCARAMANGA', 'CAMPO HERMOSO', 'BOLARQUÍ', 'TERRAZAS',\n",
       "       'BUENOS AIRES', 'GAITÁN', 'LOS PINOS', 'PUERTA DEL SOL', 'LA JOYA',\n",
       "       'MEJORAS PÚBLICAS', 'LA AURORA', 'BETANIA',\n",
       "       'MIRADORES DE SAN LORENZO', 'LA LIBERTAD', 'SAN MARTÍN',\n",
       "       'LA CEIBA', 'LA FLORESTA', 'MORRORICO', 'TRANSICIÓN',\n",
       "       'ESPERANZA II', 'CAFÉ MADRID', 'FONTANA', 'INMACULADA',\n",
       "       'MIRAFLORES', 'ESPERANZA I', 'BOSQUE NORTE', 'LOS ÁNGELES',\n",
       "       'KENNEDY', 'DIAMANTE I', 'ALFONSO LÓPEZ', 'GRANADA',\n",
       "       'PARQUE INDUSTRIAL', 'COLORADOS', 'TOLEDO PLATA',\n",
       "       'ESTORAQUES I Y II', 'CONUCOS', 'PÍO XII', 'LA FERIA',\n",
       "       'NUEVA GRANADA', 'ALARCÓN',\n",
       "       'VILLAS DE SAN IGNACIO (SECTORES BAVARIA I Y II / BETANIA I Y II / INGESER)',\n",
       "       'MUTIS', 'LA INDEPENDENCIA', 'OLAS BAJAS', 'CLAVERIANO',\n",
       "       'CAMPESTRE NORTE (GETSEMANÍ / LOS CERROS / LA FORTUNA)',\n",
       "       'DIAMANTE II', 'ASENTAMIENTO CAMILO TORRES', 'BRISAS DE PROVENZA',\n",
       "       'BRISAS DEL MUTIS', 'RICAURTE', 'GARCÍA ROVIRA', 'REGADERO NORTE',\n",
       "       'GÓMEZ NIÑO', 'SANTANDER', 'MODELO', 'TEJAR NORTE', 'OLAS ALTAS',\n",
       "       'EL PORVENIR', 'LAGOS DEL CACIQUE', 'EL TEJAR', 'MERCEDES',\n",
       "       'COLSEGUROS NORTE', 'LOS HÉROES', 'CENTRAL DE ABASTOS',\n",
       "       '23 DE JUNIO', 'GALÁN', 'LA JUVENTUD', 'VILLA ALEGRÍA II',\n",
       "       'INV. CLUB CHIMITA', 'MANUELA BELTRÁN I Y II',\n",
       "       'JARDÍNES DE COAVICONSA', 'ALBANIA', 'MARÍA PAZ',\n",
       "       'BALCONES DEL KENNEDY', 'JUAN XXIII', 'PABLO VI', 'NARIÑO',\n",
       "       'QUINTA DANIA', 'SAN RAFAEL', 'SAN CRISTÓBAL', 'NO DISPONIBLE',\n",
       "       'LAS HAMACAS', 'LA PEDREGOSA', 'CINAL', 'CHAPINERO',\n",
       "       'LUZ DE SALVACIÓN I', 'SAN GERARDO', '13 DE JUNIO',\n",
       "       'JOSE MARIA CORDOBA', 'LAS COLINAS', 'ASTURIAS', 'MIRAMAR',\n",
       "       'MINUTO DE DIOS', 'URB. BAVARIA', '12 DE OCTUBRE',\n",
       "       'VEREDA EL PABLÓN', 'DANGOND', 'ANTIGUA COLOMBIA', 'EL DIVISO',\n",
       "       'NORTE BAJO', 'CANDADO', 'ANTONIA SANTOS SUR', 'SAN MIGUEL',\n",
       "       'ASENTAMIENTO ZARABANDA', 'EL PABLÓN', 'PRIMERO DE MAYO',\n",
       "       'URB. EL SOL I', 'SAUCES', 'LA FLORA', 'ALTOS DEL KENNEDY',\n",
       "       'VILLA DEL NOGAL', 'URB. LA PALMA', 'URB. PLAZA MAYOR',\n",
       "       'GRANJITAS NORTE', 'OLAS II', 'URBANIZACION CAMPO MADRID',\n",
       "       'CANELOS', 'QUEBRADA LA IGLESIA', 'BALCONCITOS', 'EL RETIRO',\n",
       "       'ÁFRICA', 'CANDILES', 'ALTOS DEL PROGRESO', 'VIJAGUAL',\n",
       "       'GRANJAS DE JULIO RINCÓN', 'CHORRERAS DON JUAN', 'NUEVA COLOMBIA',\n",
       "       'NÁPOLES', 'BUENAVISTA', 'VEGAS DE MORRORICO', 'ESPERANZA III',\n",
       "       'VILLA MARÍA III', 'LIZCANO I', 'PAISAJES DEL NORTE',\n",
       "       'VILLA ALICIA', 'LIZCANO II', 'EL ROSAL',\n",
       "       'ASENTAMIENTO 5 DE ENERO', 'QUINTA ESTRELLA', 'ANGELINOS',\n",
       "       'INV. LOS CORRALES', 'LA ESTRELLA', 'LAS CASITAS',\n",
       "       'URB. VILLA ROMERO', 'BALCONES DEL SUR', 'ASENTAMIENTO CERVUNIÓN',\n",
       "       'JARDINES DE ALTA GRACIA', 'ASENTAMIENTO MIRADOR DEL NORTE',\n",
       "       'EL UVO', 'SAN LUIS',\n",
       "       'RINCÓN DE PAZ (17 DE ENERO Y 12 DE FEBRERO)', 'ANTIGUO CAMPESTRE',\n",
       "       'CORDONCILLO II', 'ALTOS DEL CACIQUE', 'LIMONCITO',\n",
       "       '10 DE MAYO SANTA BÁRBARA', 'VDA. RIO DE ORO', 'MONTERREDONDO',\n",
       "       'SAN PEDRITO', 'MILAGRO DE DIOS', 'MIRADORES DE LA UIS',\n",
       "       'TERMINAL DE TRANSPORTES', 'LA GRAN LADERA', 'MANZANARES',\n",
       "       'LOS GUAYACANES', 'OMAGÁ 2', 'BRISAS DEL PARAÍSO', 'GUADUALES',\n",
       "       'URB. EL SOL II', 'SAN IGNACIO', 'LA ROSITA', 'CACIQUE IMPERIAL',\n",
       "       'PORTO FINO', 'SAN VALENTÍN', 'URB. LOS ALMENDROS', 'PUERTO RICO',\n",
       "       'ZONA INDUSTRIAL', 'ROSA BLANCA', 'URB. TORRES DE MONTERREY',\n",
       "       'MARIA AUXILIADORA', 'INV. TIBURONES', 'LA CEMENTO',\n",
       "       'LOS CONQUISTADORES', 'QUINTAS DEL CACIQUE', 'CAPILLA PARTE ALTA',\n",
       "       'SAN JOSÉ', 'PEDREGAL', 'VILLA INÉS', 'SAN PEDRO CLAVER',\n",
       "       'MONSERRATE', 'LA MALAÑA', 'CHIMITA', 'GUALILO BAJO',\n",
       "       'LOS CUADROS', 'MAGUEYES', 'VILLA REAL DEL SUR', 'LOS CEDROS',\n",
       "       '20 DE JULIO', 'HACIENDA SAN JUAN', 'VILLA ESMERALDA', 'BOSCONIA',\n",
       "       'VILLA SARA', 'URB. SAMANES', 'BOULEVAR DEL CACIQUE',\n",
       "       'INV. PUNTA BETIN', 'LA GLORIA', 'CORDONCILLO I', 'ESPAÑA',\n",
       "       'PUNTA PARAÍSO', 'CENTAUROS', 'VILLA FLOR',\n",
       "       'ASENTAMIENTO CARLOS PIZARRO', 'MIRADOR DEL CACIQUE',\n",
       "       'CONDADO DE GIBRALTAR', 'BRISAS DEL PALMAR', 'LA QUEBRADA',\n",
       "       'LOS SANTOS', 'FATIMA', 'URB. ALTOS DE TAJAMAR', 'IGSABELAR',\n",
       "       'PALMERAS DEL CACIQUE', 'DON BOSCO', 'SANTA MARÍA', 'PANTANO II',\n",
       "       'PORTAL DEL CACIQUE', 'EL CONDADO', 'VIVEROS DE PROVENZA',\n",
       "       'GRANJAS REAGAN', 'ROBLES', 'BALCÓN DEL LAGO',\n",
       "       'ASENTAMIENTO PRIMAVERAL', 'VDA. LA ESPERANZA', 'C.R. SERREZUELA',\n",
       "       'MIRADORES DEL KENNEDY', 'ROSALTA', 'EL ABURRIDO', 'CENFER',\n",
       "       'URB. SAN FERMIN', 'URB. MARSELLA REAL', 'CARRASCO',\n",
       "       'URB. PLAZUELA REAL', 'AUTOPISTA F/BLANCA-P/CUESTA.',\n",
       "       'URB. TORRES DE ALEJANDRÍA', 'ASENTAMIENTO NAVAS', 'LOS LAURELES',\n",
       "       'CACIQUE IPANA', 'RETIRO CHIQUITO', 'PEÑON DEL VALLE', 'OMAGÁ 1',\n",
       "       'LA SABANA', 'ALTO DE LOS PADRES', 'GALLINERAL',\n",
       "       'ASENTAMIENTO CAMINO DE PAZ I', 'GUALILO ALTO', 'SANTA RITA',\n",
       "       'VDA. MARCELITAS', 'LOS ACASIOS', 'TEJADOS', 'PANTANO I',\n",
       "       'SAN PEDRO ALTO', 'INV. LUZ DE ESPERANZA', 'ASENTAMIENTO MONEQUE',\n",
       "       'LA ESMERALDA', 'CUCHILLA ALTA', 'SAN PEDRO BAJO',\n",
       "       'RETIRO GRANDE PARTE BAJA', 'SAN CAYETANO', 'ANILLO VIAL',\n",
       "       'ASENTAMIENTO MESETAS DEL SANTUARIO', 'URB. MACAREGUA',\n",
       "       'C.R. SOLERI', 'PRADOS DEL MUTIS', 'LA GUACAMAYA', 'PANTANO III',\n",
       "       'ASENTAMIENTO EL FONCE', 'C.R. LAS MARGARITAS', 'OMAGÁ 3',\n",
       "       'BARRIO NUEVO', 'MIRADOR DE FATIMA', 'CAMPO ALEGRE II', 'INEM',\n",
       "       'ASENTAMIENTO LA HOYADA', 'PRADOS DEL NORTE',\n",
       "       'URB. CIUDAD BOLIVAR', 'URB. HEROES',\n",
       "       'ASENTAMIENTO JOSÉ ANTONIO GALÁN', 'VILLA ALEGRÍA I',\n",
       "       'VILLA MARÍA I', 'NUEVA GRACIA DE DIOS', 'LAS AMERICAS',\n",
       "       'CACIQUE CONDOMINIO', 'URB. ACROPOLIS I', 'CASCO ANTIGUO',\n",
       "       'BONANZA CAMPESTRE'], dtype=object)"
      ]
     },
     "execution_count": 14,
     "metadata": {},
     "output_type": "execute_result"
    }
   ],
   "execution_count": 14
  },
  {
   "metadata": {
    "ExecuteTime": {
     "end_time": "2024-08-26T15:20:53.074340Z",
     "start_time": "2024-08-26T15:20:53.065387Z"
    }
   },
   "cell_type": "code",
   "source": "df.BARRIOS_HECHO.unique().shape",
   "id": "d8553ce4fe80e037",
   "outputs": [
    {
     "data": {
      "text/plain": [
       "(327,)"
      ]
     },
     "execution_count": 15,
     "metadata": {},
     "output_type": "execute_result"
    }
   ],
   "execution_count": 15
  },
  {
   "metadata": {
    "ExecuteTime": {
     "end_time": "2024-08-26T15:25:17.998961Z",
     "start_time": "2024-08-26T15:25:17.990087Z"
    }
   },
   "cell_type": "code",
   "source": "df.ARTICULO.unique()",
   "id": "ac9d6a49a2e57cac",
   "outputs": [
    {
     "data": {
      "text/plain": [
       "array(['ARTÍCULO 239', 'ARTÍCULO 209', 'ARTÍCULO 208', 'ARTÍCULO 229',\n",
       "       'ARTÍCULO 120', 'ARTÍCULO 206', 'ARTÍCULO 219 A', 'ARTÍCULO 205',\n",
       "       'ARTÍCULO 211', 'ARTÍCULO 207', 'ARTÍCULO 213', 'ARTÍCULO 210 A',\n",
       "       'ARTÍCULO 217 A', 'ARTÍCULO 217', 'ARTÍCULO 214', 'ARTÍCULO 210',\n",
       "       'ARTÍCULO 111', 'ARTÍCULO 244', 'ARTÍCULO 218', 'ARTÍCULO 213 A',\n",
       "       'ARTÍCULO 103', 'ARTÍCULO 104A', 'ARTÍCULO 125', 'ARTÍCULO 347',\n",
       "       'ARTÍCULO 343', 'ARTÍCULO 265', 'ARTÍCULO 429', 'ARTÍCULO 350',\n",
       "       'ARTÍCULO 243', 'ARTÍCULO 109'], dtype=object)"
      ]
     },
     "execution_count": 17,
     "metadata": {},
     "output_type": "execute_result"
    }
   ],
   "execution_count": 17
  },
  {
   "metadata": {
    "ExecuteTime": {
     "end_time": "2024-08-26T15:25:49.899269Z",
     "start_time": "2024-08-26T15:25:49.889069Z"
    }
   },
   "cell_type": "code",
   "source": "df.CLASE_SITIO.unique()",
   "id": "227ea5652e27becb",
   "outputs": [
    {
     "data": {
      "text/plain": [
       "array(['VIAS PUBLICAS', 'PARQUEADERO',\n",
       "       'FRENTE A RESIDENCIAS - VIA PUBLICA', 'CALLEJÓN',\n",
       "       'CENTRO RECREACIONAL', 'CENTRO COMERCIAL',\n",
       "       'INTERIOR VEHICULO PARTICULAR', 'CARRETERA', 'SECTOR RESIDENCIAS',\n",
       "       'CASAS DE HABITACION', 'HOTELES, RESIDENCIAS, Y SIMILARES.',\n",
       "       'ALMACENES', 'FRUTERIA', 'COLEGIOS, ESCUELAS', 'BAHIA',\n",
       "       'SOBRE ANDEN - VIA PUBLICA', 'CONJUNTO RESIDENCIAL',\n",
       "       'FRENTE OFICINA', 'UNIVERSIDADES', 'VEHICULO',\n",
       "       'FRENTE A COLEGIO - VIA PUBLICA', 'TALLERES MECANICA',\n",
       "       'FRENTE EMPRESA - VIA PUBLICA', 'APARTAMENTO EN CONJUNTO CERRADO',\n",
       "       'SUPERMERCADOS', 'BODEGAS Y SIMILARES',\n",
       "       'FRENTE A ALMACEN - VIA PUBLICA', 'LAVA-AUTOS',\n",
       "       'FRENTE CLINICA U HOSPITAL - VIA PUBLICA', 'ZONA DE PARQUEO',\n",
       "       'TIENDA', 'APARTAMENTO', 'OTRO', 'SECTOR INDUSTRIA',\n",
       "       'FRENTE A BANCO - VIA PUBLICA', 'IGLESIA',\n",
       "       'INTERIOR VEHICULO SERVICIO PUBLICO', 'HOGAR DE PASO', 'OFICINAS',\n",
       "       'EMPRESA', 'SALON COMUNAL', 'CONSTRUCCION', 'CAFETERIAS',\n",
       "       'FRENTE A EDIFICIO - VIA PUBLICA', 'LOCAL COMERCIAL',\n",
       "       'FRENTE CENTRO COMERCIAL', 'EDIFICIO', 'PERIMETRO URBANO',\n",
       "       'RESTAURANTES', 'PARADERO DE BUSES', 'PLAZAS DE MERCADO',\n",
       "       'INSTALACIONES DEL EJERCITO', 'ALOJAMIENTO', 'FABRICAS',\n",
       "       'FRENTE RESTAURANTE', 'CASA DE LENOCINIO', 'DENTRO DE LA VIVIENDA',\n",
       "       'CANCHA DE FUTBOL', 'HOSPITALES', 'BIBLIOTECA', 'PANADERIAS',\n",
       "       'ESTABLECIMIENTO DE COMERCIO', 'ESTABLECIMIENTO PUBLICO',\n",
       "       'TRANSPORTE PÚBLICO', 'BOMBA DE GASOLINA',\n",
       "       'ESTACION TRANSMILENIO AV SUBA  CALLE 116', 'ESTADIO',\n",
       "       'FRENTE IGLESIA - VIA PUBLICA', 'ESCENARIOS DEPORTIVOS', 'PARQUES',\n",
       "       'BUS METROLINEA', 'PUENTE', 'ESTACION METROLÍNEA',\n",
       "       'FRENTE CONJUNTO - VIA PUBLICA', 'CAJERO AUTOMATICO',\n",
       "       'TERMINAL DE TRANSPORTES', 'CASETA COMUNAL',\n",
       "       'CASA EN CONJUNTO CERRADO', 'CLINICAS Y SIMILARES',\n",
       "       'ESTABLECIMIENTO DE SALUD', 'GOBERNACION', 'DISCOTECAS',\n",
       "       'HELADERIA', 'CASAS DE APUESTAS', 'INSTALACIONES GUBERNAMENTALES',\n",
       "       'CONSULTORIOS MEDICOS', 'LOTE BALDIO', 'CARCELES',\n",
       "       'ESTACIONES DE SERVICIO', 'CASINOS', 'BANCOS', 'GIMNASIO',\n",
       "       'BARES, CANTINAS Y SIMILARES', 'TALLERES', 'DROGUERIAS, FARMACIAS',\n",
       "       'AUDITORIOS', 'TEMPLOS', 'ENTIDAD PUBLICA / ESTATAL',\n",
       "       'MONTALLANTAS', 'TRANSPORTE INTERMUNICIPAL', 'SEMÁFORO',\n",
       "       'LICORERA/ESTANCO 24 HORAS', 'ESTABLECIMIENTO DE MENSAJERIA',\n",
       "       'VEHICULO TAXI', 'BUS METROPLUS', 'ESTABLECIMIENTOS REVISADOS',\n",
       "       'TRANSPORTE PUBLICO URBANO', 'SECTOR COMERCIO',\n",
       "       'FINCAS Y SIMILARES', 'ALCALDIA', 'FUNERARIA', 'ESTADERO',\n",
       "       'FRENTE A DISCOTECAS', 'CAÑOS', 'INSTALACIONES DE LA POLICIA',\n",
       "       'ESCALERAS FIJAS', 'MATADEROS, CARNICERIA Y SIMILARES',\n",
       "       'ALIMENTADOR METROLÍNEA', 'TALLERES LATONERIA', 'VEHICULO MOTO',\n",
       "       'ZONAS AZULES - VIA PUBLICA', 'RODANDO SOBRE VIA - VIA PUBLICA',\n",
       "       'CAFE INTERNET', 'TALLERES ELECTRICIDAD', 'TRANSPORTE ESCOLAR',\n",
       "       'CABAÑA', 'PELUQUERIA Y SIMILARES', 'SENDERO PEATONAL',\n",
       "       'TRAMO DE VIA', 'CICLO RUTA', 'PUENTE PEATONAL', 'BOSQUES', 'RIOS',\n",
       "       'CONSULTORIOS  ODONTOLOGICOS', 'QUEBRADA', 'GLORIETA',\n",
       "       'SEDE POLITICA', 'CORREDORES FLUVIALES', 'TRANSPORTE MASIVO',\n",
       "       'BUS TRANSMETRO', 'BUS MEGABUS', 'ZONA SELVÁTICA', 'BILLARES',\n",
       "       'CEMENTERIO', 'TROCHA', 'ALIMENTADOR BUS M.I.O.',\n",
       "       'ALIMENTADOR BUS TRANSMILENIO', 'LUGAR DE TRABAJO', 'COMPRAVENTA',\n",
       "       'CENTROS RELIGIOSOS', 'CENTRO TURÍSTICO',\n",
       "       'ESTABLECIMIENTO EDUCATIVO', 'ESTACION DEL METRO',\n",
       "       'LUGAR DE EVENTOS', 'ESTACION TRANSMILENIO PARQUE',\n",
       "       'ESTACION DE ARTICULADO', 'COLISEO', 'PEAJE',\n",
       "       'ESTABLECIMIENTO DE GIROS', 'ALIMENTADOR BUS MEGABUS',\n",
       "       'BUS TRANSMILENIO', 'CARRIL EXCLUSIVO TRANSPORTE MASIVO',\n",
       "       'TRANSPORTE PUBLICO RURAL', 'ESTACION TRANSMILENIO UNIVERSIDADES',\n",
       "       'VEHICULO UBER', 'BUS MASIVO INTEGRAL DE OCCIDENTE M.I.O.',\n",
       "       'SEDES SOCIALES, CLUBES O SIMILARES', 'INTERIOR VEHICULO PONAL',\n",
       "       'ALIMENTADOR BUS TRANSMETRO', 'VEHICULO BEAT',\n",
       "       'CASETA VIGILANCIA CONJUNTO RESIDENCIAL',\n",
       "       'PARQUE NAL. NATURAL SELVA DE FLORENCIA', 'CALETA',\n",
       "       'ESTACION TRANSMILENIO SIMON BOLIVAR', 'JOYERIAS', 'GARAJE',\n",
       "       'LIBRERIAS', 'SALAS DE CINE',\n",
       "       'ESTACION TRANSMILENIO AMERICAS - AVENIDA BOYACA',\n",
       "       'CONSULTORIOS JURIDICOS', 'NO DEFINIDO',\n",
       "       'ESTACION TRANSMILENIO AV EL DORADO', 'COMEDORES Y/O COCINA',\n",
       "       'GRANEROS', 'ESTACION TRANSPORTE MASIVO', 'TANQUE DE AGUA',\n",
       "       'CANCHAS DE TEJO', 'INSTALACIONES JUDICIALES',\n",
       "       'AREA DE VACUNACION', 'HOGARES / GERIATRICO', 'LAVANDERIAS',\n",
       "       'EMISORAS', 'FERRERERAS, MARRANERAS Y CABALLERIZAS', 'PLAYA',\n",
       "       'PISCINA', 'ESTACION M.I.O.', 'SALON JUEGO DIVERSION', 'HACIENDA',\n",
       "       'LABORATORIO-TOMA DE MUESTRAS', 'CORPORACIONES',\n",
       "       'RED VIRTUAL O INTERNET', 'BAÑOS', 'PUESTO DE CONTROL',\n",
       "       'PLAZA DE TOROS', 'REPRESAS', 'GUARDIA-PUNTOS FACCION',\n",
       "       'BASE DE RADIO TELECOMUNICACIONES', 'AEROPUERTO',\n",
       "       'LABORATORIO DE BASE', 'ESTACION TRANSMILENIO SAN BERNARDO',\n",
       "       'CULTIVOS', 'INSTALACIONES DAS', 'GALLERA',\n",
       "       'ESTACION TRANSMILENIO CALLE 63', 'CANCHAS DE RANA', 'ISLA',\n",
       "       'FIJO', 'ESTACION TRANSMILENIO HOSPITAL', 'MÓVIL',\n",
       "       'VEHICULO PICAP', 'VEHICULO INDRIVER',\n",
       "       'ESTACION TRANSMILENIO CALLE 34', 'ESTACION TRANSMETRO',\n",
       "       'CASETA VIGILANCIA EMPRESAS', 'DESGUAZADERO', 'EL METRO',\n",
       "       'ESTABLECIMIENTOS SELLADOS', 'TEATROS',\n",
       "       'ESTACION TRANSMILENIO SENA', 'INTERIOR VEHICULO SITP',\n",
       "       'NO DISPONIBLE'], dtype=object)"
      ]
     },
     "execution_count": 19,
     "metadata": {},
     "output_type": "execute_result"
    }
   ],
   "execution_count": 19
  },
  {
   "metadata": {
    "ExecuteTime": {
     "end_time": "2024-08-26T15:26:11.965845Z",
     "start_time": "2024-08-26T15:26:11.956819Z"
    }
   },
   "cell_type": "code",
   "source": "df.CLASE_SITIO.unique().shape",
   "id": "50b6f7eb65d93a8d",
   "outputs": [
    {
     "data": {
      "text/plain": [
       "(231,)"
      ]
     },
     "execution_count": 20,
     "metadata": {},
     "output_type": "execute_result"
    }
   ],
   "execution_count": 20
  },
  {
   "metadata": {
    "ExecuteTime": {
     "end_time": "2024-08-26T15:27:52.261374Z",
     "start_time": "2024-08-26T15:27:52.254340Z"
    }
   },
   "cell_type": "code",
   "source": "df.CURSO_VIDA.unique()",
   "id": "b0f4a39c7a3a67a9",
   "outputs": [
    {
     "data": {
      "text/plain": [
       "array(['20-24', '25-29', '15-19', '30-34', '35-39', '45-49', '40-44',\n",
       "       '50-54', '65-69', '70-74', '10-14', '75-79', 'NO DISPONIBLE',\n",
       "       '60-64', '85 o más', '55-59', '5-9', '80-84', '0-4'], dtype=object)"
      ]
     },
     "execution_count": 21,
     "metadata": {},
     "output_type": "execute_result"
    }
   ],
   "execution_count": 21
  },
  {
   "metadata": {
    "ExecuteTime": {
     "end_time": "2024-08-26T15:28:57.261914Z",
     "start_time": "2024-08-26T15:28:57.256838Z"
    }
   },
   "cell_type": "code",
   "source": "df.CURSO_VIDA_ORDEN.unique()",
   "id": "d7ab5182be8c3ea4",
   "outputs": [
    {
     "data": {
      "text/plain": [
       "array([ 4,  5,  3,  6,  7,  9,  8, 10, 13, 14,  2, 15, 18, 12, 17, 11,  1,\n",
       "       16,  0])"
      ]
     },
     "execution_count": 22,
     "metadata": {},
     "output_type": "execute_result"
    }
   ],
   "execution_count": 22
  },
  {
   "metadata": {
    "ExecuteTime": {
     "end_time": "2024-08-26T15:29:18.570321Z",
     "start_time": "2024-08-26T15:29:18.561787Z"
    }
   },
   "cell_type": "code",
   "source": "df.DELITO_SOLO.unique()",
   "id": "b6a529d6abbc5e7f",
   "outputs": [
    {
     "data": {
      "text/plain": [
       "array(['HURTO PERSONAS', 'HURTO RESIDENCIAS', 'HURTO MOTOCICLETAS',\n",
       "       'HURTO AUTOMOTORES', 'HURTO ENTIDADES COMERCIALES',\n",
       "       'ACTOS SEXUALES CON MENOR DE 14 AÑOS',\n",
       "       'ACCESO CARNAL ABUSIVO CON MENOR DE 14 AÑOS',\n",
       "       'VIOLENCIA INTRAFAMILIAR', 'LESIONES CULPOSAS',\n",
       "       'ACTO SEXUAL VIOLENTO',\n",
       "       'UTILIZACIÓN O FACILITACIÓN DE MEDIOS DE COMUNICACIÓN PARA OFRECER SERVICIOS SEXUALES DE MENORES',\n",
       "       'ACCESO CARNAL VIOLENTO',\n",
       "       'ACCESO CARNAL O ACTO SEXUAL EN PERSONA PUESTA EN INCAPACIDAD DE RESISTIR  (CIRCUNSTANC',\n",
       "       'ACCESO CARNAL O ACTO SEXUAL EN PERSONA PUESTA EN INCAPACIDAD DE RESISTIR',\n",
       "       'INDUCCIÓN A LA PROSTITUCIÓN', 'ACOSO SEXUAL',\n",
       "       'DEMANDA DE EXPLOTACION SEXUAL COMERCIAL DE PERSONA MENOR DE 18 AÑOS DE EDAD',\n",
       "       'ESTÍMULO A LA PROSTITUCIÓN DE MENORES',\n",
       "       'CONSTREÑIMIENTO A LA PROSTITUCIÓN',\n",
       "       'ACTOS SEXUALES CON MENOR DE 14 AÑOS (CIRCUNSTANCIAS DE AGRAVACIÓN)',\n",
       "       'ACCESO CARNAL ABUSIVO CON MENOR DE 14 AÑOS (CIRCUNSTANCIAS AGRAVACIÓN)',\n",
       "       'ACCESO CARNAL O ACTO SEXUAL ABUSIVO CON INCAPAZ DE RESISTIR',\n",
       "       'LESIONES PERSONALES', 'EXTORSIÓN', 'PORNOGRAFÍA CON MENORES',\n",
       "       'PROXENETISMO CON MENOR DE EDAD',\n",
       "       'ACCESO CARNAL VIOLENTO (CIRCUNSTANCIAS AGRAVACIÓN)', 'HOMICIDIO',\n",
       "       'FEMINICIDIO', 'LESIONES AL FETO', 'AMENAZAS', 'TERRORISMO',\n",
       "       'DAÑO EN BIEN AJENO', 'VIOLENCIA CONTRA SERVIDOR PÚBLICO',\n",
       "       'INCENDIO', 'LESIONES CULPOSAS ( EN ACCIDENTE DE TRANSITO )',\n",
       "       'ABIGEATO', 'HOMICIDIO CULPOSO ( EN ACCIDENTE DE TRÁNSITO)',\n",
       "       'ACTO SEXUAL VIOLENTO (CIRCUNSTANCIAS DE AGRAVACIÓN)',\n",
       "       'ACCESO CARNAL O ACTO SEXUAL ABUSIVO CON INCAPAZ DE RESISTIR (CIRCUNSTANCIAS AGRAVACIÓN)',\n",
       "       'HURTO ABIGEATO'], dtype=object)"
      ]
     },
     "execution_count": 23,
     "metadata": {},
     "output_type": "execute_result"
    }
   ],
   "execution_count": 23
  },
  {
   "metadata": {
    "ExecuteTime": {
     "end_time": "2024-08-26T15:30:20.297426Z",
     "start_time": "2024-08-26T15:30:20.290926Z"
    }
   },
   "cell_type": "code",
   "source": "df.EDAD.unique()",
   "id": "736ed14752b54982",
   "outputs": [
    {
     "data": {
      "text/plain": [
       "array(['21', '24', '23', '20', '22', '27', '29', '26', '28', '25', '18',\n",
       "       '19', '17', '16', '15', '33', '31', '34', '30', '32', '35', '37',\n",
       "       '39', '38', '36', '49', '46', '47', '45', '48', '40', '43', '44',\n",
       "       '41', '42', '51', '54', '53', '52', '50', '67', '71', '14', '13',\n",
       "       '12', '74', '75', 'NO DISPONIBLE', '63', '61', '87', '60', '56',\n",
       "       '69', '58', '57', '68', '65', '55', '85', '72', '59', '62', '70',\n",
       "       '79', '78', '5', '9', '66', '73', '64', '81', '77', '2', '0', '82',\n",
       "       '76', '83', '80', '6', '86', '84', '1', '90', '8', '10', '11', '3',\n",
       "       '7', '88', '92', '91', '89', '4', '93', '94', '95', nan, '125'],\n",
       "      dtype=object)"
      ]
     },
     "execution_count": 24,
     "metadata": {},
     "output_type": "execute_result"
    }
   ],
   "execution_count": 24
  },
  {
   "metadata": {
    "ExecuteTime": {
     "end_time": "2024-08-26T15:30:48.300307Z",
     "start_time": "2024-08-26T15:30:48.291762Z"
    }
   },
   "cell_type": "code",
   "source": "df.LOCALIDAD.unique()",
   "id": "96d1af1932061e99",
   "outputs": [
    {
     "data": {
      "text/plain": [
       "array(['11. SUR', '10. PROVENZA', '07. LA CIUDADELA', '06. LA CONCORDIA',\n",
       "       '15. CENTRO', '12. CABECERA DEL LLANO', '13. ORIENTAL',\n",
       "       '04. OCCIDENTAL', '03. SAN FRANCISCO', '02. NORORIENTAL',\n",
       "       '01. NORTE', '08. SUROCCIDENTE', '05. GARCIA ROVIRA',\n",
       "       '14. MORRORICO', '09. LA PEDREGOSA', '17. MUTIS',\n",
       "       '16. LAGOS DEL CACIQUE', 'NO DISPONIBLE', 'CORREGIMIENTO 1',\n",
       "       'CORREGIMIENTO 3', 'CORREGIMIENTO 2'], dtype=object)"
      ]
     },
     "execution_count": 25,
     "metadata": {},
     "output_type": "execute_result"
    }
   ],
   "execution_count": 25
  },
  {
   "metadata": {
    "ExecuteTime": {
     "end_time": "2024-08-26T15:31:22.356770Z",
     "start_time": "2024-08-26T15:31:22.349780Z"
    }
   },
   "cell_type": "code",
   "source": "df.MOVIL_AGRESOR.unique()",
   "id": "2a6833a17ebeb86f",
   "outputs": [
    {
     "data": {
      "text/plain": [
       "array(['A PIE', 'PASAJERO MOTOCICLETA', 'CONDUCTOR MOTOCICLETA',\n",
       "       'PASAJERO TAXI', 'PASAJERO VEHICULO', 'BICICLETA',\n",
       "       'CONDUCTOR VEHICULO', 'CONDUCTOR TAXI', 'PASAJERO BUS',\n",
       "       'CONDUCTOR BUS', 'PASAJERO METRO', 'NO DISPONIBLE',\n",
       "       'PASAJERO BARCO', 'PASAJERO AERONAVE', 'TRIPULANTE AERONAVE'],\n",
       "      dtype=object)"
      ]
     },
     "execution_count": 27,
     "metadata": {},
     "output_type": "execute_result"
    }
   ],
   "execution_count": 27
  },
  {
   "metadata": {
    "ExecuteTime": {
     "end_time": "2024-08-26T15:31:43.539156Z",
     "start_time": "2024-08-26T15:31:43.532645Z"
    }
   },
   "cell_type": "code",
   "source": "df.MOVIL_VICTIMA.unique()",
   "id": "461248d4eaea72d2",
   "outputs": [
    {
     "data": {
      "text/plain": [
       "array(['A PIE', 'BICICLETA', 'CONDUCTOR MOTOCICLETA', 'PASAJERO TAXI',\n",
       "       'PASAJERO VEHICULO', 'PASAJERO BUS', 'CONDUCTOR BUS',\n",
       "       'CONDUCTOR VEHICULO', 'PASAJERO MOTOCICLETA', 'CONDUCTOR TAXI',\n",
       "       'PASAJERO AERONAVE', 'PASAJERO METRO', 'PASAJERO BARCO',\n",
       "       'NO DISPONIBLE'], dtype=object)"
      ]
     },
     "execution_count": 28,
     "metadata": {},
     "output_type": "execute_result"
    }
   ],
   "execution_count": 28
  },
  {
   "metadata": {
    "ExecuteTime": {
     "end_time": "2024-08-26T15:32:24.156438Z",
     "start_time": "2024-08-26T15:32:24.148342Z"
    }
   },
   "cell_type": "code",
   "source": "df.SEXO.unique()",
   "id": "3dbf7909cdf5b12b",
   "outputs": [
    {
     "data": {
      "text/plain": [
       "array(['MASCULINO', 'FEMENINO', 'NO DISPONIBLE'], dtype=object)"
      ]
     },
     "execution_count": 30,
     "metadata": {},
     "output_type": "execute_result"
    }
   ],
   "execution_count": 30
  },
  {
   "metadata": {
    "ExecuteTime": {
     "end_time": "2024-08-26T15:32:43.817163Z",
     "start_time": "2024-08-26T15:32:43.809990Z"
    }
   },
   "cell_type": "code",
   "source": "df.TIPOLOGÍA.unique()",
   "id": "9584437ce08370af",
   "outputs": [
    {
     "data": {
      "text/plain": [
       "array(['DELITOS CONTRA EL PATRIMONIO ECONOMICO',\n",
       "       'DELITOS CONTRA LA LIBERTAD, INTEGRIDAD Y FORMACION SEXUALES',\n",
       "       'DELITOS CONTRA LA FAMILIA',\n",
       "       'DELITOS CONTRA LA VIDA Y LA INTEGRIDAD PERSONAL',\n",
       "       'DELITOS CONTRA LA SEGURIDAD PUBLICA', nan], dtype=object)"
      ]
     },
     "execution_count": 31,
     "metadata": {},
     "output_type": "execute_result"
    }
   ],
   "execution_count": 31
  },
  {
   "metadata": {},
   "cell_type": "markdown",
   "source": "FEATURE ENGINEERING",
   "id": "c063a2af54a18eec"
  },
  {
   "metadata": {},
   "cell_type": "code",
   "outputs": [],
   "execution_count": null,
   "source": "",
   "id": "2117383b2585af24"
  }
 ],
 "metadata": {
  "kernelspec": {
   "display_name": "Python 3",
   "language": "python",
   "name": "python3"
  },
  "language_info": {
   "codemirror_mode": {
    "name": "ipython",
    "version": 2
   },
   "file_extension": ".py",
   "mimetype": "text/x-python",
   "name": "python",
   "nbconvert_exporter": "python",
   "pygments_lexer": "ipython2",
   "version": "2.7.6"
  }
 },
 "nbformat": 4,
 "nbformat_minor": 5
}
