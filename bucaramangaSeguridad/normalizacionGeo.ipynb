{
 "cells": [
  {
   "metadata": {},
   "cell_type": "markdown",
   "source": [
    "Se planea hacer un modelo predictivo utilizando tecnicas de machine learning para la prediccion de:\n",
    "\n",
    "La probabilidad de que ocurra un crimen en una zona específicada en la ciudad de Bucaramanga y la probabilidad de la modalidad del crimen.\n",
    "\n",
    "Clasificar la zona en diferentes categorías de seguridad, como \"Alta seguridad\", \"Moderada seguridad\", \"Baja seguridad\", etc.\n",
    "\n"
   ],
   "id": "85a935b879c61acf"
  },
  {
   "metadata": {},
   "cell_type": "markdown",
   "source": "LIBRERIAS A USAR",
   "id": "753caad9e0cba243"
  },
  {
   "metadata": {
    "ExecuteTime": {
     "end_time": "2024-09-14T00:12:08.631535Z",
     "start_time": "2024-09-14T00:12:08.321486Z"
    }
   },
   "cell_type": "code",
   "source": [
    "\n",
    "# Pandas para manejo de datos\n",
    "import pandas as pd\n",
    "\n",
    "\n",
    "# MatplotLib para grafos\n",
    "import matplotlib.pyplot as plt\n",
    "\n",
    "# Seaborn para grafos\n",
    "import seaborn as sns\n",
    "\n",
    "# Numpy para manejo de datos\n",
    "import numpy as np\n",
    "from numpy import dtype\n",
    "from scipy.sparse.csgraph import depth_first_tree\n",
    "\n",
    "# MinMaxScaler para normalizacion de datos\n",
    "from sklearn.preprocessing import MinMaxScaler"
   ],
   "id": "fbc121e30a2defb3",
   "outputs": [
    {
     "ename": "ModuleNotFoundError",
     "evalue": "No module named 'scipy'",
     "output_type": "error",
     "traceback": [
      "\u001B[1;31m---------------------------------------------------------------------------\u001B[0m",
      "\u001B[1;31mModuleNotFoundError\u001B[0m                       Traceback (most recent call last)",
      "Cell \u001B[1;32mIn[1], line 14\u001B[0m\n\u001B[0;32m     12\u001B[0m \u001B[38;5;28;01mimport\u001B[39;00m \u001B[38;5;21;01mnumpy\u001B[39;00m \u001B[38;5;28;01mas\u001B[39;00m \u001B[38;5;21;01mnp\u001B[39;00m\n\u001B[0;32m     13\u001B[0m \u001B[38;5;28;01mfrom\u001B[39;00m \u001B[38;5;21;01mnumpy\u001B[39;00m \u001B[38;5;28;01mimport\u001B[39;00m dtype\n\u001B[1;32m---> 14\u001B[0m \u001B[38;5;28;01mfrom\u001B[39;00m \u001B[38;5;21;01mscipy\u001B[39;00m\u001B[38;5;21;01m.\u001B[39;00m\u001B[38;5;21;01msparse\u001B[39;00m\u001B[38;5;21;01m.\u001B[39;00m\u001B[38;5;21;01mcsgraph\u001B[39;00m \u001B[38;5;28;01mimport\u001B[39;00m depth_first_tree\n\u001B[0;32m     16\u001B[0m \u001B[38;5;66;03m# MinMaxScaler para normalizacion de datos\u001B[39;00m\n\u001B[0;32m     17\u001B[0m \u001B[38;5;28;01mfrom\u001B[39;00m \u001B[38;5;21;01msklearn\u001B[39;00m\u001B[38;5;21;01m.\u001B[39;00m\u001B[38;5;21;01mpreprocessing\u001B[39;00m \u001B[38;5;28;01mimport\u001B[39;00m MinMaxScaler\n",
      "\u001B[1;31mModuleNotFoundError\u001B[0m: No module named 'scipy'"
     ]
    }
   ],
   "execution_count": 1
  },
  {
   "metadata": {},
   "cell_type": "markdown",
   "source": "CARGAR DATOS",
   "id": "39ec04f42db76971"
  },
  {
   "metadata": {
    "ExecuteTime": {
     "end_time": "2024-09-14T00:12:21.589727Z",
     "start_time": "2024-09-14T00:12:15.139680Z"
    }
   },
   "cell_type": "code",
   "source": [
    "        # Url de los datos \n",
    "url = \"https://drive.google.com/uc?id=1-d1pn2OhZeaqiuUNtr6zAIXyXTHo3X7s&export=download\"\n",
    "\n",
    "# Convertir a DataFrame con pandas\n",
    "df = pd.read_csv(url, low_memory=False)\n"
   ],
   "id": "b531bdc199f83042",
   "outputs": [],
   "execution_count": 2
  },
  {
   "metadata": {},
   "cell_type": "markdown",
   "source": "EDA DE LA TABLA PRINCIPAL\n",
   "id": "ec9b0de3bb1edca3"
  },
  {
   "metadata": {},
   "cell_type": "markdown",
   "source": "///////////////////// TABLA ////////////////////////////////////",
   "id": "911ba4428932a75e"
  },
  {
   "metadata": {
    "ExecuteTime": {
     "end_time": "2024-09-14T00:12:26.910230Z",
     "start_time": "2024-09-14T00:12:26.864104Z"
    }
   },
   "cell_type": "code",
   "source": [
    "\n",
    "# Mostra el tipo de dato de cada columna\n",
    "df.info()\n"
   ],
   "id": "dd49ac42d01dc35b",
   "outputs": [
    {
     "name": "stdout",
     "output_type": "stream",
     "text": [
      "<class 'pandas.core.frame.DataFrame'>\n",
      "RangeIndex: 100993 entries, 0 to 100992\n",
      "Data columns (total 26 columns):\n",
      " #   Column                Non-Null Count   Dtype \n",
      "---  ------                --------------   ----- \n",
      " 0   DESCRIPCION_CONDUCTA  100993 non-null  object\n",
      " 1   ARMAS_MEDIOS          100993 non-null  object\n",
      " 2   BARRIOS_HECHO         100993 non-null  object\n",
      " 3   FECHA_HECHO           100993 non-null  object\n",
      " 4   HORA_HECHO            100993 non-null  object\n",
      " 5   EDAD                  100360 non-null  object\n",
      " 6   SEXO                  100993 non-null  object\n",
      " 7   MOVIL_VICTIMA         100993 non-null  object\n",
      " 8   MOVIL_AGRESOR         100993 non-null  object\n",
      " 9   CLASE_SITIO           100993 non-null  object\n",
      " 10  ARTICULO              100993 non-null  object\n",
      " 11  DELITO_SOLO           100993 non-null  object\n",
      " 12  CURSO_VIDA            100993 non-null  object\n",
      " 13  CURSO_VIDA_ORDEN      100993 non-null  int64 \n",
      " 14  AÑO_NUM               100993 non-null  int64 \n",
      " 15  MES_NUM               100993 non-null  int64 \n",
      " 16  DIA_NUM               100993 non-null  int64 \n",
      " 17  RANGO_HORARIO         100993 non-null  object\n",
      " 18  TIPOLOGÍA             100992 non-null  object\n",
      " 19  RANGO_HORARIO_ORDEN   100993 non-null  int64 \n",
      " 20  DIA_NOMBRE            100993 non-null  object\n",
      " 21  DIA_NOMBRE_ORDEN      100993 non-null  int64 \n",
      " 22  LOCALIDAD             100993 non-null  object\n",
      " 23  NUM_COM               100993 non-null  int64 \n",
      " 24  NOM_COM               100993 non-null  object\n",
      " 25  CANTIDAD_UNICA        100993 non-null  int64 \n",
      "dtypes: int64(8), object(18)\n",
      "memory usage: 20.0+ MB\n"
     ]
    }
   ],
   "execution_count": 3
  },
  {
   "metadata": {
    "ExecuteTime": {
     "end_time": "2024-09-14T00:12:29.099073Z",
     "start_time": "2024-09-14T00:12:29.085863Z"
    }
   },
   "cell_type": "code",
   "source": [
    "# Mostrar las primeras filas del DataFrame\n",
    "df.head()\n"
   ],
   "id": "a84276137eab4ba5",
   "outputs": [
    {
     "data": {
      "text/plain": [
       "           DESCRIPCION_CONDUCTA                 ARMAS_MEDIOS  \\\n",
       "0  ARTÍCULO 239. HURTO PERSONAS  ARMA BLANCA / CORTOPUNZANTE   \n",
       "1  ARTÍCULO 239. HURTO PERSONAS  ARMA BLANCA / CORTOPUNZANTE   \n",
       "2  ARTÍCULO 239. HURTO PERSONAS  ARMA BLANCA / CORTOPUNZANTE   \n",
       "3  ARTÍCULO 239. HURTO PERSONAS  ARMA BLANCA / CORTOPUNZANTE   \n",
       "4  ARTÍCULO 239. HURTO PERSONAS  ARMA BLANCA / CORTOPUNZANTE   \n",
       "\n",
       "         BARRIOS_HECHO FECHA_HECHO HORA_HECHO EDAD       SEXO MOVIL_VICTIMA  \\\n",
       "0              MALPASO  2019-06-17   20:30:00   21  MASCULINO         A PIE   \n",
       "1  GRANJAS DE PROVENZA  2019-09-12   01:30:00   21  MASCULINO         A PIE   \n",
       "2             PROVENZA  2019-04-07   05:10:00   21  MASCULINO         A PIE   \n",
       "3       CIUDAD VENECIA  2019-01-30   23:15:00   21  MASCULINO         A PIE   \n",
       "4             PROVENZA  2019-06-12   14:30:00   21  MASCULINO         A PIE   \n",
       "\n",
       "  MOVIL_AGRESOR    CLASE_SITIO  ... DIA_NUM RANGO_HORARIO  \\\n",
       "0         A PIE  VIAS PUBLICAS  ...      17   20:00-20:59   \n",
       "1         A PIE  VIAS PUBLICAS  ...      12     1:00-1:59   \n",
       "2         A PIE  VIAS PUBLICAS  ...       7     5:00-5:59   \n",
       "3         A PIE  VIAS PUBLICAS  ...      30   23:00-23:59   \n",
       "4         A PIE  VIAS PUBLICAS  ...      12   14:00-14:59   \n",
       "\n",
       "                                TIPOLOGÍA  RANGO_HORARIO_ORDEN  DIA_NOMBRE  \\\n",
       "0  DELITOS CONTRA EL PATRIMONIO ECONOMICO                   20       lunes   \n",
       "1  DELITOS CONTRA EL PATRIMONIO ECONOMICO                    1      jueves   \n",
       "2  DELITOS CONTRA EL PATRIMONIO ECONOMICO                    5     domingo   \n",
       "3  DELITOS CONTRA EL PATRIMONIO ECONOMICO                   23   miércoles   \n",
       "4  DELITOS CONTRA EL PATRIMONIO ECONOMICO                   14   miércoles   \n",
       "\n",
       "   DIA_NOMBRE_ORDEN     LOCALIDAD NUM_COM   NOM_COM  CANTIDAD_UNICA  \n",
       "0                 1       11. SUR      11       SUR               1  \n",
       "1                 4  10. PROVENZA      10  PROVENZA               1  \n",
       "2                 7  10. PROVENZA      10  PROVENZA               1  \n",
       "3                 3       11. SUR      11       SUR               1  \n",
       "4                 3  10. PROVENZA      10  PROVENZA               1  \n",
       "\n",
       "[5 rows x 26 columns]"
      ],
      "text/html": [
       "<div>\n",
       "<style scoped>\n",
       "    .dataframe tbody tr th:only-of-type {\n",
       "        vertical-align: middle;\n",
       "    }\n",
       "\n",
       "    .dataframe tbody tr th {\n",
       "        vertical-align: top;\n",
       "    }\n",
       "\n",
       "    .dataframe thead th {\n",
       "        text-align: right;\n",
       "    }\n",
       "</style>\n",
       "<table border=\"1\" class=\"dataframe\">\n",
       "  <thead>\n",
       "    <tr style=\"text-align: right;\">\n",
       "      <th></th>\n",
       "      <th>DESCRIPCION_CONDUCTA</th>\n",
       "      <th>ARMAS_MEDIOS</th>\n",
       "      <th>BARRIOS_HECHO</th>\n",
       "      <th>FECHA_HECHO</th>\n",
       "      <th>HORA_HECHO</th>\n",
       "      <th>EDAD</th>\n",
       "      <th>SEXO</th>\n",
       "      <th>MOVIL_VICTIMA</th>\n",
       "      <th>MOVIL_AGRESOR</th>\n",
       "      <th>CLASE_SITIO</th>\n",
       "      <th>...</th>\n",
       "      <th>DIA_NUM</th>\n",
       "      <th>RANGO_HORARIO</th>\n",
       "      <th>TIPOLOGÍA</th>\n",
       "      <th>RANGO_HORARIO_ORDEN</th>\n",
       "      <th>DIA_NOMBRE</th>\n",
       "      <th>DIA_NOMBRE_ORDEN</th>\n",
       "      <th>LOCALIDAD</th>\n",
       "      <th>NUM_COM</th>\n",
       "      <th>NOM_COM</th>\n",
       "      <th>CANTIDAD_UNICA</th>\n",
       "    </tr>\n",
       "  </thead>\n",
       "  <tbody>\n",
       "    <tr>\n",
       "      <th>0</th>\n",
       "      <td>ARTÍCULO 239. HURTO PERSONAS</td>\n",
       "      <td>ARMA BLANCA / CORTOPUNZANTE</td>\n",
       "      <td>MALPASO</td>\n",
       "      <td>2019-06-17</td>\n",
       "      <td>20:30:00</td>\n",
       "      <td>21</td>\n",
       "      <td>MASCULINO</td>\n",
       "      <td>A PIE</td>\n",
       "      <td>A PIE</td>\n",
       "      <td>VIAS PUBLICAS</td>\n",
       "      <td>...</td>\n",
       "      <td>17</td>\n",
       "      <td>20:00-20:59</td>\n",
       "      <td>DELITOS CONTRA EL PATRIMONIO ECONOMICO</td>\n",
       "      <td>20</td>\n",
       "      <td>lunes</td>\n",
       "      <td>1</td>\n",
       "      <td>11. SUR</td>\n",
       "      <td>11</td>\n",
       "      <td>SUR</td>\n",
       "      <td>1</td>\n",
       "    </tr>\n",
       "    <tr>\n",
       "      <th>1</th>\n",
       "      <td>ARTÍCULO 239. HURTO PERSONAS</td>\n",
       "      <td>ARMA BLANCA / CORTOPUNZANTE</td>\n",
       "      <td>GRANJAS DE PROVENZA</td>\n",
       "      <td>2019-09-12</td>\n",
       "      <td>01:30:00</td>\n",
       "      <td>21</td>\n",
       "      <td>MASCULINO</td>\n",
       "      <td>A PIE</td>\n",
       "      <td>A PIE</td>\n",
       "      <td>VIAS PUBLICAS</td>\n",
       "      <td>...</td>\n",
       "      <td>12</td>\n",
       "      <td>1:00-1:59</td>\n",
       "      <td>DELITOS CONTRA EL PATRIMONIO ECONOMICO</td>\n",
       "      <td>1</td>\n",
       "      <td>jueves</td>\n",
       "      <td>4</td>\n",
       "      <td>10. PROVENZA</td>\n",
       "      <td>10</td>\n",
       "      <td>PROVENZA</td>\n",
       "      <td>1</td>\n",
       "    </tr>\n",
       "    <tr>\n",
       "      <th>2</th>\n",
       "      <td>ARTÍCULO 239. HURTO PERSONAS</td>\n",
       "      <td>ARMA BLANCA / CORTOPUNZANTE</td>\n",
       "      <td>PROVENZA</td>\n",
       "      <td>2019-04-07</td>\n",
       "      <td>05:10:00</td>\n",
       "      <td>21</td>\n",
       "      <td>MASCULINO</td>\n",
       "      <td>A PIE</td>\n",
       "      <td>A PIE</td>\n",
       "      <td>VIAS PUBLICAS</td>\n",
       "      <td>...</td>\n",
       "      <td>7</td>\n",
       "      <td>5:00-5:59</td>\n",
       "      <td>DELITOS CONTRA EL PATRIMONIO ECONOMICO</td>\n",
       "      <td>5</td>\n",
       "      <td>domingo</td>\n",
       "      <td>7</td>\n",
       "      <td>10. PROVENZA</td>\n",
       "      <td>10</td>\n",
       "      <td>PROVENZA</td>\n",
       "      <td>1</td>\n",
       "    </tr>\n",
       "    <tr>\n",
       "      <th>3</th>\n",
       "      <td>ARTÍCULO 239. HURTO PERSONAS</td>\n",
       "      <td>ARMA BLANCA / CORTOPUNZANTE</td>\n",
       "      <td>CIUDAD VENECIA</td>\n",
       "      <td>2019-01-30</td>\n",
       "      <td>23:15:00</td>\n",
       "      <td>21</td>\n",
       "      <td>MASCULINO</td>\n",
       "      <td>A PIE</td>\n",
       "      <td>A PIE</td>\n",
       "      <td>VIAS PUBLICAS</td>\n",
       "      <td>...</td>\n",
       "      <td>30</td>\n",
       "      <td>23:00-23:59</td>\n",
       "      <td>DELITOS CONTRA EL PATRIMONIO ECONOMICO</td>\n",
       "      <td>23</td>\n",
       "      <td>miércoles</td>\n",
       "      <td>3</td>\n",
       "      <td>11. SUR</td>\n",
       "      <td>11</td>\n",
       "      <td>SUR</td>\n",
       "      <td>1</td>\n",
       "    </tr>\n",
       "    <tr>\n",
       "      <th>4</th>\n",
       "      <td>ARTÍCULO 239. HURTO PERSONAS</td>\n",
       "      <td>ARMA BLANCA / CORTOPUNZANTE</td>\n",
       "      <td>PROVENZA</td>\n",
       "      <td>2019-06-12</td>\n",
       "      <td>14:30:00</td>\n",
       "      <td>21</td>\n",
       "      <td>MASCULINO</td>\n",
       "      <td>A PIE</td>\n",
       "      <td>A PIE</td>\n",
       "      <td>VIAS PUBLICAS</td>\n",
       "      <td>...</td>\n",
       "      <td>12</td>\n",
       "      <td>14:00-14:59</td>\n",
       "      <td>DELITOS CONTRA EL PATRIMONIO ECONOMICO</td>\n",
       "      <td>14</td>\n",
       "      <td>miércoles</td>\n",
       "      <td>3</td>\n",
       "      <td>10. PROVENZA</td>\n",
       "      <td>10</td>\n",
       "      <td>PROVENZA</td>\n",
       "      <td>1</td>\n",
       "    </tr>\n",
       "  </tbody>\n",
       "</table>\n",
       "<p>5 rows × 26 columns</p>\n",
       "</div>"
      ]
     },
     "execution_count": 4,
     "metadata": {},
     "output_type": "execute_result"
    }
   ],
   "execution_count": 4
  },
  {
   "metadata": {},
   "cell_type": "markdown",
   "source": "///////////////////// COLUMNAS ////////////////////////////////////\n",
   "id": "4548bf3e223db6d5"
  },
  {
   "metadata": {
    "ExecuteTime": {
     "end_time": "2024-09-14T00:12:31.050995Z",
     "start_time": "2024-09-14T00:12:31.046452Z"
    }
   },
   "cell_type": "code",
   "source": "df.columns",
   "id": "ad63f75371716262",
   "outputs": [
    {
     "data": {
      "text/plain": [
       "Index(['DESCRIPCION_CONDUCTA', 'ARMAS_MEDIOS', 'BARRIOS_HECHO', 'FECHA_HECHO',\n",
       "       'HORA_HECHO', 'EDAD', 'SEXO', 'MOVIL_VICTIMA', 'MOVIL_AGRESOR',\n",
       "       'CLASE_SITIO', 'ARTICULO', 'DELITO_SOLO', 'CURSO_VIDA',\n",
       "       'CURSO_VIDA_ORDEN', 'AÑO_NUM', 'MES_NUM', 'DIA_NUM', 'RANGO_HORARIO',\n",
       "       'TIPOLOGÍA', 'RANGO_HORARIO_ORDEN', 'DIA_NOMBRE', 'DIA_NOMBRE_ORDEN',\n",
       "       'LOCALIDAD', 'NUM_COM', 'NOM_COM', 'CANTIDAD_UNICA'],\n",
       "      dtype='object')"
      ]
     },
     "execution_count": 5,
     "metadata": {},
     "output_type": "execute_result"
    }
   ],
   "execution_count": 5
  },
  {
   "metadata": {
    "ExecuteTime": {
     "end_time": "2024-09-14T00:12:33.002111Z",
     "start_time": "2024-09-14T00:12:32.926323Z"
    }
   },
   "cell_type": "code",
   "source": [
    "for column in df.columns:\n",
    "    num_distinct_values = len(df[column].unique())\n",
    "    print(f\"{column}: {num_distinct_values} Valores diferentes\")"
   ],
   "id": "e54d8686c7954f23",
   "outputs": [
    {
     "name": "stdout",
     "output_type": "stream",
     "text": [
      "DESCRIPCION_CONDUCTA: 41 Valores diferentes\n",
      "ARMAS_MEDIOS: 40 Valores diferentes\n",
      "BARRIOS_HECHO: 327 Valores diferentes\n",
      "FECHA_HECHO: 2861 Valores diferentes\n",
      "HORA_HECHO: 1415 Valores diferentes\n",
      "EDAD: 99 Valores diferentes\n",
      "SEXO: 3 Valores diferentes\n",
      "MOVIL_VICTIMA: 14 Valores diferentes\n",
      "MOVIL_AGRESOR: 15 Valores diferentes\n",
      "CLASE_SITIO: 231 Valores diferentes\n",
      "ARTICULO: 30 Valores diferentes\n",
      "DELITO_SOLO: 41 Valores diferentes\n",
      "CURSO_VIDA: 19 Valores diferentes\n",
      "CURSO_VIDA_ORDEN: 19 Valores diferentes\n",
      "AÑO_NUM: 8 Valores diferentes\n",
      "MES_NUM: 12 Valores diferentes\n",
      "DIA_NUM: 31 Valores diferentes\n",
      "RANGO_HORARIO: 24 Valores diferentes\n",
      "TIPOLOGÍA: 6 Valores diferentes\n",
      "RANGO_HORARIO_ORDEN: 24 Valores diferentes\n",
      "DIA_NOMBRE: 7 Valores diferentes\n",
      "DIA_NOMBRE_ORDEN: 7 Valores diferentes\n",
      "LOCALIDAD: 21 Valores diferentes\n",
      "NUM_COM: 21 Valores diferentes\n",
      "NOM_COM: 21 Valores diferentes\n",
      "CANTIDAD_UNICA: 1 Valores diferentes\n"
     ]
    }
   ],
   "execution_count": 6
  },
  {
   "metadata": {
    "ExecuteTime": {
     "end_time": "2024-09-14T00:13:42.593932Z",
     "start_time": "2024-09-14T00:13:42.561741Z"
    }
   },
   "cell_type": "code",
   "source": "df.describe().T",
   "id": "ca4eb6efa2f1ac62",
   "outputs": [
    {
     "data": {
      "text/plain": [
       "                        count         mean       std     min     25%     50%  \\\n",
       "CURSO_VIDA_ORDEN     100993.0     7.607795  4.345098     0.0     5.0     6.0   \n",
       "AÑO_NUM              100993.0  2019.703197  2.258035  2016.0  2018.0  2020.0   \n",
       "MES_NUM              100993.0     6.471379  3.425133     1.0     3.0     7.0   \n",
       "DIA_NUM              100993.0    15.636490  8.839196     1.0     8.0    16.0   \n",
       "RANGO_HORARIO_ORDEN  100993.0    12.512659  6.231053     0.0     8.0    13.0   \n",
       "DIA_NOMBRE_ORDEN     100993.0     3.995623  1.977476     1.0     2.0     4.0   \n",
       "NUM_COM              100993.0     8.706643  5.272817     1.0     4.0    10.0   \n",
       "CANTIDAD_UNICA       100993.0     1.000000  0.000000     1.0     1.0     1.0   \n",
       "\n",
       "                        75%     max  \n",
       "CURSO_VIDA_ORDEN        9.0    18.0  \n",
       "AÑO_NUM              2022.0  2023.0  \n",
       "MES_NUM                 9.0    12.0  \n",
       "DIA_NUM                23.0    31.0  \n",
       "RANGO_HORARIO_ORDEN    18.0    23.0  \n",
       "DIA_NOMBRE_ORDEN        6.0     7.0  \n",
       "NUM_COM                13.0    21.0  \n",
       "CANTIDAD_UNICA          1.0     1.0  "
      ],
      "text/html": [
       "<div>\n",
       "<style scoped>\n",
       "    .dataframe tbody tr th:only-of-type {\n",
       "        vertical-align: middle;\n",
       "    }\n",
       "\n",
       "    .dataframe tbody tr th {\n",
       "        vertical-align: top;\n",
       "    }\n",
       "\n",
       "    .dataframe thead th {\n",
       "        text-align: right;\n",
       "    }\n",
       "</style>\n",
       "<table border=\"1\" class=\"dataframe\">\n",
       "  <thead>\n",
       "    <tr style=\"text-align: right;\">\n",
       "      <th></th>\n",
       "      <th>count</th>\n",
       "      <th>mean</th>\n",
       "      <th>std</th>\n",
       "      <th>min</th>\n",
       "      <th>25%</th>\n",
       "      <th>50%</th>\n",
       "      <th>75%</th>\n",
       "      <th>max</th>\n",
       "    </tr>\n",
       "  </thead>\n",
       "  <tbody>\n",
       "    <tr>\n",
       "      <th>CURSO_VIDA_ORDEN</th>\n",
       "      <td>100993.0</td>\n",
       "      <td>7.607795</td>\n",
       "      <td>4.345098</td>\n",
       "      <td>0.0</td>\n",
       "      <td>5.0</td>\n",
       "      <td>6.0</td>\n",
       "      <td>9.0</td>\n",
       "      <td>18.0</td>\n",
       "    </tr>\n",
       "    <tr>\n",
       "      <th>AÑO_NUM</th>\n",
       "      <td>100993.0</td>\n",
       "      <td>2019.703197</td>\n",
       "      <td>2.258035</td>\n",
       "      <td>2016.0</td>\n",
       "      <td>2018.0</td>\n",
       "      <td>2020.0</td>\n",
       "      <td>2022.0</td>\n",
       "      <td>2023.0</td>\n",
       "    </tr>\n",
       "    <tr>\n",
       "      <th>MES_NUM</th>\n",
       "      <td>100993.0</td>\n",
       "      <td>6.471379</td>\n",
       "      <td>3.425133</td>\n",
       "      <td>1.0</td>\n",
       "      <td>3.0</td>\n",
       "      <td>7.0</td>\n",
       "      <td>9.0</td>\n",
       "      <td>12.0</td>\n",
       "    </tr>\n",
       "    <tr>\n",
       "      <th>DIA_NUM</th>\n",
       "      <td>100993.0</td>\n",
       "      <td>15.636490</td>\n",
       "      <td>8.839196</td>\n",
       "      <td>1.0</td>\n",
       "      <td>8.0</td>\n",
       "      <td>16.0</td>\n",
       "      <td>23.0</td>\n",
       "      <td>31.0</td>\n",
       "    </tr>\n",
       "    <tr>\n",
       "      <th>RANGO_HORARIO_ORDEN</th>\n",
       "      <td>100993.0</td>\n",
       "      <td>12.512659</td>\n",
       "      <td>6.231053</td>\n",
       "      <td>0.0</td>\n",
       "      <td>8.0</td>\n",
       "      <td>13.0</td>\n",
       "      <td>18.0</td>\n",
       "      <td>23.0</td>\n",
       "    </tr>\n",
       "    <tr>\n",
       "      <th>DIA_NOMBRE_ORDEN</th>\n",
       "      <td>100993.0</td>\n",
       "      <td>3.995623</td>\n",
       "      <td>1.977476</td>\n",
       "      <td>1.0</td>\n",
       "      <td>2.0</td>\n",
       "      <td>4.0</td>\n",
       "      <td>6.0</td>\n",
       "      <td>7.0</td>\n",
       "    </tr>\n",
       "    <tr>\n",
       "      <th>NUM_COM</th>\n",
       "      <td>100993.0</td>\n",
       "      <td>8.706643</td>\n",
       "      <td>5.272817</td>\n",
       "      <td>1.0</td>\n",
       "      <td>4.0</td>\n",
       "      <td>10.0</td>\n",
       "      <td>13.0</td>\n",
       "      <td>21.0</td>\n",
       "    </tr>\n",
       "    <tr>\n",
       "      <th>CANTIDAD_UNICA</th>\n",
       "      <td>100993.0</td>\n",
       "      <td>1.000000</td>\n",
       "      <td>0.000000</td>\n",
       "      <td>1.0</td>\n",
       "      <td>1.0</td>\n",
       "      <td>1.0</td>\n",
       "      <td>1.0</td>\n",
       "      <td>1.0</td>\n",
       "    </tr>\n",
       "  </tbody>\n",
       "</table>\n",
       "</div>"
      ]
     },
     "execution_count": 8,
     "metadata": {},
     "output_type": "execute_result"
    }
   ],
   "execution_count": 8
  },
  {
   "metadata": {
    "ExecuteTime": {
     "end_time": "2024-09-14T00:14:19.140850Z",
     "start_time": "2024-09-14T00:14:19.019914Z"
    }
   },
   "cell_type": "code",
   "source": "df.describe(include=['object']).T",
   "id": "653c6d825be8c014",
   "outputs": [
    {
     "data": {
      "text/plain": [
       "                       count unique                                     top  \\\n",
       "DESCRIPCION_CONDUCTA  100993     41            ARTÍCULO 239. HURTO PERSONAS   \n",
       "ARMAS_MEDIOS          100993     40                     SIN EMPLEO DE ARMAS   \n",
       "BARRIOS_HECHO         100993    327                                  CENTRO   \n",
       "FECHA_HECHO           100993   2861                              2022-09-08   \n",
       "HORA_HECHO            100993   1415                                10:00:00   \n",
       "EDAD                  100360     98                           NO DISPONIBLE   \n",
       "SEXO                  100993      3                                FEMENINO   \n",
       "MOVIL_VICTIMA         100993     14                                   A PIE   \n",
       "MOVIL_AGRESOR         100993     15                                   A PIE   \n",
       "CLASE_SITIO           100993    231                           VIAS PUBLICAS   \n",
       "ARTICULO              100993     30                            ARTÍCULO 239   \n",
       "DELITO_SOLO           100993     41                          HURTO PERSONAS   \n",
       "CURSO_VIDA            100993     19                                   25-29   \n",
       "RANGO_HORARIO         100993     24                             10:00-10:59   \n",
       "TIPOLOGÍA             100992      5  DELITOS CONTRA EL PATRIMONIO ECONOMICO   \n",
       "DIA_NOMBRE            100993      7                                  sábado   \n",
       "LOCALIDAD             100993     21                            13. ORIENTAL   \n",
       "NOM_COM               100993     21                                ORIENTAL   \n",
       "\n",
       "                       freq  \n",
       "DESCRIPCION_CONDUCTA  45944  \n",
       "ARMAS_MEDIOS          46959  \n",
       "BARRIOS_HECHO          8532  \n",
       "FECHA_HECHO              83  \n",
       "HORA_HECHO             3468  \n",
       "EDAD                   8836  \n",
       "SEXO                  46749  \n",
       "MOVIL_VICTIMA         87476  \n",
       "MOVIL_AGRESOR         77587  \n",
       "CLASE_SITIO           49376  \n",
       "ARTICULO              61481  \n",
       "DELITO_SOLO           45944  \n",
       "CURSO_VIDA            14438  \n",
       "RANGO_HORARIO          7312  \n",
       "TIPOLOGÍA             61990  \n",
       "DIA_NOMBRE            15752  \n",
       "LOCALIDAD             11898  \n",
       "NOM_COM               11898  "
      ],
      "text/html": [
       "<div>\n",
       "<style scoped>\n",
       "    .dataframe tbody tr th:only-of-type {\n",
       "        vertical-align: middle;\n",
       "    }\n",
       "\n",
       "    .dataframe tbody tr th {\n",
       "        vertical-align: top;\n",
       "    }\n",
       "\n",
       "    .dataframe thead th {\n",
       "        text-align: right;\n",
       "    }\n",
       "</style>\n",
       "<table border=\"1\" class=\"dataframe\">\n",
       "  <thead>\n",
       "    <tr style=\"text-align: right;\">\n",
       "      <th></th>\n",
       "      <th>count</th>\n",
       "      <th>unique</th>\n",
       "      <th>top</th>\n",
       "      <th>freq</th>\n",
       "    </tr>\n",
       "  </thead>\n",
       "  <tbody>\n",
       "    <tr>\n",
       "      <th>DESCRIPCION_CONDUCTA</th>\n",
       "      <td>100993</td>\n",
       "      <td>41</td>\n",
       "      <td>ARTÍCULO 239. HURTO PERSONAS</td>\n",
       "      <td>45944</td>\n",
       "    </tr>\n",
       "    <tr>\n",
       "      <th>ARMAS_MEDIOS</th>\n",
       "      <td>100993</td>\n",
       "      <td>40</td>\n",
       "      <td>SIN EMPLEO DE ARMAS</td>\n",
       "      <td>46959</td>\n",
       "    </tr>\n",
       "    <tr>\n",
       "      <th>BARRIOS_HECHO</th>\n",
       "      <td>100993</td>\n",
       "      <td>327</td>\n",
       "      <td>CENTRO</td>\n",
       "      <td>8532</td>\n",
       "    </tr>\n",
       "    <tr>\n",
       "      <th>FECHA_HECHO</th>\n",
       "      <td>100993</td>\n",
       "      <td>2861</td>\n",
       "      <td>2022-09-08</td>\n",
       "      <td>83</td>\n",
       "    </tr>\n",
       "    <tr>\n",
       "      <th>HORA_HECHO</th>\n",
       "      <td>100993</td>\n",
       "      <td>1415</td>\n",
       "      <td>10:00:00</td>\n",
       "      <td>3468</td>\n",
       "    </tr>\n",
       "    <tr>\n",
       "      <th>EDAD</th>\n",
       "      <td>100360</td>\n",
       "      <td>98</td>\n",
       "      <td>NO DISPONIBLE</td>\n",
       "      <td>8836</td>\n",
       "    </tr>\n",
       "    <tr>\n",
       "      <th>SEXO</th>\n",
       "      <td>100993</td>\n",
       "      <td>3</td>\n",
       "      <td>FEMENINO</td>\n",
       "      <td>46749</td>\n",
       "    </tr>\n",
       "    <tr>\n",
       "      <th>MOVIL_VICTIMA</th>\n",
       "      <td>100993</td>\n",
       "      <td>14</td>\n",
       "      <td>A PIE</td>\n",
       "      <td>87476</td>\n",
       "    </tr>\n",
       "    <tr>\n",
       "      <th>MOVIL_AGRESOR</th>\n",
       "      <td>100993</td>\n",
       "      <td>15</td>\n",
       "      <td>A PIE</td>\n",
       "      <td>77587</td>\n",
       "    </tr>\n",
       "    <tr>\n",
       "      <th>CLASE_SITIO</th>\n",
       "      <td>100993</td>\n",
       "      <td>231</td>\n",
       "      <td>VIAS PUBLICAS</td>\n",
       "      <td>49376</td>\n",
       "    </tr>\n",
       "    <tr>\n",
       "      <th>ARTICULO</th>\n",
       "      <td>100993</td>\n",
       "      <td>30</td>\n",
       "      <td>ARTÍCULO 239</td>\n",
       "      <td>61481</td>\n",
       "    </tr>\n",
       "    <tr>\n",
       "      <th>DELITO_SOLO</th>\n",
       "      <td>100993</td>\n",
       "      <td>41</td>\n",
       "      <td>HURTO PERSONAS</td>\n",
       "      <td>45944</td>\n",
       "    </tr>\n",
       "    <tr>\n",
       "      <th>CURSO_VIDA</th>\n",
       "      <td>100993</td>\n",
       "      <td>19</td>\n",
       "      <td>25-29</td>\n",
       "      <td>14438</td>\n",
       "    </tr>\n",
       "    <tr>\n",
       "      <th>RANGO_HORARIO</th>\n",
       "      <td>100993</td>\n",
       "      <td>24</td>\n",
       "      <td>10:00-10:59</td>\n",
       "      <td>7312</td>\n",
       "    </tr>\n",
       "    <tr>\n",
       "      <th>TIPOLOGÍA</th>\n",
       "      <td>100992</td>\n",
       "      <td>5</td>\n",
       "      <td>DELITOS CONTRA EL PATRIMONIO ECONOMICO</td>\n",
       "      <td>61990</td>\n",
       "    </tr>\n",
       "    <tr>\n",
       "      <th>DIA_NOMBRE</th>\n",
       "      <td>100993</td>\n",
       "      <td>7</td>\n",
       "      <td>sábado</td>\n",
       "      <td>15752</td>\n",
       "    </tr>\n",
       "    <tr>\n",
       "      <th>LOCALIDAD</th>\n",
       "      <td>100993</td>\n",
       "      <td>21</td>\n",
       "      <td>13. ORIENTAL</td>\n",
       "      <td>11898</td>\n",
       "    </tr>\n",
       "    <tr>\n",
       "      <th>NOM_COM</th>\n",
       "      <td>100993</td>\n",
       "      <td>21</td>\n",
       "      <td>ORIENTAL</td>\n",
       "      <td>11898</td>\n",
       "    </tr>\n",
       "  </tbody>\n",
       "</table>\n",
       "</div>"
      ]
     },
     "execution_count": 9,
     "metadata": {},
     "output_type": "execute_result"
    }
   ],
   "execution_count": 9
  },
  {
   "metadata": {
    "ExecuteTime": {
     "end_time": "2024-09-14T00:17:15.252880Z",
     "start_time": "2024-09-14T00:17:15.207918Z"
    }
   },
   "cell_type": "code",
   "source": [
    "missing_values = df.isnull().sum()\n",
    "\n",
    "# Mostrar el número de valores nulos por columna\n",
    "print(\"Número de valores nulos por columna:\")\n",
    "print(missing_values)"
   ],
   "id": "89e4ba31d37dff3c",
   "outputs": [
    {
     "name": "stdout",
     "output_type": "stream",
     "text": [
      "Número de valores nulos por columna:\n",
      "DESCRIPCION_CONDUCTA      0\n",
      "ARMAS_MEDIOS              0\n",
      "BARRIOS_HECHO             0\n",
      "FECHA_HECHO               0\n",
      "HORA_HECHO                0\n",
      "EDAD                    633\n",
      "SEXO                      0\n",
      "MOVIL_VICTIMA             0\n",
      "MOVIL_AGRESOR             0\n",
      "CLASE_SITIO               0\n",
      "ARTICULO                  0\n",
      "DELITO_SOLO               0\n",
      "CURSO_VIDA                0\n",
      "CURSO_VIDA_ORDEN          0\n",
      "AÑO_NUM                   0\n",
      "MES_NUM                   0\n",
      "DIA_NUM                   0\n",
      "RANGO_HORARIO             0\n",
      "TIPOLOGÍA                 1\n",
      "RANGO_HORARIO_ORDEN       0\n",
      "DIA_NOMBRE                0\n",
      "DIA_NOMBRE_ORDEN          0\n",
      "LOCALIDAD                 0\n",
      "NUM_COM                   0\n",
      "NOM_COM                   0\n",
      "CANTIDAD_UNICA            0\n",
      "dtype: int64\n"
     ]
    }
   ],
   "execution_count": 10
  },
  {
   "metadata": {},
   "cell_type": "markdown",
   "source": "Se encuentra un valor nulo en la tipologia y 633 en edad",
   "id": "47388139106fa52c"
  },
  {
   "metadata": {
    "ExecuteTime": {
     "end_time": "2024-09-14T00:04:49.679809Z",
     "start_time": "2024-09-14T00:04:49.660389Z"
    }
   },
   "cell_type": "code",
   "source": [
    "print(f\"Categorias y recuento: \\n\",df.ARMAS_MEDIOS.value_counts())\n",
    "print(\"Total de categorias: \",df.ARMAS_MEDIOS.unique().shape)\n",
    "print(\"Recuento de valores: \", df.ARMAS_MEDIOS.value_counts().sum())\n",
    "\n",
    "print(\"Valores nulos o no reportados:\", df.ARMAS_MEDIOS.value_counts()['NO REPORTADO'])"
   ],
   "id": "ab17275fc84cf341",
   "outputs": [
    {
     "name": "stdout",
     "output_type": "stream",
     "text": [
      "Categorias y recuento: \n",
      " ARMAS_MEDIOS\n",
      "SIN EMPLEO DE ARMAS                   46959\n",
      "ARMA BLANCA / CORTOPUNZANTE           20905\n",
      "CONTUNDENTES                          19160\n",
      "ARMA DE FUEGO                          7485\n",
      "LLAVE MAESTRA                          1850\n",
      "PALANCAS                               1449\n",
      "VEHICULO                               1149\n",
      "MOTO                                    655\n",
      "ESCOPOLAMINA                            500\n",
      "NO DISPONIBLE                           255\n",
      "LLAMADA TELEFONICA                      248\n",
      "REDES SOCIALES                           86\n",
      "DIRECTA                                  63\n",
      "PERRO                                    49\n",
      "ARMA TRAUMATICA                          42\n",
      "NO REPORTADO                             17\n",
      "ARTEFACTO INCENDIARIO                    13\n",
      "ACIDO                                    13\n",
      "MEDICAMENTOS                             12\n",
      "CARTA EXTORSIVA                          12\n",
      "MIXTA                                    10\n",
      "AGUA CALIENTE                            10\n",
      "ARTEFACTO EXPLOSIVO/CARGA DINAMITA        9\n",
      "CORTANTES                                 7\n",
      "QUIMICOS                                  5\n",
      "BICICLETA                                 4\n",
      "COMBUSTIBLE                               4\n",
      "JERINGA                                   3\n",
      "CORTOPUNZANTES                            3\n",
      "GASES                                     3\n",
      "PAPA EXPLOSIVA                            2\n",
      "SUSTANCIAS TOXICAS                        2\n",
      "BOLSA PLASTICA                            2\n",
      "PUNZANTES                                 1\n",
      "VENENO                                    1\n",
      "CUERDA/SOGA/CADENA                        1\n",
      "PRENDAS DE VESTIR                         1\n",
      "LICOR ADULTERADO                          1\n",
      "GRANADA DE MANO                           1\n",
      "PAQUETE BOMBA                             1\n",
      "Name: count, dtype: int64\n",
      "Total de categorias:  (40,)\n",
      "Recuento de valores:  100993\n",
      "Valores nulos o no reportados: 17\n"
     ]
    }
   ],
   "execution_count": 9
  },
  {
   "metadata": {},
   "cell_type": "markdown",
   "source": "Se encuentran valores \"nulos\" o \"no reportados\" en la columna BARRIOS_HECHO (17 valores) ",
   "id": "8e69b261242151c6"
  },
  {
   "metadata": {
    "ExecuteTime": {
     "end_time": "2024-09-14T00:21:56.335227Z",
     "start_time": "2024-09-14T00:21:56.320463Z"
    }
   },
   "cell_type": "code",
   "source": [
    "print(f\"Categorias y recuento: \\n\",df.BARRIOS_HECHO.value_counts())\n",
    "print(\"Total de categorias: \",df.BARRIOS_HECHO.unique().shape)\n",
    "print(\"Recuento de valores: \", df.BARRIOS_HECHO.value_counts().sum())"
   ],
   "id": "7f5a3cdf563f08f9",
   "outputs": [
    {
     "name": "stdout",
     "output_type": "stream",
     "text": [
      "Categorias y recuento: \n",
      " BARRIOS_HECHO\n",
      "CENTRO                          8532\n",
      "CABECERA DEL LLANO              5164\n",
      "SAN FRANCISCO                   4565\n",
      "LA CONCORDIA                    3545\n",
      "SAN ALONSO                      2679\n",
      "                                ... \n",
      "EL CONDADO                         1\n",
      "ASENTAMIENTO NAVAS                 1\n",
      "AUTOPISTA F/BLANCA-P/CUESTA.       1\n",
      "VDA. LA ESPERANZA                  1\n",
      "TEJADOS                            1\n",
      "Name: count, Length: 327, dtype: int64\n",
      "Total de categorias:  (327,)\n",
      "Recuento de valores:  100993\n"
     ]
    }
   ],
   "execution_count": 14
  },
  {
   "metadata": {
    "ExecuteTime": {
     "end_time": "2024-09-14T00:21:16.853673Z",
     "start_time": "2024-09-14T00:21:16.839323Z"
    }
   },
   "cell_type": "code",
   "source": [
    "print(f\"Categorias y recuento: \\n\",df.NOM_COM.value_counts())\n",
    "print(\"Total de categorias: \",df.NOM_COM.unique().shape)\n",
    "print(\"Recuento de valores: \", df.NOM_COM.value_counts().sum())\n",
    "\n",
    "#print(\"Valores nulos o no reportados:\", df.ARMAS_MEDIOS.value_counts()['NO REPORTADO'])"
   ],
   "id": "8f557457d1f53f6",
   "outputs": [
    {
     "name": "stdout",
     "output_type": "stream",
     "text": [
      "Categorias y recuento: \n",
      " NOM_COM\n",
      "ORIENTAL              11898\n",
      "SAN FRANCISCO         11678\n",
      "CENTRO                10800\n",
      "CABECERA DEL LLANO    10094\n",
      "NORTE                  9316\n",
      "LA CONCORDIA           6830\n",
      "OCCIDENTAL             6669\n",
      "GARCIA ROVIRA          5429\n",
      "PROVENZA               5136\n",
      "NORORIENTAL            4081\n",
      "SUR                    3240\n",
      "MUTIS                  2748\n",
      "LA CIUDADELA           2485\n",
      "LAGOS DEL CACIQUE      2410\n",
      "MORRORICO              2407\n",
      "SUROCCIDENTE           1944\n",
      "LA PEDREGOSA           1928\n",
      "NO DISPONIBLE           856\n",
      "CORREGIMIENTO 3         493\n",
      "CORREGIMIENTO 1         383\n",
      "CORREGIMIENTO 2         168\n",
      "Name: count, dtype: int64\n",
      "Total de categorias:  (21,)\n",
      "Recuento de valores:  100993\n"
     ]
    }
   ],
   "execution_count": 13
  },
  {
   "metadata": {},
   "cell_type": "markdown",
   "source": "Sin discrepancias en las fechas ni valores nulos, datos hasta el 2021",
   "id": "3966bd1530d5f6d2"
  },
  {
   "metadata": {
    "ExecuteTime": {
     "end_time": "2024-09-14T00:22:20.102337Z",
     "start_time": "2024-09-14T00:22:20.093883Z"
    }
   },
   "cell_type": "code",
   "source": "",
   "id": "7eb6f9339169b760",
   "outputs": [
    {
     "ename": "AttributeError",
     "evalue": "'DataFrame' object has no attribute 'ANO'",
     "output_type": "error",
     "traceback": [
      "\u001B[1;31m---------------------------------------------------------------------------\u001B[0m",
      "\u001B[1;31mAttributeError\u001B[0m                            Traceback (most recent call last)",
      "\u001B[1;32m~\\AppData\\Local\\Temp\\ipykernel_2028\\323608738.py\u001B[0m in \u001B[0;36m?\u001B[1;34m()\u001B[0m\n\u001B[1;32m----> 1\u001B[1;33m \u001B[0mprint\u001B[0m\u001B[1;33m(\u001B[0m\u001B[1;34m\"Recuento años:\"\u001B[0m\u001B[1;33m,\u001B[0m \u001B[0mdf\u001B[0m\u001B[1;33m.\u001B[0m\u001B[0mANO\u001B[0m\u001B[1;33m.\u001B[0m\u001B[0mvalue_counts\u001B[0m\u001B[1;33m(\u001B[0m\u001B[1;33m)\u001B[0m\u001B[1;33m)\u001B[0m\u001B[1;33m\u001B[0m\u001B[1;33m\u001B[0m\u001B[0m\n\u001B[0m\u001B[0;32m      2\u001B[0m \u001B[0mprint\u001B[0m\u001B[1;33m(\u001B[0m\u001B[1;34m\"Total años:\"\u001B[0m\u001B[1;33m,\u001B[0m \u001B[0mdf\u001B[0m\u001B[1;33m.\u001B[0m\u001B[0mANO\u001B[0m\u001B[1;33m.\u001B[0m\u001B[0mvalue_counts\u001B[0m\u001B[1;33m(\u001B[0m\u001B[1;33m)\u001B[0m\u001B[1;33m.\u001B[0m\u001B[0msum\u001B[0m\u001B[1;33m(\u001B[0m\u001B[1;33m)\u001B[0m\u001B[1;33m)\u001B[0m\u001B[1;33m\u001B[0m\u001B[1;33m\u001B[0m\u001B[0m\n\u001B[0;32m      3\u001B[0m \u001B[0mprint\u001B[0m\u001B[1;33m(\u001B[0m\u001B[1;34m\"/////////////////////////////////////\"\u001B[0m\u001B[1;33m)\u001B[0m\u001B[1;33m\u001B[0m\u001B[1;33m\u001B[0m\u001B[0m\n\u001B[0;32m      4\u001B[0m \u001B[0mprint\u001B[0m\u001B[1;33m(\u001B[0m\u001B[1;34m\"Recuento meses:\"\u001B[0m\u001B[1;33m,\u001B[0m \u001B[0mdf\u001B[0m\u001B[1;33m.\u001B[0m\u001B[0mMES\u001B[0m\u001B[1;33m.\u001B[0m\u001B[0mvalue_counts\u001B[0m\u001B[1;33m(\u001B[0m\u001B[1;33m)\u001B[0m\u001B[1;33m)\u001B[0m\u001B[1;33m\u001B[0m\u001B[1;33m\u001B[0m\u001B[0m\n",
      "\u001B[1;32m~\\AppData\\Local\\Programs\\Python\\Python312\\Lib\\site-packages\\pandas\\core\\generic.py\u001B[0m in \u001B[0;36m?\u001B[1;34m(self, name)\u001B[0m\n\u001B[0;32m   6295\u001B[0m             \u001B[1;32mand\u001B[0m \u001B[0mname\u001B[0m \u001B[1;32mnot\u001B[0m \u001B[1;32min\u001B[0m \u001B[0mself\u001B[0m\u001B[1;33m.\u001B[0m\u001B[0m_accessors\u001B[0m\u001B[1;33m\u001B[0m\u001B[1;33m\u001B[0m\u001B[0m\n\u001B[0;32m   6296\u001B[0m             \u001B[1;32mand\u001B[0m \u001B[0mself\u001B[0m\u001B[1;33m.\u001B[0m\u001B[0m_info_axis\u001B[0m\u001B[1;33m.\u001B[0m\u001B[0m_can_hold_identifiers_and_holds_name\u001B[0m\u001B[1;33m(\u001B[0m\u001B[0mname\u001B[0m\u001B[1;33m)\u001B[0m\u001B[1;33m\u001B[0m\u001B[1;33m\u001B[0m\u001B[0m\n\u001B[0;32m   6297\u001B[0m         \u001B[1;33m)\u001B[0m\u001B[1;33m:\u001B[0m\u001B[1;33m\u001B[0m\u001B[1;33m\u001B[0m\u001B[0m\n\u001B[0;32m   6298\u001B[0m             \u001B[1;32mreturn\u001B[0m \u001B[0mself\u001B[0m\u001B[1;33m[\u001B[0m\u001B[0mname\u001B[0m\u001B[1;33m]\u001B[0m\u001B[1;33m\u001B[0m\u001B[1;33m\u001B[0m\u001B[0m\n\u001B[1;32m-> 6299\u001B[1;33m         \u001B[1;32mreturn\u001B[0m \u001B[0mobject\u001B[0m\u001B[1;33m.\u001B[0m\u001B[0m__getattribute__\u001B[0m\u001B[1;33m(\u001B[0m\u001B[0mself\u001B[0m\u001B[1;33m,\u001B[0m \u001B[0mname\u001B[0m\u001B[1;33m)\u001B[0m\u001B[1;33m\u001B[0m\u001B[1;33m\u001B[0m\u001B[0m\n\u001B[0m",
      "\u001B[1;31mAttributeError\u001B[0m: 'DataFrame' object has no attribute 'ANO'"
     ]
    }
   ],
   "execution_count": 15
  },
  {
   "metadata": {},
   "cell_type": "markdown",
   "source": "Se encuentran valores \"nulos\" o \"no reportados\" en la columna DESCRIPCION_CONDUCTA con un total de 12 datos",
   "id": "92bbd17c06cf1378"
  },
  {
   "metadata": {
    "ExecuteTime": {
     "end_time": "2024-09-14T00:23:11.492551Z",
     "start_time": "2024-09-14T00:23:11.479344Z"
    }
   },
   "cell_type": "code",
   "source": "df.DESCRIPCION_CONDUCTA.unique()",
   "id": "1c32f59457f70873",
   "outputs": [
    {
     "data": {
      "text/plain": [
       "array(['ARTÍCULO 239. HURTO PERSONAS', 'ARTÍCULO 239. HURTO RESIDENCIAS',\n",
       "       'ARTÍCULO 239. HURTO MOTOCICLETAS',\n",
       "       'ARTÍCULO 239. HURTO AUTOMOTORES',\n",
       "       'ARTÍCULO 239. HURTO ENTIDADES COMERCIALES',\n",
       "       'ARTÍCULO 209. ACTOS SEXUALES CON MENOR DE 14 AÑOS',\n",
       "       'ARTÍCULO 208. ACCESO CARNAL ABUSIVO CON MENOR DE 14 AÑOS',\n",
       "       'ARTÍCULO 229. VIOLENCIA INTRAFAMILIAR',\n",
       "       'ARTÍCULO 120. LESIONES CULPOSAS',\n",
       "       'ARTÍCULO 206. ACTO SEXUAL VIOLENTO',\n",
       "       'ARTÍCULO 219 A. UTILIZACIÓN O FACILITACIÓN DE MEDIOS DE COMUNICACIÓN PARA OFRECER SERVICIOS SEXUALES DE MENORES',\n",
       "       'ARTÍCULO 205. ACCESO CARNAL VIOLENTO',\n",
       "       'ARTÍCULO 211. ACCESO CARNAL O ACTO SEXUAL EN PERSONA PUESTA EN INCAPACIDAD DE RESISTIR  (CIRCUNSTANCIAS AGRAVACIÓN)',\n",
       "       'ARTÍCULO 207. ACCESO CARNAL O ACTO SEXUAL EN PERSONA PUESTA EN INCAPACIDAD DE RESISTIR',\n",
       "       'ARTÍCULO 213. INDUCCIÓN A LA PROSTITUCIÓN',\n",
       "       'ARTÍCULO 210 A. ACOSO SEXUAL',\n",
       "       'ARTÍCULO 217 A. DEMANDA DE EXPLOTACION SEXUAL COMERCIAL DE PERSONA MENOR DE 18 AÑOS DE EDAD',\n",
       "       'ARTÍCULO 217. ESTÍMULO A LA PROSTITUCIÓN DE MENORES',\n",
       "       'ARTÍCULO 214. CONSTREÑIMIENTO A LA PROSTITUCIÓN',\n",
       "       'ARTÍCULO 211. ACTOS SEXUALES CON MENOR DE 14 AÑOS (CIRCUNSTANCIAS DE AGRAVACIÓN)',\n",
       "       'ARTÍCULO 211. ACCESO CARNAL ABUSIVO CON MENOR DE 14 AÑOS (CIRCUNSTANCIAS AGRAVACIÓN)',\n",
       "       'ARTÍCULO 210. ACCESO CARNAL O ACTO SEXUAL ABUSIVO CON INCAPAZ DE RESISTIR',\n",
       "       'ARTÍCULO 111. LESIONES PERSONALES', 'ARTÍCULO 244. EXTORSIÓN',\n",
       "       'ARTÍCULO 218. PORNOGRAFÍA CON MENORES',\n",
       "       'ARTÍCULO 213 A. PROXENETISMO CON MENOR DE EDAD',\n",
       "       'ARTÍCULO 211. ACCESO CARNAL VIOLENTO (CIRCUNSTANCIAS AGRAVACIÓN)',\n",
       "       'ARTÍCULO 103. HOMICIDIO', 'ARTÍCULO 104A. FEMINICIDIO',\n",
       "       'ARTÍCULO 125. LESIONES AL FETO', 'ARTÍCULO 347. AMENAZAS',\n",
       "       'ARTÍCULO 343. TERRORISMO', 'ARTÍCULO 265. DAÑO EN BIEN AJENO',\n",
       "       'ARTÍCULO 429. VIOLENCIA CONTRA SERVIDOR PÚBLICO',\n",
       "       'ARTÍCULO 350.  INCENDIO',\n",
       "       'ARTÍCULO 120. LESIONES CULPOSAS ( EN ACCIDENTE DE TRANSITO )',\n",
       "       'ARTÍCULO 243. ABIGEATO',\n",
       "       'ARTÍCULO 109. HOMICIDIO CULPOSO ( EN ACCIDENTE DE TRÁNSITO)',\n",
       "       'ARTÍCULO 211. ACTO SEXUAL VIOLENTO (CIRCUNSTANCIAS DE AGRAVACIÓN)',\n",
       "       'ARTÍCULO 211. ACCESO CARNAL O ACTO SEXUAL ABUSIVO CON INCAPAZ DE RESISTIR (CIRCUNSTANCIAS AGRAVACIÓN)',\n",
       "       'ARTÍCULO 243. HURTO ABIGEATO'], dtype=object)"
      ]
     },
     "execution_count": 17,
     "metadata": {},
     "output_type": "execute_result"
    }
   ],
   "execution_count": 17
  },
  {
   "metadata": {
    "ExecuteTime": {
     "end_time": "2024-09-14T00:24:49.694432Z",
     "start_time": "2024-09-14T00:24:49.676797Z"
    }
   },
   "cell_type": "code",
   "source": [
    "print(f\"Categorias y recuento: \\n\",df.DESCRIPCION_CONDUCTA.value_counts())\n",
    "print(\"Total de categorias: \",df.DESCRIPCION_CONDUCTA.unique().shape)\n",
    "print(\"Recuento de valores: \", df.DESCRIPCION_CONDUCTA.value_counts().sum())"
   ],
   "id": "3a4a82afe36e593f",
   "outputs": [
    {
     "name": "stdout",
     "output_type": "stream",
     "text": [
      "Categorias y recuento: \n",
      " DESCRIPCION_CONDUCTA\n",
      "ARTÍCULO 239. HURTO PERSONAS                                                                                           45944\n",
      "ARTÍCULO 111. LESIONES PERSONALES                                                                                      14665\n",
      "ARTÍCULO 229. VIOLENCIA INTRAFAMILIAR                                                                                  13898\n",
      "ARTÍCULO 239. HURTO ENTIDADES COMERCIALES                                                                               7792\n",
      "ARTÍCULO 347. AMENAZAS                                                                                                  4209\n",
      "ARTÍCULO 239. HURTO MOTOCICLETAS                                                                                        3859\n",
      "ARTÍCULO 239. HURTO RESIDENCIAS                                                                                         3743\n",
      "ARTÍCULO 120. LESIONES CULPOSAS ( EN ACCIDENTE DE TRANSITO )                                                            1662\n",
      "ARTÍCULO 209. ACTOS SEXUALES CON MENOR DE 14 AÑOS                                                                       1412\n",
      "ARTÍCULO 103. HOMICIDIO                                                                                                  834\n",
      "ARTÍCULO 208. ACCESO CARNAL ABUSIVO CON MENOR DE 14 AÑOS                                                                 607\n",
      "ARTÍCULO 244. EXTORSIÓN                                                                                                  507\n",
      "ARTÍCULO 205. ACCESO CARNAL VIOLENTO                                                                                     391\n",
      "ARTÍCULO 206. ACTO SEXUAL VIOLENTO                                                                                       247\n",
      "ARTÍCULO 210. ACCESO CARNAL O ACTO SEXUAL ABUSIVO CON INCAPAZ DE RESISTIR                                                215\n",
      "ARTÍCULO 109. HOMICIDIO CULPOSO ( EN ACCIDENTE DE TRÁNSITO)                                                              195\n",
      "ARTÍCULO 210 A. ACOSO SEXUAL                                                                                             188\n",
      "ARTÍCULO 239. HURTO AUTOMOTORES                                                                                          143\n",
      "ARTÍCULO 218. PORNOGRAFÍA CON MENORES                                                                                    109\n",
      "ARTÍCULO 219 A. UTILIZACIÓN O FACILITACIÓN DE MEDIOS DE COMUNICACIÓN PARA OFRECER SERVICIOS SEXUALES DE MENORES           95\n",
      "ARTÍCULO 207. ACCESO CARNAL O ACTO SEXUAL EN PERSONA PUESTA EN INCAPACIDAD DE RESISTIR                                    86\n",
      "ARTÍCULO 120. LESIONES CULPOSAS                                                                                           50\n",
      "ARTÍCULO 213. INDUCCIÓN A LA PROSTITUCIÓN                                                                                 40\n",
      "ARTÍCULO 104A. FEMINICIDIO                                                                                                26\n",
      "ARTÍCULO 217 A. DEMANDA DE EXPLOTACION SEXUAL COMERCIAL DE PERSONA MENOR DE 18 AÑOS DE EDAD                               21\n",
      "ARTÍCULO 211. ACCESO CARNAL O ACTO SEXUAL EN PERSONA PUESTA EN INCAPACIDAD DE RESISTIR  (CIRCUNSTANCIAS AGRAVACIÓN)       10\n",
      "ARTÍCULO 217. ESTÍMULO A LA PROSTITUCIÓN DE MENORES                                                                       10\n",
      "ARTÍCULO 213 A. PROXENETISMO CON MENOR DE EDAD                                                                             6\n",
      "ARTÍCULO 214. CONSTREÑIMIENTO A LA PROSTITUCIÓN                                                                            5\n",
      "ARTÍCULO 211. ACCESO CARNAL ABUSIVO CON MENOR DE 14 AÑOS (CIRCUNSTANCIAS AGRAVACIÓN)                                       5\n",
      "ARTÍCULO 343. TERRORISMO                                                                                                   4\n",
      "ARTÍCULO 211. ACTOS SEXUALES CON MENOR DE 14 AÑOS (CIRCUNSTANCIAS DE AGRAVACIÓN)                                           3\n",
      "ARTÍCULO 125. LESIONES AL FETO                                                                                             3\n",
      "ARTÍCULO 211. ACCESO CARNAL VIOLENTO (CIRCUNSTANCIAS AGRAVACIÓN)                                                           2\n",
      "ARTÍCULO 265. DAÑO EN BIEN AJENO                                                                                           1\n",
      "ARTÍCULO 350.  INCENDIO                                                                                                    1\n",
      "ARTÍCULO 429. VIOLENCIA CONTRA SERVIDOR PÚBLICO                                                                            1\n",
      "ARTÍCULO 243. ABIGEATO                                                                                                     1\n",
      "ARTÍCULO 211. ACTO SEXUAL VIOLENTO (CIRCUNSTANCIAS DE AGRAVACIÓN)                                                          1\n",
      "ARTÍCULO 211. ACCESO CARNAL O ACTO SEXUAL ABUSIVO CON INCAPAZ DE RESISTIR (CIRCUNSTANCIAS AGRAVACIÓN)                      1\n",
      "ARTÍCULO 243. HURTO ABIGEATO                                                                                               1\n",
      "Name: count, dtype: int64\n",
      "Total de categorias:  (41,)\n",
      "Recuento de valores:  100993\n"
     ]
    }
   ],
   "execution_count": 18
  },
  {
   "metadata": {},
   "cell_type": "markdown",
   "source": "Se encuentran valores \"nulos\" o \"no reportados\" en la columna MOVIL_VICTIMA y MOVIL_AGRESOR con un total de 881 datos y 434 datos respectivamente",
   "id": "efb82bb8ebd348cf"
  },
  {
   "metadata": {
    "ExecuteTime": {
     "end_time": "2024-09-14T00:26:52.840260Z",
     "start_time": "2024-09-14T00:26:52.832998Z"
    }
   },
   "cell_type": "code",
   "source": "df.MOVIL_VICTIMA.unique()",
   "id": "4776d2aceaa441e6",
   "outputs": [
    {
     "data": {
      "text/plain": [
       "array(['A PIE', 'BICICLETA', 'CONDUCTOR MOTOCICLETA', 'PASAJERO TAXI',\n",
       "       'PASAJERO VEHICULO', 'PASAJERO BUS', 'CONDUCTOR BUS',\n",
       "       'CONDUCTOR VEHICULO', 'PASAJERO MOTOCICLETA', 'CONDUCTOR TAXI',\n",
       "       'PASAJERO AERONAVE', 'PASAJERO METRO', 'PASAJERO BARCO',\n",
       "       'NO DISPONIBLE'], dtype=object)"
      ]
     },
     "execution_count": 23,
     "metadata": {},
     "output_type": "execute_result"
    }
   ],
   "execution_count": 23
  },
  {
   "metadata": {
    "ExecuteTime": {
     "end_time": "2024-09-14T00:26:26.416565Z",
     "start_time": "2024-09-14T00:26:26.366562Z"
    }
   },
   "cell_type": "code",
   "source": [
    "print(f\"Categorias y recuento: \\n\",df.MOVIL_VICTIMA.value_counts())\n",
    "print(\"Total de categorias: \",df.MOVIL_VICTIMA.unique().shape)\n",
    "print(\"Recuento de valores: \", df.MOVIL_VICTIMA.value_counts().sum())\n",
    "\n",
    "print(\"Valores nulos o no reportados:\", df.MOVIL_VICTIMA.value_counts()['NO REPORTA'])\n",
    "\n",
    "print(\"/////////////////////////////////////\")\n",
    "\n",
    "print(f\"Categorias y recuento: \\n\",df.MOVIL_AGRESOR.value_counts())\n",
    "print(\"Total de categorias: \",df.MOVIL_AGRESOR.unique().shape)\n",
    "print(\"Recuento de valores: \", df.MOVIL_AGRESOR.value_counts().sum())\n"
   ],
   "id": "9332c2a4dcad473d",
   "outputs": [
    {
     "name": "stdout",
     "output_type": "stream",
     "text": [
      "Categorias y recuento: \n",
      " MOVIL_VICTIMA\n",
      "A PIE                    87476\n",
      "CONDUCTOR MOTOCICLETA     4887\n",
      "CONDUCTOR VEHICULO        3364\n",
      "PASAJERO BUS              1976\n",
      "PASAJERO MOTOCICLETA       737\n",
      "CONDUCTOR TAXI             600\n",
      "BICICLETA                  568\n",
      "PASAJERO TAXI              537\n",
      "PASAJERO VEHICULO          505\n",
      "CONDUCTOR BUS              206\n",
      "PASAJERO METRO             121\n",
      "NO DISPONIBLE               12\n",
      "PASAJERO AERONAVE            3\n",
      "PASAJERO BARCO               1\n",
      "Name: count, dtype: int64\n",
      "Total de categorias:  (14,)\n",
      "Recuento de valores:  100993\n"
     ]
    },
    {
     "ename": "KeyError",
     "evalue": "'NO REPORTA'",
     "output_type": "error",
     "traceback": [
      "\u001B[1;31m---------------------------------------------------------------------------\u001B[0m",
      "\u001B[1;31mKeyError\u001B[0m                                  Traceback (most recent call last)",
      "File \u001B[1;32m~\\AppData\\Local\\Programs\\Python\\Python312\\Lib\\site-packages\\pandas\\core\\indexes\\base.py:3805\u001B[0m, in \u001B[0;36mIndex.get_loc\u001B[1;34m(self, key)\u001B[0m\n\u001B[0;32m   3804\u001B[0m \u001B[38;5;28;01mtry\u001B[39;00m:\n\u001B[1;32m-> 3805\u001B[0m     \u001B[38;5;28;01mreturn\u001B[39;00m \u001B[38;5;28;43mself\u001B[39;49m\u001B[38;5;241;43m.\u001B[39;49m\u001B[43m_engine\u001B[49m\u001B[38;5;241;43m.\u001B[39;49m\u001B[43mget_loc\u001B[49m\u001B[43m(\u001B[49m\u001B[43mcasted_key\u001B[49m\u001B[43m)\u001B[49m\n\u001B[0;32m   3806\u001B[0m \u001B[38;5;28;01mexcept\u001B[39;00m \u001B[38;5;167;01mKeyError\u001B[39;00m \u001B[38;5;28;01mas\u001B[39;00m err:\n",
      "File \u001B[1;32mindex.pyx:167\u001B[0m, in \u001B[0;36mpandas._libs.index.IndexEngine.get_loc\u001B[1;34m()\u001B[0m\n",
      "File \u001B[1;32mindex.pyx:196\u001B[0m, in \u001B[0;36mpandas._libs.index.IndexEngine.get_loc\u001B[1;34m()\u001B[0m\n",
      "File \u001B[1;32mpandas\\\\_libs\\\\hashtable_class_helper.pxi:7081\u001B[0m, in \u001B[0;36mpandas._libs.hashtable.PyObjectHashTable.get_item\u001B[1;34m()\u001B[0m\n",
      "File \u001B[1;32mpandas\\\\_libs\\\\hashtable_class_helper.pxi:7089\u001B[0m, in \u001B[0;36mpandas._libs.hashtable.PyObjectHashTable.get_item\u001B[1;34m()\u001B[0m\n",
      "\u001B[1;31mKeyError\u001B[0m: 'NO REPORTA'",
      "\nThe above exception was the direct cause of the following exception:\n",
      "\u001B[1;31mKeyError\u001B[0m                                  Traceback (most recent call last)",
      "Cell \u001B[1;32mIn[22], line 5\u001B[0m\n\u001B[0;32m      2\u001B[0m \u001B[38;5;28mprint\u001B[39m(\u001B[38;5;124m\"\u001B[39m\u001B[38;5;124mTotal de categorias: \u001B[39m\u001B[38;5;124m\"\u001B[39m,df\u001B[38;5;241m.\u001B[39mMOVIL_VICTIMA\u001B[38;5;241m.\u001B[39munique()\u001B[38;5;241m.\u001B[39mshape)\n\u001B[0;32m      3\u001B[0m \u001B[38;5;28mprint\u001B[39m(\u001B[38;5;124m\"\u001B[39m\u001B[38;5;124mRecuento de valores: \u001B[39m\u001B[38;5;124m\"\u001B[39m, df\u001B[38;5;241m.\u001B[39mMOVIL_VICTIMA\u001B[38;5;241m.\u001B[39mvalue_counts()\u001B[38;5;241m.\u001B[39msum())\n\u001B[1;32m----> 5\u001B[0m \u001B[38;5;28mprint\u001B[39m(\u001B[38;5;124m\"\u001B[39m\u001B[38;5;124mValores nulos o no reportados:\u001B[39m\u001B[38;5;124m\"\u001B[39m, \u001B[43mdf\u001B[49m\u001B[38;5;241;43m.\u001B[39;49m\u001B[43mMOVIL_VICTIMA\u001B[49m\u001B[38;5;241;43m.\u001B[39;49m\u001B[43mvalue_counts\u001B[49m\u001B[43m(\u001B[49m\u001B[43m)\u001B[49m\u001B[43m[\u001B[49m\u001B[38;5;124;43m'\u001B[39;49m\u001B[38;5;124;43mNO REPORTA\u001B[39;49m\u001B[38;5;124;43m'\u001B[39;49m\u001B[43m]\u001B[49m)\n\u001B[0;32m      7\u001B[0m \u001B[38;5;28mprint\u001B[39m(\u001B[38;5;124m\"\u001B[39m\u001B[38;5;124m/////////////////////////////////////\u001B[39m\u001B[38;5;124m\"\u001B[39m)\n\u001B[0;32m      9\u001B[0m \u001B[38;5;28mprint\u001B[39m(\u001B[38;5;124mf\u001B[39m\u001B[38;5;124m\"\u001B[39m\u001B[38;5;124mCategorias y recuento: \u001B[39m\u001B[38;5;130;01m\\n\u001B[39;00m\u001B[38;5;124m\"\u001B[39m,df\u001B[38;5;241m.\u001B[39mMOVIL_AGRESOR\u001B[38;5;241m.\u001B[39mvalue_counts())\n",
      "File \u001B[1;32m~\\AppData\\Local\\Programs\\Python\\Python312\\Lib\\site-packages\\pandas\\core\\series.py:1121\u001B[0m, in \u001B[0;36mSeries.__getitem__\u001B[1;34m(self, key)\u001B[0m\n\u001B[0;32m   1118\u001B[0m     \u001B[38;5;28;01mreturn\u001B[39;00m \u001B[38;5;28mself\u001B[39m\u001B[38;5;241m.\u001B[39m_values[key]\n\u001B[0;32m   1120\u001B[0m \u001B[38;5;28;01melif\u001B[39;00m key_is_scalar:\n\u001B[1;32m-> 1121\u001B[0m     \u001B[38;5;28;01mreturn\u001B[39;00m \u001B[38;5;28;43mself\u001B[39;49m\u001B[38;5;241;43m.\u001B[39;49m\u001B[43m_get_value\u001B[49m\u001B[43m(\u001B[49m\u001B[43mkey\u001B[49m\u001B[43m)\u001B[49m\n\u001B[0;32m   1123\u001B[0m \u001B[38;5;66;03m# Convert generator to list before going through hashable part\u001B[39;00m\n\u001B[0;32m   1124\u001B[0m \u001B[38;5;66;03m# (We will iterate through the generator there to check for slices)\u001B[39;00m\n\u001B[0;32m   1125\u001B[0m \u001B[38;5;28;01mif\u001B[39;00m is_iterator(key):\n",
      "File \u001B[1;32m~\\AppData\\Local\\Programs\\Python\\Python312\\Lib\\site-packages\\pandas\\core\\series.py:1237\u001B[0m, in \u001B[0;36mSeries._get_value\u001B[1;34m(self, label, takeable)\u001B[0m\n\u001B[0;32m   1234\u001B[0m     \u001B[38;5;28;01mreturn\u001B[39;00m \u001B[38;5;28mself\u001B[39m\u001B[38;5;241m.\u001B[39m_values[label]\n\u001B[0;32m   1236\u001B[0m \u001B[38;5;66;03m# Similar to Index.get_value, but we do not fall back to positional\u001B[39;00m\n\u001B[1;32m-> 1237\u001B[0m loc \u001B[38;5;241m=\u001B[39m \u001B[38;5;28;43mself\u001B[39;49m\u001B[38;5;241;43m.\u001B[39;49m\u001B[43mindex\u001B[49m\u001B[38;5;241;43m.\u001B[39;49m\u001B[43mget_loc\u001B[49m\u001B[43m(\u001B[49m\u001B[43mlabel\u001B[49m\u001B[43m)\u001B[49m\n\u001B[0;32m   1239\u001B[0m \u001B[38;5;28;01mif\u001B[39;00m is_integer(loc):\n\u001B[0;32m   1240\u001B[0m     \u001B[38;5;28;01mreturn\u001B[39;00m \u001B[38;5;28mself\u001B[39m\u001B[38;5;241m.\u001B[39m_values[loc]\n",
      "File \u001B[1;32m~\\AppData\\Local\\Programs\\Python\\Python312\\Lib\\site-packages\\pandas\\core\\indexes\\base.py:3812\u001B[0m, in \u001B[0;36mIndex.get_loc\u001B[1;34m(self, key)\u001B[0m\n\u001B[0;32m   3807\u001B[0m     \u001B[38;5;28;01mif\u001B[39;00m \u001B[38;5;28misinstance\u001B[39m(casted_key, \u001B[38;5;28mslice\u001B[39m) \u001B[38;5;129;01mor\u001B[39;00m (\n\u001B[0;32m   3808\u001B[0m         \u001B[38;5;28misinstance\u001B[39m(casted_key, abc\u001B[38;5;241m.\u001B[39mIterable)\n\u001B[0;32m   3809\u001B[0m         \u001B[38;5;129;01mand\u001B[39;00m \u001B[38;5;28many\u001B[39m(\u001B[38;5;28misinstance\u001B[39m(x, \u001B[38;5;28mslice\u001B[39m) \u001B[38;5;28;01mfor\u001B[39;00m x \u001B[38;5;129;01min\u001B[39;00m casted_key)\n\u001B[0;32m   3810\u001B[0m     ):\n\u001B[0;32m   3811\u001B[0m         \u001B[38;5;28;01mraise\u001B[39;00m InvalidIndexError(key)\n\u001B[1;32m-> 3812\u001B[0m     \u001B[38;5;28;01mraise\u001B[39;00m \u001B[38;5;167;01mKeyError\u001B[39;00m(key) \u001B[38;5;28;01mfrom\u001B[39;00m \u001B[38;5;21;01merr\u001B[39;00m\n\u001B[0;32m   3813\u001B[0m \u001B[38;5;28;01mexcept\u001B[39;00m \u001B[38;5;167;01mTypeError\u001B[39;00m:\n\u001B[0;32m   3814\u001B[0m     \u001B[38;5;66;03m# If we have a listlike key, _check_indexing_error will raise\u001B[39;00m\n\u001B[0;32m   3815\u001B[0m     \u001B[38;5;66;03m#  InvalidIndexError. Otherwise we fall through and re-raise\u001B[39;00m\n\u001B[0;32m   3816\u001B[0m     \u001B[38;5;66;03m#  the TypeError.\u001B[39;00m\n\u001B[0;32m   3817\u001B[0m     \u001B[38;5;28mself\u001B[39m\u001B[38;5;241m.\u001B[39m_check_indexing_error(key)\n",
      "\u001B[1;31mKeyError\u001B[0m: 'NO REPORTA'"
     ]
    }
   ],
   "execution_count": 22
  },
  {
   "metadata": {},
   "cell_type": "markdown",
   "source": "FEATURE ENGINEERING\n",
   "id": "c59a1e94600ce8ca"
  },
  {
   "metadata": {},
   "cell_type": "markdown",
   "source": "///////////////////// ELIMINACION COLUMNAS ////////////////////////////////////",
   "id": "ceafe12e65007944"
  },
  {
   "metadata": {},
   "cell_type": "markdown",
   "source": [
    "Se eliminan las columnas ESTADO_CIVIL_PERSONA, CURSO_DE_VIDA, GENERO, ZONA por falta de aportar informacion relevante para el modelo\n",
    "y se elimina la columna CONDUCTA por redundancia con la columna DESCRIPCION_CONDUCTA y una discrepancia en los datos\n",
    "\n",
    "Tambien se elimina NOM_COMUNA por poder obtenerse la misma informacion de la columna BARRIOS_HECHO"
   ],
   "id": "150e923ff224b8fd"
  },
  {
   "metadata": {
    "ExecuteTime": {
     "end_time": "2024-08-27T17:17:29.638237Z",
     "start_time": "2024-08-27T17:17:29.634908Z"
    }
   },
   "cell_type": "code",
   "source": "df_normalizada = df",
   "id": "7df4c0cebd588774",
   "outputs": [],
   "execution_count": 16
  },
  {
   "metadata": {
    "ExecuteTime": {
     "end_time": "2024-08-27T17:17:29.671375Z",
     "start_time": "2024-08-27T17:17:29.657066Z"
    }
   },
   "cell_type": "code",
   "source": [
    "\n",
    "\n",
    "df_normalizada = df_normalizada.drop(['ESTADO_CIVIL_PERSONA', 'CURSO_DE_VIDA', 'GENERO', 'CONDUCTA', 'ZONA', 'NOM_COMUNA', 'ORDEN'], axis=1)"
   ],
   "id": "872f130150f753dd",
   "outputs": [],
   "execution_count": 17
  },
  {
   "metadata": {},
   "cell_type": "markdown",
   "source": "///////////////////// RENOMBRAR COLUMNAS ////////////////////////////////////",
   "id": "f5d1775ebb17b0eb"
  },
  {
   "metadata": {
    "ExecuteTime": {
     "end_time": "2024-08-27T17:17:29.700608Z",
     "start_time": "2024-08-27T17:17:29.689895Z"
    }
   },
   "cell_type": "code",
   "source": "df_normalizada = df_normalizada.rename(columns={'CLASIFICACIONES DELITO': 'CLASIFICACIONES_DELITO'})",
   "id": "dd0e4b76ea46713f",
   "outputs": [],
   "execution_count": 18
  },
  {
   "metadata": {},
   "cell_type": "markdown",
   "source": "///////////////////// TRANSFORMACION DATOS Y COLUMNAS //////////////////////////////////",
   "id": "75541206c5df98e"
  },
  {
   "metadata": {},
   "cell_type": "markdown",
   "source": [
    "Se tranforman las columnas ANO, MES, DIA, DIA_SEMANA a una columna llamada FECHA_HECHO con el formato YYYY-MM-DD\n",
    "\n",
    "Primero se transforma el mes a su equivalente numerico mapeando cada uno de los meses a un numero del 1 al 12\n",
    "\n",
    "Luego se crea la columna FECHA_TEMP concatenando las columnas ANO, MES_NUM y DIA y se convierte a tipo datetime en una nueva columna llamada FECHA_HECHO\n",
    "\n",
    "Y se eliminan las columnas ANO, MES, DIA y FECHA_TEMP\n",
    "\n",
    "En base a FECHA_HECHO se sacan las columnas numericas de ANO, MES y DIA para el posterior entrenamiento"
   ],
   "id": "3fe029e7efc74d7a"
  },
  {
   "metadata": {
    "ExecuteTime": {
     "end_time": "2024-08-27T17:17:29.727144Z",
     "start_time": "2024-08-27T17:17:29.714858Z"
    }
   },
   "cell_type": "code",
   "source": [
    "mes_mapping = {\n",
    "    \"01. ENERO\": 1, \"02. FEBRERO\": 2, \"03. MARZO\": 3, \"04. ABRIL\": 4,\n",
    "    \"05. MAYO\": 5, \"06. JUNIO\": 6, \"07. JULIO\": 7, \"08. AGOSTO\": 8,\n",
    "    \"09. SEPTIEMBRE\": 9, \"10. OCTUBRE\": 10, \"11. NOVIEMBRE\": 11, \"12. DICIEMBRE\": 12\n",
    "}\n",
    "df_normalizada['MES_NUM'] = df['MES'].map(mes_mapping)"
   ],
   "id": "edb736ce7176fd59",
   "outputs": [],
   "execution_count": 19
  },
  {
   "metadata": {
    "ExecuteTime": {
     "end_time": "2024-08-27T17:17:29.866313Z",
     "start_time": "2024-08-27T17:17:29.745465Z"
    }
   },
   "cell_type": "code",
   "source": [
    "df_normalizada['FECHA_TEMP'] = pd.to_datetime(df_normalizada['ANO'].astype(str) + '-' + df_normalizada['MES_NUM'].astype(str) + '-' + df_normalizada['DIA'].astype(str))\n",
    "\n",
    "df_normalizada['FECHA_HECHO'] = pd.to_datetime(df_normalizada['FECHA_TEMP'], format='%Y-%m-%d', errors='coerce')\n"
   ],
   "id": "130a71a1c3ef56b",
   "outputs": [],
   "execution_count": 20
  },
  {
   "metadata": {
    "ExecuteTime": {
     "end_time": "2024-08-27T17:17:29.898149Z",
     "start_time": "2024-08-27T17:17:29.881117Z"
    }
   },
   "cell_type": "code",
   "source": "df_normalizada = df_normalizada.drop(['ANO', 'MES', 'DIA', 'FECHA_TEMP', 'MES_NUM'], axis=1)",
   "id": "6d72c7904f0eb408",
   "outputs": [],
   "execution_count": 21
  },
  {
   "metadata": {
    "ExecuteTime": {
     "end_time": "2024-08-27T17:17:29.926442Z",
     "start_time": "2024-08-27T17:17:29.912955Z"
    }
   },
   "cell_type": "code",
   "source": [
    "df_normalizada['ANO'] = df_normalizada['FECHA_HECHO'].dt.year\n",
    "df_normalizada['MES'] = df_normalizada['FECHA_HECHO'].dt.month\n",
    "df_normalizada['DIA'] = df_normalizada['FECHA_HECHO'].dt.day"
   ],
   "id": "7fb653eaa63e9aa1",
   "outputs": [],
   "execution_count": 22
  },
  {
   "metadata": {
    "ExecuteTime": {
     "end_time": "2024-08-27T17:17:29.956839Z",
     "start_time": "2024-08-27T17:17:29.939923Z"
    }
   },
   "cell_type": "code",
   "source": "df_normalizada = df_normalizada.drop(['FECHA_HECHO'], axis=1)",
   "id": "d51dc67b7502b87a",
   "outputs": [],
   "execution_count": 23
  },
  {
   "metadata": {},
   "cell_type": "markdown",
   "source": [
    "Se tranforman las columnas LATITUD y LONGITUD a tipo float64 y se imputan los valores \"xx.xxxx\" y \"yy.yyyy\" que representan valores nulos con la media \n",
    "Y se aplica Min-Max Scaling a las columnas 'LATITUD' y 'LONGITUD' para normalizar los datos"
   ],
   "id": "989813ae8cc93767"
  },
  {
   "metadata": {
    "ExecuteTime": {
     "end_time": "2024-08-27T17:17:30.173157Z",
     "start_time": "2024-08-27T17:17:29.972865Z"
    }
   },
   "cell_type": "code",
   "source": [
    "# Se convierten las columnas LATITUD y LONGITUD a tipo float64\n",
    "df_normalizada['LATITUD'] = pd.to_numeric(df_normalizada['LATITUD'].str.replace(',', ''), errors='coerce')\n",
    "df_normalizada['LONGITUD'] = pd.to_numeric(df_normalizada['LONGITUD'].str.replace(',', ''), errors='coerce')\n",
    "\n",
    "# Calcular la media de cada columna (ignorando los NaN)\n",
    "latitud_mean = df_normalizada['LATITUD'].mean()\n",
    "longitud_mean = df_normalizada['LONGITUD'].mean()\n",
    "\n",
    "# Imputar los valores NaN con la media\n",
    "df_normalizada['LATITUD'] = df_normalizada['LATITUD'].fillna(latitud_mean)\n",
    "df_normalizada['LONGITUD'] = df_normalizada['LONGITUD'].fillna(longitud_mean)"
   ],
   "id": "7d1a785a8f483634",
   "outputs": [],
   "execution_count": 24
  },
  {
   "metadata": {
    "ExecuteTime": {
     "end_time": "2024-08-27T17:17:30.199699Z",
     "start_time": "2024-08-27T17:17:30.187695Z"
    }
   },
   "cell_type": "code",
   "source": [
    "# Inicializar el escalador\n",
    "scaler = MinMaxScaler()\n",
    "\n",
    "# Aplicar Min-Max Scaling a las columnas 'LATITUD' y 'LONGITUD'\n",
    "df_normalizada[['LATITUD', 'LONGITUD']] = scaler.fit_transform(df_normalizada[['LATITUD', 'LONGITUD']])"
   ],
   "id": "924ff961aed70b6a",
   "outputs": [],
   "execution_count": 25
  },
  {
   "metadata": {},
   "cell_type": "markdown",
   "source": "///////////////////// NORMALIZACION DE DATOS ////////////////////////////////////",
   "id": "bdf690b51a9e910b"
  },
  {
   "metadata": {},
   "cell_type": "markdown",
   "source": "Se aplica one-hot encoding a las columnas ARMAS_MEDIOS, BARRIOS_HECHO, DIA_SEMANA, DESCRIPCION_CONDUCTA, CLASIFICACIONES DELITO, MOVIL_AGRESOR, MOVIL_VICTIMA",
   "id": "fce0f5eb15210a66"
  },
  {
   "metadata": {
    "ExecuteTime": {
     "end_time": "2024-08-27T17:17:30.334085Z",
     "start_time": "2024-08-27T17:17:30.215106Z"
    }
   },
   "cell_type": "code",
   "source": [
    "df_normalizada = pd.get_dummies(df_normalizada, columns=[\n",
    "    'ARMAS_MEDIOS',\n",
    "    'BARRIOS_HECHO',\n",
    "    'DIA_SEMANA',\n",
    "    'DESCRIPCION_CONDUCTA',\n",
    "    'CLASIFICACIONES_DELITO',\n",
    "    'MOVIL_AGRESOR',\n",
    "    'MOVIL_VICTIMA'\n",
    "], drop_first=True)\n",
    "\n"
   ],
   "id": "c788f59ced8d6ea1",
   "outputs": [],
   "execution_count": 26
  },
  {
   "metadata": {},
   "cell_type": "markdown",
   "source": "EDA TABLA NORMALIZADA",
   "id": "a21e368677b20f1b"
  },
  {
   "metadata": {
    "ExecuteTime": {
     "end_time": "2024-08-27T17:17:30.375689Z",
     "start_time": "2024-08-27T17:17:30.354782Z"
    }
   },
   "cell_type": "code",
   "source": "df_normalizada.info()",
   "id": "82d6f0d501b47f4",
   "outputs": [
    {
     "name": "stdout",
     "output_type": "stream",
     "text": [
      "<class 'pandas.core.frame.DataFrame'>\n",
      "RangeIndex: 135076 entries, 0 to 135075\n",
      "Columns: 607 entries, LATITUD to MOVIL_VICTIMA_PASAJERO VEHICULO\n",
      "dtypes: bool(602), float64(2), int32(3)\n",
      "memory usage: 81.2 MB\n"
     ]
    }
   ],
   "execution_count": 27
  },
  {
   "metadata": {
    "ExecuteTime": {
     "end_time": "2024-08-27T17:22:47.196867Z",
     "start_time": "2024-08-27T17:22:47.183040Z"
    }
   },
   "cell_type": "code",
   "source": "df_normalizada.head()",
   "id": "f6aa9aaab54c9b70",
   "outputs": [
    {
     "data": {
      "text/plain": [
       "        LATITUD  LONGITUD   ANO  MES  DIA  ARMAS_MEDIOS_AGUA CALIENTE  \\\n",
       "0  1.002491e-07   1.00000  2010    1    1                       False   \n",
       "1  9.955130e-08   1.00000  2010    1    1                       False   \n",
       "2  9.955130e-08   1.00000  2010    1    1                       False   \n",
       "3  9.998071e-09   0.99999  2010    1    1                       False   \n",
       "4  1.002491e-07   1.00000  2010    1    1                       False   \n",
       "\n",
       "   ARMAS_MEDIOS_ALUCINOGENOS  ARMAS_MEDIOS_ARMA BLANCA / CORTOPUNZANTE  \\\n",
       "0                      False                                      True   \n",
       "1                      False                                      True   \n",
       "2                      False                                      True   \n",
       "3                      False                                      True   \n",
       "4                      False                                      True   \n",
       "\n",
       "   ARMAS_MEDIOS_ARMA DE FUEGO  ARMAS_MEDIOS_ARMA TRAUMATICA  ...  \\\n",
       "0                       False                         False  ...   \n",
       "1                       False                         False  ...   \n",
       "2                       False                         False  ...   \n",
       "3                       False                         False  ...   \n",
       "4                       False                         False  ...   \n",
       "\n",
       "   MOVIL_VICTIMA_PASAJERO AERONAVE  MOVIL_VICTIMA_PASAJERO BARCO  \\\n",
       "0                            False                         False   \n",
       "1                            False                         False   \n",
       "2                            False                         False   \n",
       "3                            False                         False   \n",
       "4                            False                         False   \n",
       "\n",
       "   MOVIL_VICTIMA_PASAJERO BUS  MOVIL_VICTIMA_PASAJERO METRO  \\\n",
       "0                       False                         False   \n",
       "1                       False                         False   \n",
       "2                       False                         False   \n",
       "3                       False                         False   \n",
       "4                       False                         False   \n",
       "\n",
       "   MOVIL_VICTIMA_PASAJERO MOTOCICLETA  MOVIL_VICTIMA_PASAJERO TAXI  \\\n",
       "0                               False                        False   \n",
       "1                               False                        False   \n",
       "2                               False                        False   \n",
       "3                               False                        False   \n",
       "4                               False                        False   \n",
       "\n",
       "   MOVIL_VICTIMA_PASAJERO VEHICULO         BARRIO  TOTAL_INCIDENTES  \\\n",
       "0                            False   BUENOS AIRES               588   \n",
       "1                            False  CAMPO HERMOSO              2784   \n",
       "2                            False  CAMPO HERMOSO              2784   \n",
       "3                            False      COMUNEROS              2235   \n",
       "4                            False       GIRARDOT              2608   \n",
       "\n",
       "   CATEGORIA_SEGURIDAD  \n",
       "0       Alta seguridad  \n",
       "1   Moderada seguridad  \n",
       "2   Moderada seguridad  \n",
       "3   Moderada seguridad  \n",
       "4   Moderada seguridad  \n",
       "\n",
       "[5 rows x 610 columns]"
      ],
      "text/html": [
       "<div>\n",
       "<style scoped>\n",
       "    .dataframe tbody tr th:only-of-type {\n",
       "        vertical-align: middle;\n",
       "    }\n",
       "\n",
       "    .dataframe tbody tr th {\n",
       "        vertical-align: top;\n",
       "    }\n",
       "\n",
       "    .dataframe thead th {\n",
       "        text-align: right;\n",
       "    }\n",
       "</style>\n",
       "<table border=\"1\" class=\"dataframe\">\n",
       "  <thead>\n",
       "    <tr style=\"text-align: right;\">\n",
       "      <th></th>\n",
       "      <th>LATITUD</th>\n",
       "      <th>LONGITUD</th>\n",
       "      <th>ANO</th>\n",
       "      <th>MES</th>\n",
       "      <th>DIA</th>\n",
       "      <th>ARMAS_MEDIOS_AGUA CALIENTE</th>\n",
       "      <th>ARMAS_MEDIOS_ALUCINOGENOS</th>\n",
       "      <th>ARMAS_MEDIOS_ARMA BLANCA / CORTOPUNZANTE</th>\n",
       "      <th>ARMAS_MEDIOS_ARMA DE FUEGO</th>\n",
       "      <th>ARMAS_MEDIOS_ARMA TRAUMATICA</th>\n",
       "      <th>...</th>\n",
       "      <th>MOVIL_VICTIMA_PASAJERO AERONAVE</th>\n",
       "      <th>MOVIL_VICTIMA_PASAJERO BARCO</th>\n",
       "      <th>MOVIL_VICTIMA_PASAJERO BUS</th>\n",
       "      <th>MOVIL_VICTIMA_PASAJERO METRO</th>\n",
       "      <th>MOVIL_VICTIMA_PASAJERO MOTOCICLETA</th>\n",
       "      <th>MOVIL_VICTIMA_PASAJERO TAXI</th>\n",
       "      <th>MOVIL_VICTIMA_PASAJERO VEHICULO</th>\n",
       "      <th>BARRIO</th>\n",
       "      <th>TOTAL_INCIDENTES</th>\n",
       "      <th>CATEGORIA_SEGURIDAD</th>\n",
       "    </tr>\n",
       "  </thead>\n",
       "  <tbody>\n",
       "    <tr>\n",
       "      <th>0</th>\n",
       "      <td>1.002491e-07</td>\n",
       "      <td>1.00000</td>\n",
       "      <td>2010</td>\n",
       "      <td>1</td>\n",
       "      <td>1</td>\n",
       "      <td>False</td>\n",
       "      <td>False</td>\n",
       "      <td>True</td>\n",
       "      <td>False</td>\n",
       "      <td>False</td>\n",
       "      <td>...</td>\n",
       "      <td>False</td>\n",
       "      <td>False</td>\n",
       "      <td>False</td>\n",
       "      <td>False</td>\n",
       "      <td>False</td>\n",
       "      <td>False</td>\n",
       "      <td>False</td>\n",
       "      <td>BUENOS AIRES</td>\n",
       "      <td>588</td>\n",
       "      <td>Alta seguridad</td>\n",
       "    </tr>\n",
       "    <tr>\n",
       "      <th>1</th>\n",
       "      <td>9.955130e-08</td>\n",
       "      <td>1.00000</td>\n",
       "      <td>2010</td>\n",
       "      <td>1</td>\n",
       "      <td>1</td>\n",
       "      <td>False</td>\n",
       "      <td>False</td>\n",
       "      <td>True</td>\n",
       "      <td>False</td>\n",
       "      <td>False</td>\n",
       "      <td>...</td>\n",
       "      <td>False</td>\n",
       "      <td>False</td>\n",
       "      <td>False</td>\n",
       "      <td>False</td>\n",
       "      <td>False</td>\n",
       "      <td>False</td>\n",
       "      <td>False</td>\n",
       "      <td>CAMPO HERMOSO</td>\n",
       "      <td>2784</td>\n",
       "      <td>Moderada seguridad</td>\n",
       "    </tr>\n",
       "    <tr>\n",
       "      <th>2</th>\n",
       "      <td>9.955130e-08</td>\n",
       "      <td>1.00000</td>\n",
       "      <td>2010</td>\n",
       "      <td>1</td>\n",
       "      <td>1</td>\n",
       "      <td>False</td>\n",
       "      <td>False</td>\n",
       "      <td>True</td>\n",
       "      <td>False</td>\n",
       "      <td>False</td>\n",
       "      <td>...</td>\n",
       "      <td>False</td>\n",
       "      <td>False</td>\n",
       "      <td>False</td>\n",
       "      <td>False</td>\n",
       "      <td>False</td>\n",
       "      <td>False</td>\n",
       "      <td>False</td>\n",
       "      <td>CAMPO HERMOSO</td>\n",
       "      <td>2784</td>\n",
       "      <td>Moderada seguridad</td>\n",
       "    </tr>\n",
       "    <tr>\n",
       "      <th>3</th>\n",
       "      <td>9.998071e-09</td>\n",
       "      <td>0.99999</td>\n",
       "      <td>2010</td>\n",
       "      <td>1</td>\n",
       "      <td>1</td>\n",
       "      <td>False</td>\n",
       "      <td>False</td>\n",
       "      <td>True</td>\n",
       "      <td>False</td>\n",
       "      <td>False</td>\n",
       "      <td>...</td>\n",
       "      <td>False</td>\n",
       "      <td>False</td>\n",
       "      <td>False</td>\n",
       "      <td>False</td>\n",
       "      <td>False</td>\n",
       "      <td>False</td>\n",
       "      <td>False</td>\n",
       "      <td>COMUNEROS</td>\n",
       "      <td>2235</td>\n",
       "      <td>Moderada seguridad</td>\n",
       "    </tr>\n",
       "    <tr>\n",
       "      <th>4</th>\n",
       "      <td>1.002491e-07</td>\n",
       "      <td>1.00000</td>\n",
       "      <td>2010</td>\n",
       "      <td>1</td>\n",
       "      <td>1</td>\n",
       "      <td>False</td>\n",
       "      <td>False</td>\n",
       "      <td>True</td>\n",
       "      <td>False</td>\n",
       "      <td>False</td>\n",
       "      <td>...</td>\n",
       "      <td>False</td>\n",
       "      <td>False</td>\n",
       "      <td>False</td>\n",
       "      <td>False</td>\n",
       "      <td>False</td>\n",
       "      <td>False</td>\n",
       "      <td>False</td>\n",
       "      <td>GIRARDOT</td>\n",
       "      <td>2608</td>\n",
       "      <td>Moderada seguridad</td>\n",
       "    </tr>\n",
       "  </tbody>\n",
       "</table>\n",
       "<p>5 rows × 610 columns</p>\n",
       "</div>"
      ]
     },
     "execution_count": 39,
     "metadata": {},
     "output_type": "execute_result"
    }
   ],
   "execution_count": 39
  },
  {
   "metadata": {
    "ExecuteTime": {
     "end_time": "2024-08-27T17:20:54.762673Z",
     "start_time": "2024-08-27T17:20:54.754925Z"
    }
   },
   "cell_type": "code",
   "source": "df_normalizada.value_counts('CATEGORIA_SEGURIDAD')",
   "id": "5e7641f6cad617",
   "outputs": [
    {
     "data": {
      "text/plain": [
       "CATEGORIA_SEGURIDAD\n",
       "Moderada seguridad    35362\n",
       "Alta seguridad        34155\n",
       "Baja seguridad        31462\n",
       "Name: count, dtype: int64"
      ]
     },
     "execution_count": 36,
     "metadata": {},
     "output_type": "execute_result"
    }
   ],
   "execution_count": 36
  },
  {
   "metadata": {
    "ExecuteTime": {
     "end_time": "2024-08-27T18:42:03.726970Z",
     "start_time": "2024-08-27T18:42:03.712888Z"
    }
   },
   "cell_type": "code",
   "source": "df_normalizada.BARRIO.value_counts()",
   "id": "30d4d7012ce4a4b8",
   "outputs": [
    {
     "data": {
      "text/plain": [
       "BARRIO\n",
       "CENTRO                11199\n",
       "SAN FRANCISCO          5944\n",
       "CABECERA DEL LLANO     5794\n",
       "LA CONCORDIA           5078\n",
       "PROVENZA               3447\n",
       "                      ...  \n",
       "CAMPO GALAN               1\n",
       "EL CENTRO                 1\n",
       "EL PROGRESO               1\n",
       "VILLABEL                  1\n",
       "CAMPESTRE                 1\n",
       "Name: count, Length: 483, dtype: int64"
      ]
     },
     "execution_count": 57,
     "metadata": {},
     "output_type": "execute_result"
    }
   ],
   "execution_count": 57
  },
  {
   "metadata": {
    "ExecuteTime": {
     "end_time": "2024-08-27T17:20:48.822984Z",
     "start_time": "2024-08-27T17:20:48.812946Z"
    }
   },
   "cell_type": "code",
   "source": "df_normalizada['TOTAL_INCIDENTES'].describe()\n",
   "id": "8ff48870e770a719",
   "outputs": [
    {
     "data": {
      "text/plain": [
       "count    135076.000000\n",
       "mean       2685.199754\n",
       "std        3064.885586\n",
       "min           1.000000\n",
       "25%         536.000000\n",
       "50%        1698.000000\n",
       "75%        3441.000000\n",
       "max       11199.000000\n",
       "Name: TOTAL_INCIDENTES, dtype: float64"
      ]
     },
     "execution_count": 35,
     "metadata": {},
     "output_type": "execute_result"
    }
   ],
   "execution_count": 35
  },
  {
   "metadata": {
    "ExecuteTime": {
     "end_time": "2024-08-27T18:40:27.775590Z",
     "start_time": "2024-08-27T18:40:27.767398Z"
    }
   },
   "cell_type": "code",
   "source": "df_normalizada['TOTAL_INCIDENTES'].value_counts()",
   "id": "3475c20363f88afe",
   "outputs": [
    {
     "data": {
      "text/plain": [
       "TOTAL_INCIDENTES\n",
       "11199    11199\n",
       "5944      5944\n",
       "5794      5794\n",
       "5078      5078\n",
       "3447      3447\n",
       "         ...  \n",
       "29          29\n",
       "14          28\n",
       "26          26\n",
       "6           24\n",
       "22          22\n",
       "Name: count, Length: 222, dtype: int64"
      ]
     },
     "execution_count": 56,
     "metadata": {},
     "output_type": "execute_result"
    }
   ],
   "execution_count": 56
  },
  {
   "metadata": {},
   "cell_type": "markdown",
   "source": "FEATURE ENGINEERING PARA LA TABLA NORMALIZADA",
   "id": "7a0dfeb56172a8c4"
  },
  {
   "metadata": {
    "ExecuteTime": {
     "end_time": "2024-08-27T17:20:05.838305Z",
     "start_time": "2024-08-27T17:20:05.615967Z"
    }
   },
   "cell_type": "code",
   "source": [
    "barrios_columns = df_normalizada.filter(like='BARRIOS_HECHO_').columns\n",
    "df_normalizada['BARRIO'] = df_normalizada[barrios_columns].idxmax(axis=1).str.replace('BARRIOS_HECHO_', '')\n",
    "\n",
    "\n",
    "# Contar el número de incidentes por barrio\n",
    "incidentes_por_barrio = df_normalizada['BARRIO'].value_counts().reset_index()\n",
    "incidentes_por_barrio.columns = ['BARRIO', 'TOTAL_INCIDENTES']\n",
    "\n",
    "# Unir este conteo de incidentes con el DataFrame original\n",
    "df_normalizada = df_normalizada.merge(incidentes_por_barrio, on='BARRIO', how='left')\n",
    "\n",
    "# Crear la columna CATEGORIA_SEGURIDAD basada en los umbrales de incidentes\n",
    "df_normalizada['CATEGORIA_SEGURIDAD'] = pd.cut(df_normalizada['TOTAL_INCIDENTES'],\n",
    "                                               bins=[536, 1698, 3441, float('inf')],\n",
    "                                               labels=['Alta seguridad', 'Moderada seguridad', 'Baja seguridad'])\n",
    "\n",
    "# Verificar los primeros resultados\n",
    "df_normalizada[['BARRIO', 'TOTAL_INCIDENTES', 'CATEGORIA_SEGURIDAD']].head()\n",
    "\n",
    "\n",
    "\n",
    "\n"
   ],
   "id": "d22fffb72c81dee",
   "outputs": [
    {
     "data": {
      "text/plain": [
       "          BARRIO  TOTAL_INCIDENTES CATEGORIA_SEGURIDAD\n",
       "0   BUENOS AIRES               588      Alta seguridad\n",
       "1  CAMPO HERMOSO              2784  Moderada seguridad\n",
       "2  CAMPO HERMOSO              2784  Moderada seguridad\n",
       "3      COMUNEROS              2235  Moderada seguridad\n",
       "4       GIRARDOT              2608  Moderada seguridad"
      ],
      "text/html": [
       "<div>\n",
       "<style scoped>\n",
       "    .dataframe tbody tr th:only-of-type {\n",
       "        vertical-align: middle;\n",
       "    }\n",
       "\n",
       "    .dataframe tbody tr th {\n",
       "        vertical-align: top;\n",
       "    }\n",
       "\n",
       "    .dataframe thead th {\n",
       "        text-align: right;\n",
       "    }\n",
       "</style>\n",
       "<table border=\"1\" class=\"dataframe\">\n",
       "  <thead>\n",
       "    <tr style=\"text-align: right;\">\n",
       "      <th></th>\n",
       "      <th>BARRIO</th>\n",
       "      <th>TOTAL_INCIDENTES</th>\n",
       "      <th>CATEGORIA_SEGURIDAD</th>\n",
       "    </tr>\n",
       "  </thead>\n",
       "  <tbody>\n",
       "    <tr>\n",
       "      <th>0</th>\n",
       "      <td>BUENOS AIRES</td>\n",
       "      <td>588</td>\n",
       "      <td>Alta seguridad</td>\n",
       "    </tr>\n",
       "    <tr>\n",
       "      <th>1</th>\n",
       "      <td>CAMPO HERMOSO</td>\n",
       "      <td>2784</td>\n",
       "      <td>Moderada seguridad</td>\n",
       "    </tr>\n",
       "    <tr>\n",
       "      <th>2</th>\n",
       "      <td>CAMPO HERMOSO</td>\n",
       "      <td>2784</td>\n",
       "      <td>Moderada seguridad</td>\n",
       "    </tr>\n",
       "    <tr>\n",
       "      <th>3</th>\n",
       "      <td>COMUNEROS</td>\n",
       "      <td>2235</td>\n",
       "      <td>Moderada seguridad</td>\n",
       "    </tr>\n",
       "    <tr>\n",
       "      <th>4</th>\n",
       "      <td>GIRARDOT</td>\n",
       "      <td>2608</td>\n",
       "      <td>Moderada seguridad</td>\n",
       "    </tr>\n",
       "  </tbody>\n",
       "</table>\n",
       "</div>"
      ]
     },
     "execution_count": 33,
     "metadata": {},
     "output_type": "execute_result"
    }
   ],
   "execution_count": 33
  },
  {
   "metadata": {
    "ExecuteTime": {
     "end_time": "2024-08-27T18:49:36.948163Z",
     "start_time": "2024-08-27T18:49:36.758345Z"
    }
   },
   "cell_type": "code",
   "source": "df_normalizada.TOTAL_INCIDENTES.plot.hist(bins=30, edgecolor='white', linewidth=1.2)",
   "id": "7aa46be60695a28e",
   "outputs": [
    {
     "data": {
      "text/plain": [
       "<Axes: ylabel='Frequency'>"
      ]
     },
     "execution_count": 63,
     "metadata": {},
     "output_type": "execute_result"
    },
    {
     "data": {
      "text/plain": [
       "<Figure size 640x480 with 1 Axes>"
      ],
      "image/png": "[encoded data removed]"
     },
     "metadata": {},
     "output_type": "display_data"
    }
   ],
   "execution_count": 63
  }
 ],
 "metadata": {
  "kernelspec": {
   "display_name": "Python 3",
   "language": "python",
   "name": "python3"
  },
  "language_info": {
   "codemirror_mode": {
    "name": "ipython",
    "version": 2
   },
   "file_extension": ".py",
   "mimetype": "text/x-python",
   "name": "python",
   "nbconvert_exporter": "python",
   "pygments_lexer": "ipython2",
   "version": "2.7.6"
  }
 },
 "nbformat": 4,
 "nbformat_minor": 5
}
