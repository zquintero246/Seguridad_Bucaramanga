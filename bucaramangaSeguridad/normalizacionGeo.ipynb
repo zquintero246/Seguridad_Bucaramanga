{
 "cells": [
  {
   "metadata": {},
   "cell_type": "markdown",
   "source": "LIBRERIAS A USAR",
   "id": "753caad9e0cba243"
  },
  {
   "metadata": {
    "ExecuteTime": {
     "end_time": "2024-08-25T03:28:27.043878Z",
     "start_time": "2024-08-25T03:28:26.892949Z"
    }
   },
   "cell_type": "code",
   "source": [
    "\n",
    "# Pandas para manejo de datos\n",
    "import pandas as pd\n",
    "\n",
    "\n",
    "# MatplotLib para grafos\n",
    "import matplotlib.pyplot as plt\n",
    "\n",
    "# Seaborn para grafos\n",
    "import seaborn as sns\n",
    "\n",
    "# Numpy para manejo de datos\n",
    "import numpy as np"
   ],
   "id": "fbc121e30a2defb3",
   "outputs": [],
   "execution_count": 86
  },
  {
   "metadata": {},
   "cell_type": "markdown",
   "source": "CARGAR DATOS",
   "id": "39ec04f42db76971"
  },
  {
   "metadata": {
    "ExecuteTime": {
     "end_time": "2024-08-25T01:53:34.258926Z",
     "start_time": "2024-08-25T01:49:30.944285Z"
    }
   },
   "cell_type": "code",
   "source": [
    "        # Url de los datos \n",
    "url = \"https://drive.google.com/uc?id=1RoSzovZx4l6CixdVfJTt527_WfCFqPO4&export=download\"\n",
    "\n",
    "\n",
    "# Convertir a DataFrame con pandas\n",
    "df = pd.read_csv(url)\n"
   ],
   "id": "b531bdc199f83042",
   "outputs": [],
   "execution_count": 24
  },
  {
   "metadata": {},
   "cell_type": "markdown",
   "source": "ANALISIS EXPLORATORIO DE DATOS",
   "id": "ec9b0de3bb1edca3"
  },
  {
   "metadata": {},
   "cell_type": "markdown",
   "source": "",
   "id": "911ba4428932a75e"
  },
  {
   "metadata": {
    "ExecuteTime": {
     "end_time": "2024-08-25T03:00:07.068313Z",
     "start_time": "2024-08-25T03:00:07.016662Z"
    }
   },
   "cell_type": "code",
   "source": [
    "\n",
    "# Mostra el tipo de dato de cada columna\n",
    "df.info()\n"
   ],
   "id": "dd49ac42d01dc35b",
   "outputs": [
    {
     "name": "stdout",
     "output_type": "stream",
     "text": [
      "<class 'pandas.core.frame.DataFrame'>\n",
      "RangeIndex: 135076 entries, 0 to 135075\n",
      "Data columns (total 15 columns):\n",
      " #   Column                  Non-Null Count   Dtype \n",
      "---  ------                  --------------   ----- \n",
      " 0   ORDEN                   135076 non-null  int64 \n",
      " 1   ARMAS_MEDIOS            132963 non-null  object\n",
      " 2   BARRIOS_HECHO           135076 non-null  object\n",
      " 3   LATITUD                 135076 non-null  object\n",
      " 4   LONGITUD                135076 non-null  object\n",
      " 5   ZONA                    132887 non-null  object\n",
      " 6   NOM_COMUNA              135076 non-null  object\n",
      " 7   ANO                     135076 non-null  int64 \n",
      " 8   MES                     135076 non-null  object\n",
      " 9   DIA                     135076 non-null  int64 \n",
      " 10  DIA_SEMANA              135076 non-null  object\n",
      " 11  DESCRIPCION_CONDUCTA    135064 non-null  object\n",
      " 12  CLASIFICACIONES_DELITO  135064 non-null  object\n",
      " 13  MOVIL_AGRESOR           134642 non-null  object\n",
      " 14  MOVIL_VICTIMA           134195 non-null  object\n",
      "dtypes: int64(3), object(12)\n",
      "memory usage: 15.5+ MB\n"
     ]
    }
   ],
   "execution_count": 76
  },
  {
   "metadata": {
    "ExecuteTime": {
     "end_time": "2024-08-25T02:26:52.451060Z",
     "start_time": "2024-08-25T02:26:52.440450Z"
    }
   },
   "cell_type": "code",
   "source": [
    "# Mostrar las primeras filas del DataFrame\n",
    "df.head()\n"
   ],
   "id": "a84276137eab4ba5",
   "outputs": [
    {
     "data": {
      "text/plain": [
       "   ORDEN                 ARMAS_MEDIOS  BARRIOS_HECHO        LATITUD  \\\n",
       "0      1  ARMA BLANCA / CORTOPUNZANTE   BUENOS AIRES  7,170,557,382   \n",
       "1      2  ARMA BLANCA / CORTOPUNZANTE  CAMPO HERMOSO  7,120,645,358   \n",
       "2      3  ARMA BLANCA / CORTOPUNZANTE  CAMPO HERMOSO  7,120,645,358   \n",
       "3      4  ARMA BLANCA / CORTOPUNZANTE      COMUNEROS    715,135,927   \n",
       "4      5  ARMA BLANCA / CORTOPUNZANTE       GIRARDOT  7,170,557,382   \n",
       "\n",
       "          LONGITUD    ZONA         NOM_COMUNA   ANO        MES  DIA  \\\n",
       "0      -73,135,108  URBANA      14. MORRORICO  2010  01. ENERO    1   \n",
       "1       -7,312,605  URBANA  05. GARCÍA ROVIRA  2010  01. ENERO    1   \n",
       "2       -7,312,605  URBANA  05. GARCÍA ROVIRA  2010  01. ENERO    1   \n",
       "3  -73,145,704,583  URBANA  03. SAN FRANCISCO  2010  01. ENERO    1   \n",
       "4      -73,135,108  URBANA     04. OCCIDENTAL  2010  01. ENERO    1   \n",
       "\n",
       "    DIA_SEMANA               DESCRIPCION_CONDUCTA CLASIFICACIONES_DELITO  \\\n",
       "0  05. VIERNES  ARTÍCULO 111. LESIONES PERSONALES    LESIONES NO FATALES   \n",
       "1  05. VIERNES  ARTÍCULO 111. LESIONES PERSONALES    LESIONES NO FATALES   \n",
       "2  05. VIERNES  ARTÍCULO 111. LESIONES PERSONALES    LESIONES NO FATALES   \n",
       "3  05. VIERNES  ARTÍCULO 111. LESIONES PERSONALES    LESIONES NO FATALES   \n",
       "4  05. VIERNES  ARTÍCULO 111. LESIONES PERSONALES    LESIONES NO FATALES   \n",
       "\n",
       "  MOVIL_AGRESOR MOVIL_VICTIMA  \n",
       "0         A PIE         A PIE  \n",
       "1         A PIE         A PIE  \n",
       "2         A PIE         A PIE  \n",
       "3         A PIE         A PIE  \n",
       "4         A PIE         A PIE  "
      ],
      "text/html": [
       "<div>\n",
       "<style scoped>\n",
       "    .dataframe tbody tr th:only-of-type {\n",
       "        vertical-align: middle;\n",
       "    }\n",
       "\n",
       "    .dataframe tbody tr th {\n",
       "        vertical-align: top;\n",
       "    }\n",
       "\n",
       "    .dataframe thead th {\n",
       "        text-align: right;\n",
       "    }\n",
       "</style>\n",
       "<table border=\"1\" class=\"dataframe\">\n",
       "  <thead>\n",
       "    <tr style=\"text-align: right;\">\n",
       "      <th></th>\n",
       "      <th>ORDEN</th>\n",
       "      <th>ARMAS_MEDIOS</th>\n",
       "      <th>BARRIOS_HECHO</th>\n",
       "      <th>LATITUD</th>\n",
       "      <th>LONGITUD</th>\n",
       "      <th>ZONA</th>\n",
       "      <th>NOM_COMUNA</th>\n",
       "      <th>ANO</th>\n",
       "      <th>MES</th>\n",
       "      <th>DIA</th>\n",
       "      <th>DIA_SEMANA</th>\n",
       "      <th>DESCRIPCION_CONDUCTA</th>\n",
       "      <th>CLASIFICACIONES_DELITO</th>\n",
       "      <th>MOVIL_AGRESOR</th>\n",
       "      <th>MOVIL_VICTIMA</th>\n",
       "    </tr>\n",
       "  </thead>\n",
       "  <tbody>\n",
       "    <tr>\n",
       "      <th>0</th>\n",
       "      <td>1</td>\n",
       "      <td>ARMA BLANCA / CORTOPUNZANTE</td>\n",
       "      <td>BUENOS AIRES</td>\n",
       "      <td>7,170,557,382</td>\n",
       "      <td>-73,135,108</td>\n",
       "      <td>URBANA</td>\n",
       "      <td>14. MORRORICO</td>\n",
       "      <td>2010</td>\n",
       "      <td>01. ENERO</td>\n",
       "      <td>1</td>\n",
       "      <td>05. VIERNES</td>\n",
       "      <td>ARTÍCULO 111. LESIONES PERSONALES</td>\n",
       "      <td>LESIONES NO FATALES</td>\n",
       "      <td>A PIE</td>\n",
       "      <td>A PIE</td>\n",
       "    </tr>\n",
       "    <tr>\n",
       "      <th>1</th>\n",
       "      <td>2</td>\n",
       "      <td>ARMA BLANCA / CORTOPUNZANTE</td>\n",
       "      <td>CAMPO HERMOSO</td>\n",
       "      <td>7,120,645,358</td>\n",
       "      <td>-7,312,605</td>\n",
       "      <td>URBANA</td>\n",
       "      <td>05. GARCÍA ROVIRA</td>\n",
       "      <td>2010</td>\n",
       "      <td>01. ENERO</td>\n",
       "      <td>1</td>\n",
       "      <td>05. VIERNES</td>\n",
       "      <td>ARTÍCULO 111. LESIONES PERSONALES</td>\n",
       "      <td>LESIONES NO FATALES</td>\n",
       "      <td>A PIE</td>\n",
       "      <td>A PIE</td>\n",
       "    </tr>\n",
       "    <tr>\n",
       "      <th>2</th>\n",
       "      <td>3</td>\n",
       "      <td>ARMA BLANCA / CORTOPUNZANTE</td>\n",
       "      <td>CAMPO HERMOSO</td>\n",
       "      <td>7,120,645,358</td>\n",
       "      <td>-7,312,605</td>\n",
       "      <td>URBANA</td>\n",
       "      <td>05. GARCÍA ROVIRA</td>\n",
       "      <td>2010</td>\n",
       "      <td>01. ENERO</td>\n",
       "      <td>1</td>\n",
       "      <td>05. VIERNES</td>\n",
       "      <td>ARTÍCULO 111. LESIONES PERSONALES</td>\n",
       "      <td>LESIONES NO FATALES</td>\n",
       "      <td>A PIE</td>\n",
       "      <td>A PIE</td>\n",
       "    </tr>\n",
       "    <tr>\n",
       "      <th>3</th>\n",
       "      <td>4</td>\n",
       "      <td>ARMA BLANCA / CORTOPUNZANTE</td>\n",
       "      <td>COMUNEROS</td>\n",
       "      <td>715,135,927</td>\n",
       "      <td>-73,145,704,583</td>\n",
       "      <td>URBANA</td>\n",
       "      <td>03. SAN FRANCISCO</td>\n",
       "      <td>2010</td>\n",
       "      <td>01. ENERO</td>\n",
       "      <td>1</td>\n",
       "      <td>05. VIERNES</td>\n",
       "      <td>ARTÍCULO 111. LESIONES PERSONALES</td>\n",
       "      <td>LESIONES NO FATALES</td>\n",
       "      <td>A PIE</td>\n",
       "      <td>A PIE</td>\n",
       "    </tr>\n",
       "    <tr>\n",
       "      <th>4</th>\n",
       "      <td>5</td>\n",
       "      <td>ARMA BLANCA / CORTOPUNZANTE</td>\n",
       "      <td>GIRARDOT</td>\n",
       "      <td>7,170,557,382</td>\n",
       "      <td>-73,135,108</td>\n",
       "      <td>URBANA</td>\n",
       "      <td>04. OCCIDENTAL</td>\n",
       "      <td>2010</td>\n",
       "      <td>01. ENERO</td>\n",
       "      <td>1</td>\n",
       "      <td>05. VIERNES</td>\n",
       "      <td>ARTÍCULO 111. LESIONES PERSONALES</td>\n",
       "      <td>LESIONES NO FATALES</td>\n",
       "      <td>A PIE</td>\n",
       "      <td>A PIE</td>\n",
       "    </tr>\n",
       "  </tbody>\n",
       "</table>\n",
       "</div>"
      ]
     },
     "execution_count": 60,
     "metadata": {},
     "output_type": "execute_result"
    }
   ],
   "execution_count": 60
  },
  {
   "metadata": {
    "ExecuteTime": {
     "end_time": "2024-08-25T02:27:12.980841Z",
     "start_time": "2024-08-25T02:27:12.890971Z"
    }
   },
   "cell_type": "code",
   "source": [
    "for column in df.columns:\n",
    "    num_distinct_values = len(df[column].unique())\n",
    "    print(f\"{column}: {num_distinct_values} distintos valores\")"
   ],
   "id": "20842ca439fc53f8",
   "outputs": [
    {
     "name": "stdout",
     "output_type": "stream",
     "text": [
      "ORDEN: 135076 distintos valores\n",
      "ARMAS_MEDIOS: 43 distintos valores\n",
      "BARRIOS_HECHO: 484 distintos valores\n",
      "LATITUD: 64429 distintos valores\n",
      "LONGITUD: 60106 distintos valores\n",
      "ZONA: 4 distintos valores\n",
      "NOM_COMUNA: 26 distintos valores\n",
      "ANO: 12 distintos valores\n",
      "MES: 12 distintos valores\n",
      "DIA: 31 distintos valores\n",
      "DIA_SEMANA: 7 distintos valores\n",
      "DESCRIPCION_CONDUCTA: 43 distintos valores\n",
      "CLASIFICACIONES_DELITO: 4 distintos valores\n",
      "MOVIL_AGRESOR: 14 distintos valores\n",
      "MOVIL_VICTIMA: 14 distintos valores\n"
     ]
    }
   ],
   "execution_count": 61
  },
  {
   "metadata": {
    "ExecuteTime": {
     "end_time": "2024-08-25T02:00:51.859923Z",
     "start_time": "2024-08-25T02:00:51.846758Z"
    }
   },
   "cell_type": "code",
   "source": "df.BARRIOS_HECHO.unique()",
   "id": "99ae2da106ec96a7",
   "outputs": [
    {
     "data": {
      "text/plain": [
       "array(['BUENOS AIRES', 'CAMPO HERMOSO', 'COMUNEROS', 'GIRARDOT',\n",
       "       'LOS ANGELES', 'NARIÑO', 'PROVENZA', 'SOTOMAYOR',\n",
       "       'URB. BALCONES DE PROVENZA', 'BALCONES DEL KENNEDY', 'CHAPINERO',\n",
       "       'LA JUVENTUD', 'DON BOSCO', 'ANTONIA SANTOS SUR', 'VDA. LA SABANA',\n",
       "       'CENTRO', 'JOSE MARIA CORDOBA', 'LA JOYA', 'SAN MARTIN',\n",
       "       'VDA. RETIRO CHIQUITO', 'VILLA DE LOS CONQUISTADORES',\n",
       "       'LA CONCORDIA', 'QUINTA ESTRELLA', 'LA CEIBA', 'LA AURORA',\n",
       "       'COLORADOS', 'SAN FRANCISCO', 'VDA. CUCHILLA ALTA', 'MARIA PAZ',\n",
       "       'SAN RAFAEL', 'VILLA ROSA', 'URB. HEROES', 'CABECERA DEL LLANO',\n",
       "       'URB. MARSELLA REAL', 'SANTANDER', 'VILLA MERCEDES', 'EL CRISTAL',\n",
       "       'EL CINAL', 'CIUDADELA REAL DE MINAS', 'URB. BRISAS DEL MUTIS',\n",
       "       'TEJAR NORTE (SECTOR I )', 'URB. ESTORAQUES I', 'LA FLORESTA',\n",
       "       'LA VICTORIA', 'ESPERANZA I', 'LA PALMA', 'LA PEDREGOSA',\n",
       "       'REGADERO NORTE', 'GARCIA ROVIRA', 'MEJORAS PUBLICAS', 'LA FERIA',\n",
       "       'ALFONSO LOPEZ', 'BUCARAMANGA', 'URB. TORRES DE MONTERREY',\n",
       "       'EL PORVENIR', 'ALARCON', 'ASTURIAS', 'CORDONCILLO II', 'KENNEDY',\n",
       "       'SAN MIGUEL', 'DIAMANTE II', 'EL PRADO', 'LIZCANO I', 'BOLIVAR',\n",
       "       'VILLAS DE SAN IGNACIO', 'LAS HAMACAS', 'ALVAREZ',\n",
       "       'BALCON DEL TEJAR', 'SAN ALONSO', 'SAN VALENTIN', 'PIO XII',\n",
       "       'LA UNIVERSIDAD', 'URB. NEPTUNO', 'URB. LOS NARANJOS',\n",
       "       'ESPERANZA II', 'MUTIS', 'FONTANA', 'LA FLORA', 'GUADUALES',\n",
       "       'QUINTADANIA', 'LAGOS DEL CACIQUE', 'URB. CIUDAD BOLIVAR',\n",
       "       'URB. PRADOS DEL MUTIS', 'VDA. ROSA BLANCA', '13 DE JUNIO',\n",
       "       'RICAURTE', 'TEJAR NORTE (SECTOR II )', 'VILLA MARIA',\n",
       "       'LA INDEPENDENCIA', 'TRANSICION IV', 'URB. MACAREGUA',\n",
       "       'NUEVO SOTOMAYOR', 'ESPERANZA III', 'MINUTO DE DIOS',\n",
       "       'CAFE MADRID', 'TRANSICION V', 'LOS CANELOS', 'PUERTA DEL SOL',\n",
       "       'TERRAZAS', 'GAITAN', 'LA GLORIA', 'MARIA AUXILIADORA',\n",
       "       'METROPOLITANA', 'PABLO VI', 'VEGAS DE MORRORICO',\n",
       "       'MIRADORES DE SAN LORENZO', 'LAS AMERICAS', 'LA CEMENTO',\n",
       "       'JARDINES DE COAVICONSA', 'CANDILES', 'ALTOS DEL CACIQUE',\n",
       "       'BOLARQUI', 'MORRORICO', 'PORTON DEL TEJAR',\n",
       "       'CHORRERAS DE DON JUAN', 'TRANSICION II',\n",
       "       'VILLA ROSA (SECTOR III )', 'VDA. VIJAGUAL', 'MANUELA BELTRAN I',\n",
       "       'PAN DE AZUCAR', 'ANTIGUO CAMPESTRE', 'LIMONCITO',\n",
       "       'VILLA HELENA I', 'ALBANIA', 'EL RETIRO',\n",
       "       'TERMINAL DE TRANSPORTES', 'NUEVA COLOMBIA', 'URB. MONTE REDONDO',\n",
       "       'MIRAFLORES', 'DIAMANTE I', 'IGSABELAR', 'VILLA DEL PRADO',\n",
       "       'URB. COLSEGUROS NORTE', 'URB. BRISAS DE PROVENZA', 'EL ROCIO',\n",
       "       'SAN GERARDO', 'JUAN XXIII', 'VDA. AGUABLANCA', 'GRANADA',\n",
       "       'SANTA MARIA', 'CONUCOS', 'INV. LUZ DE SALVACION',\n",
       "       'URB. ALTOS DE TAJAMAR', 'URB. PLAZA MAYOR', 'VDA. SANTA RITA',\n",
       "       'VILLA ALEGRIA', 'MODELO', 'GALAN', 'TOLEDO PLATA', 'LOS PINOS',\n",
       "       'GOMEZ NIÑO', 'PANTANO III', 'LA SALLE', 'EL DIVISO',\n",
       "       'VDA. LA CAPILLA', 'BUENAVISTA', 'VDA. LOS SANTOS',\n",
       "       'GRANJAS DE PROVENZA', 'VILLA ESMERALDA', 'CAMILO TORRES',\n",
       "       'VDA. SANTA BARBARA', 'MALPASO', 'BOSQUE NORTE', 'LAS DELICIAS',\n",
       "       'SAN IGNACIO', 'MERCEDES', 'PRIMERO DE MAYO', 'SAN PEDRO CLAVER',\n",
       "       'MUTUALIDAD', 'INV. TIBURONES', 'OLAS ALTAS', 'URB. EL SOL I',\n",
       "       'GRANJAS DE JULIO RINCON', 'TRANSICION I', 'SAN CRISTOBAL',\n",
       "       'NAPOLES', 'SAN LUIS', 'EL PABLON ( VILLA LINA )', 'URB. BAVARIA',\n",
       "       'DANGOND', 'SIN INFORMACION', 'PRIMAVERAL', 'URB. EL SOL II',\n",
       "       'URB. MANZANARES', 'CLAVERIANO', 'BETANIA',\n",
       "       'VDA. ALTO DE LOS PADRES', 'VDA. SAN IGNACIO', 'EL TEJAR',\n",
       "       '12 DE OCTUBRE', 'VDA. ANGELINOS', 'QUINTAS DEL CACIQUE',\n",
       "       'VILLA INES', 'OLAS BAJAS', '23 DE JUNIO', 'EL PABLON',\n",
       "       'PANTANO I', 'URB. LOS ALMENDROS', 'ESPAÑA', 'NORTE BAJO',\n",
       "       'QUEBRADA LA IGLESIA', 'EL JARDIN', 'URB. ESTORAQUES II', 'AFRICA',\n",
       "       'RINCON DE LA PAZ', 'GUAYACANES', 'CORDONCILLO I',\n",
       "       'TRANSICION III', 'MIRADOR DEL NORTE', 'CIUDAD VENECIA',\n",
       "       'URB. BALCONCITOS', 'OLAS II', 'ZARABANDA',\n",
       "       'URB. TORRES DE ALEJANDRÍA', 'VILLA HELENA II',\n",
       "       'BULEVAR DEL CACIQUE', 'LAURELES', 'SANTA MONICA DEL TEJAR',\n",
       "       'INV. LOS CORRALES', 'CALLE REAL', 'VILLA FLOR', 'MIRAMAR',\n",
       "       'VDA. EL NOGAL (COLORADOS)', 'VDA. LA MALAÑA', 'VDA. SAN JOSE',\n",
       "       'DIVINO NIÑO (COLORADOS)', 'INV. PAISAJES DEL NORTE',\n",
       "       'LA LIBERTAD', 'VDA. SAN PEDRO BAJO', 'ALTOS DEL PROGRESO',\n",
       "       'LOS CEDROS', 'OMAGA (SECTOR II )', 'BOSCONIA', 'PUERTO RICO',\n",
       "       'CIUDAD METROPOLITANA', 'URB. SAMANES', 'URB. PLAZUELA REAL',\n",
       "       'PANTANO II', 'VILLA ROSA (SECTOR II )',\n",
       "       'URBANIZACION SANTA BARBARA', 'URB. FATIMA', 'LIZCANO II',\n",
       "       'URB. SAN VALENTIN', 'NUEVA GRANADA', 'LOS SAUCES',\n",
       "       'ALTOS DEL KENNEDY', 'VDA. ARGELIA', 'URB. ACROPOLIS I',\n",
       "       'ANTIGUA COLOMBIA', 'PORTAL DEL CACIQUE', 'LOS CENTAUROS',\n",
       "       'VILLA ALICIA', 'PUNTA PARAISO', 'VDA. MAGUEYES', 'LOS ACASIOS',\n",
       "       'VDA. PEDREGAL', 'CONDADO DE GIBRALTAR', 'MIRADORES DEL KENNEDY',\n",
       "       'URB. PORTOFINO', 'EL ROSAL', 'LA QUEBRADA', 'VILLA SARA',\n",
       "       'INV. NUEVO HORIZONTE', 'VILLA CANDADO', 'URB. TERRANOVA',\n",
       "       'MILAGRO DE DIOS', 'VILLA ROMERO', '20 DE JULIO', 'VDA. BOLARQUI',\n",
       "       'MANUELA BELTRAN II', 'MIRADOR', 'MONEQUEZ', 'URB. ROSA ALTA',\n",
       "       'PABLON ALTO', 'URB VILLAS DE SAN PATRICIO', 'VDA. LOS CUADROS',\n",
       "       'URB. FUNDADORES', 'EL FONCE', 'VDA. GUALILO ALTO', 'LAS COLINAS',\n",
       "       'EL UVO', 'LAS CASITAS', 'PALMERAS DEL CACIQUE', 'CARLOS PIZARRO',\n",
       "       'PUNTA ESTRELLA', 'MIRADOR DEL CACIQUE', 'LA MALAÑA (URBANO)',\n",
       "       'VDA. LA ESMERALDA', 'VDA. EL ABURRIDO', 'HACIENDA DEL CACIQUE',\n",
       "       'URB. SAN FERMIN', 'INV. SERVUNION', 'VDA. MONSERRATE', 'TEJADOS',\n",
       "       'EL PABLON ( VILLA PATRICIA )', 'PEÑON DEL VALLE', 'LOS ROBLES',\n",
       "       'JOSE ANTONIO GALAN', 'OMAGA (SECTOR I )', 'VDA. RETIRO GRANDE',\n",
       "       'EL PABLON ( LA TORRE )', 'GRANJAS RIGAN',\n",
       "       'ASENTAMIENTO SERVUNION', 'VDA. SAN PEDRO ALTO',\n",
       "       'VILLAS DEL NOGAL', 'VILLA REAL', 'LAS GRANJITAS B/GA',\n",
       "       'TESOROS DEL CACIQUE', 'VDA. GUALILO BAJO', '5 DE ENERO',\n",
       "       'VDA. LAS MARIAS', 'BAVARIA', 'URB. GETSEMANI', 'DELICIAS ALTAS',\n",
       "       'LA GRANJITA', 'VDA. SAN CAYETANO', 'VDA. RIO DE ORO',\n",
       "       'BALCONES DEL SUR', 'CACIQUE IMPERIAL', 'URB. LOS SAUCES',\n",
       "       'INV. CAMINOS DE PAZ', 'URB. RINCON DEL LAGO',\n",
       "       'URB. LA GRAN LADERA', 'VDA. 10 DE MAYO',\n",
       "       'INV. VILLAS DEL GIRARDOT', 'URB. MONTE VERDE', 'PABLON BAJO',\n",
       "       'URB. QUINTAS DE SANTANA', 'KENEDDY', 'URB. PASEO LA FERIA',\n",
       "       'INV. PUNTA BETIN', 'INV. CLUB CHIMITA', 'INV. CARLOS PIZARRO',\n",
       "       'JARDINES DE ALTA GRACIA', 'BRISAS DEL PARAISO',\n",
       "       'INV. PUENTE NARIÑO', 'URB. VIVEROS DE PROVENZA', 'EL DORADO',\n",
       "       'LAS MARGARITAS MUTIS', 'ALTO VIENTO', 'INVASION GALLINERAL',\n",
       "       'GALLINERAL', 'CAMPO MADRID', 'CALDAS', 'URB. LA HOYADA',\n",
       "       'MORAVIA  C-4', 'MESETAS DEL SANTUARIO', 'LA INMACULADA',\n",
       "       'PARQUE INDUSTRIAL', 'SERREZUELA', 'BELLAVISTA FLORIDA',\n",
       "       'URB. MIRADORES DE LA UIS', 'MARIANELA', 'URB. MIRADOR DE FATIMA',\n",
       "       'CENTRAL DE ABASTOS', 'PORVENIR', 'BRISAS DEL CAMPO',\n",
       "       'LA ESTRELLA', 'OMAGA (SECTOR III )', 'BALCON DEL LAGO',\n",
       "       'URBANIZACION QUINTAS DEL CACIQUE', 'LOS COMUNEROS',\n",
       "       'CAMPO VALDES 1  C-4', 'VDA. MALPASO', 'HACIENDA SAN JUAN',\n",
       "       'ZONA INDUSTRIAL', 'LOS ROSALES', 'BOSQUES DEL PAYADOR', 'POBLADO',\n",
       "       'ALTO VIENTO II', 'LOS GUADUALES', 'VEREDA MARCELITAS',\n",
       "       'EL PALENQUE', 'CONDADO CAMPESTRE', 'ANTONIA SANTOS',\n",
       "       'SAN PEDRITO', 'INV. DELICIAS', 'INEM', 'BOULEVAR DEL CACIQUE',\n",
       "       'ANTIGUO COLOMBIA', 'INV. LUZ DE ESPERANZA', 'RUITOQUE BAJO',\n",
       "       'LA FORTUNA', 'BARRIO NUEVO', 'NIZA', 'BRISAS DEL PALMAR',\n",
       "       'CENTAUROS', 'VRDA  SAN ISIDRO', 'MONEQUES', 'C.R. SERREZUELA',\n",
       "       'CAMPESTRE NORTE (COLORADOS)', 'CENFER', 'VILLA HELENA',\n",
       "       'LA ROSITA', 'ANILLO VIAL', 'URB. ACROPOLIS II', 'VILLABEL',\n",
       "       'EL PROGRESO', 'EL CENTRO', 'CAMPO GALAN', 'EL CARMEN I',\n",
       "       'CHIMITA', 'LA CAMPIÑA', 'EL CARMEN V', 'VDA. LA ESPERANZA',\n",
       "       'MIRADOR DE COLORADOS', 'PATIO BONITO (COLORADOS)',\n",
       "       'RINCON DE GIRON', 'LOS PORTALES II',\n",
       "       'ALTOS DE CAÑAVERAL CAMPESTRE', 'PUERTO MADERO',\n",
       "       'BONANZA CAMPESTRE (COLORADOS)', 'AUTOPISTA F/BLANCA-P/CUESTA.',\n",
       "       'CASCO ANTIGUO DE FLORIDABLANCA', 'ALTO VIENTO I',\n",
       "       'AUTOPISTA P/CUESTA - F/BLANCA.', 'FATIMA',\n",
       "       'INV. QUEBRADA LA IGLESIA', 'CAÑAVERAL', 'LAS GUACAMAYAS',\n",
       "       'MIRADOR DE SAN JUAN', 'ACACIAS', 'BELLAVISTA CASAS',\n",
       "       'SAN RAFAEL P/TA', 'ALTOS DEL CAMPESTRE', 'EL REPOSO',\n",
       "       'VDA. TRES ESQUINAS', 'ASENTAMIENTO SERVIUNON',\n",
       "       'CACIQUE CONDOMINIO', 'VILLAS DE SAN FRANCISCO', 'CACIQUE IPANA',\n",
       "       'EL PARAISO', 'URB. BALCONES DE LA COLINA', 'BELLAVISTA',\n",
       "       'VILLA DE LOS CABALLEROS', 'NUEVO COLON', 'EL BOSQUESITO',\n",
       "       'CARRASCO', 'SAN FRANCISCO P/TA', 'CIUDADELA LOS PRINCIPES',\n",
       "       'QUINTA GRANADA', 'VDA. VERICUTE', 'ANDALUCIA', 'EL LLANITO',\n",
       "       'NAVAS', 'LOS CAMBULOS', 'C.R. VERSALLES REAL', 'C.R. SOLERI',\n",
       "       'PAYADOR REAL', 'VRDA  ABEJAS', 'EL GALLINERAL', 'LA ISLA',\n",
       "       'VRDA  CAPILLA', 'CAMPO VERDE', 'HOYO CHIQUITO', 'UNIVERSIDAD',\n",
       "       'VRDA  JABONCILLO', 'URB. ACROPOLIS III', 'ALTOS DE CAÑAVERAL I',\n",
       "       'RIO DE ORO II', 'CENTRO P/TA',\n",
       "       'FACULTAD DE MINAS U. NACIONAL C-7', 'ANTONIA SANTOS CENTRO',\n",
       "       'ESTORAQUES', 'MANUELA BELTRAN', 'TEJAR NORTE', 'CANELOS',\n",
       "       'BRISAS DE PROVENZA', 'LA GRAN LADERA', 'TRANSICION',\n",
       "       'ALVAREZ LAS AMERICAS', 'VEGAS DE MORRORRICO', 'VEREDA EL PABLON',\n",
       "       'QUINTA DANIA', 'GRANJAS REGAN', 'VILLA DEL NOGAL', 'DELICIAS',\n",
       "       'COLSEGUROS NORTE', 'CONQUISTADORES', 'MANZANARES', 'BALCONCITOS',\n",
       "       'BRISAS DEL MUTIS', 'VILLA MARIA III (BAJA)', 'CAMPESTRE'],\n",
       "      dtype=object)"
      ]
     },
     "execution_count": 33,
     "metadata": {},
     "output_type": "execute_result"
    }
   ],
   "execution_count": 33
  },
  {
   "metadata": {
    "ExecuteTime": {
     "end_time": "2024-08-25T02:01:25.320944Z",
     "start_time": "2024-08-25T02:01:25.310276Z"
    }
   },
   "cell_type": "code",
   "source": "df.BARRIOS_HECHO.unique().shape",
   "id": "cfd1e8c4d93c12b3",
   "outputs": [
    {
     "data": {
      "text/plain": [
       "(484,)"
      ]
     },
     "execution_count": 34,
     "metadata": {},
     "output_type": "execute_result"
    }
   ],
   "execution_count": 34
  },
  {
   "metadata": {
    "ExecuteTime": {
     "end_time": "2024-08-25T02:01:40.920579Z",
     "start_time": "2024-08-25T02:01:40.908255Z"
    }
   },
   "cell_type": "code",
   "source": [
    "df.ARMAS_MEDIOS.unique()\n",
    "\n",
    "#NaN No reporta"
   ],
   "id": "25cdb9986179a0d7",
   "outputs": [
    {
     "data": {
      "text/plain": [
       "array(['ARMA BLANCA / CORTOPUNZANTE', 'ARMA DE FUEGO', 'CONTUNDENTES',\n",
       "       'MOTO', 'NO REPORTADO', 'SIN EMPLEO DE ARMAS', 'VEHICULO',\n",
       "       'LLAVE MAESTRA', 'CORTANTES', 'LLAMADA TELEFONICA',\n",
       "       'CORTOPUNZANTES', 'ESCOPOLAMINA', 'DIRECTA', 'REDES SOCIALES',\n",
       "       'PUNZANTES', 'BICICLETA', 'PERRO', 'MEDICAMENTOS',\n",
       "       'SUSTANCIAS TOXICAS', 'GASES', 'MIXTA', 'QUIMICOS',\n",
       "       'AGUA CALIENTE', 'POLVORA(FUEGOS PIROTECNICOS)', 'PAPA EXPLOSIVA',\n",
       "       'JERINGA', 'ARTEFACTO INCENDIARIO', 'ACIDO', 'CARTA EXTORSIVA',\n",
       "       'LICOR ADULTERADO', 'COMBUSTIBLE', 'CARRO BOMBA', 'VENENO',\n",
       "       'CUCHILLA', 'CINTAS/CINTURON', 'CUERDA/SOGA/CADENA', 'PALANCAS',\n",
       "       'GRANADA DE MANO', 'BOLSA PLASTICA',\n",
       "       'ARTEFACTO EXPLOSIVO/CARGA DINAMITA', 'PRENDAS DE VESTIR',\n",
       "       'ARMA TRAUMATICA', 'ALUCINOGENOS'], dtype=object)"
      ]
     },
     "execution_count": 35,
     "metadata": {},
     "output_type": "execute_result"
    }
   ],
   "execution_count": 35
  },
  {
   "metadata": {
    "ExecuteTime": {
     "end_time": "2024-08-25T02:13:45.083402Z",
     "start_time": "2024-08-25T02:13:45.073540Z"
    }
   },
   "cell_type": "code",
   "source": "df.ZONA.unique()",
   "id": "c974763992d3f40d",
   "outputs": [
    {
     "data": {
      "text/plain": [
       "array(['URBANA', 'RURAL', 'OTROS', 'NO REPORTA'], dtype=object)"
      ]
     },
     "execution_count": 36,
     "metadata": {},
     "output_type": "execute_result"
    }
   ],
   "execution_count": 36
  },
  {
   "metadata": {
    "ExecuteTime": {
     "end_time": "2024-08-25T02:13:54.146712Z",
     "start_time": "2024-08-25T02:13:54.135165Z"
    }
   },
   "cell_type": "code",
   "source": [
    "df.NOM_COMUNA.unique()\n",
    "\n",
    "# REVISAR QUE ES PARTE DE BUCARAMANGA\n",
    "#Nan Sin informacion"
   ],
   "id": "38937e3678dcd518",
   "outputs": [
    {
     "data": {
      "text/plain": [
       "array(['14. MORRORICO', '05. GARCÍA ROVIRA', '03. SAN FRANCISCO',\n",
       "       '04. OCCIDENTAL', '02. NOR ORIENTAL', '10. PROVENZA',\n",
       "       '12. CABECERA DEL LLANO', '11. SUR', '01. NORTE',\n",
       "       '09. LA PEDREGOSA', 'CORREGIMIENTO 1', '15. CENTRO',\n",
       "       'CORREGIMIENTO 3', '06. LA CONCORDIA', '13. ORIENTAL', '17. MUTIS',\n",
       "       '07. LA CIUDADELA', '08. SUR OCCIDENTE', '16. LAGOS DEL CACIQUE',\n",
       "       'FLORIDABLANCA', 'CORREGIMIENTO 2', 'SIN INFORMACION', 'GIRON',\n",
       "       'BARRANCABERMEJA', 'MEDELLIN', 'PIEDECUESTA'], dtype=object)"
      ]
     },
     "execution_count": 37,
     "metadata": {},
     "output_type": "execute_result"
    }
   ],
   "execution_count": 37
  },
  {
   "metadata": {
    "ExecuteTime": {
     "end_time": "2024-08-25T02:14:48.156575Z",
     "start_time": "2024-08-25T02:14:48.144821Z"
    }
   },
   "cell_type": "code",
   "source": "df.NOM_COMUNA.unique().shape",
   "id": "e5e297b4d94779c6",
   "outputs": [
    {
     "data": {
      "text/plain": [
       "(26,)"
      ]
     },
     "execution_count": 38,
     "metadata": {},
     "output_type": "execute_result"
    }
   ],
   "execution_count": 38
  },
  {
   "metadata": {
    "ExecuteTime": {
     "end_time": "2024-08-25T02:16:58.511967Z",
     "start_time": "2024-08-25T02:16:58.500641Z"
    }
   },
   "cell_type": "code",
   "source": "df.CLASIFICACIONES_DELITO.unique()",
   "id": "445b904237291a74",
   "outputs": [
    {
     "data": {
      "text/plain": [
       "array(['LESIONES NO FATALES', 'LESIONES FATALES', 'VIOLENCIA SEXUAL',\n",
       "       'NO REPORTA'], dtype=object)"
      ]
     },
     "execution_count": 44,
     "metadata": {},
     "output_type": "execute_result"
    }
   ],
   "execution_count": 44
  },
  {
   "metadata": {
    "ExecuteTime": {
     "end_time": "2024-08-25T02:17:46.731611Z",
     "start_time": "2024-08-25T02:17:46.718227Z"
    }
   },
   "cell_type": "code",
   "source": [
    "df.CONDUCTA.unique()\n",
    "\n",
    "#NaN No reporta"
   ],
   "id": "1803a27f383f0be7",
   "outputs": [
    {
     "data": {
      "text/plain": [
       "array(['LESIONES PERSONALES', 'HURTO A PERSONAS', 'HOMICIDIO',\n",
       "       'HURTO A RESIDENCIAS', 'HURTO A ENTIDADES COMERCIALES',\n",
       "       'VIOLENCIA INTRAFAMILIAR',\n",
       "       'LESIONES CULPOSAS ( EN ACCIDENTE DE TRANSITO )',\n",
       "       'ACCESO CARNAL ABUSIVO CON MENOR DE 14 AÑOS',\n",
       "       'HURTO A MOTOCICLETAS', 'ACTOS SEXUALES CON MENOR DE 14 AÑOS',\n",
       "       'ACOSO SEXUAL', 'HOMICIDIO CULPOSO ( EN ACCIDENTE DE TRÁNSITO)',\n",
       "       'ACCESO CARNAL VIOLENTO', 'EXTORSIÓN',\n",
       "       'ACCESO CARNAL ABUSIVO CON MENOR DE 14 AÑOS (CIRCUNSTANCIAS AGRAVACIÓN)',\n",
       "       'ACTO SEXUAL VIOLENTO', 'HURTO A AUTOMOTORES',\n",
       "       'SECUESTRO EXTORSIVO', 'HURTO A ENTIDADES FINANCIERAS',\n",
       "       'ACCESO CARNAL O ACTO SEXUAL EN PERSONA PUESTA EN INCAPACIDAD DE RESISTIR',\n",
       "       'ACCESO CARNAL O ACTO SEXUAL ABUSIVO CON INCAPAZ DE RESISTIR',\n",
       "       'HURTO A PIRATERÍA TERRESTRE',\n",
       "       'ACTO SEXUAL VIOLENTO (CIRCUNSTANCIAS DE AGRAVACIÓN)',\n",
       "       'ACTOS SEXUALES CON MENOR DE 14 AÑOS (CIRCUNSTANCIAS DE AGRAVACIÓN)',\n",
       "       'HURTO A ABIGEATO', 'CONSTREÑIMIENTO A LA PROSTITUCIÓN',\n",
       "       'ESTÍMULO A LA PROSTITUCIÓN DE MENORES',\n",
       "       'INDUCCIÓN A LA PROSTITUCIÓN',\n",
       "       'UTILIZACIÓN O FACILITACIÓN DE MEDIOS DE COMUNICACIÓN PARA OFRECER SERVICIOS SEXUALES DE MENORES',\n",
       "       'SECUESTRO SIMPLE', 'PORNOGRAFÍA CON MENORES',\n",
       "       'PROXENETISMO CON MENOR DE EDAD', 'LESIONES AL FETO',\n",
       "       'ACCESO CARNAL VIOLENTO (CIRCUNSTANCIAS AGRAVACIÓN)',\n",
       "       'FEMINICIDIO', 'INCAPACIDAD PARA TRABAJAR O ENFERMEDAD',\n",
       "       'DEMANDA DE EXPLOTACION SEXUAL COMERCIAL DE PERSONA MENOR DE 18 AÑOS DE EDAD',\n",
       "       'NO REPORTA', 'LESIONES CULPOSAS', 'AMENAZAS',\n",
       "       'LESIONES PERSONALES ( CIRCUNSTANCIAS DE AGRAVACIÓN)'],\n",
       "      dtype=object)"
      ]
     },
     "execution_count": 45,
     "metadata": {},
     "output_type": "execute_result"
    }
   ],
   "execution_count": 45
  },
  {
   "metadata": {
    "ExecuteTime": {
     "end_time": "2024-08-25T02:20:22.747569Z",
     "start_time": "2024-08-25T02:20:22.731735Z"
    }
   },
   "cell_type": "code",
   "source": "df.CONDUCTA.unique().shape",
   "id": "5b8b9d6ac893ef5c",
   "outputs": [
    {
     "data": {
      "text/plain": [
       "(41,)"
      ]
     },
     "execution_count": 46,
     "metadata": {},
     "output_type": "execute_result"
    }
   ],
   "execution_count": 46
  },
  {
   "metadata": {
    "ExecuteTime": {
     "end_time": "2024-08-25T02:20:28.398348Z",
     "start_time": "2024-08-25T02:20:28.386861Z"
    }
   },
   "cell_type": "code",
   "source": [
    "df.MOVIL_AGRESOR.unique()\n",
    "\n",
    "#NaN No reporta"
   ],
   "id": "d250daf12ab53099",
   "outputs": [
    {
     "data": {
      "text/plain": [
       "array(['A PIE', 'CONDUCTOR MOTOCICLETA', 'CONDUCTOR VEHICULO',\n",
       "       'CONDUCTOR TAXI', 'NO REPORTA', 'PASAJERO BUS', 'PASAJERO TAXI',\n",
       "       'BICICLETA', 'PASAJERO MOTOCICLETA', 'PASAJERO METRO',\n",
       "       'CONDUCTOR BUS', 'PASAJERO VEHICULO', 'TRIPULANTE AERONAVE',\n",
       "       'PASAJERO BARCO'], dtype=object)"
      ]
     },
     "execution_count": 47,
     "metadata": {},
     "output_type": "execute_result"
    }
   ],
   "execution_count": 47
  },
  {
   "metadata": {
    "ExecuteTime": {
     "end_time": "2024-08-25T02:21:44.974967Z",
     "start_time": "2024-08-25T02:21:44.964353Z"
    }
   },
   "cell_type": "code",
   "source": [
    "df.MOVIL_VICTIMA.unique()\n",
    "\n",
    "#NaN No reporta"
   ],
   "id": "ac3bc255c5feb3da",
   "outputs": [
    {
     "data": {
      "text/plain": [
       "array(['A PIE', 'NO REPORTA', 'CONDUCTOR MOTOCICLETA',\n",
       "       'CONDUCTOR VEHICULO', 'PASAJERO TAXI', 'PASAJERO BUS',\n",
       "       'CONDUCTOR TAXI', 'BICICLETA', 'PASAJERO MOTOCICLETA',\n",
       "       'CONDUCTOR BUS', 'PASAJERO METRO', 'PASAJERO VEHICULO',\n",
       "       'PASAJERO BARCO', 'PASAJERO AERONAVE'], dtype=object)"
      ]
     },
     "execution_count": 48,
     "metadata": {},
     "output_type": "execute_result"
    }
   ],
   "execution_count": 48
  },
  {
   "metadata": {
    "ExecuteTime": {
     "end_time": "2024-08-25T02:22:08.382139Z",
     "start_time": "2024-08-25T02:22:08.366338Z"
    }
   },
   "cell_type": "code",
   "source": [
    "df.DESCRIPCION_CONDUCTA.unique()\n",
    "\n"
   ],
   "id": "a35921b00f5b4cd",
   "outputs": [
    {
     "data": {
      "text/plain": [
       "array(['ARTÍCULO 111. LESIONES PERSONALES',\n",
       "       'ARTÍCULO 239. HURTO A PERSONAS', 'ARTÍCULO 103. HOMICIDIO',\n",
       "       'ARTÍCULO 239. HURTO A RESIDENCIAS',\n",
       "       'ARTÍCULO 239. HURTO A ENTIDADES COMERCIALES',\n",
       "       'ARTÍCULO 229. VIOLENCIA INTRAFAMILIAR',\n",
       "       'ARTÍCULO 120. LESIONES CULPOSAS ( EN ACCIDENTE DE TRANSITO )',\n",
       "       'ARTÍCULO 208. ACCESO CARNAL ABUSIVO CON MENOR DE 14 AÑOS',\n",
       "       'ARTÍCULO 239. HURTO A MOTOCICLETAS',\n",
       "       'ARTÍCULO 209. ACTOS SEXUALES CON MENOR DE 14 AÑOS',\n",
       "       'ARTÍCULO 210 A. ACOSO SEXUAL',\n",
       "       'ARTÍCULO 109. HOMICIDIO CULPOSO ( EN ACCIDENTE DE TRÁNSITO)',\n",
       "       'ARTÍCULO 205. ACCESO CARNAL VIOLENTO', 'ARTÍCULO 244. EXTORSIÓN',\n",
       "       'ARTÍCULO 211. ACCESO CARNAL ABUSIVO CON MENOR DE 14 AÑOS (CIRCUNSTANCIAS AGRAVACIÓN)',\n",
       "       'ARTÍCULO 206. ACTO SEXUAL VIOLENTO',\n",
       "       'ARTÍCULO 239. HURTO A AUTOMOTORES',\n",
       "       'ARTÍCULO 169. SECUESTRO EXTORSIVO',\n",
       "       'ARTÍCULO 239. HURTO A ENTIDADES FINANCIERAS',\n",
       "       'ARTÍCULO 207. ACCESO CARNAL O ACTO SEXUAL EN PERSONA PUESTA EN INCAPACIDAD DE RESISTIR',\n",
       "       'ARTÍCULO 210. ACCESO CARNAL O ACTO SEXUAL ABUSIVO CON INCAPAZ DE RESISTIR',\n",
       "       'ARTÍCULO 239. HURTO A PIRATERÍA TERRESTRE',\n",
       "       'ARTÍCULO 211. ACTO SEXUAL VIOLENTO (CIRCUNSTANCIAS DE AGRAVACIÓN)',\n",
       "       'ARTÍCULO 211. ACTOS SEXUALES CON MENOR DE 14 AÑOS (CIRCUNSTANCIAS DE AGRAVACIÓN)',\n",
       "       'ARTÍCULO 239. HURTO A ABIGEATO',\n",
       "       'ARTÍCULO 214. CONSTREÑIMIENTO A LA PROSTITUCIÓN',\n",
       "       'ARTÍCULO 217. ESTÍMULO A LA PROSTITUCIÓN DE MENORES',\n",
       "       'ARTÍCULO 213. INDUCCIÓN A LA PROSTITUCIÓN',\n",
       "       'ARTÍCULO 219 A. UTILIZACIÓN O FACILITACIÓN DE MEDIOS DE COMUNICACIÓN PARA OFRECER SERVICIOS SEXUALES DE MENORES',\n",
       "       'ARTÍCULO 168. SECUESTRO SIMPLE',\n",
       "       'ARTÍCULO 218. PORNOGRAFÍA CON MENORES',\n",
       "       'ARTÍCULO 213 A. PROXENETISMO CON MENOR DE EDAD',\n",
       "       'ARTÍCULO 125. LESIONES AL FETO',\n",
       "       'ARTÍCULO 211. ACCESO CARNAL VIOLENTO (CIRCUNSTANCIAS AGRAVACIÓN)',\n",
       "       'ARTÍCULO 104A. FEMINICIDIO',\n",
       "       'ARTÍCULO 112. INCAPACIDAD PARA TRABAJAR O ENFERMEDAD',\n",
       "       'ARTÍCULO 217 A. DEMANDA DE EXPLOTACION SEXUAL COMERCIAL DE PERSONA MENOR DE 18 AÑOS DE EDAD',\n",
       "       'NO REPORTA', 'ARTICULO 120. LESIONES CULPOSAS',\n",
       "       'ARTÍCULO 347. AMENAZAS',\n",
       "       'ARTÍCULO 119. LESIONES PERSONALES ( CIRCUNSTANCIAS DE AGRAVACIÓN)',\n",
       "       'LESION ACCIDENTAL EN TRANSITO', 'ARTÍCULO 239. HURTO ABIGEATO'],\n",
       "      dtype=object)"
      ]
     },
     "execution_count": 49,
     "metadata": {},
     "output_type": "execute_result"
    }
   ],
   "execution_count": 49
  },
  {
   "metadata": {
    "ExecuteTime": {
     "end_time": "2024-08-25T02:22:35.754847Z",
     "start_time": "2024-08-25T02:22:35.739784Z"
    }
   },
   "cell_type": "code",
   "source": "df.DESCRIPCION_CONDUCTA.unique().shape",
   "id": "8d6466adabb57f70",
   "outputs": [
    {
     "data": {
      "text/plain": [
       "(43,)"
      ]
     },
     "execution_count": 50,
     "metadata": {},
     "output_type": "execute_result"
    }
   ],
   "execution_count": 50
  },
  {
   "metadata": {
    "ExecuteTime": {
     "end_time": "2024-08-25T02:23:09.149386Z",
     "start_time": "2024-08-25T02:23:09.126042Z"
    }
   },
   "cell_type": "code",
   "source": [
    "# Descripcion estadistica de los datos numericos\n",
    "df.describe()"
   ],
   "id": "c0d57842ddd180b3",
   "outputs": [
    {
     "data": {
      "text/plain": [
       "               ORDEN            ANO            DIA\n",
       "count  135076.000000  135076.000000  135076.000000\n",
       "mean    67538.500000    2015.724896      15.488510\n",
       "std     38993.226818       3.344696       8.811255\n",
       "min         1.000000    2010.000000       1.000000\n",
       "25%     33769.750000    2013.000000       8.000000\n",
       "50%     67538.500000    2016.000000      15.000000\n",
       "75%    101307.250000    2019.000000      23.000000\n",
       "max    135076.000000    2021.000000      31.000000"
      ],
      "text/html": [
       "<div>\n",
       "<style scoped>\n",
       "    .dataframe tbody tr th:only-of-type {\n",
       "        vertical-align: middle;\n",
       "    }\n",
       "\n",
       "    .dataframe tbody tr th {\n",
       "        vertical-align: top;\n",
       "    }\n",
       "\n",
       "    .dataframe thead th {\n",
       "        text-align: right;\n",
       "    }\n",
       "</style>\n",
       "<table border=\"1\" class=\"dataframe\">\n",
       "  <thead>\n",
       "    <tr style=\"text-align: right;\">\n",
       "      <th></th>\n",
       "      <th>ORDEN</th>\n",
       "      <th>ANO</th>\n",
       "      <th>DIA</th>\n",
       "    </tr>\n",
       "  </thead>\n",
       "  <tbody>\n",
       "    <tr>\n",
       "      <th>count</th>\n",
       "      <td>135076.000000</td>\n",
       "      <td>135076.000000</td>\n",
       "      <td>135076.000000</td>\n",
       "    </tr>\n",
       "    <tr>\n",
       "      <th>mean</th>\n",
       "      <td>67538.500000</td>\n",
       "      <td>2015.724896</td>\n",
       "      <td>15.488510</td>\n",
       "    </tr>\n",
       "    <tr>\n",
       "      <th>std</th>\n",
       "      <td>38993.226818</td>\n",
       "      <td>3.344696</td>\n",
       "      <td>8.811255</td>\n",
       "    </tr>\n",
       "    <tr>\n",
       "      <th>min</th>\n",
       "      <td>1.000000</td>\n",
       "      <td>2010.000000</td>\n",
       "      <td>1.000000</td>\n",
       "    </tr>\n",
       "    <tr>\n",
       "      <th>25%</th>\n",
       "      <td>33769.750000</td>\n",
       "      <td>2013.000000</td>\n",
       "      <td>8.000000</td>\n",
       "    </tr>\n",
       "    <tr>\n",
       "      <th>50%</th>\n",
       "      <td>67538.500000</td>\n",
       "      <td>2016.000000</td>\n",
       "      <td>15.000000</td>\n",
       "    </tr>\n",
       "    <tr>\n",
       "      <th>75%</th>\n",
       "      <td>101307.250000</td>\n",
       "      <td>2019.000000</td>\n",
       "      <td>23.000000</td>\n",
       "    </tr>\n",
       "    <tr>\n",
       "      <th>max</th>\n",
       "      <td>135076.000000</td>\n",
       "      <td>2021.000000</td>\n",
       "      <td>31.000000</td>\n",
       "    </tr>\n",
       "  </tbody>\n",
       "</table>\n",
       "</div>"
      ]
     },
     "execution_count": 51,
     "metadata": {},
     "output_type": "execute_result"
    }
   ],
   "execution_count": 51
  },
  {
   "metadata": {
    "ExecuteTime": {
     "end_time": "2024-08-25T03:03:31.591591Z",
     "start_time": "2024-08-25T03:03:31.321769Z"
    }
   },
   "cell_type": "code",
   "source": [
    "# Descripcion estadistica de los datos categoricos\n",
    "df[['ARMAS_MEDIOS', 'BARRIOS_HECHO', 'LATITUD', 'LONGITUD', 'ZONA', 'NOM_COMUNA', 'MES', 'DIA_SEMANA', 'DESCRIPCION_CONDUCTA', 'CLASIFICACIONES_DELITO', 'MOVIL_VICTIMA', 'MOVIL_AGRESOR']].value_counts()"
   ],
   "id": "b699a3ad44fb9313",
   "outputs": [
    {
     "data": {
      "text/plain": [
       "ARMAS_MEDIOS         BARRIOS_HECHO          LATITUD        LONGITUD        ZONA    NOM_COMUNA         MES             DIA_SEMANA     DESCRIPCION_CONDUCTA                                          CLASIFICACIONES_DELITO  MOVIL_VICTIMA  MOVIL_AGRESOR        \n",
       "SIN EMPLEO DE ARMAS  CHORRERAS DE DON JUAN  7,144,371      -73,128,085     URBANA  05. GARCÍA ROVIRA  09. SEPTIEMBRE  02. MARTES     ARTÍCULO 229. VIOLENCIA INTRAFAMILIAR                         LESIONES NO FATALES     A PIE          A PIE                    22\n",
       "VEHICULO             ANTONIA SANTOS SUR     709,910,762    -731,112,241    URBANA  09. LA PEDREGOSA   01. ENERO       03. MIÉRCOLES  ARTÍCULO 120. LESIONES CULPOSAS ( EN ACCIDENTE DE TRANSITO )  LESIONES NO FATALES     PASAJERO BUS   CONDUCTOR VEHICULO       20\n",
       "                     URB. COLSEGUROS NORTE  7,147,648,168  -7,313,271,932  URBANA  01. NORTE          01. ENERO       03. MIÉRCOLES  ARTÍCULO 120. LESIONES CULPOSAS ( EN ACCIDENTE DE TRANSITO )  LESIONES NO FATALES     PASAJERO BUS   CONDUCTOR VEHICULO       19\n",
       "                     LA CONCORDIA           7,113,055,831  -73,120,419     URBANA  06. LA CONCORDIA   12. DICIEMBRE   01. LUNES      ARTÍCULO 120. LESIONES CULPOSAS ( EN ACCIDENTE DE TRANSITO )  LESIONES NO FATALES     PASAJERO BUS   CONDUCTOR VEHICULO       19\n",
       "SIN EMPLEO DE ARMAS  CHORRERAS DE DON JUAN  7,144,371      -73,128,085     URBANA  05. GARCÍA ROVIRA  09. SEPTIEMBRE  03. MIÉRCOLES  ARTÍCULO 229. VIOLENCIA INTRAFAMILIAR                         LESIONES NO FATALES     A PIE          A PIE                    17\n",
       "                                                                                                                                                                                                                                                                   ..\n",
       "CONTUNDENTES         EL PRADO               7,120,448,208  -7,310,724,906  URBANA  13. ORIENTAL       02. FEBRERO     06. SÁBADO     ARTÍCULO 111. LESIONES PERSONALES                             LESIONES NO FATALES     A PIE          A PIE                     1\n",
       "                                            7,120,325,922  -73,109,934     URBANA  13. ORIENTAL       12. DICIEMBRE   03. MIÉRCOLES  ARTÍCULO 239. HURTO A PERSONAS                                LESIONES NO FATALES     A PIE          CONDUCTOR MOTOCICLETA     1\n",
       "                                                                                                      11. NOVIEMBRE   07. DOMINGO    ARTÍCULO 239. HURTO A PERSONAS                                LESIONES NO FATALES     A PIE          A PIE                     1\n",
       "                                                                                                                      05. VIERNES    ARTÍCULO 239. HURTO A PERSONAS                                LESIONES NO FATALES     A PIE          CONDUCTOR MOTOCICLETA     1\n",
       "                     TRANSICION I           7,143,754,937  -7,313,066,569  URBANA  02. NOR ORIENTAL   08. AGOSTO      05. VIERNES    ARTÍCULO 111. LESIONES PERSONALES                             LESIONES NO FATALES     A PIE          A PIE                     1\n",
       "Name: count, Length: 112452, dtype: int64"
      ]
     },
     "execution_count": 79,
     "metadata": {},
     "output_type": "execute_result"
    }
   ],
   "execution_count": 79
  },
  {
   "metadata": {
    "ExecuteTime": {
     "end_time": "2024-08-25T03:23:58.710566Z",
     "start_time": "2024-08-25T03:23:58.473964Z"
    }
   },
   "cell_type": "code",
   "source": [
    "# Detectar valores atipicos en los datos\n",
    "df['ANO'].hist(bins='auto')"
   ],
   "id": "dec1cc3e1bbabd3c",
   "outputs": [
    {
     "data": {
      "text/plain": [
       "<Axes: >"
      ]
     },
     "execution_count": 84,
     "metadata": {},
     "output_type": "execute_result"
    },
    {
     "data": {
      "text/plain": [
       "<Figure size 640x480 with 1 Axes>"
      ],
      "image/png": "[encoded data removed]"
     },
     "metadata": {},
     "output_type": "display_data"
    }
   ],
   "execution_count": 84
  },
  {
   "metadata": {
    "ExecuteTime": {
     "end_time": "2024-08-25T03:24:35.586392Z",
     "start_time": "2024-08-25T03:24:35.403184Z"
    }
   },
   "cell_type": "code",
   "source": "df['DIA'].hist(bins='auto')",
   "id": "61c9dc548fc08237",
   "outputs": [
    {
     "data": {
      "text/plain": [
       "<Axes: >"
      ]
     },
     "execution_count": 85,
     "metadata": {},
     "output_type": "execute_result"
    },
    {
     "data": {
      "text/plain": [
       "<Figure size 640x480 with 1 Axes>"
      ],
      "image/png": "[encoded data removed]"
     },
     "metadata": {},
     "output_type": "display_data"
    }
   ],
   "execution_count": 85
  },
  {
   "metadata": {
    "ExecuteTime": {
     "end_time": "2024-08-25T02:24:32.911366Z",
     "start_time": "2024-08-25T02:24:32.853864Z"
    }
   },
   "cell_type": "code",
   "source": [
    "# Identificar datos null\n",
    "df.isnull().sum()"
   ],
   "id": "51a319b9452800c8",
   "outputs": [
    {
     "data": {
      "text/plain": [
       "ORDEN                     0\n",
       "ARMAS_MEDIOS              0\n",
       "BARRIOS_HECHO             0\n",
       "LATITUD                   0\n",
       "LONGITUD                  0\n",
       "ZONA                      0\n",
       "NOM_COMUNA                0\n",
       "ANO                       0\n",
       "MES                       0\n",
       "DIA                       0\n",
       "DIA_SEMANA                0\n",
       "DESCRIPCION_CONDUCTA      0\n",
       "CONDUCTA                  0\n",
       "CLASIFICACIONES_DELITO    0\n",
       "CURSO_DE_VIDA             0\n",
       "ESTADO_CIVIL_PERSONA      0\n",
       "GENERO                    0\n",
       "MOVIL_AGRESOR             0\n",
       "MOVIL_VICTIMA             0\n",
       "dtype: int64"
      ]
     },
     "execution_count": 52,
     "metadata": {},
     "output_type": "execute_result"
    }
   ],
   "execution_count": 52
  },
  {
   "metadata": {
    "ExecuteTime": {
     "end_time": "2024-08-25T02:25:02.991687Z",
     "start_time": "2024-08-25T02:25:02.848361Z"
    }
   },
   "cell_type": "code",
   "source": [
    "duplicate_rows_data = df[df.duplicated()]\n",
    "print(\"numero de filas dulicadas completamente: \", duplicate_rows_data.shape[0])"
   ],
   "id": "4940f66cd4276d7d",
   "outputs": [
    {
     "name": "stdout",
     "output_type": "stream",
     "text": [
      "numero de filas dulicadas completamente:  0\n"
     ]
    }
   ],
   "execution_count": 53
  },
  {
   "metadata": {},
   "cell_type": "markdown",
   "source": "FEATURE ENGINEERING\n",
   "id": "c59a1e94600ce8ca"
  },
  {
   "metadata": {
    "ExecuteTime": {
     "end_time": "2024-08-25T02:16:45.565743Z",
     "start_time": "2024-08-25T02:16:45.550247Z"
    }
   },
   "cell_type": "code",
   "source": [
    "# Renombrar columnas\n",
    "df = df.rename(columns={'CLASIFICACIONES DELITO': 'CLASIFICACIONES_DELITO'})"
   ],
   "id": "db0e23d98ee2c537",
   "outputs": [],
   "execution_count": 42
  },
  {
   "metadata": {
    "ExecuteTime": {
     "end_time": "2024-08-25T02:25:31.026876Z",
     "start_time": "2024-08-25T02:25:31.004009Z"
    }
   },
   "cell_type": "code",
   "source": [
    "# Eliminar columnas innecesarias\n",
    "\n",
    "# Se elimina estado_civil_persona por falta de utilidad en prediccion\n",
    "df = df.drop([\"ESTADO_CIVIL_PERSONA\"], axis=1)"
   ],
   "id": "693355d5cc9b943e",
   "outputs": [],
   "execution_count": 55
  },
  {
   "metadata": {
    "ExecuteTime": {
     "end_time": "2024-08-25T02:25:40.375954Z",
     "start_time": "2024-08-25T02:25:40.352759Z"
    }
   },
   "cell_type": "code",
   "source": [
    "# Se elimina curso_de_vida por falta de utilidad en prediccion\n",
    "df = df.drop([\"CURSO_DE_VIDA\"], axis=1)"
   ],
   "id": "b09e372c76a7225f",
   "outputs": [],
   "execution_count": 56
  },
  {
   "metadata": {
    "ExecuteTime": {
     "end_time": "2024-08-25T02:26:16.177776Z",
     "start_time": "2024-08-25T02:26:16.155472Z"
    }
   },
   "cell_type": "code",
   "source": [
    "# Se elimina genero por falta de utilidad en prediccion\n",
    "df = df.drop([\"GENERO\"], axis=1)"
   ],
   "id": "450a5e349b7400a2",
   "outputs": [],
   "execution_count": 58
  },
  {
   "metadata": {
    "ExecuteTime": {
     "end_time": "2024-08-25T02:26:26.048425Z",
     "start_time": "2024-08-25T02:26:26.027899Z"
    }
   },
   "cell_type": "code",
   "source": [
    "# Se elimina conducta por redundancia con descripcion_conducta y disonancia en el shape de las clasificaciones\n",
    "df = df.drop([\"CONDUCTA\"], axis=1)"
   ],
   "id": "d5e4b464299aaf52",
   "outputs": [],
   "execution_count": 59
  },
  {
   "metadata": {
    "ExecuteTime": {
     "end_time": "2024-08-25T02:34:54.179406Z",
     "start_time": "2024-08-25T02:34:54.128316Z"
    }
   },
   "cell_type": "code",
   "source": [
    "# Ver proporciones de datos faltantes\n",
    "df.isna().sum() / len(df) * 100"
   ],
   "id": "781942897efde559",
   "outputs": [
    {
     "data": {
      "text/plain": [
       "ORDEN                     0.0\n",
       "ARMAS_MEDIOS              0.0\n",
       "BARRIOS_HECHO             0.0\n",
       "LATITUD                   0.0\n",
       "LONGITUD                  0.0\n",
       "ZONA                      0.0\n",
       "NOM_COMUNA                0.0\n",
       "ANO                       0.0\n",
       "MES                       0.0\n",
       "DIA                       0.0\n",
       "DIA_SEMANA                0.0\n",
       "DESCRIPCION_CONDUCTA      0.0\n",
       "CLASIFICACIONES_DELITO    0.0\n",
       "MOVIL_AGRESOR             0.0\n",
       "MOVIL_VICTIMA             0.0\n",
       "dtype: float64"
      ]
     },
     "execution_count": 64,
     "metadata": {},
     "output_type": "execute_result"
    }
   ],
   "execution_count": 64
  },
  {
   "metadata": {
    "ExecuteTime": {
     "end_time": "2024-08-25T02:49:58.989185Z",
     "start_time": "2024-08-25T02:49:58.972502Z"
    }
   },
   "cell_type": "code",
   "source": [
    "# Cambiar a valores NaN los datos no reportados\n",
    "df.replace(\"NO REPORTA\", np.nan, inplace=True)"
   ],
   "id": "332853c64594b3b",
   "outputs": [
    {
     "ename": "TypeError",
     "evalue": "NDFrame.replace() takes from 1 to 3 positional arguments but 5 positional arguments (and 1 keyword-only argument) were given",
     "output_type": "error",
     "traceback": [
      "\u001B[1;31m---------------------------------------------------------------------------\u001B[0m",
      "\u001B[1;31mTypeError\u001B[0m                                 Traceback (most recent call last)",
      "Cell \u001B[1;32mIn[71], line 1\u001B[0m\n\u001B[1;32m----> 1\u001B[0m df\u001B[38;5;241m.\u001B[39mreplace(\u001B[38;5;124m\"\u001B[39m\u001B[38;5;124mNO REPORTA\u001B[39m\u001B[38;5;124m\"\u001B[39m, \u001B[38;5;124m\"\u001B[39m\u001B[38;5;124mNO REPORTADO\u001B[39m\u001B[38;5;124m\"\u001B[39m, \u001B[38;5;124m\"\u001B[39m\u001B[38;5;124m\"\u001B[39m, np\u001B[38;5;241m.\u001B[39mnan, inplace\u001B[38;5;241m=\u001B[39m\u001B[38;5;28;01mTrue\u001B[39;00m)\n",
      "\u001B[1;31mTypeError\u001B[0m: NDFrame.replace() takes from 1 to 3 positional arguments but 5 positional arguments (and 1 keyword-only argument) were given"
     ]
    }
   ],
   "execution_count": 71
  },
  {
   "metadata": {
    "ExecuteTime": {
     "end_time": "2024-08-25T02:51:08.764613Z",
     "start_time": "2024-08-25T02:51:08.693855Z"
    }
   },
   "cell_type": "code",
   "source": "df.replace(\"NO REPORTADO\", np.nan, inplace=True)",
   "id": "49ce74c28a6562eb",
   "outputs": [],
   "execution_count": 73
  },
  {
   "metadata": {
    "ExecuteTime": {
     "end_time": "2024-08-25T02:51:16.370536Z",
     "start_time": "2024-08-25T02:51:16.324601Z"
    }
   },
   "cell_type": "code",
   "source": "df.isna().sum() / len(df) * 100\n",
   "id": "c45eaec14fff7e5b",
   "outputs": [
    {
     "data": {
      "text/plain": [
       "ORDEN                     0.000000\n",
       "ARMAS_MEDIOS              1.564305\n",
       "BARRIOS_HECHO             0.000000\n",
       "LATITUD                   0.000000\n",
       "LONGITUD                  0.000000\n",
       "ZONA                      1.620569\n",
       "NOM_COMUNA                0.000000\n",
       "ANO                       0.000000\n",
       "MES                       0.000000\n",
       "DIA                       0.000000\n",
       "DIA_SEMANA                0.000000\n",
       "DESCRIPCION_CONDUCTA      0.008884\n",
       "CLASIFICACIONES_DELITO    0.008884\n",
       "MOVIL_AGRESOR             0.321301\n",
       "MOVIL_VICTIMA             0.652225\n",
       "dtype: float64"
      ]
     },
     "execution_count": 74,
     "metadata": {},
     "output_type": "execute_result"
    }
   ],
   "execution_count": 74
  }
 ],
 "metadata": {
  "kernelspec": {
   "display_name": "Python 3",
   "language": "python",
   "name": "python3"
  },
  "language_info": {
   "codemirror_mode": {
    "name": "ipython",
    "version": 2
   },
   "file_extension": ".py",
   "mimetype": "text/x-python",
   "name": "python",
   "nbconvert_exporter": "python",
   "pygments_lexer": "ipython2",
   "version": "2.7.6"
  }
 },
 "nbformat": 4,
 "nbformat_minor": 5
}
