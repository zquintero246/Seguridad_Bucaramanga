{
 "cells": [
  {
   "metadata": {},
   "cell_type": "markdown",
   "source": "LIBRERIAS A USAR",
   "id": "753caad9e0cba243"
  },
  {
   "metadata": {
    "ExecuteTime": {
     "end_time": "2024-08-24T23:23:45.624365Z",
     "start_time": "2024-08-24T23:23:45.620335Z"
    }
   },
   "cell_type": "code",
   "source": [
    "\n",
    "# Pandas para manejo de datos\n",
    "import pandas as pd\n",
    "\n",
    "# Request para hacer peticiones HTTP\n",
    "import requests\n",
    "\n",
    "# MatplotLib para grafos\n",
    "import matplotlib.pyplot as plt"
   ],
   "id": "fbc121e30a2defb3",
   "outputs": [],
   "execution_count": 15
  },
  {
   "metadata": {},
   "cell_type": "markdown",
   "source": "CARGAR DATOS",
   "id": "39ec04f42db76971"
  },
  {
   "metadata": {
    "ExecuteTime": {
     "end_time": "2024-08-24T23:23:46.797068Z",
     "start_time": "2024-08-24T23:23:45.628443Z"
    }
   },
   "cell_type": "code",
   "source": [
    "#API de datos abiertos de Colombia\n",
    "url = \"https://www.datos.gov.co/resource/75fz-q98y.json\"\n",
    "\n",
    "# Realizar la petición HTTP\n",
    "response = requests.get(url)\n",
    "\n",
    "# Verificar si la petición fue exitosa\n",
    "if response.status_code == 200:\n",
    "\n",
    "    # Convertir la respuesta en un DataFrame de Pandas\n",
    "    data = response.json()\n",
    "    df = pd.DataFrame(data)\n",
    "\n",
    "else:\n",
    "    print(\"Error al obtener los datos: \", response.status_code)"
   ],
   "id": "b531bdc199f83042",
   "outputs": [],
   "execution_count": 16
  },
  {
   "metadata": {},
   "cell_type": "markdown",
   "source": "EXPLORAR DATOS",
   "id": "911ba4428932a75e"
  },
  {
   "metadata": {
    "ExecuteTime": {
     "end_time": "2024-08-24T23:23:46.820900Z",
     "start_time": "2024-08-24T23:23:46.809493Z"
    }
   },
   "cell_type": "code",
   "source": [
    "\n",
    "# Mostra el tipo de dato de cada columna\n",
    "df.info()\n"
   ],
   "id": "dd49ac42d01dc35b",
   "outputs": [
    {
     "name": "stdout",
     "output_type": "stream",
     "text": [
      "<class 'pandas.core.frame.DataFrame'>\n",
      "RangeIndex: 1000 entries, 0 to 999\n",
      "Data columns (total 19 columns):\n",
      " #   Column                  Non-Null Count  Dtype \n",
      "---  ------                  --------------  ----- \n",
      " 0   orden                   1000 non-null   object\n",
      " 1   armas_medios            1000 non-null   object\n",
      " 2   barrios_hecho           1000 non-null   object\n",
      " 3   latitud                 1000 non-null   object\n",
      " 4   longitud                1000 non-null   object\n",
      " 5   zona                    1000 non-null   object\n",
      " 6   nom_comuna              1000 non-null   object\n",
      " 7   ano                     1000 non-null   object\n",
      " 8   mes                     1000 non-null   object\n",
      " 9   dia                     1000 non-null   object\n",
      " 10  dia_semana              1000 non-null   object\n",
      " 11  descripcion_conducta    1000 non-null   object\n",
      " 12  conducta                1000 non-null   object\n",
      " 13  clasificaciones_delito  1000 non-null   object\n",
      " 14  curso_de_vida           1000 non-null   object\n",
      " 15  estado_civil_persona    1000 non-null   object\n",
      " 16  genero                  1000 non-null   object\n",
      " 17  movil_agresor           1000 non-null   object\n",
      " 18  movil_victima           1000 non-null   object\n",
      "dtypes: object(19)\n",
      "memory usage: 148.6+ KB\n"
     ]
    }
   ],
   "execution_count": 17
  },
  {
   "metadata": {
    "ExecuteTime": {
     "end_time": "2024-08-24T23:57:03.154980Z",
     "start_time": "2024-08-24T23:57:03.142616Z"
    }
   },
   "cell_type": "code",
   "source": [
    "# Mostrar las primeras filas del DataFrame\n",
    "df.head(10)"
   ],
   "id": "a84276137eab4ba5",
   "outputs": [
    {
     "data": {
      "text/plain": [
       "  orden                 armas_medios  barrios_hecho        latitud  \\\n",
       "0     1  ARMA BLANCA / CORTOPUNZANTE   BUENOS AIRES  7,170,557,382   \n",
       "1     2  ARMA BLANCA / CORTOPUNZANTE  CAMPO HERMOSO  7,120,645,358   \n",
       "2     3  ARMA BLANCA / CORTOPUNZANTE  CAMPO HERMOSO  7,120,645,358   \n",
       "3     4  ARMA BLANCA / CORTOPUNZANTE      COMUNEROS    715,135,927   \n",
       "4     5  ARMA BLANCA / CORTOPUNZANTE       GIRARDOT  7,170,557,382   \n",
       "5     6  ARMA BLANCA / CORTOPUNZANTE       GIRARDOT  7,170,557,382   \n",
       "6     7  ARMA BLANCA / CORTOPUNZANTE    LOS ANGELES  7,187,455,129   \n",
       "7     8  ARMA BLANCA / CORTOPUNZANTE         NARIÑO    715,655,391   \n",
       "8     9  ARMA BLANCA / CORTOPUNZANTE       PROVENZA  7,120,001,072   \n",
       "9    10  ARMA BLANCA / CORTOPUNZANTE      SOTOMAYOR  7,161,314,229   \n",
       "\n",
       "          longitud    zona              nom_comuna   ano        mes dia  \\\n",
       "0      -73,135,108  URBANA           14. MORRORICO  2010  01. ENERO   1   \n",
       "1       -7,312,605  URBANA       05. GARCÍA ROVIRA  2010  01. ENERO   1   \n",
       "2       -7,312,605  URBANA       05. GARCÍA ROVIRA  2010  01. ENERO   1   \n",
       "3  -73,145,704,583  URBANA       03. SAN FRANCISCO  2010  01. ENERO   1   \n",
       "4      -73,135,108  URBANA          04. OCCIDENTAL  2010  01. ENERO   1   \n",
       "5      -73,135,108  URBANA          04. OCCIDENTAL  2010  01. ENERO   1   \n",
       "6  -73,131,726,904  URBANA        02. NOR ORIENTAL  2010  01. ENERO   1   \n",
       "7  -73,140,753,417  URBANA          04. OCCIDENTAL  2010  01. ENERO   1   \n",
       "8  -73,116,084,261  URBANA            10. PROVENZA  2010  01. ENERO   1   \n",
       "9  -73,139,956,655  URBANA  12. CABECERA DEL LLANO  2010  01. ENERO   1   \n",
       "\n",
       "    dia_semana               descripcion_conducta clasificaciones_delito  \\\n",
       "0  05. VIERNES  ARTÍCULO 111. LESIONES PERSONALES    LESIONES NO FATALES   \n",
       "1  05. VIERNES  ARTÍCULO 111. LESIONES PERSONALES    LESIONES NO FATALES   \n",
       "2  05. VIERNES  ARTÍCULO 111. LESIONES PERSONALES    LESIONES NO FATALES   \n",
       "3  05. VIERNES  ARTÍCULO 111. LESIONES PERSONALES    LESIONES NO FATALES   \n",
       "4  05. VIERNES  ARTÍCULO 111. LESIONES PERSONALES    LESIONES NO FATALES   \n",
       "5  05. VIERNES  ARTÍCULO 111. LESIONES PERSONALES    LESIONES NO FATALES   \n",
       "6  05. VIERNES  ARTÍCULO 111. LESIONES PERSONALES    LESIONES NO FATALES   \n",
       "7  05. VIERNES  ARTÍCULO 111. LESIONES PERSONALES    LESIONES NO FATALES   \n",
       "8  05. VIERNES  ARTÍCULO 111. LESIONES PERSONALES    LESIONES NO FATALES   \n",
       "9  05. VIERNES  ARTÍCULO 111. LESIONES PERSONALES    LESIONES NO FATALES   \n",
       "\n",
       "  movil_agresor movil_victima  \n",
       "0         A PIE         A PIE  \n",
       "1         A PIE         A PIE  \n",
       "2         A PIE         A PIE  \n",
       "3         A PIE         A PIE  \n",
       "4         A PIE         A PIE  \n",
       "5         A PIE         A PIE  \n",
       "6         A PIE         A PIE  \n",
       "7         A PIE         A PIE  \n",
       "8         A PIE         A PIE  \n",
       "9         A PIE         A PIE  "
      ],
      "text/html": [
       "<div>\n",
       "<style scoped>\n",
       "    .dataframe tbody tr th:only-of-type {\n",
       "        vertical-align: middle;\n",
       "    }\n",
       "\n",
       "    .dataframe tbody tr th {\n",
       "        vertical-align: top;\n",
       "    }\n",
       "\n",
       "    .dataframe thead th {\n",
       "        text-align: right;\n",
       "    }\n",
       "</style>\n",
       "<table border=\"1\" class=\"dataframe\">\n",
       "  <thead>\n",
       "    <tr style=\"text-align: right;\">\n",
       "      <th></th>\n",
       "      <th>orden</th>\n",
       "      <th>armas_medios</th>\n",
       "      <th>barrios_hecho</th>\n",
       "      <th>latitud</th>\n",
       "      <th>longitud</th>\n",
       "      <th>zona</th>\n",
       "      <th>nom_comuna</th>\n",
       "      <th>ano</th>\n",
       "      <th>mes</th>\n",
       "      <th>dia</th>\n",
       "      <th>dia_semana</th>\n",
       "      <th>descripcion_conducta</th>\n",
       "      <th>clasificaciones_delito</th>\n",
       "      <th>movil_agresor</th>\n",
       "      <th>movil_victima</th>\n",
       "    </tr>\n",
       "  </thead>\n",
       "  <tbody>\n",
       "    <tr>\n",
       "      <th>0</th>\n",
       "      <td>1</td>\n",
       "      <td>ARMA BLANCA / CORTOPUNZANTE</td>\n",
       "      <td>BUENOS AIRES</td>\n",
       "      <td>7,170,557,382</td>\n",
       "      <td>-73,135,108</td>\n",
       "      <td>URBANA</td>\n",
       "      <td>14. MORRORICO</td>\n",
       "      <td>2010</td>\n",
       "      <td>01. ENERO</td>\n",
       "      <td>1</td>\n",
       "      <td>05. VIERNES</td>\n",
       "      <td>ARTÍCULO 111. LESIONES PERSONALES</td>\n",
       "      <td>LESIONES NO FATALES</td>\n",
       "      <td>A PIE</td>\n",
       "      <td>A PIE</td>\n",
       "    </tr>\n",
       "    <tr>\n",
       "      <th>1</th>\n",
       "      <td>2</td>\n",
       "      <td>ARMA BLANCA / CORTOPUNZANTE</td>\n",
       "      <td>CAMPO HERMOSO</td>\n",
       "      <td>7,120,645,358</td>\n",
       "      <td>-7,312,605</td>\n",
       "      <td>URBANA</td>\n",
       "      <td>05. GARCÍA ROVIRA</td>\n",
       "      <td>2010</td>\n",
       "      <td>01. ENERO</td>\n",
       "      <td>1</td>\n",
       "      <td>05. VIERNES</td>\n",
       "      <td>ARTÍCULO 111. LESIONES PERSONALES</td>\n",
       "      <td>LESIONES NO FATALES</td>\n",
       "      <td>A PIE</td>\n",
       "      <td>A PIE</td>\n",
       "    </tr>\n",
       "    <tr>\n",
       "      <th>2</th>\n",
       "      <td>3</td>\n",
       "      <td>ARMA BLANCA / CORTOPUNZANTE</td>\n",
       "      <td>CAMPO HERMOSO</td>\n",
       "      <td>7,120,645,358</td>\n",
       "      <td>-7,312,605</td>\n",
       "      <td>URBANA</td>\n",
       "      <td>05. GARCÍA ROVIRA</td>\n",
       "      <td>2010</td>\n",
       "      <td>01. ENERO</td>\n",
       "      <td>1</td>\n",
       "      <td>05. VIERNES</td>\n",
       "      <td>ARTÍCULO 111. LESIONES PERSONALES</td>\n",
       "      <td>LESIONES NO FATALES</td>\n",
       "      <td>A PIE</td>\n",
       "      <td>A PIE</td>\n",
       "    </tr>\n",
       "    <tr>\n",
       "      <th>3</th>\n",
       "      <td>4</td>\n",
       "      <td>ARMA BLANCA / CORTOPUNZANTE</td>\n",
       "      <td>COMUNEROS</td>\n",
       "      <td>715,135,927</td>\n",
       "      <td>-73,145,704,583</td>\n",
       "      <td>URBANA</td>\n",
       "      <td>03. SAN FRANCISCO</td>\n",
       "      <td>2010</td>\n",
       "      <td>01. ENERO</td>\n",
       "      <td>1</td>\n",
       "      <td>05. VIERNES</td>\n",
       "      <td>ARTÍCULO 111. LESIONES PERSONALES</td>\n",
       "      <td>LESIONES NO FATALES</td>\n",
       "      <td>A PIE</td>\n",
       "      <td>A PIE</td>\n",
       "    </tr>\n",
       "    <tr>\n",
       "      <th>4</th>\n",
       "      <td>5</td>\n",
       "      <td>ARMA BLANCA / CORTOPUNZANTE</td>\n",
       "      <td>GIRARDOT</td>\n",
       "      <td>7,170,557,382</td>\n",
       "      <td>-73,135,108</td>\n",
       "      <td>URBANA</td>\n",
       "      <td>04. OCCIDENTAL</td>\n",
       "      <td>2010</td>\n",
       "      <td>01. ENERO</td>\n",
       "      <td>1</td>\n",
       "      <td>05. VIERNES</td>\n",
       "      <td>ARTÍCULO 111. LESIONES PERSONALES</td>\n",
       "      <td>LESIONES NO FATALES</td>\n",
       "      <td>A PIE</td>\n",
       "      <td>A PIE</td>\n",
       "    </tr>\n",
       "    <tr>\n",
       "      <th>5</th>\n",
       "      <td>6</td>\n",
       "      <td>ARMA BLANCA / CORTOPUNZANTE</td>\n",
       "      <td>GIRARDOT</td>\n",
       "      <td>7,170,557,382</td>\n",
       "      <td>-73,135,108</td>\n",
       "      <td>URBANA</td>\n",
       "      <td>04. OCCIDENTAL</td>\n",
       "      <td>2010</td>\n",
       "      <td>01. ENERO</td>\n",
       "      <td>1</td>\n",
       "      <td>05. VIERNES</td>\n",
       "      <td>ARTÍCULO 111. LESIONES PERSONALES</td>\n",
       "      <td>LESIONES NO FATALES</td>\n",
       "      <td>A PIE</td>\n",
       "      <td>A PIE</td>\n",
       "    </tr>\n",
       "    <tr>\n",
       "      <th>6</th>\n",
       "      <td>7</td>\n",
       "      <td>ARMA BLANCA / CORTOPUNZANTE</td>\n",
       "      <td>LOS ANGELES</td>\n",
       "      <td>7,187,455,129</td>\n",
       "      <td>-73,131,726,904</td>\n",
       "      <td>URBANA</td>\n",
       "      <td>02. NOR ORIENTAL</td>\n",
       "      <td>2010</td>\n",
       "      <td>01. ENERO</td>\n",
       "      <td>1</td>\n",
       "      <td>05. VIERNES</td>\n",
       "      <td>ARTÍCULO 111. LESIONES PERSONALES</td>\n",
       "      <td>LESIONES NO FATALES</td>\n",
       "      <td>A PIE</td>\n",
       "      <td>A PIE</td>\n",
       "    </tr>\n",
       "    <tr>\n",
       "      <th>7</th>\n",
       "      <td>8</td>\n",
       "      <td>ARMA BLANCA / CORTOPUNZANTE</td>\n",
       "      <td>NARIÑO</td>\n",
       "      <td>715,655,391</td>\n",
       "      <td>-73,140,753,417</td>\n",
       "      <td>URBANA</td>\n",
       "      <td>04. OCCIDENTAL</td>\n",
       "      <td>2010</td>\n",
       "      <td>01. ENERO</td>\n",
       "      <td>1</td>\n",
       "      <td>05. VIERNES</td>\n",
       "      <td>ARTÍCULO 111. LESIONES PERSONALES</td>\n",
       "      <td>LESIONES NO FATALES</td>\n",
       "      <td>A PIE</td>\n",
       "      <td>A PIE</td>\n",
       "    </tr>\n",
       "    <tr>\n",
       "      <th>8</th>\n",
       "      <td>9</td>\n",
       "      <td>ARMA BLANCA / CORTOPUNZANTE</td>\n",
       "      <td>PROVENZA</td>\n",
       "      <td>7,120,001,072</td>\n",
       "      <td>-73,116,084,261</td>\n",
       "      <td>URBANA</td>\n",
       "      <td>10. PROVENZA</td>\n",
       "      <td>2010</td>\n",
       "      <td>01. ENERO</td>\n",
       "      <td>1</td>\n",
       "      <td>05. VIERNES</td>\n",
       "      <td>ARTÍCULO 111. LESIONES PERSONALES</td>\n",
       "      <td>LESIONES NO FATALES</td>\n",
       "      <td>A PIE</td>\n",
       "      <td>A PIE</td>\n",
       "    </tr>\n",
       "    <tr>\n",
       "      <th>9</th>\n",
       "      <td>10</td>\n",
       "      <td>ARMA BLANCA / CORTOPUNZANTE</td>\n",
       "      <td>SOTOMAYOR</td>\n",
       "      <td>7,161,314,229</td>\n",
       "      <td>-73,139,956,655</td>\n",
       "      <td>URBANA</td>\n",
       "      <td>12. CABECERA DEL LLANO</td>\n",
       "      <td>2010</td>\n",
       "      <td>01. ENERO</td>\n",
       "      <td>1</td>\n",
       "      <td>05. VIERNES</td>\n",
       "      <td>ARTÍCULO 111. LESIONES PERSONALES</td>\n",
       "      <td>LESIONES NO FATALES</td>\n",
       "      <td>A PIE</td>\n",
       "      <td>A PIE</td>\n",
       "    </tr>\n",
       "  </tbody>\n",
       "</table>\n",
       "</div>"
      ]
     },
     "execution_count": 44,
     "metadata": {},
     "output_type": "execute_result"
    }
   ],
   "execution_count": 44
  },
  {
   "metadata": {
    "ExecuteTime": {
     "end_time": "2024-08-25T00:12:05.872473Z",
     "start_time": "2024-08-25T00:12:05.866457Z"
    }
   },
   "cell_type": "code",
   "source": [
    "for column in df.columns:\n",
    "    num_distinct_values = len(df[column].unique())\n",
    "    print(f\"{column}: {num_distinct_values} distintos valores\")"
   ],
   "id": "20842ca439fc53f8",
   "outputs": [
    {
     "name": "stdout",
     "output_type": "stream",
     "text": [
      "orden: 1000 distintos valores\n",
      "armas_medios: 14 distintos valores\n",
      "barrios_hecho: 177 distintos valores\n",
      "latitud: 161 distintos valores\n",
      "longitud: 160 distintos valores\n",
      "zona: 3 distintos valores\n",
      "nom_comuna: 21 distintos valores\n",
      "ano: 2 distintos valores\n",
      "mes: 3 distintos valores\n",
      "dia: 31 distintos valores\n",
      "dia_semana: 7 distintos valores\n",
      "descripcion_conducta: 20 distintos valores\n",
      "clasificaciones_delito: 3 distintos valores\n",
      "movil_agresor: 8 distintos valores\n",
      "movil_victima: 8 distintos valores\n"
     ]
    }
   ],
   "execution_count": 53
  },
  {
   "metadata": {
    "ExecuteTime": {
     "end_time": "2024-08-25T00:17:55.146318Z",
     "start_time": "2024-08-25T00:17:55.140391Z"
    }
   },
   "cell_type": "code",
   "source": [
    "df.armas_medios.unique()\n",
    "\n",
    "#NaN No reporta"
   ],
   "id": "25cdb9986179a0d7",
   "outputs": [
    {
     "data": {
      "text/plain": [
       "array(['ARMA BLANCA / CORTOPUNZANTE', 'ARMA DE FUEGO', 'CONTUNDENTES',\n",
       "       'MOTO', 'NO REPORTADO', 'SIN EMPLEO DE ARMAS', 'VEHICULO',\n",
       "       'LLAVE MAESTRA', 'CORTANTES', 'LLAMADA TELEFONICA',\n",
       "       'CORTOPUNZANTES', 'ESCOPOLAMINA', 'DIRECTA', 'REDES SOCIALES'],\n",
       "      dtype=object)"
      ]
     },
     "execution_count": 54,
     "metadata": {},
     "output_type": "execute_result"
    }
   ],
   "execution_count": 54
  },
  {
   "metadata": {
    "ExecuteTime": {
     "end_time": "2024-08-25T00:08:47.767603Z",
     "start_time": "2024-08-25T00:08:47.760494Z"
    }
   },
   "cell_type": "code",
   "source": "df.zona.unique()",
   "id": "c974763992d3f40d",
   "outputs": [
    {
     "data": {
      "text/plain": [
       "array(['URBANA', 'RURAL', 'OTROS'], dtype=object)"
      ]
     },
     "execution_count": 50,
     "metadata": {},
     "output_type": "execute_result"
    }
   ],
   "execution_count": 50
  },
  {
   "metadata": {
    "ExecuteTime": {
     "end_time": "2024-08-25T00:03:53.951554Z",
     "start_time": "2024-08-25T00:03:53.946393Z"
    }
   },
   "cell_type": "code",
   "source": [
    "df.nom_comuna.unique()\n",
    "\n",
    "# REVISAR QUE ES PARTE DE BUCARAMANGA"
   ],
   "id": "38937e3678dcd518",
   "outputs": [
    {
     "data": {
      "text/plain": [
       "array(['14. MORRORICO', '05. GARCÍA ROVIRA', '03. SAN FRANCISCO',\n",
       "       '04. OCCIDENTAL', '02. NOR ORIENTAL', '10. PROVENZA',\n",
       "       '12. CABECERA DEL LLANO', '11. SUR', '01. NORTE',\n",
       "       '09. LA PEDREGOSA', 'CORREGIMIENTO 1', '15. CENTRO',\n",
       "       'CORREGIMIENTO 3', '06. LA CONCORDIA', '13. ORIENTAL', '17. MUTIS',\n",
       "       '07. LA CIUDADELA', '08. SUR OCCIDENTE', '16. LAGOS DEL CACIQUE',\n",
       "       'FLORIDABLANCA', 'CORREGIMIENTO 2'], dtype=object)"
      ]
     },
     "execution_count": 46,
     "metadata": {},
     "output_type": "execute_result"
    }
   ],
   "execution_count": 46
  },
  {
   "metadata": {
    "ExecuteTime": {
     "end_time": "2024-08-25T00:04:40.988081Z",
     "start_time": "2024-08-25T00:04:40.983365Z"
    }
   },
   "cell_type": "code",
   "source": "df.nom_comuna.unique().shape",
   "id": "e5e297b4d94779c6",
   "outputs": [
    {
     "data": {
      "text/plain": [
       "(21,)"
      ]
     },
     "execution_count": 49,
     "metadata": {},
     "output_type": "execute_result"
    }
   ],
   "execution_count": 49
  },
  {
   "metadata": {
    "ExecuteTime": {
     "end_time": "2024-08-24T23:57:23.310051Z",
     "start_time": "2024-08-24T23:57:23.305802Z"
    }
   },
   "cell_type": "code",
   "source": "df.clasificaciones_delito.unique()",
   "id": "445b904237291a74",
   "outputs": [
    {
     "data": {
      "text/plain": [
       "array(['LESIONES NO FATALES', 'LESIONES FATALES', 'VIOLENCIA SEXUAL'],\n",
       "      dtype=object)"
      ]
     },
     "execution_count": 45,
     "metadata": {},
     "output_type": "execute_result"
    }
   ],
   "execution_count": 45
  },
  {
   "metadata": {
    "ExecuteTime": {
     "end_time": "2024-08-24T23:47:54.745087Z",
     "start_time": "2024-08-24T23:47:54.738842Z"
    }
   },
   "cell_type": "code",
   "source": "df.conducta.unique()",
   "id": "1803a27f383f0be7",
   "outputs": [
    {
     "data": {
      "text/plain": [
       "array(['LESIONES PERSONALES', 'HURTO A PERSONAS', 'HOMICIDIO',\n",
       "       'HURTO A RESIDENCIAS', 'HURTO A ENTIDADES COMERCIALES',\n",
       "       'VIOLENCIA INTRAFAMILIAR',\n",
       "       'LESIONES CULPOSAS ( EN ACCIDENTE DE TRANSITO )',\n",
       "       'ACCESO CARNAL ABUSIVO CON MENOR DE 14 AÑOS',\n",
       "       'HURTO A MOTOCICLETAS', 'ACTOS SEXUALES CON MENOR DE 14 AÑOS',\n",
       "       'ACOSO SEXUAL', 'HOMICIDIO CULPOSO ( EN ACCIDENTE DE TRÁNSITO)',\n",
       "       'ACCESO CARNAL VIOLENTO', 'EXTORSIÓN',\n",
       "       'ACCESO CARNAL ABUSIVO CON MENOR DE 14 AÑOS (CIRCUNSTANCIAS AGRAVACIÓN)',\n",
       "       'ACTO SEXUAL VIOLENTO', 'HURTO A AUTOMOTORES',\n",
       "       'SECUESTRO EXTORSIVO', 'HURTO A ENTIDADES FINANCIERAS',\n",
       "       'ACCESO CARNAL O ACTO SEXUAL EN PERSONA PUESTA EN INCAPACIDAD DE RESISTIR'],\n",
       "      dtype=object)"
      ]
     },
     "execution_count": 36,
     "metadata": {},
     "output_type": "execute_result"
    }
   ],
   "execution_count": 36
  },
  {
   "metadata": {
    "ExecuteTime": {
     "end_time": "2024-08-24T23:47:53.451727Z",
     "start_time": "2024-08-24T23:47:53.445970Z"
    }
   },
   "cell_type": "code",
   "source": "df.conducta.unique().shape",
   "id": "5b8b9d6ac893ef5c",
   "outputs": [
    {
     "data": {
      "text/plain": [
       "(20,)"
      ]
     },
     "execution_count": 35,
     "metadata": {},
     "output_type": "execute_result"
    }
   ],
   "execution_count": 35
  },
  {
   "metadata": {
    "ExecuteTime": {
     "end_time": "2024-08-24T23:51:35.760467Z",
     "start_time": "2024-08-24T23:51:35.752973Z"
    }
   },
   "cell_type": "code",
   "source": [
    "df.movil_agresor.unique()\n",
    "\n",
    "#NaN No reporta"
   ],
   "id": "d250daf12ab53099",
   "outputs": [
    {
     "data": {
      "text/plain": [
       "array(['A PIE', 'CONDUCTOR MOTOCICLETA', 'CONDUCTOR VEHICULO',\n",
       "       'CONDUCTOR TAXI', 'NO REPORTA', 'PASAJERO BUS', 'PASAJERO TAXI',\n",
       "       'BICICLETA'], dtype=object)"
      ]
     },
     "execution_count": 42,
     "metadata": {},
     "output_type": "execute_result"
    }
   ],
   "execution_count": 42
  },
  {
   "metadata": {
    "ExecuteTime": {
     "end_time": "2024-08-24T23:56:05.906216Z",
     "start_time": "2024-08-24T23:56:05.901604Z"
    }
   },
   "cell_type": "code",
   "source": [
    "df.movil_victima.unique()\n",
    "\n",
    "#NaN No reporta"
   ],
   "id": "ac3bc255c5feb3da",
   "outputs": [
    {
     "data": {
      "text/plain": [
       "array(['A PIE', 'NO REPORTA', 'CONDUCTOR MOTOCICLETA',\n",
       "       'CONDUCTOR VEHICULO', 'PASAJERO TAXI', 'PASAJERO BUS',\n",
       "       'CONDUCTOR TAXI', 'BICICLETA'], dtype=object)"
      ]
     },
     "execution_count": 43,
     "metadata": {},
     "output_type": "execute_result"
    }
   ],
   "execution_count": 43
  },
  {
   "metadata": {
    "ExecuteTime": {
     "end_time": "2024-08-24T23:48:14.652355Z",
     "start_time": "2024-08-24T23:48:14.647796Z"
    }
   },
   "cell_type": "code",
   "source": [
    "df.descripcion_conducta.unique()\n",
    "\n"
   ],
   "id": "a35921b00f5b4cd",
   "outputs": [
    {
     "data": {
      "text/plain": [
       "array(['ARTÍCULO 111. LESIONES PERSONALES',\n",
       "       'ARTÍCULO 239. HURTO A PERSONAS', 'ARTÍCULO 103. HOMICIDIO',\n",
       "       'ARTÍCULO 239. HURTO A RESIDENCIAS',\n",
       "       'ARTÍCULO 239. HURTO A ENTIDADES COMERCIALES',\n",
       "       'ARTÍCULO 229. VIOLENCIA INTRAFAMILIAR',\n",
       "       'ARTÍCULO 120. LESIONES CULPOSAS ( EN ACCIDENTE DE TRANSITO )',\n",
       "       'ARTÍCULO 208. ACCESO CARNAL ABUSIVO CON MENOR DE 14 AÑOS',\n",
       "       'ARTÍCULO 239. HURTO A MOTOCICLETAS',\n",
       "       'ARTÍCULO 209. ACTOS SEXUALES CON MENOR DE 14 AÑOS',\n",
       "       'ARTÍCULO 210 A. ACOSO SEXUAL',\n",
       "       'ARTÍCULO 109. HOMICIDIO CULPOSO ( EN ACCIDENTE DE TRÁNSITO)',\n",
       "       'ARTÍCULO 205. ACCESO CARNAL VIOLENTO', 'ARTÍCULO 244. EXTORSIÓN',\n",
       "       'ARTÍCULO 211. ACCESO CARNAL ABUSIVO CON MENOR DE 14 AÑOS (CIRCUNSTANCIAS AGRAVACIÓN)',\n",
       "       'ARTÍCULO 206. ACTO SEXUAL VIOLENTO',\n",
       "       'ARTÍCULO 239. HURTO A AUTOMOTORES',\n",
       "       'ARTÍCULO 169. SECUESTRO EXTORSIVO',\n",
       "       'ARTÍCULO 239. HURTO A ENTIDADES FINANCIERAS',\n",
       "       'ARTÍCULO 207. ACCESO CARNAL O ACTO SEXUAL EN PERSONA PUESTA EN INCAPACIDAD DE RESISTIR'],\n",
       "      dtype=object)"
      ]
     },
     "execution_count": 38,
     "metadata": {},
     "output_type": "execute_result"
    }
   ],
   "execution_count": 38
  },
  {
   "metadata": {
    "ExecuteTime": {
     "end_time": "2024-08-24T23:48:57.276893Z",
     "start_time": "2024-08-24T23:48:57.271231Z"
    }
   },
   "cell_type": "code",
   "source": "df.descripcion_conducta.unique().shape",
   "id": "8d6466adabb57f70",
   "outputs": [
    {
     "data": {
      "text/plain": [
       "(20,)"
      ]
     },
     "execution_count": 40,
     "metadata": {},
     "output_type": "execute_result"
    }
   ],
   "execution_count": 40
  },
  {
   "metadata": {
    "ExecuteTime": {
     "end_time": "2024-08-24T23:23:47.017433Z",
     "start_time": "2024-08-24T23:23:46.983656Z"
    }
   },
   "cell_type": "code",
   "source": [
    "# Descripcion estadistica de los datos\n",
    "df.describe()"
   ],
   "id": "c0d57842ddd180b3",
   "outputs": [
    {
     "data": {
      "text/plain": [
       "       orden  armas_medios barrios_hecho        latitud         longitud  \\\n",
       "count   1000          1000          1000           1000             1000   \n",
       "unique  1000            14           177            161              160   \n",
       "top        1  CONTUNDENTES        CENTRO  7,178,045,669  -73,130,224,418   \n",
       "freq       1           382           107            105              105   \n",
       "\n",
       "          zona  nom_comuna   ano        mes   dia   dia_semana  \\\n",
       "count     1000        1000  1000       1000  1000         1000   \n",
       "unique       3          21     2          3    31            7   \n",
       "top     URBANA  15. CENTRO  2010  01. ENERO     9  05. VIERNES   \n",
       "freq       985         125   999        763    65          178   \n",
       "\n",
       "                  descripcion_conducta          conducta  \\\n",
       "count                             1000              1000   \n",
       "unique                              20                20   \n",
       "top     ARTÍCULO 239. HURTO A PERSONAS  HURTO A PERSONAS   \n",
       "freq                               325               325   \n",
       "\n",
       "       clasificaciones_delito curso_de_vida estado_civil_persona     genero  \\\n",
       "count                    1000          1000                 1000       1000   \n",
       "unique                      3             7                    7          3   \n",
       "top       LESIONES NO FATALES   05. ADULTEZ              SOLTERO  MASCULINO   \n",
       "freq                      951           460                  438        506   \n",
       "\n",
       "       movil_agresor movil_victima  \n",
       "count           1000          1000  \n",
       "unique             8             8  \n",
       "top            A PIE         A PIE  \n",
       "freq             758           823  "
      ],
      "text/html": [
       "<div>\n",
       "<style scoped>\n",
       "    .dataframe tbody tr th:only-of-type {\n",
       "        vertical-align: middle;\n",
       "    }\n",
       "\n",
       "    .dataframe tbody tr th {\n",
       "        vertical-align: top;\n",
       "    }\n",
       "\n",
       "    .dataframe thead th {\n",
       "        text-align: right;\n",
       "    }\n",
       "</style>\n",
       "<table border=\"1\" class=\"dataframe\">\n",
       "  <thead>\n",
       "    <tr style=\"text-align: right;\">\n",
       "      <th></th>\n",
       "      <th>orden</th>\n",
       "      <th>armas_medios</th>\n",
       "      <th>barrios_hecho</th>\n",
       "      <th>latitud</th>\n",
       "      <th>longitud</th>\n",
       "      <th>zona</th>\n",
       "      <th>nom_comuna</th>\n",
       "      <th>ano</th>\n",
       "      <th>mes</th>\n",
       "      <th>dia</th>\n",
       "      <th>dia_semana</th>\n",
       "      <th>descripcion_conducta</th>\n",
       "      <th>conducta</th>\n",
       "      <th>clasificaciones_delito</th>\n",
       "      <th>curso_de_vida</th>\n",
       "      <th>estado_civil_persona</th>\n",
       "      <th>genero</th>\n",
       "      <th>movil_agresor</th>\n",
       "      <th>movil_victima</th>\n",
       "    </tr>\n",
       "  </thead>\n",
       "  <tbody>\n",
       "    <tr>\n",
       "      <th>count</th>\n",
       "      <td>1000</td>\n",
       "      <td>1000</td>\n",
       "      <td>1000</td>\n",
       "      <td>1000</td>\n",
       "      <td>1000</td>\n",
       "      <td>1000</td>\n",
       "      <td>1000</td>\n",
       "      <td>1000</td>\n",
       "      <td>1000</td>\n",
       "      <td>1000</td>\n",
       "      <td>1000</td>\n",
       "      <td>1000</td>\n",
       "      <td>1000</td>\n",
       "      <td>1000</td>\n",
       "      <td>1000</td>\n",
       "      <td>1000</td>\n",
       "      <td>1000</td>\n",
       "      <td>1000</td>\n",
       "      <td>1000</td>\n",
       "    </tr>\n",
       "    <tr>\n",
       "      <th>unique</th>\n",
       "      <td>1000</td>\n",
       "      <td>14</td>\n",
       "      <td>177</td>\n",
       "      <td>161</td>\n",
       "      <td>160</td>\n",
       "      <td>3</td>\n",
       "      <td>21</td>\n",
       "      <td>2</td>\n",
       "      <td>3</td>\n",
       "      <td>31</td>\n",
       "      <td>7</td>\n",
       "      <td>20</td>\n",
       "      <td>20</td>\n",
       "      <td>3</td>\n",
       "      <td>7</td>\n",
       "      <td>7</td>\n",
       "      <td>3</td>\n",
       "      <td>8</td>\n",
       "      <td>8</td>\n",
       "    </tr>\n",
       "    <tr>\n",
       "      <th>top</th>\n",
       "      <td>1</td>\n",
       "      <td>CONTUNDENTES</td>\n",
       "      <td>CENTRO</td>\n",
       "      <td>7,178,045,669</td>\n",
       "      <td>-73,130,224,418</td>\n",
       "      <td>URBANA</td>\n",
       "      <td>15. CENTRO</td>\n",
       "      <td>2010</td>\n",
       "      <td>01. ENERO</td>\n",
       "      <td>9</td>\n",
       "      <td>05. VIERNES</td>\n",
       "      <td>ARTÍCULO 239. HURTO A PERSONAS</td>\n",
       "      <td>HURTO A PERSONAS</td>\n",
       "      <td>LESIONES NO FATALES</td>\n",
       "      <td>05. ADULTEZ</td>\n",
       "      <td>SOLTERO</td>\n",
       "      <td>MASCULINO</td>\n",
       "      <td>A PIE</td>\n",
       "      <td>A PIE</td>\n",
       "    </tr>\n",
       "    <tr>\n",
       "      <th>freq</th>\n",
       "      <td>1</td>\n",
       "      <td>382</td>\n",
       "      <td>107</td>\n",
       "      <td>105</td>\n",
       "      <td>105</td>\n",
       "      <td>985</td>\n",
       "      <td>125</td>\n",
       "      <td>999</td>\n",
       "      <td>763</td>\n",
       "      <td>65</td>\n",
       "      <td>178</td>\n",
       "      <td>325</td>\n",
       "      <td>325</td>\n",
       "      <td>951</td>\n",
       "      <td>460</td>\n",
       "      <td>438</td>\n",
       "      <td>506</td>\n",
       "      <td>758</td>\n",
       "      <td>823</td>\n",
       "    </tr>\n",
       "  </tbody>\n",
       "</table>\n",
       "</div>"
      ]
     },
     "execution_count": 19,
     "metadata": {},
     "output_type": "execute_result"
    }
   ],
   "execution_count": 19
  },
  {
   "metadata": {
    "ExecuteTime": {
     "end_time": "2024-08-24T23:23:47.100766Z",
     "start_time": "2024-08-24T23:23:47.090576Z"
    }
   },
   "cell_type": "code",
   "source": [
    "# Identificar datos null\n",
    "df.isnull().sum()"
   ],
   "id": "51a319b9452800c8",
   "outputs": [
    {
     "data": {
      "text/plain": [
       "orden                     0\n",
       "armas_medios              0\n",
       "barrios_hecho             0\n",
       "latitud                   0\n",
       "longitud                  0\n",
       "zona                      0\n",
       "nom_comuna                0\n",
       "ano                       0\n",
       "mes                       0\n",
       "dia                       0\n",
       "dia_semana                0\n",
       "descripcion_conducta      0\n",
       "conducta                  0\n",
       "clasificaciones_delito    0\n",
       "curso_de_vida             0\n",
       "estado_civil_persona      0\n",
       "genero                    0\n",
       "movil_agresor             0\n",
       "movil_victima             0\n",
       "dtype: int64"
      ]
     },
     "execution_count": 20,
     "metadata": {},
     "output_type": "execute_result"
    }
   ],
   "execution_count": 20
  },
  {
   "metadata": {
    "ExecuteTime": {
     "end_time": "2024-08-25T00:10:33.289210Z",
     "start_time": "2024-08-25T00:10:33.281441Z"
    }
   },
   "cell_type": "code",
   "source": [
    "duplicate_rows_data = df[df.duplicated()]\n",
    "print(\"numero de filas dulicadas completamente: \", duplicate_rows_data.shape[0])"
   ],
   "id": "4940f66cd4276d7d",
   "outputs": [
    {
     "name": "stdout",
     "output_type": "stream",
     "text": [
      "numero de filas dulicadas completamente:  0\n"
     ]
    }
   ],
   "execution_count": 51
  },
  {
   "metadata": {},
   "cell_type": "markdown",
   "source": "FEATURE ENGINEERING\n",
   "id": "c59a1e94600ce8ca"
  },
  {
   "metadata": {
    "ExecuteTime": {
     "end_time": "2024-08-24T23:41:37.797998Z",
     "start_time": "2024-08-24T23:41:35.531705Z"
    }
   },
   "cell_type": "code",
   "source": [
    "# Eliminar columnas innecesarias\n",
    "\n",
    "# Se elimina estado_civil_persona por falta de utilidad en prediccion\n",
    "df = df.drop([\"estado_civil_persona\"], axis=1)"
   ],
   "id": "693355d5cc9b943e",
   "outputs": [
    {
     "ename": "KeyError",
     "evalue": "\"['estado_civil_persona'] not found in axis\"",
     "output_type": "error",
     "traceback": [
      "\u001B[1;31m---------------------------------------------------------------------------\u001B[0m",
      "\u001B[1;31mKeyError\u001B[0m                                  Traceback (most recent call last)",
      "Cell \u001B[1;32mIn[26], line 4\u001B[0m\n\u001B[0;32m      1\u001B[0m \u001B[38;5;66;03m# Eliminar columnas innecesarias\u001B[39;00m\n\u001B[0;32m      2\u001B[0m \n\u001B[0;32m      3\u001B[0m \u001B[38;5;66;03m# Se elimina estado_civil_persona por falta de utilidad en prediccion\u001B[39;00m\n\u001B[1;32m----> 4\u001B[0m df \u001B[38;5;241m=\u001B[39m df\u001B[38;5;241m.\u001B[39mdrop([\u001B[38;5;124m\"\u001B[39m\u001B[38;5;124mestado_civil_persona\u001B[39m\u001B[38;5;124m\"\u001B[39m], axis\u001B[38;5;241m=\u001B[39m\u001B[38;5;241m1\u001B[39m)\n\u001B[0;32m      6\u001B[0m \u001B[38;5;66;03m# Se elimina curso_de_vida por falta de utilidad en prediccion\u001B[39;00m\n\u001B[0;32m      7\u001B[0m df \u001B[38;5;241m=\u001B[39m df\u001B[38;5;241m.\u001B[39mdrop([\u001B[38;5;124m\"\u001B[39m\u001B[38;5;124mcurso_de_vida\u001B[39m\u001B[38;5;124m\"\u001B[39m], axis\u001B[38;5;241m=\u001B[39m\u001B[38;5;241m1\u001B[39m)\n",
      "File \u001B[1;32m~\\miniconda3\\Lib\\site-packages\\pandas\\core\\frame.py:5581\u001B[0m, in \u001B[0;36mDataFrame.drop\u001B[1;34m(self, labels, axis, index, columns, level, inplace, errors)\u001B[0m\n\u001B[0;32m   5433\u001B[0m \u001B[38;5;28;01mdef\u001B[39;00m \u001B[38;5;21mdrop\u001B[39m(\n\u001B[0;32m   5434\u001B[0m     \u001B[38;5;28mself\u001B[39m,\n\u001B[0;32m   5435\u001B[0m     labels: IndexLabel \u001B[38;5;241m|\u001B[39m \u001B[38;5;28;01mNone\u001B[39;00m \u001B[38;5;241m=\u001B[39m \u001B[38;5;28;01mNone\u001B[39;00m,\n\u001B[1;32m   (...)\u001B[0m\n\u001B[0;32m   5442\u001B[0m     errors: IgnoreRaise \u001B[38;5;241m=\u001B[39m \u001B[38;5;124m\"\u001B[39m\u001B[38;5;124mraise\u001B[39m\u001B[38;5;124m\"\u001B[39m,\n\u001B[0;32m   5443\u001B[0m ) \u001B[38;5;241m-\u001B[39m\u001B[38;5;241m>\u001B[39m DataFrame \u001B[38;5;241m|\u001B[39m \u001B[38;5;28;01mNone\u001B[39;00m:\n\u001B[0;32m   5444\u001B[0m \u001B[38;5;250m    \u001B[39m\u001B[38;5;124;03m\"\"\"\u001B[39;00m\n\u001B[0;32m   5445\u001B[0m \u001B[38;5;124;03m    Drop specified labels from rows or columns.\u001B[39;00m\n\u001B[0;32m   5446\u001B[0m \n\u001B[1;32m   (...)\u001B[0m\n\u001B[0;32m   5579\u001B[0m \u001B[38;5;124;03m            weight  1.0     0.8\u001B[39;00m\n\u001B[0;32m   5580\u001B[0m \u001B[38;5;124;03m    \"\"\"\u001B[39;00m\n\u001B[1;32m-> 5581\u001B[0m     \u001B[38;5;28;01mreturn\u001B[39;00m \u001B[38;5;28msuper\u001B[39m()\u001B[38;5;241m.\u001B[39mdrop(\n\u001B[0;32m   5582\u001B[0m         labels\u001B[38;5;241m=\u001B[39mlabels,\n\u001B[0;32m   5583\u001B[0m         axis\u001B[38;5;241m=\u001B[39maxis,\n\u001B[0;32m   5584\u001B[0m         index\u001B[38;5;241m=\u001B[39mindex,\n\u001B[0;32m   5585\u001B[0m         columns\u001B[38;5;241m=\u001B[39mcolumns,\n\u001B[0;32m   5586\u001B[0m         level\u001B[38;5;241m=\u001B[39mlevel,\n\u001B[0;32m   5587\u001B[0m         inplace\u001B[38;5;241m=\u001B[39minplace,\n\u001B[0;32m   5588\u001B[0m         errors\u001B[38;5;241m=\u001B[39merrors,\n\u001B[0;32m   5589\u001B[0m     )\n",
      "File \u001B[1;32m~\\miniconda3\\Lib\\site-packages\\pandas\\core\\generic.py:4788\u001B[0m, in \u001B[0;36mNDFrame.drop\u001B[1;34m(self, labels, axis, index, columns, level, inplace, errors)\u001B[0m\n\u001B[0;32m   4786\u001B[0m \u001B[38;5;28;01mfor\u001B[39;00m axis, labels \u001B[38;5;129;01min\u001B[39;00m axes\u001B[38;5;241m.\u001B[39mitems():\n\u001B[0;32m   4787\u001B[0m     \u001B[38;5;28;01mif\u001B[39;00m labels \u001B[38;5;129;01mis\u001B[39;00m \u001B[38;5;129;01mnot\u001B[39;00m \u001B[38;5;28;01mNone\u001B[39;00m:\n\u001B[1;32m-> 4788\u001B[0m         obj \u001B[38;5;241m=\u001B[39m obj\u001B[38;5;241m.\u001B[39m_drop_axis(labels, axis, level\u001B[38;5;241m=\u001B[39mlevel, errors\u001B[38;5;241m=\u001B[39merrors)\n\u001B[0;32m   4790\u001B[0m \u001B[38;5;28;01mif\u001B[39;00m inplace:\n\u001B[0;32m   4791\u001B[0m     \u001B[38;5;28mself\u001B[39m\u001B[38;5;241m.\u001B[39m_update_inplace(obj)\n",
      "File \u001B[1;32m~\\miniconda3\\Lib\\site-packages\\pandas\\core\\generic.py:4830\u001B[0m, in \u001B[0;36mNDFrame._drop_axis\u001B[1;34m(self, labels, axis, level, errors, only_slice)\u001B[0m\n\u001B[0;32m   4828\u001B[0m         new_axis \u001B[38;5;241m=\u001B[39m axis\u001B[38;5;241m.\u001B[39mdrop(labels, level\u001B[38;5;241m=\u001B[39mlevel, errors\u001B[38;5;241m=\u001B[39merrors)\n\u001B[0;32m   4829\u001B[0m     \u001B[38;5;28;01melse\u001B[39;00m:\n\u001B[1;32m-> 4830\u001B[0m         new_axis \u001B[38;5;241m=\u001B[39m axis\u001B[38;5;241m.\u001B[39mdrop(labels, errors\u001B[38;5;241m=\u001B[39merrors)\n\u001B[0;32m   4831\u001B[0m     indexer \u001B[38;5;241m=\u001B[39m axis\u001B[38;5;241m.\u001B[39mget_indexer(new_axis)\n\u001B[0;32m   4833\u001B[0m \u001B[38;5;66;03m# Case for non-unique axis\u001B[39;00m\n\u001B[0;32m   4834\u001B[0m \u001B[38;5;28;01melse\u001B[39;00m:\n",
      "File \u001B[1;32m~\\miniconda3\\Lib\\site-packages\\pandas\\core\\indexes\\base.py:7070\u001B[0m, in \u001B[0;36mIndex.drop\u001B[1;34m(self, labels, errors)\u001B[0m\n\u001B[0;32m   7068\u001B[0m \u001B[38;5;28;01mif\u001B[39;00m mask\u001B[38;5;241m.\u001B[39many():\n\u001B[0;32m   7069\u001B[0m     \u001B[38;5;28;01mif\u001B[39;00m errors \u001B[38;5;241m!=\u001B[39m \u001B[38;5;124m\"\u001B[39m\u001B[38;5;124mignore\u001B[39m\u001B[38;5;124m\"\u001B[39m:\n\u001B[1;32m-> 7070\u001B[0m         \u001B[38;5;28;01mraise\u001B[39;00m \u001B[38;5;167;01mKeyError\u001B[39;00m(\u001B[38;5;124mf\u001B[39m\u001B[38;5;124m\"\u001B[39m\u001B[38;5;132;01m{\u001B[39;00mlabels[mask]\u001B[38;5;241m.\u001B[39mtolist()\u001B[38;5;132;01m}\u001B[39;00m\u001B[38;5;124m not found in axis\u001B[39m\u001B[38;5;124m\"\u001B[39m)\n\u001B[0;32m   7071\u001B[0m     indexer \u001B[38;5;241m=\u001B[39m indexer[\u001B[38;5;241m~\u001B[39mmask]\n\u001B[0;32m   7072\u001B[0m \u001B[38;5;28;01mreturn\u001B[39;00m \u001B[38;5;28mself\u001B[39m\u001B[38;5;241m.\u001B[39mdelete(indexer)\n",
      "\u001B[1;31mKeyError\u001B[0m: \"['estado_civil_persona'] not found in axis\""
     ]
    }
   ],
   "execution_count": 26
  },
  {
   "metadata": {
    "ExecuteTime": {
     "end_time": "2024-08-24T23:41:58.164920Z",
     "start_time": "2024-08-24T23:41:58.159920Z"
    }
   },
   "cell_type": "code",
   "source": [
    "# Se elimina curso_de_vida por falta de utilidad en prediccion\n",
    "df = df.drop([\"curso_de_vida\"], axis=1)"
   ],
   "id": "b09e372c76a7225f",
   "outputs": [],
   "execution_count": 27
  },
  {
   "metadata": {
    "ExecuteTime": {
     "end_time": "2024-08-24T23:42:58.718359Z",
     "start_time": "2024-08-24T23:42:58.713664Z"
    }
   },
   "cell_type": "code",
   "source": [
    "# Se elimina genero por falta de utilidad en prediccion\n",
    "df = df.drop([\"genero\"], axis=1)"
   ],
   "id": "450a5e349b7400a2",
   "outputs": [],
   "execution_count": 29
  },
  {
   "metadata": {
    "ExecuteTime": {
     "end_time": "2024-08-24T23:50:38.649678Z",
     "start_time": "2024-08-24T23:50:38.645001Z"
    }
   },
   "cell_type": "code",
   "source": [
    "# Se elimina conducta por redundancia con descripcion_conducta\n",
    "df = df.drop([\"conducta\"], axis=1)"
   ],
   "id": "d5e4b464299aaf52",
   "outputs": [],
   "execution_count": 41
  }
 ],
 "metadata": {
  "kernelspec": {
   "display_name": "Python 3",
   "language": "python",
   "name": "python3"
  },
  "language_info": {
   "codemirror_mode": {
    "name": "ipython",
    "version": 2
   },
   "file_extension": ".py",
   "mimetype": "text/x-python",
   "name": "python",
   "nbconvert_exporter": "python",
   "pygments_lexer": "ipython2",
   "version": "2.7.6"
  }
 },
 "nbformat": 4,
 "nbformat_minor": 5
}
