{
 "cells": [
  {
   "metadata": {},
   "cell_type": "markdown",
   "source": [
    "Se planea hacer un modelo predictivo utilizando tecnicas de machine learning para la prediccion de:\n",
    "\n",
    "La probabilidad de que ocurra un crimen en una zona específicada en la ciudad de Bucaramanga y la probabilidad de la modalidad del crimen.\n",
    "\n",
    "Clasificar la zona en diferentes categorías de seguridad, como \"Alta seguridad\", \"Moderada seguridad\", \"Baja seguridad\", etc.\n",
    "\n"
   ],
   "id": "85a935b879c61acf"
  },
  {
   "metadata": {},
   "cell_type": "markdown",
   "source": "LIBRERIAS A USAR",
   "id": "753caad9e0cba243"
  },
  {
   "metadata": {
    "ExecuteTime": {
     "end_time": "2024-08-27T17:15:45.844681Z",
     "start_time": "2024-08-27T17:15:45.708486Z"
    }
   },
   "cell_type": "code",
   "source": [
    "\n",
    "# Pandas para manejo de datos\n",
    "import pandas as pd\n",
    "\n",
    "\n",
    "# MatplotLib para grafos\n",
    "import matplotlib.pyplot as plt\n",
    "\n",
    "# Seaborn para grafos\n",
    "import seaborn as sns\n",
    "\n",
    "# Numpy para manejo de datos\n",
    "import numpy as np\n",
    "from numpy import dtype\n",
    "from scipy.sparse.csgraph import depth_first_tree\n",
    "\n",
    "# MinMaxScaler para normalizacion de datos\n",
    "from sklearn.preprocessing import MinMaxScaler"
   ],
   "id": "fbc121e30a2defb3",
   "outputs": [],
   "execution_count": 2
  },
  {
   "metadata": {},
   "cell_type": "markdown",
   "source": "CARGAR DATOS",
   "id": "39ec04f42db76971"
  },
  {
   "metadata": {
    "ExecuteTime": {
     "end_time": "2024-08-27T17:17:28.277644Z",
     "start_time": "2024-08-27T17:15:45.849794Z"
    }
   },
   "cell_type": "code",
   "source": [
    "        # Url de los datos \n",
    "url = \"https://drive.google.com/uc?id=1RoSzovZx4l6CixdVfJTt527_WfCFqPO4&export=download\"\n",
    "\n",
    "# Convertir a DataFrame con pandas\n",
    "df = pd.read_csv(url)\n"
   ],
   "id": "b531bdc199f83042",
   "outputs": [],
   "execution_count": 3
  },
  {
   "metadata": {},
   "cell_type": "markdown",
   "source": "EDA DE LA TABLA PRINCIPAL\n",
   "id": "ec9b0de3bb1edca3"
  },
  {
   "metadata": {},
   "cell_type": "markdown",
   "source": "///////////////////// TABLA ////////////////////////////////////",
   "id": "911ba4428932a75e"
  },
  {
   "metadata": {
    "ExecuteTime": {
     "end_time": "2024-08-27T17:17:28.380031Z",
     "start_time": "2024-08-27T17:17:28.321524Z"
    }
   },
   "cell_type": "code",
   "source": [
    "\n",
    "# Mostra el tipo de dato de cada columna\n",
    "df.info()\n"
   ],
   "id": "dd49ac42d01dc35b",
   "outputs": [
    {
     "name": "stdout",
     "output_type": "stream",
     "text": [
      "<class 'pandas.core.frame.DataFrame'>\n",
      "RangeIndex: 135076 entries, 0 to 135075\n",
      "Data columns (total 19 columns):\n",
      " #   Column                  Non-Null Count   Dtype \n",
      "---  ------                  --------------   ----- \n",
      " 0   ORDEN                   135076 non-null  int64 \n",
      " 1   ARMAS_MEDIOS            135076 non-null  object\n",
      " 2   BARRIOS_HECHO           135076 non-null  object\n",
      " 3   LATITUD                 135076 non-null  object\n",
      " 4   LONGITUD                135076 non-null  object\n",
      " 5   ZONA                    135076 non-null  object\n",
      " 6   NOM_COMUNA              135076 non-null  object\n",
      " 7   ANO                     135076 non-null  int64 \n",
      " 8   MES                     135076 non-null  object\n",
      " 9   DIA                     135076 non-null  int64 \n",
      " 10  DIA_SEMANA              135076 non-null  object\n",
      " 11  DESCRIPCION_CONDUCTA    135076 non-null  object\n",
      " 12  CONDUCTA                135076 non-null  object\n",
      " 13  CLASIFICACIONES DELITO  135076 non-null  object\n",
      " 14  CURSO_DE_VIDA           135076 non-null  object\n",
      " 15  ESTADO_CIVIL_PERSONA    135076 non-null  object\n",
      " 16  GENERO                  135076 non-null  object\n",
      " 17  MOVIL_AGRESOR           135076 non-null  object\n",
      " 18  MOVIL_VICTIMA           135076 non-null  object\n",
      "dtypes: int64(3), object(16)\n",
      "memory usage: 19.6+ MB\n"
     ]
    }
   ],
   "execution_count": 4
  },
  {
   "metadata": {
    "ExecuteTime": {
     "end_time": "2024-08-27T17:17:28.452197Z",
     "start_time": "2024-08-27T17:17:28.437547Z"
    }
   },
   "cell_type": "code",
   "source": [
    "# Mostrar las primeras filas del DataFrame\n",
    "df.head()\n"
   ],
   "id": "a84276137eab4ba5",
   "outputs": [
    {
     "data": {
      "text/plain": [
       "   ORDEN                 ARMAS_MEDIOS  BARRIOS_HECHO        LATITUD  \\\n",
       "0      1  ARMA BLANCA / CORTOPUNZANTE   BUENOS AIRES  7,170,557,382   \n",
       "1      2  ARMA BLANCA / CORTOPUNZANTE  CAMPO HERMOSO  7,120,645,358   \n",
       "2      3  ARMA BLANCA / CORTOPUNZANTE  CAMPO HERMOSO  7,120,645,358   \n",
       "3      4  ARMA BLANCA / CORTOPUNZANTE      COMUNEROS    715,135,927   \n",
       "4      5  ARMA BLANCA / CORTOPUNZANTE       GIRARDOT  7,170,557,382   \n",
       "\n",
       "          LONGITUD    ZONA         NOM_COMUNA   ANO        MES  DIA  \\\n",
       "0      -73,135,108  URBANA      14. MORRORICO  2010  01. ENERO    1   \n",
       "1       -7,312,605  URBANA  05. GARCÍA ROVIRA  2010  01. ENERO    1   \n",
       "2       -7,312,605  URBANA  05. GARCÍA ROVIRA  2010  01. ENERO    1   \n",
       "3  -73,145,704,583  URBANA  03. SAN FRANCISCO  2010  01. ENERO    1   \n",
       "4      -73,135,108  URBANA     04. OCCIDENTAL  2010  01. ENERO    1   \n",
       "\n",
       "    DIA_SEMANA               DESCRIPCION_CONDUCTA             CONDUCTA  \\\n",
       "0  05. VIERNES  ARTÍCULO 111. LESIONES PERSONALES  LESIONES PERSONALES   \n",
       "1  05. VIERNES  ARTÍCULO 111. LESIONES PERSONALES  LESIONES PERSONALES   \n",
       "2  05. VIERNES  ARTÍCULO 111. LESIONES PERSONALES  LESIONES PERSONALES   \n",
       "3  05. VIERNES  ARTÍCULO 111. LESIONES PERSONALES  LESIONES PERSONALES   \n",
       "4  05. VIERNES  ARTÍCULO 111. LESIONES PERSONALES  LESIONES PERSONALES   \n",
       "\n",
       "  CLASIFICACIONES DELITO CURSO_DE_VIDA ESTADO_CIVIL_PERSONA     GENERO  \\\n",
       "0    LESIONES NO FATALES   05. ADULTEZ          UNION LIBRE  MASCULINO   \n",
       "1    LESIONES NO FATALES   04. JOVENES              SOLTERO  MASCULINO   \n",
       "2    LESIONES NO FATALES   04. JOVENES              SOLTERO  MASCULINO   \n",
       "3    LESIONES NO FATALES   05. ADULTEZ               CASADO  MASCULINO   \n",
       "4    LESIONES NO FATALES   04. JOVENES          UNION LIBRE  MASCULINO   \n",
       "\n",
       "  MOVIL_AGRESOR MOVIL_VICTIMA  \n",
       "0         A PIE         A PIE  \n",
       "1         A PIE         A PIE  \n",
       "2         A PIE         A PIE  \n",
       "3         A PIE         A PIE  \n",
       "4         A PIE         A PIE  "
      ],
      "text/html": [
       "<div>\n",
       "<style scoped>\n",
       "    .dataframe tbody tr th:only-of-type {\n",
       "        vertical-align: middle;\n",
       "    }\n",
       "\n",
       "    .dataframe tbody tr th {\n",
       "        vertical-align: top;\n",
       "    }\n",
       "\n",
       "    .dataframe thead th {\n",
       "        text-align: right;\n",
       "    }\n",
       "</style>\n",
       "<table border=\"1\" class=\"dataframe\">\n",
       "  <thead>\n",
       "    <tr style=\"text-align: right;\">\n",
       "      <th></th>\n",
       "      <th>ORDEN</th>\n",
       "      <th>ARMAS_MEDIOS</th>\n",
       "      <th>BARRIOS_HECHO</th>\n",
       "      <th>LATITUD</th>\n",
       "      <th>LONGITUD</th>\n",
       "      <th>ZONA</th>\n",
       "      <th>NOM_COMUNA</th>\n",
       "      <th>ANO</th>\n",
       "      <th>MES</th>\n",
       "      <th>DIA</th>\n",
       "      <th>DIA_SEMANA</th>\n",
       "      <th>DESCRIPCION_CONDUCTA</th>\n",
       "      <th>CONDUCTA</th>\n",
       "      <th>CLASIFICACIONES DELITO</th>\n",
       "      <th>CURSO_DE_VIDA</th>\n",
       "      <th>ESTADO_CIVIL_PERSONA</th>\n",
       "      <th>GENERO</th>\n",
       "      <th>MOVIL_AGRESOR</th>\n",
       "      <th>MOVIL_VICTIMA</th>\n",
       "    </tr>\n",
       "  </thead>\n",
       "  <tbody>\n",
       "    <tr>\n",
       "      <th>0</th>\n",
       "      <td>1</td>\n",
       "      <td>ARMA BLANCA / CORTOPUNZANTE</td>\n",
       "      <td>BUENOS AIRES</td>\n",
       "      <td>7,170,557,382</td>\n",
       "      <td>-73,135,108</td>\n",
       "      <td>URBANA</td>\n",
       "      <td>14. MORRORICO</td>\n",
       "      <td>2010</td>\n",
       "      <td>01. ENERO</td>\n",
       "      <td>1</td>\n",
       "      <td>05. VIERNES</td>\n",
       "      <td>ARTÍCULO 111. LESIONES PERSONALES</td>\n",
       "      <td>LESIONES PERSONALES</td>\n",
       "      <td>LESIONES NO FATALES</td>\n",
       "      <td>05. ADULTEZ</td>\n",
       "      <td>UNION LIBRE</td>\n",
       "      <td>MASCULINO</td>\n",
       "      <td>A PIE</td>\n",
       "      <td>A PIE</td>\n",
       "    </tr>\n",
       "    <tr>\n",
       "      <th>1</th>\n",
       "      <td>2</td>\n",
       "      <td>ARMA BLANCA / CORTOPUNZANTE</td>\n",
       "      <td>CAMPO HERMOSO</td>\n",
       "      <td>7,120,645,358</td>\n",
       "      <td>-7,312,605</td>\n",
       "      <td>URBANA</td>\n",
       "      <td>05. GARCÍA ROVIRA</td>\n",
       "      <td>2010</td>\n",
       "      <td>01. ENERO</td>\n",
       "      <td>1</td>\n",
       "      <td>05. VIERNES</td>\n",
       "      <td>ARTÍCULO 111. LESIONES PERSONALES</td>\n",
       "      <td>LESIONES PERSONALES</td>\n",
       "      <td>LESIONES NO FATALES</td>\n",
       "      <td>04. JOVENES</td>\n",
       "      <td>SOLTERO</td>\n",
       "      <td>MASCULINO</td>\n",
       "      <td>A PIE</td>\n",
       "      <td>A PIE</td>\n",
       "    </tr>\n",
       "    <tr>\n",
       "      <th>2</th>\n",
       "      <td>3</td>\n",
       "      <td>ARMA BLANCA / CORTOPUNZANTE</td>\n",
       "      <td>CAMPO HERMOSO</td>\n",
       "      <td>7,120,645,358</td>\n",
       "      <td>-7,312,605</td>\n",
       "      <td>URBANA</td>\n",
       "      <td>05. GARCÍA ROVIRA</td>\n",
       "      <td>2010</td>\n",
       "      <td>01. ENERO</td>\n",
       "      <td>1</td>\n",
       "      <td>05. VIERNES</td>\n",
       "      <td>ARTÍCULO 111. LESIONES PERSONALES</td>\n",
       "      <td>LESIONES PERSONALES</td>\n",
       "      <td>LESIONES NO FATALES</td>\n",
       "      <td>04. JOVENES</td>\n",
       "      <td>SOLTERO</td>\n",
       "      <td>MASCULINO</td>\n",
       "      <td>A PIE</td>\n",
       "      <td>A PIE</td>\n",
       "    </tr>\n",
       "    <tr>\n",
       "      <th>3</th>\n",
       "      <td>4</td>\n",
       "      <td>ARMA BLANCA / CORTOPUNZANTE</td>\n",
       "      <td>COMUNEROS</td>\n",
       "      <td>715,135,927</td>\n",
       "      <td>-73,145,704,583</td>\n",
       "      <td>URBANA</td>\n",
       "      <td>03. SAN FRANCISCO</td>\n",
       "      <td>2010</td>\n",
       "      <td>01. ENERO</td>\n",
       "      <td>1</td>\n",
       "      <td>05. VIERNES</td>\n",
       "      <td>ARTÍCULO 111. LESIONES PERSONALES</td>\n",
       "      <td>LESIONES PERSONALES</td>\n",
       "      <td>LESIONES NO FATALES</td>\n",
       "      <td>05. ADULTEZ</td>\n",
       "      <td>CASADO</td>\n",
       "      <td>MASCULINO</td>\n",
       "      <td>A PIE</td>\n",
       "      <td>A PIE</td>\n",
       "    </tr>\n",
       "    <tr>\n",
       "      <th>4</th>\n",
       "      <td>5</td>\n",
       "      <td>ARMA BLANCA / CORTOPUNZANTE</td>\n",
       "      <td>GIRARDOT</td>\n",
       "      <td>7,170,557,382</td>\n",
       "      <td>-73,135,108</td>\n",
       "      <td>URBANA</td>\n",
       "      <td>04. OCCIDENTAL</td>\n",
       "      <td>2010</td>\n",
       "      <td>01. ENERO</td>\n",
       "      <td>1</td>\n",
       "      <td>05. VIERNES</td>\n",
       "      <td>ARTÍCULO 111. LESIONES PERSONALES</td>\n",
       "      <td>LESIONES PERSONALES</td>\n",
       "      <td>LESIONES NO FATALES</td>\n",
       "      <td>04. JOVENES</td>\n",
       "      <td>UNION LIBRE</td>\n",
       "      <td>MASCULINO</td>\n",
       "      <td>A PIE</td>\n",
       "      <td>A PIE</td>\n",
       "    </tr>\n",
       "  </tbody>\n",
       "</table>\n",
       "</div>"
      ]
     },
     "execution_count": 5,
     "metadata": {},
     "output_type": "execute_result"
    }
   ],
   "execution_count": 5
  },
  {
   "metadata": {},
   "cell_type": "markdown",
   "source": "///////////////////// COLUMNAS ////////////////////////////////////\n",
   "id": "4548bf3e223db6d5"
  },
  {
   "metadata": {
    "ExecuteTime": {
     "end_time": "2024-08-27T17:17:28.561016Z",
     "start_time": "2024-08-27T17:17:28.529021Z"
    }
   },
   "cell_type": "code",
   "source": [
    "print(f\"Categorias y recuento: \\n\",df.ARMAS_MEDIOS.value_counts())\n",
    "print(\"Total de categorias: \",df.ARMAS_MEDIOS.unique().shape)\n",
    "print(\"Recuento de valores: \", df.ARMAS_MEDIOS.value_counts().sum())\n",
    "\n",
    "print(\"Valores nulos o no reportados:\", df.ARMAS_MEDIOS.value_counts()['NO REPORTADO'])"
   ],
   "id": "ab17275fc84cf341",
   "outputs": [
    {
     "name": "stdout",
     "output_type": "stream",
     "text": [
      "Categorias y recuento: \n",
      " ARMAS_MEDIOS\n",
      "SIN EMPLEO DE ARMAS                   38265\n",
      "CONTUNDENTES                          37023\n",
      "ARMA BLANCA / CORTOPUNZANTE           21890\n",
      "VEHICULO                              13419\n",
      "ARMA DE FUEGO                          8947\n",
      "MOTO                                   7919\n",
      "LLAVE MAESTRA                          2500\n",
      "NO REPORTADO                           2113\n",
      "PALANCAS                               1078\n",
      "ESCOPOLAMINA                            656\n",
      "LLAMADA TELEFONICA                      278\n",
      "PUNZANTES                               248\n",
      "CORTANTES                               123\n",
      "PERRO                                    84\n",
      "REDES SOCIALES                           68\n",
      "DIRECTA                                  65\n",
      "ACIDO                                    51\n",
      "BICICLETA                                45\n",
      "MIXTA                                    45\n",
      "LICOR ADULTERADO                         36\n",
      "CORTOPUNZANTES                           33\n",
      "GASES                                    18\n",
      "ARMA TRAUMATICA                          17\n",
      "QUIMICOS                                 17\n",
      "SUSTANCIAS TOXICAS                       17\n",
      "AGUA CALIENTE                            17\n",
      "COMBUSTIBLE                              14\n",
      "MEDICAMENTOS                             13\n",
      "ARTEFACTO INCENDIARIO                    12\n",
      "PAPA EXPLOSIVA                            9\n",
      "CARTA EXTORSIVA                           8\n",
      "GRANADA DE MANO                           8\n",
      "JERINGA                                   8\n",
      "CARRO BOMBA                               7\n",
      "CUCHILLA                                  6\n",
      "CINTAS/CINTURON                           5\n",
      "VENENO                                    5\n",
      "PRENDAS DE VESTIR                         3\n",
      "BOLSA PLASTICA                            2\n",
      "CUERDA/SOGA/CADENA                        1\n",
      "ARTEFACTO EXPLOSIVO/CARGA DINAMITA        1\n",
      "POLVORA(FUEGOS PIROTECNICOS)              1\n",
      "ALUCINOGENOS                              1\n",
      "Name: count, dtype: int64\n",
      "Total de categorias:  (43,)\n",
      "Recuento de valores:  135076\n",
      "Valores nulos o no reportados: 2113\n"
     ]
    }
   ],
   "execution_count": 6
  },
  {
   "metadata": {},
   "cell_type": "markdown",
   "source": "No se encuentran valores \"nulos\" o \"no reportados\" en la columna BARRIOS_HECHO y un total de 484 barrios",
   "id": "ac2680b1edbf36e"
  },
  {
   "metadata": {
    "ExecuteTime": {
     "end_time": "2024-08-27T17:17:28.639618Z",
     "start_time": "2024-08-27T17:17:28.614174Z"
    }
   },
   "cell_type": "code",
   "source": [
    "print(f\"Categorias y recuento: \\n\",df.BARRIOS_HECHO.value_counts())\n",
    "print(\"Total de categorias: \",df.BARRIOS_HECHO.unique().shape)\n",
    "print(\"Recuento de valores: \", df.BARRIOS_HECHO.value_counts().sum())"
   ],
   "id": "7f5a3cdf563f08f9",
   "outputs": [
    {
     "name": "stdout",
     "output_type": "stream",
     "text": [
      "Categorias y recuento: \n",
      " BARRIOS_HECHO\n",
      "CENTRO                11199\n",
      "SAN FRANCISCO          5944\n",
      "CABECERA DEL LLANO     5794\n",
      "LA CONCORDIA           5078\n",
      "PROVENZA               3447\n",
      "                      ...  \n",
      "CAMPO GALAN               1\n",
      "EL CENTRO                 1\n",
      "EL PROGRESO               1\n",
      "VILLABEL                  1\n",
      "CAMPESTRE                 1\n",
      "Name: count, Length: 484, dtype: int64\n",
      "Total de categorias:  (484,)\n",
      "Recuento de valores:  135076\n"
     ]
    }
   ],
   "execution_count": 7
  },
  {
   "metadata": {},
   "cell_type": "markdown",
   "source": "Se encuentran valores \"nulos\" en las columnas LATITUD y LONGITUD que aparecen como \"xx.xxxx\" y \"yy.yyyy\" respectivamente con un recuento total 6363 y un recuento total de 135076",
   "id": "82bd625d7c0e0adb"
  },
  {
   "metadata": {
    "ExecuteTime": {
     "end_time": "2024-08-27T17:17:28.903969Z",
     "start_time": "2024-08-27T17:17:28.815688Z"
    }
   },
   "cell_type": "code",
   "source": [
    "print(\"Recuento categorias: \", df.LATITUD.value_counts())\n",
    "print(\"Recuento de valores\", df.LATITUD.value_counts().sum())\n",
    "print(\"/////////////////////////////////////////////////////\")\n",
    "print(\"Recuento categorias: \", df.LONGITUD.value_counts())\n",
    "print(\"Recuento de valores\", df.LONGITUD.value_counts().sum())"
   ],
   "id": "6d608834f70dfb3f",
   "outputs": [
    {
     "name": "stdout",
     "output_type": "stream",
     "text": [
      "Recuento categorias:  LATITUD\n",
      "xx.xxxx          6363\n",
      "7,178,045,669    1799\n",
      "7,170,557,382    1375\n",
      "7,144,371        1163\n",
      "7,164,623,864    1073\n",
      "                 ... \n",
      "7,104,305,234       1\n",
      "7,102,639,059       1\n",
      "7,103,315,112       1\n",
      "7,127,396,841       1\n",
      "7,175,989           1\n",
      "Name: count, Length: 64429, dtype: int64\n",
      "Recuento de valores 135076\n",
      "/////////////////////////////////////////////////////\n",
      "Recuento categorias:  LONGITUD\n",
      "-yy.yyyy           6363\n",
      "-73,130,224,418    1799\n",
      "-73,135,108        1375\n",
      "-73,128,085        1162\n",
      "-73,139,140,529    1080\n",
      "                   ... \n",
      "-73,146,044,535       1\n",
      "-73,143,981,597       1\n",
      "-73,116,606,589       1\n",
      "-73,102,834,148       1\n",
      "-73,130,875           1\n",
      "Name: count, Length: 60106, dtype: int64\n",
      "Recuento de valores 135076\n"
     ]
    }
   ],
   "execution_count": 8
  },
  {
   "metadata": {},
   "cell_type": "markdown",
   "source": "Se encuentran valores \"nulos\" o \"no reportados\" en la columna ZONA",
   "id": "3679e00b72c40ba1"
  },
  {
   "metadata": {
    "ExecuteTime": {
     "end_time": "2024-08-27T17:17:29.000902Z",
     "start_time": "2024-08-27T17:17:28.971409Z"
    }
   },
   "cell_type": "code",
   "source": [
    "print(f\"Categorias y recuento: \\n\",df.ZONA.value_counts())\n",
    "print(\"Total de categorias: \",df.ZONA.unique().shape)\n",
    "print(\"Recuento de valores: \", df.ZONA.value_counts().sum())\n",
    "\n",
    "print(\"Valores nulos o no reportados:\", df.ARMAS_MEDIOS.value_counts()['NO REPORTADO'])"
   ],
   "id": "3324574d15185162",
   "outputs": [
    {
     "name": "stdout",
     "output_type": "stream",
     "text": [
      "Categorias y recuento: \n",
      " ZONA\n",
      "URBANA        131547\n",
      "NO REPORTA      2189\n",
      "RURAL           1183\n",
      "OTROS            157\n",
      "Name: count, dtype: int64\n",
      "Total de categorias:  (4,)\n",
      "Recuento de valores:  135076\n",
      "Valores nulos o no reportados: 2113\n"
     ]
    }
   ],
   "execution_count": 9
  },
  {
   "metadata": {},
   "cell_type": "markdown",
   "source": "Se encuentran valores \"nulos\" o \"sin informacion\" en la columna NOM_COMUNA",
   "id": "c896406d6c15f4a8"
  },
  {
   "metadata": {
    "ExecuteTime": {
     "end_time": "2024-08-27T17:17:29.097339Z",
     "start_time": "2024-08-27T17:17:29.073349Z"
    }
   },
   "cell_type": "code",
   "source": [
    "print(f\"Categorias y recuento: \\n\",df.NOM_COMUNA.value_counts())\n",
    "print(\"Total de categorias: \",df.NOM_COMUNA.unique().shape)\n",
    "print(\"Recuento de valores: \", df.NOM_COMUNA.value_counts().sum())\n",
    "\n",
    "#print(\"Valores nulos o no reportados:\", df.ARMAS_MEDIOS.value_counts()['NO REPORTADO'])"
   ],
   "id": "8f557457d1f53f6",
   "outputs": [
    {
     "name": "stdout",
     "output_type": "stream",
     "text": [
      "Categorias y recuento: \n",
      " NOM_COMUNA\n",
      "03. SAN FRANCISCO         15875\n",
      "15. CENTRO                13872\n",
      "13. ORIENTAL              13606\n",
      "12. CABECERA DEL LLANO    12835\n",
      "01. NORTE                 12708\n",
      "06. LA CONCORDIA           9994\n",
      "05. GARCÍA ROVIRA          8959\n",
      "04. OCCIDENTAL             7736\n",
      "10. PROVENZA               6639\n",
      "09. LA PEDREGOSA           4994\n",
      "02. NOR ORIENTAL           4654\n",
      "11. SUR                    4532\n",
      "17. MUTIS                  4196\n",
      "08. SUR OCCIDENTE          3419\n",
      "14. MORRORICO              3290\n",
      "07. LA CIUDADELA           3247\n",
      "16. LAGOS DEL CACIQUE      3228\n",
      "CORREGIMIENTO 1             577\n",
      "CORREGIMIENTO 3             404\n",
      "FLORIDABLANCA               121\n",
      "CORREGIMIENTO 2             100\n",
      "SIN INFORMACION              45\n",
      "GIRON                        38\n",
      "MEDELLIN                      3\n",
      "PIEDECUESTA                   3\n",
      "BARRANCABERMEJA               1\n",
      "Name: count, dtype: int64\n",
      "Total de categorias:  (26,)\n",
      "Recuento de valores:  135076\n"
     ]
    }
   ],
   "execution_count": 10
  },
  {
   "metadata": {},
   "cell_type": "markdown",
   "source": "Sin discrepancias en las fechas ni valores nulos, datos hasta el 2021",
   "id": "3966bd1530d5f6d2"
  },
  {
   "metadata": {
    "ExecuteTime": {
     "end_time": "2024-08-27T17:17:29.249168Z",
     "start_time": "2024-08-27T17:17:29.203357Z"
    }
   },
   "cell_type": "code",
   "source": [
    "print(\"Recuento años:\", df.ANO.value_counts())\n",
    "print(\"Total años:\", df.ANO.value_counts().sum())\n",
    "print(\"/////////////////////////////////////\")\n",
    "print(\"Recuento meses:\", df.MES.value_counts())\n",
    "print(\"Total meses:\", df.MES.value_counts().sum())\n",
    "print(\"/////////////////////////////////////\")\n",
    "print(\"Recuento dias:\", df.DIA.value_counts())\n",
    "print(\"Total dias:\", df.DIA.value_counts().sum())\n",
    "print(\"/////////////////////////////////////\")\n",
    "print(\"Recuento dia de la semana:\", df.DIA_SEMANA.value_counts())\n",
    "print(\"Total dia de la semana:\", df.DIA_SEMANA.value_counts().sum())"
   ],
   "id": "7eb6f9339169b760",
   "outputs": [
    {
     "name": "stdout",
     "output_type": "stream",
     "text": [
      "Recuento años: ANO\n",
      "2016    13610\n",
      "2018    13492\n",
      "2019    12566\n",
      "2017    12308\n",
      "2021    11721\n",
      "2012    10912\n",
      "2015    10829\n",
      "2013    10759\n",
      "2011    10367\n",
      "2014    10214\n",
      "2020     9605\n",
      "2010     8693\n",
      "Name: count, dtype: int64\n",
      "Total años: 135076\n",
      "/////////////////////////////////////\n",
      "Recuento meses: MES\n",
      "10. OCTUBRE       11990\n",
      "12. DICIEMBRE     11774\n",
      "01. ENERO         11563\n",
      "02. FEBRERO       11476\n",
      "09. SEPTIEMBRE    11348\n",
      "08. AGOSTO        11251\n",
      "03. MARZO         11177\n",
      "07. JULIO         11146\n",
      "05. MAYO          11124\n",
      "11. NOVIEMBRE     10781\n",
      "04. ABRIL         10748\n",
      "06. JUNIO         10698\n",
      "Name: count, dtype: int64\n",
      "Total meses: 135076\n",
      "/////////////////////////////////////\n",
      "Recuento dias: DIA\n",
      "1     5097\n",
      "10    4723\n",
      "2     4588\n",
      "5     4575\n",
      "9     4556\n",
      "3     4519\n",
      "12    4495\n",
      "15    4493\n",
      "14    4492\n",
      "4     4489\n",
      "16    4485\n",
      "22    4481\n",
      "8     4455\n",
      "23    4441\n",
      "7     4436\n",
      "17    4423\n",
      "18    4413\n",
      "20    4405\n",
      "13    4399\n",
      "6     4383\n",
      "28    4376\n",
      "11    4375\n",
      "24    4353\n",
      "27    4346\n",
      "25    4308\n",
      "21    4293\n",
      "19    4275\n",
      "26    4179\n",
      "30    3967\n",
      "29    3762\n",
      "31    2494\n",
      "Name: count, dtype: int64\n",
      "Total dias: 135076\n",
      "/////////////////////////////////////\n",
      "Recuento dia de la semana: DIA_SEMANA\n",
      "06. SÁBADO       21747\n",
      "05. VIERNES      19346\n",
      "03. MIÉRCOLES    19155\n",
      "07. DOMINGO      18880\n",
      "02. MARTES       18791\n",
      "01. LUNES        18671\n",
      "04. JUEVES       18486\n",
      "Name: count, dtype: int64\n",
      "Total dia de la semana: 135076\n"
     ]
    }
   ],
   "execution_count": 11
  },
  {
   "metadata": {},
   "cell_type": "markdown",
   "source": "Se encuentran valores \"nulos\" o \"no reportados\" en la columna DESCRIPCION_CONDUCTA con un total de 12 datos",
   "id": "92bbd17c06cf1378"
  },
  {
   "metadata": {
    "ExecuteTime": {
     "end_time": "2024-08-27T17:17:29.311466Z",
     "start_time": "2024-08-27T17:17:29.275787Z"
    }
   },
   "cell_type": "code",
   "source": [
    "print(f\"Categorias y recuento: \\n\",df.DESCRIPCION_CONDUCTA.value_counts())\n",
    "print(\"Total de categorias: \",df.DESCRIPCION_CONDUCTA.unique().shape)\n",
    "print(\"Recuento de valores: \", df.DESCRIPCION_CONDUCTA.value_counts().sum())\n",
    "\n",
    "print(\"Valores nulos o no reportados:\", df.DESCRIPCION_CONDUCTA.value_counts()['NO REPORTA'])"
   ],
   "id": "3a4a82afe36e593f",
   "outputs": [
    {
     "name": "stdout",
     "output_type": "stream",
     "text": [
      "Categorias y recuento: \n",
      " DESCRIPCION_CONDUCTA\n",
      "ARTÍCULO 239. HURTO A PERSONAS                                                                                     48452\n",
      "ARTÍCULO 111. LESIONES PERSONALES                                                                                  24450\n",
      "ARTÍCULO 120. LESIONES CULPOSAS ( EN ACCIDENTE DE TRANSITO )                                                       21128\n",
      "ARTÍCULO 229. VIOLENCIA INTRAFAMILIAR                                                                              16519\n",
      "ARTÍCULO 239. HURTO A ENTIDADES COMERCIALES                                                                         8937\n",
      "ARTÍCULO 239. HURTO A RESIDENCIAS                                                                                   4752\n",
      "ARTÍCULO 239. HURTO A MOTOCICLETAS                                                                                  3708\n",
      "ARTÍCULO 209. ACTOS SEXUALES CON MENOR DE 14 AÑOS                                                                   1529\n",
      "ARTÍCULO 103. HOMICIDIO                                                                                             1365\n",
      "ARTÍCULO 208. ACCESO CARNAL ABUSIVO CON MENOR DE 14 AÑOS                                                             805\n",
      "ARTÍCULO 109. HOMICIDIO CULPOSO ( EN ACCIDENTE DE TRÁNSITO)                                                          615\n",
      "ARTÍCULO 244. EXTORSIÓN                                                                                              518\n",
      "ARTÍCULO 205. ACCESO CARNAL VIOLENTO                                                                                 462\n",
      "ARTÍCULO 206. ACTO SEXUAL VIOLENTO                                                                                   367\n",
      "ARTÍCULO 210 A. ACOSO SEXUAL                                                                                         271\n",
      "ARTÍCULO 347. AMENAZAS                                                                                               268\n",
      "ARTÍCULO 210. ACCESO CARNAL O ACTO SEXUAL ABUSIVO CON INCAPAZ DE RESISTIR                                            245\n",
      "ARTÍCULO 239. HURTO A AUTOMOTORES                                                                                    204\n",
      "ARTÍCULO 207. ACCESO CARNAL O ACTO SEXUAL EN PERSONA PUESTA EN INCAPACIDAD DE RESISTIR                               119\n",
      "ARTÍCULO 218. PORNOGRAFÍA CON MENORES                                                                                 72\n",
      "ARTÍCULO 219 A. UTILIZACIÓN O FACILITACIÓN DE MEDIOS DE COMUNICACIÓN PARA OFRECER SERVICIOS SEXUALES DE MENORES       68\n",
      "ARTÍCULO 104A. FEMINICIDIO                                                                                            40\n",
      "ARTÍCULO 213. INDUCCIÓN A LA PROSTITUCIÓN                                                                             34\n",
      "ARTÍCULO 211. ACCESO CARNAL ABUSIVO CON MENOR DE 14 AÑOS (CIRCUNSTANCIAS AGRAVACIÓN)                                  17\n",
      "ARTÍCULO 211. ACTOS SEXUALES CON MENOR DE 14 AÑOS (CIRCUNSTANCIAS DE AGRAVACIÓN)                                      15\n",
      "ARTÍCULO 239. HURTO A ENTIDADES FINANCIERAS                                                                           15\n",
      "ARTICULO 120. LESIONES CULPOSAS                                                                                       13\n",
      "NO REPORTA                                                                                                            12\n",
      "ARTÍCULO 217. ESTÍMULO A LA PROSTITUCIÓN DE MENORES                                                                   12\n",
      "ARTÍCULO 217 A. DEMANDA DE EXPLOTACION SEXUAL COMERCIAL DE PERSONA MENOR DE 18 AÑOS DE EDAD                           11\n",
      "ARTÍCULO 239. HURTO A ABIGEATO                                                                                        10\n",
      "ARTÍCULO 239. HURTO A PIRATERÍA TERRESTRE                                                                              7\n",
      "ARTÍCULO 214. CONSTREÑIMIENTO A LA PROSTITUCIÓN                                                                        7\n",
      "ARTÍCULO 211. ACCESO CARNAL VIOLENTO (CIRCUNSTANCIAS AGRAVACIÓN)                                                       5\n",
      "ARTÍCULO 213 A. PROXENETISMO CON MENOR DE EDAD                                                                         5\n",
      "ARTÍCULO 125. LESIONES AL FETO                                                                                         4\n",
      "ARTÍCULO 168. SECUESTRO SIMPLE                                                                                         3\n",
      "ARTÍCULO 211. ACTO SEXUAL VIOLENTO (CIRCUNSTANCIAS DE AGRAVACIÓN)                                                      3\n",
      "ARTÍCULO 169. SECUESTRO EXTORSIVO                                                                                      3\n",
      "ARTÍCULO 119. LESIONES PERSONALES ( CIRCUNSTANCIAS DE AGRAVACIÓN)                                                      2\n",
      "LESION ACCIDENTAL EN TRANSITO                                                                                          2\n",
      "ARTÍCULO 112. INCAPACIDAD PARA TRABAJAR O ENFERMEDAD                                                                   1\n",
      "ARTÍCULO 239. HURTO ABIGEATO                                                                                           1\n",
      "Name: count, dtype: int64\n",
      "Total de categorias:  (43,)\n",
      "Recuento de valores:  135076\n",
      "Valores nulos o no reportados: 12\n"
     ]
    }
   ],
   "execution_count": 12
  },
  {
   "metadata": {},
   "cell_type": "markdown",
   "source": "Se encuentran valores \"nulos\" o \"no reportados\" en la columna CONDUCTA con un total de 12 datos y una discrepancia respecto a DESCRIPCION_CONDUCTA con un total de 41 categorias frente a 43",
   "id": "55385e37bd5e6aa5"
  },
  {
   "metadata": {
    "ExecuteTime": {
     "end_time": "2024-08-27T17:17:29.414675Z",
     "start_time": "2024-08-27T17:17:29.379034Z"
    }
   },
   "cell_type": "code",
   "source": [
    "print(f\"Categorias y recuento: \\n\",df.CONDUCTA.value_counts())\n",
    "print(\"Total de categorias: \",df.CONDUCTA.unique().shape)\n",
    "print(\"Recuento de valores: \", df.CONDUCTA.value_counts().sum())\n",
    "\n",
    "print(\"Valores nulos o no reportados:\", df.CONDUCTA.value_counts()['NO REPORTA'])"
   ],
   "id": "ac1e797f7f25f4b5",
   "outputs": [
    {
     "name": "stdout",
     "output_type": "stream",
     "text": [
      "Categorias y recuento: \n",
      " CONDUCTA\n",
      "HURTO A PERSONAS                                                                                   48452\n",
      "LESIONES PERSONALES                                                                                24450\n",
      "LESIONES CULPOSAS ( EN ACCIDENTE DE TRANSITO )                                                     21130\n",
      "VIOLENCIA INTRAFAMILIAR                                                                            16519\n",
      "HURTO A ENTIDADES COMERCIALES                                                                       8937\n",
      "HURTO A RESIDENCIAS                                                                                 4752\n",
      "HURTO A MOTOCICLETAS                                                                                3708\n",
      "ACTOS SEXUALES CON MENOR DE 14 AÑOS                                                                 1529\n",
      "HOMICIDIO                                                                                           1365\n",
      "ACCESO CARNAL ABUSIVO CON MENOR DE 14 AÑOS                                                           805\n",
      "HOMICIDIO CULPOSO ( EN ACCIDENTE DE TRÁNSITO)                                                        615\n",
      "EXTORSIÓN                                                                                            518\n",
      "ACCESO CARNAL VIOLENTO                                                                               462\n",
      "ACTO SEXUAL VIOLENTO                                                                                 367\n",
      "ACOSO SEXUAL                                                                                         271\n",
      "AMENAZAS                                                                                             268\n",
      "ACCESO CARNAL O ACTO SEXUAL ABUSIVO CON INCAPAZ DE RESISTIR                                          245\n",
      "HURTO A AUTOMOTORES                                                                                  204\n",
      "ACCESO CARNAL O ACTO SEXUAL EN PERSONA PUESTA EN INCAPACIDAD DE RESISTIR                             119\n",
      "PORNOGRAFÍA CON MENORES                                                                               72\n",
      "UTILIZACIÓN O FACILITACIÓN DE MEDIOS DE COMUNICACIÓN PARA OFRECER SERVICIOS SEXUALES DE MENORES       68\n",
      "FEMINICIDIO                                                                                           40\n",
      "INDUCCIÓN A LA PROSTITUCIÓN                                                                           34\n",
      "ACCESO CARNAL ABUSIVO CON MENOR DE 14 AÑOS (CIRCUNSTANCIAS AGRAVACIÓN)                                17\n",
      "HURTO A ENTIDADES FINANCIERAS                                                                         15\n",
      "ACTOS SEXUALES CON MENOR DE 14 AÑOS (CIRCUNSTANCIAS DE AGRAVACIÓN)                                    15\n",
      "LESIONES CULPOSAS                                                                                     13\n",
      "ESTÍMULO A LA PROSTITUCIÓN DE MENORES                                                                 12\n",
      "NO REPORTA                                                                                            12\n",
      "DEMANDA DE EXPLOTACION SEXUAL COMERCIAL DE PERSONA MENOR DE 18 AÑOS DE EDAD                           11\n",
      "HURTO A ABIGEATO                                                                                      11\n",
      "CONSTREÑIMIENTO A LA PROSTITUCIÓN                                                                      7\n",
      "HURTO A PIRATERÍA TERRESTRE                                                                            7\n",
      "PROXENETISMO CON MENOR DE EDAD                                                                         5\n",
      "ACCESO CARNAL VIOLENTO (CIRCUNSTANCIAS AGRAVACIÓN)                                                     5\n",
      "LESIONES AL FETO                                                                                       4\n",
      "SECUESTRO EXTORSIVO                                                                                    3\n",
      "SECUESTRO SIMPLE                                                                                       3\n",
      "ACTO SEXUAL VIOLENTO (CIRCUNSTANCIAS DE AGRAVACIÓN)                                                    3\n",
      "LESIONES PERSONALES ( CIRCUNSTANCIAS DE AGRAVACIÓN)                                                    2\n",
      "INCAPACIDAD PARA TRABAJAR O ENFERMEDAD                                                                 1\n",
      "Name: count, dtype: int64\n",
      "Total de categorias:  (41,)\n",
      "Recuento de valores:  135076\n",
      "Valores nulos o no reportados: 12\n"
     ]
    }
   ],
   "execution_count": 13
  },
  {
   "metadata": {},
   "cell_type": "markdown",
   "source": "Se encuentran valores \"nulos\" o \"no reportados\" en la columna CLASIFICACIONES DELITO con un total de 12 datos",
   "id": "1336f198137031db"
  },
  {
   "metadata": {
    "ExecuteTime": {
     "end_time": "2024-08-27T17:17:29.477328Z",
     "start_time": "2024-08-27T17:17:29.444973Z"
    }
   },
   "cell_type": "code",
   "source": [
    "print(f\"Categorias y recuento: \\n\",df['CLASIFICACIONES DELITO'].value_counts())\n",
    "print(\"Total de categorias: \",df['CLASIFICACIONES DELITO'].unique().shape)\n",
    "print(\"Recuento de valores: \", df['CLASIFICACIONES DELITO'].value_counts().sum())\n",
    "\n",
    "print(\"Valores nulos o no reportados:\", df['CLASIFICACIONES DELITO'].value_counts()['NO REPORTA'])"
   ],
   "id": "143f1f1e01d1fc64",
   "outputs": [
    {
     "name": "stdout",
     "output_type": "stream",
     "text": [
      "Categorias y recuento: \n",
      " CLASIFICACIONES DELITO\n",
      "LESIONES NO FATALES    128993\n",
      "VIOLENCIA SEXUAL         4047\n",
      "LESIONES FATALES         2024\n",
      "NO REPORTA                 12\n",
      "Name: count, dtype: int64\n",
      "Total de categorias:  (4,)\n",
      "Recuento de valores:  135076\n",
      "Valores nulos o no reportados: 12\n"
     ]
    }
   ],
   "execution_count": 14
  },
  {
   "metadata": {},
   "cell_type": "markdown",
   "source": "Se encuentran valores \"nulos\" o \"no reportados\" en la columna MOVIL_VICTIMA y MOVIL_AGRESOR con un total de 881 datos y 434 datos respectivamente",
   "id": "efb82bb8ebd348cf"
  },
  {
   "metadata": {
    "ExecuteTime": {
     "end_time": "2024-08-27T17:17:29.614865Z",
     "start_time": "2024-08-27T17:17:29.561007Z"
    }
   },
   "cell_type": "code",
   "source": [
    "print(f\"Categorias y recuento: \\n\",df.MOVIL_VICTIMA.value_counts())\n",
    "print(\"Total de categorias: \",df.MOVIL_VICTIMA.unique().shape)\n",
    "print(\"Recuento de valores: \", df.MOVIL_VICTIMA.value_counts().sum())\n",
    "\n",
    "print(\"Valores nulos o no reportados:\", df.MOVIL_VICTIMA.value_counts()['NO REPORTA'])\n",
    "\n",
    "print(\"/////////////////////////////////////\")\n",
    "\n",
    "print(f\"Categorias y recuento: \\n\",df.MOVIL_AGRESOR.value_counts())\n",
    "print(\"Total de categorias: \",df.MOVIL_AGRESOR.unique().shape)\n",
    "print(\"Recuento de valores: \", df.MOVIL_AGRESOR.value_counts().sum())\n",
    "\n",
    "print(\"Valores nulos o no reportados:\", df.MOVIL_AGRESOR.value_counts()['NO REPORTA'])"
   ],
   "id": "9332c2a4dcad473d",
   "outputs": [
    {
     "name": "stdout",
     "output_type": "stream",
     "text": [
      "Categorias y recuento: \n",
      " MOVIL_VICTIMA\n",
      "A PIE                    104797\n",
      "CONDUCTOR MOTOCICLETA     16915\n",
      "CONDUCTOR VEHICULO         5457\n",
      "PASAJERO BUS               1877\n",
      "PASAJERO MOTOCICLETA       1250\n",
      "BICICLETA                  1126\n",
      "CONDUCTOR TAXI             1108\n",
      "NO REPORTA                  881\n",
      "PASAJERO TAXI               795\n",
      "PASAJERO VEHICULO           471\n",
      "CONDUCTOR BUS               279\n",
      "PASAJERO METRO              117\n",
      "PASAJERO AERONAVE             2\n",
      "PASAJERO BARCO                1\n",
      "Name: count, dtype: int64\n",
      "Total de categorias:  (14,)\n",
      "Recuento de valores:  135076\n",
      "Valores nulos o no reportados: 881\n",
      "/////////////////////////////////////\n",
      "Categorias y recuento: \n",
      " MOVIL_AGRESOR\n",
      "A PIE                    93438\n",
      "CONDUCTOR MOTOCICLETA    15067\n",
      "CONDUCTOR VEHICULO       13022\n",
      "PASAJERO MOTOCICLETA      7339\n",
      "CONDUCTOR TAXI            2931\n",
      "PASAJERO BUS              1547\n",
      "PASAJERO TAXI              569\n",
      "NO REPORTA                 434\n",
      "BICICLETA                  366\n",
      "PASAJERO VEHICULO          185\n",
      "PASAJERO METRO             101\n",
      "CONDUCTOR BUS               75\n",
      "TRIPULANTE AERONAVE          1\n",
      "PASAJERO BARCO               1\n",
      "Name: count, dtype: int64\n",
      "Total de categorias:  (14,)\n",
      "Recuento de valores:  135076\n",
      "Valores nulos o no reportados: 434\n"
     ]
    }
   ],
   "execution_count": 15
  },
  {
   "metadata": {},
   "cell_type": "markdown",
   "source": "FEATURE ENGINEERING\n",
   "id": "c59a1e94600ce8ca"
  },
  {
   "metadata": {},
   "cell_type": "markdown",
   "source": "///////////////////// ELIMINACION COLUMNAS ////////////////////////////////////",
   "id": "ceafe12e65007944"
  },
  {
   "metadata": {},
   "cell_type": "markdown",
   "source": [
    "Se eliminan las columnas ESTADO_CIVIL_PERSONA, CURSO_DE_VIDA, GENERO, ZONA por falta de aportar informacion relevante para el modelo\n",
    "y se elimina la columna CONDUCTA por redundancia con la columna DESCRIPCION_CONDUCTA y una discrepancia en los datos\n",
    "\n",
    "Tambien se elimina NOM_COMUNA por poder obtenerse la misma informacion de la columna BARRIOS_HECHO"
   ],
   "id": "150e923ff224b8fd"
  },
  {
   "metadata": {
    "ExecuteTime": {
     "end_time": "2024-08-27T17:17:29.638237Z",
     "start_time": "2024-08-27T17:17:29.634908Z"
    }
   },
   "cell_type": "code",
   "source": "df_normalizada = df",
   "id": "7df4c0cebd588774",
   "outputs": [],
   "execution_count": 16
  },
  {
   "metadata": {
    "ExecuteTime": {
     "end_time": "2024-08-27T17:17:29.671375Z",
     "start_time": "2024-08-27T17:17:29.657066Z"
    }
   },
   "cell_type": "code",
   "source": [
    "\n",
    "\n",
    "df_normalizada = df_normalizada.drop(['ESTADO_CIVIL_PERSONA', 'CURSO_DE_VIDA', 'GENERO', 'CONDUCTA', 'ZONA', 'NOM_COMUNA', 'ORDEN'], axis=1)"
   ],
   "id": "872f130150f753dd",
   "outputs": [],
   "execution_count": 17
  },
  {
   "metadata": {},
   "cell_type": "markdown",
   "source": "///////////////////// RENOMBRAR COLUMNAS ////////////////////////////////////",
   "id": "f5d1775ebb17b0eb"
  },
  {
   "metadata": {
    "ExecuteTime": {
     "end_time": "2024-08-27T17:17:29.700608Z",
     "start_time": "2024-08-27T17:17:29.689895Z"
    }
   },
   "cell_type": "code",
   "source": "df_normalizada = df_normalizada.rename(columns={'CLASIFICACIONES DELITO': 'CLASIFICACIONES_DELITO'})",
   "id": "dd0e4b76ea46713f",
   "outputs": [],
   "execution_count": 18
  },
  {
   "metadata": {},
   "cell_type": "markdown",
   "source": "///////////////////// TRANSFORMACION DATOS Y COLUMNAS //////////////////////////////////",
   "id": "75541206c5df98e"
  },
  {
   "metadata": {},
   "cell_type": "markdown",
   "source": [
    "Se tranforman las columnas ANO, MES, DIA, DIA_SEMANA a una columna llamada FECHA_HECHO con el formato YYYY-MM-DD\n",
    "\n",
    "Primero se transforma el mes a su equivalente numerico mapeando cada uno de los meses a un numero del 1 al 12\n",
    "\n",
    "Luego se crea la columna FECHA_TEMP concatenando las columnas ANO, MES_NUM y DIA y se convierte a tipo datetime en una nueva columna llamada FECHA_HECHO\n",
    "\n",
    "Y se eliminan las columnas ANO, MES, DIA y FECHA_TEMP\n",
    "\n",
    "En base a FECHA_HECHO se sacan las columnas numericas de ANO, MES y DIA para el posterior entrenamiento"
   ],
   "id": "3fe029e7efc74d7a"
  },
  {
   "metadata": {
    "ExecuteTime": {
     "end_time": "2024-08-27T17:17:29.727144Z",
     "start_time": "2024-08-27T17:17:29.714858Z"
    }
   },
   "cell_type": "code",
   "source": [
    "mes_mapping = {\n",
    "    \"01. ENERO\": 1, \"02. FEBRERO\": 2, \"03. MARZO\": 3, \"04. ABRIL\": 4,\n",
    "    \"05. MAYO\": 5, \"06. JUNIO\": 6, \"07. JULIO\": 7, \"08. AGOSTO\": 8,\n",
    "    \"09. SEPTIEMBRE\": 9, \"10. OCTUBRE\": 10, \"11. NOVIEMBRE\": 11, \"12. DICIEMBRE\": 12\n",
    "}\n",
    "df_normalizada['MES_NUM'] = df['MES'].map(mes_mapping)"
   ],
   "id": "edb736ce7176fd59",
   "outputs": [],
   "execution_count": 19
  },
  {
   "metadata": {
    "ExecuteTime": {
     "end_time": "2024-08-27T17:17:29.866313Z",
     "start_time": "2024-08-27T17:17:29.745465Z"
    }
   },
   "cell_type": "code",
   "source": [
    "df_normalizada['FECHA_TEMP'] = pd.to_datetime(df_normalizada['ANO'].astype(str) + '-' + df_normalizada['MES_NUM'].astype(str) + '-' + df_normalizada['DIA'].astype(str))\n",
    "\n",
    "df_normalizada['FECHA_HECHO'] = pd.to_datetime(df_normalizada['FECHA_TEMP'], format='%Y-%m-%d', errors='coerce')\n"
   ],
   "id": "130a71a1c3ef56b",
   "outputs": [],
   "execution_count": 20
  },
  {
   "metadata": {
    "ExecuteTime": {
     "end_time": "2024-08-27T17:17:29.898149Z",
     "start_time": "2024-08-27T17:17:29.881117Z"
    }
   },
   "cell_type": "code",
   "source": "df_normalizada = df_normalizada.drop(['ANO', 'MES', 'DIA', 'FECHA_TEMP', 'MES_NUM'], axis=1)",
   "id": "6d72c7904f0eb408",
   "outputs": [],
   "execution_count": 21
  },
  {
   "metadata": {
    "ExecuteTime": {
     "end_time": "2024-08-27T17:17:29.926442Z",
     "start_time": "2024-08-27T17:17:29.912955Z"
    }
   },
   "cell_type": "code",
   "source": [
    "df_normalizada['ANO'] = df_normalizada['FECHA_HECHO'].dt.year\n",
    "df_normalizada['MES'] = df_normalizada['FECHA_HECHO'].dt.month\n",
    "df_normalizada['DIA'] = df_normalizada['FECHA_HECHO'].dt.day"
   ],
   "id": "7fb653eaa63e9aa1",
   "outputs": [],
   "execution_count": 22
  },
  {
   "metadata": {
    "ExecuteTime": {
     "end_time": "2024-08-27T17:17:29.956839Z",
     "start_time": "2024-08-27T17:17:29.939923Z"
    }
   },
   "cell_type": "code",
   "source": "df_normalizada = df_normalizada.drop(['FECHA_HECHO'], axis=1)",
   "id": "d51dc67b7502b87a",
   "outputs": [],
   "execution_count": 23
  },
  {
   "metadata": {},
   "cell_type": "markdown",
   "source": [
    "Se tranforman las columnas LATITUD y LONGITUD a tipo float64 y se imputan los valores \"xx.xxxx\" y \"yy.yyyy\" que representan valores nulos con la media \n",
    "Y se aplica Min-Max Scaling a las columnas 'LATITUD' y 'LONGITUD' para normalizar los datos"
   ],
   "id": "989813ae8cc93767"
  },
  {
   "metadata": {
    "ExecuteTime": {
     "end_time": "2024-08-27T17:17:30.173157Z",
     "start_time": "2024-08-27T17:17:29.972865Z"
    }
   },
   "cell_type": "code",
   "source": [
    "# Se convierten las columnas LATITUD y LONGITUD a tipo float64\n",
    "df_normalizada['LATITUD'] = pd.to_numeric(df_normalizada['LATITUD'].str.replace(',', ''), errors='coerce')\n",
    "df_normalizada['LONGITUD'] = pd.to_numeric(df_normalizada['LONGITUD'].str.replace(',', ''), errors='coerce')\n",
    "\n",
    "# Calcular la media de cada columna (ignorando los NaN)\n",
    "latitud_mean = df_normalizada['LATITUD'].mean()\n",
    "longitud_mean = df_normalizada['LONGITUD'].mean()\n",
    "\n",
    "# Imputar los valores NaN con la media\n",
    "df_normalizada['LATITUD'] = df_normalizada['LATITUD'].fillna(latitud_mean)\n",
    "df_normalizada['LONGITUD'] = df_normalizada['LONGITUD'].fillna(longitud_mean)"
   ],
   "id": "7d1a785a8f483634",
   "outputs": [],
   "execution_count": 24
  },
  {
   "metadata": {
    "ExecuteTime": {
     "end_time": "2024-08-27T17:17:30.199699Z",
     "start_time": "2024-08-27T17:17:30.187695Z"
    }
   },
   "cell_type": "code",
   "source": [
    "# Inicializar el escalador\n",
    "scaler = MinMaxScaler()\n",
    "\n",
    "# Aplicar Min-Max Scaling a las columnas 'LATITUD' y 'LONGITUD'\n",
    "df_normalizada[['LATITUD', 'LONGITUD']] = scaler.fit_transform(df_normalizada[['LATITUD', 'LONGITUD']])"
   ],
   "id": "924ff961aed70b6a",
   "outputs": [],
   "execution_count": 25
  },
  {
   "metadata": {},
   "cell_type": "markdown",
   "source": "///////////////////// NORMALIZACION DE DATOS ////////////////////////////////////",
   "id": "bdf690b51a9e910b"
  },
  {
   "metadata": {},
   "cell_type": "markdown",
   "source": "Se aplica one-hot encoding a las columnas ARMAS_MEDIOS, BARRIOS_HECHO, DIA_SEMANA, DESCRIPCION_CONDUCTA, CLASIFICACIONES DELITO, MOVIL_AGRESOR, MOVIL_VICTIMA",
   "id": "fce0f5eb15210a66"
  },
  {
   "metadata": {
    "ExecuteTime": {
     "end_time": "2024-08-27T17:17:30.334085Z",
     "start_time": "2024-08-27T17:17:30.215106Z"
    }
   },
   "cell_type": "code",
   "source": [
    "df_normalizada = pd.get_dummies(df_normalizada, columns=[\n",
    "    'ARMAS_MEDIOS',\n",
    "    'BARRIOS_HECHO',\n",
    "    'DIA_SEMANA',\n",
    "    'DESCRIPCION_CONDUCTA',\n",
    "    'CLASIFICACIONES_DELITO',\n",
    "    'MOVIL_AGRESOR',\n",
    "    'MOVIL_VICTIMA'\n",
    "], drop_first=True)\n",
    "\n"
   ],
   "id": "c788f59ced8d6ea1",
   "outputs": [],
   "execution_count": 26
  },
  {
   "metadata": {},
   "cell_type": "markdown",
   "source": "EDA TABLA NORMALIZADA",
   "id": "a21e368677b20f1b"
  },
  {
   "metadata": {
    "ExecuteTime": {
     "end_time": "2024-08-27T17:17:30.375689Z",
     "start_time": "2024-08-27T17:17:30.354782Z"
    }
   },
   "cell_type": "code",
   "source": "df_normalizada.info()",
   "id": "82d6f0d501b47f4",
   "outputs": [
    {
     "name": "stdout",
     "output_type": "stream",
     "text": [
      "<class 'pandas.core.frame.DataFrame'>\n",
      "RangeIndex: 135076 entries, 0 to 135075\n",
      "Columns: 607 entries, LATITUD to MOVIL_VICTIMA_PASAJERO VEHICULO\n",
      "dtypes: bool(602), float64(2), int32(3)\n",
      "memory usage: 81.2 MB\n"
     ]
    }
   ],
   "execution_count": 27
  },
  {
   "metadata": {
    "ExecuteTime": {
     "end_time": "2024-08-27T17:22:47.196867Z",
     "start_time": "2024-08-27T17:22:47.183040Z"
    }
   },
   "cell_type": "code",
   "source": "df_normalizada.head()",
   "id": "f6aa9aaab54c9b70",
   "outputs": [
    {
     "data": {
      "text/plain": [
       "        LATITUD  LONGITUD   ANO  MES  DIA  ARMAS_MEDIOS_AGUA CALIENTE  \\\n",
       "0  1.002491e-07   1.00000  2010    1    1                       False   \n",
       "1  9.955130e-08   1.00000  2010    1    1                       False   \n",
       "2  9.955130e-08   1.00000  2010    1    1                       False   \n",
       "3  9.998071e-09   0.99999  2010    1    1                       False   \n",
       "4  1.002491e-07   1.00000  2010    1    1                       False   \n",
       "\n",
       "   ARMAS_MEDIOS_ALUCINOGENOS  ARMAS_MEDIOS_ARMA BLANCA / CORTOPUNZANTE  \\\n",
       "0                      False                                      True   \n",
       "1                      False                                      True   \n",
       "2                      False                                      True   \n",
       "3                      False                                      True   \n",
       "4                      False                                      True   \n",
       "\n",
       "   ARMAS_MEDIOS_ARMA DE FUEGO  ARMAS_MEDIOS_ARMA TRAUMATICA  ...  \\\n",
       "0                       False                         False  ...   \n",
       "1                       False                         False  ...   \n",
       "2                       False                         False  ...   \n",
       "3                       False                         False  ...   \n",
       "4                       False                         False  ...   \n",
       "\n",
       "   MOVIL_VICTIMA_PASAJERO AERONAVE  MOVIL_VICTIMA_PASAJERO BARCO  \\\n",
       "0                            False                         False   \n",
       "1                            False                         False   \n",
       "2                            False                         False   \n",
       "3                            False                         False   \n",
       "4                            False                         False   \n",
       "\n",
       "   MOVIL_VICTIMA_PASAJERO BUS  MOVIL_VICTIMA_PASAJERO METRO  \\\n",
       "0                       False                         False   \n",
       "1                       False                         False   \n",
       "2                       False                         False   \n",
       "3                       False                         False   \n",
       "4                       False                         False   \n",
       "\n",
       "   MOVIL_VICTIMA_PASAJERO MOTOCICLETA  MOVIL_VICTIMA_PASAJERO TAXI  \\\n",
       "0                               False                        False   \n",
       "1                               False                        False   \n",
       "2                               False                        False   \n",
       "3                               False                        False   \n",
       "4                               False                        False   \n",
       "\n",
       "   MOVIL_VICTIMA_PASAJERO VEHICULO         BARRIO  TOTAL_INCIDENTES  \\\n",
       "0                            False   BUENOS AIRES               588   \n",
       "1                            False  CAMPO HERMOSO              2784   \n",
       "2                            False  CAMPO HERMOSO              2784   \n",
       "3                            False      COMUNEROS              2235   \n",
       "4                            False       GIRARDOT              2608   \n",
       "\n",
       "   CATEGORIA_SEGURIDAD  \n",
       "0       Alta seguridad  \n",
       "1   Moderada seguridad  \n",
       "2   Moderada seguridad  \n",
       "3   Moderada seguridad  \n",
       "4   Moderada seguridad  \n",
       "\n",
       "[5 rows x 610 columns]"
      ],
      "text/html": [
       "<div>\n",
       "<style scoped>\n",
       "    .dataframe tbody tr th:only-of-type {\n",
       "        vertical-align: middle;\n",
       "    }\n",
       "\n",
       "    .dataframe tbody tr th {\n",
       "        vertical-align: top;\n",
       "    }\n",
       "\n",
       "    .dataframe thead th {\n",
       "        text-align: right;\n",
       "    }\n",
       "</style>\n",
       "<table border=\"1\" class=\"dataframe\">\n",
       "  <thead>\n",
       "    <tr style=\"text-align: right;\">\n",
       "      <th></th>\n",
       "      <th>LATITUD</th>\n",
       "      <th>LONGITUD</th>\n",
       "      <th>ANO</th>\n",
       "      <th>MES</th>\n",
       "      <th>DIA</th>\n",
       "      <th>ARMAS_MEDIOS_AGUA CALIENTE</th>\n",
       "      <th>ARMAS_MEDIOS_ALUCINOGENOS</th>\n",
       "      <th>ARMAS_MEDIOS_ARMA BLANCA / CORTOPUNZANTE</th>\n",
       "      <th>ARMAS_MEDIOS_ARMA DE FUEGO</th>\n",
       "      <th>ARMAS_MEDIOS_ARMA TRAUMATICA</th>\n",
       "      <th>...</th>\n",
       "      <th>MOVIL_VICTIMA_PASAJERO AERONAVE</th>\n",
       "      <th>MOVIL_VICTIMA_PASAJERO BARCO</th>\n",
       "      <th>MOVIL_VICTIMA_PASAJERO BUS</th>\n",
       "      <th>MOVIL_VICTIMA_PASAJERO METRO</th>\n",
       "      <th>MOVIL_VICTIMA_PASAJERO MOTOCICLETA</th>\n",
       "      <th>MOVIL_VICTIMA_PASAJERO TAXI</th>\n",
       "      <th>MOVIL_VICTIMA_PASAJERO VEHICULO</th>\n",
       "      <th>BARRIO</th>\n",
       "      <th>TOTAL_INCIDENTES</th>\n",
       "      <th>CATEGORIA_SEGURIDAD</th>\n",
       "    </tr>\n",
       "  </thead>\n",
       "  <tbody>\n",
       "    <tr>\n",
       "      <th>0</th>\n",
       "      <td>1.002491e-07</td>\n",
       "      <td>1.00000</td>\n",
       "      <td>2010</td>\n",
       "      <td>1</td>\n",
       "      <td>1</td>\n",
       "      <td>False</td>\n",
       "      <td>False</td>\n",
       "      <td>True</td>\n",
       "      <td>False</td>\n",
       "      <td>False</td>\n",
       "      <td>...</td>\n",
       "      <td>False</td>\n",
       "      <td>False</td>\n",
       "      <td>False</td>\n",
       "      <td>False</td>\n",
       "      <td>False</td>\n",
       "      <td>False</td>\n",
       "      <td>False</td>\n",
       "      <td>BUENOS AIRES</td>\n",
       "      <td>588</td>\n",
       "      <td>Alta seguridad</td>\n",
       "    </tr>\n",
       "    <tr>\n",
       "      <th>1</th>\n",
       "      <td>9.955130e-08</td>\n",
       "      <td>1.00000</td>\n",
       "      <td>2010</td>\n",
       "      <td>1</td>\n",
       "      <td>1</td>\n",
       "      <td>False</td>\n",
       "      <td>False</td>\n",
       "      <td>True</td>\n",
       "      <td>False</td>\n",
       "      <td>False</td>\n",
       "      <td>...</td>\n",
       "      <td>False</td>\n",
       "      <td>False</td>\n",
       "      <td>False</td>\n",
       "      <td>False</td>\n",
       "      <td>False</td>\n",
       "      <td>False</td>\n",
       "      <td>False</td>\n",
       "      <td>CAMPO HERMOSO</td>\n",
       "      <td>2784</td>\n",
       "      <td>Moderada seguridad</td>\n",
       "    </tr>\n",
       "    <tr>\n",
       "      <th>2</th>\n",
       "      <td>9.955130e-08</td>\n",
       "      <td>1.00000</td>\n",
       "      <td>2010</td>\n",
       "      <td>1</td>\n",
       "      <td>1</td>\n",
       "      <td>False</td>\n",
       "      <td>False</td>\n",
       "      <td>True</td>\n",
       "      <td>False</td>\n",
       "      <td>False</td>\n",
       "      <td>...</td>\n",
       "      <td>False</td>\n",
       "      <td>False</td>\n",
       "      <td>False</td>\n",
       "      <td>False</td>\n",
       "      <td>False</td>\n",
       "      <td>False</td>\n",
       "      <td>False</td>\n",
       "      <td>CAMPO HERMOSO</td>\n",
       "      <td>2784</td>\n",
       "      <td>Moderada seguridad</td>\n",
       "    </tr>\n",
       "    <tr>\n",
       "      <th>3</th>\n",
       "      <td>9.998071e-09</td>\n",
       "      <td>0.99999</td>\n",
       "      <td>2010</td>\n",
       "      <td>1</td>\n",
       "      <td>1</td>\n",
       "      <td>False</td>\n",
       "      <td>False</td>\n",
       "      <td>True</td>\n",
       "      <td>False</td>\n",
       "      <td>False</td>\n",
       "      <td>...</td>\n",
       "      <td>False</td>\n",
       "      <td>False</td>\n",
       "      <td>False</td>\n",
       "      <td>False</td>\n",
       "      <td>False</td>\n",
       "      <td>False</td>\n",
       "      <td>False</td>\n",
       "      <td>COMUNEROS</td>\n",
       "      <td>2235</td>\n",
       "      <td>Moderada seguridad</td>\n",
       "    </tr>\n",
       "    <tr>\n",
       "      <th>4</th>\n",
       "      <td>1.002491e-07</td>\n",
       "      <td>1.00000</td>\n",
       "      <td>2010</td>\n",
       "      <td>1</td>\n",
       "      <td>1</td>\n",
       "      <td>False</td>\n",
       "      <td>False</td>\n",
       "      <td>True</td>\n",
       "      <td>False</td>\n",
       "      <td>False</td>\n",
       "      <td>...</td>\n",
       "      <td>False</td>\n",
       "      <td>False</td>\n",
       "      <td>False</td>\n",
       "      <td>False</td>\n",
       "      <td>False</td>\n",
       "      <td>False</td>\n",
       "      <td>False</td>\n",
       "      <td>GIRARDOT</td>\n",
       "      <td>2608</td>\n",
       "      <td>Moderada seguridad</td>\n",
       "    </tr>\n",
       "  </tbody>\n",
       "</table>\n",
       "<p>5 rows × 610 columns</p>\n",
       "</div>"
      ]
     },
     "execution_count": 39,
     "metadata": {},
     "output_type": "execute_result"
    }
   ],
   "execution_count": 39
  },
  {
   "metadata": {
    "ExecuteTime": {
     "end_time": "2024-08-27T17:20:54.762673Z",
     "start_time": "2024-08-27T17:20:54.754925Z"
    }
   },
   "cell_type": "code",
   "source": "df_normalizada.value_counts('CATEGORIA_SEGURIDAD')",
   "id": "5e7641f6cad617",
   "outputs": [
    {
     "data": {
      "text/plain": [
       "CATEGORIA_SEGURIDAD\n",
       "Moderada seguridad    35362\n",
       "Alta seguridad        34155\n",
       "Baja seguridad        31462\n",
       "Name: count, dtype: int64"
      ]
     },
     "execution_count": 36,
     "metadata": {},
     "output_type": "execute_result"
    }
   ],
   "execution_count": 36
  },
  {
   "metadata": {
    "ExecuteTime": {
     "end_time": "2024-08-27T18:42:03.726970Z",
     "start_time": "2024-08-27T18:42:03.712888Z"
    }
   },
   "cell_type": "code",
   "source": "df_normalizada.BARRIO.value_counts()",
   "id": "30d4d7012ce4a4b8",
   "outputs": [
    {
     "data": {
      "text/plain": [
       "BARRIO\n",
       "CENTRO                11199\n",
       "SAN FRANCISCO          5944\n",
       "CABECERA DEL LLANO     5794\n",
       "LA CONCORDIA           5078\n",
       "PROVENZA               3447\n",
       "                      ...  \n",
       "CAMPO GALAN               1\n",
       "EL CENTRO                 1\n",
       "EL PROGRESO               1\n",
       "VILLABEL                  1\n",
       "CAMPESTRE                 1\n",
       "Name: count, Length: 483, dtype: int64"
      ]
     },
     "execution_count": 57,
     "metadata": {},
     "output_type": "execute_result"
    }
   ],
   "execution_count": 57
  },
  {
   "metadata": {
    "ExecuteTime": {
     "end_time": "2024-08-27T17:20:48.822984Z",
     "start_time": "2024-08-27T17:20:48.812946Z"
    }
   },
   "cell_type": "code",
   "source": "df_normalizada['TOTAL_INCIDENTES'].describe()\n",
   "id": "8ff48870e770a719",
   "outputs": [
    {
     "data": {
      "text/plain": [
       "count    135076.000000\n",
       "mean       2685.199754\n",
       "std        3064.885586\n",
       "min           1.000000\n",
       "25%         536.000000\n",
       "50%        1698.000000\n",
       "75%        3441.000000\n",
       "max       11199.000000\n",
       "Name: TOTAL_INCIDENTES, dtype: float64"
      ]
     },
     "execution_count": 35,
     "metadata": {},
     "output_type": "execute_result"
    }
   ],
   "execution_count": 35
  },
  {
   "metadata": {
    "ExecuteTime": {
     "end_time": "2024-08-27T18:40:27.775590Z",
     "start_time": "2024-08-27T18:40:27.767398Z"
    }
   },
   "cell_type": "code",
   "source": "df_normalizada['TOTAL_INCIDENTES'].value_counts()",
   "id": "3475c20363f88afe",
   "outputs": [
    {
     "data": {
      "text/plain": [
       "TOTAL_INCIDENTES\n",
       "11199    11199\n",
       "5944      5944\n",
       "5794      5794\n",
       "5078      5078\n",
       "3447      3447\n",
       "         ...  \n",
       "29          29\n",
       "14          28\n",
       "26          26\n",
       "6           24\n",
       "22          22\n",
       "Name: count, Length: 222, dtype: int64"
      ]
     },
     "execution_count": 56,
     "metadata": {},
     "output_type": "execute_result"
    }
   ],
   "execution_count": 56
  },
  {
   "metadata": {},
   "cell_type": "markdown",
   "source": "FEATURE ENGINEERING PARA LA TABLA NORMALIZADA",
   "id": "7a0dfeb56172a8c4"
  },
  {
   "metadata": {
    "ExecuteTime": {
     "end_time": "2024-08-27T17:20:05.838305Z",
     "start_time": "2024-08-27T17:20:05.615967Z"
    }
   },
   "cell_type": "code",
   "source": [
    "barrios_columns = df_normalizada.filter(like='BARRIOS_HECHO_').columns\n",
    "df_normalizada['BARRIO'] = df_normalizada[barrios_columns].idxmax(axis=1).str.replace('BARRIOS_HECHO_', '')\n",
    "\n",
    "\n",
    "# Contar el número de incidentes por barrio\n",
    "incidentes_por_barrio = df_normalizada['BARRIO'].value_counts().reset_index()\n",
    "incidentes_por_barrio.columns = ['BARRIO', 'TOTAL_INCIDENTES']\n",
    "\n",
    "# Unir este conteo de incidentes con el DataFrame original\n",
    "df_normalizada = df_normalizada.merge(incidentes_por_barrio, on='BARRIO', how='left')\n",
    "\n",
    "# Crear la columna CATEGORIA_SEGURIDAD basada en los umbrales de incidentes\n",
    "df_normalizada['CATEGORIA_SEGURIDAD'] = pd.cut(df_normalizada['TOTAL_INCIDENTES'],\n",
    "                                               bins=[536, 1698, 3441, float('inf')],\n",
    "                                               labels=['Alta seguridad', 'Moderada seguridad', 'Baja seguridad'])\n",
    "\n",
    "# Verificar los primeros resultados\n",
    "df_normalizada[['BARRIO', 'TOTAL_INCIDENTES', 'CATEGORIA_SEGURIDAD']].head()\n",
    "\n",
    "\n",
    "\n",
    "\n"
   ],
   "id": "d22fffb72c81dee",
   "outputs": [
    {
     "data": {
      "text/plain": [
       "          BARRIO  TOTAL_INCIDENTES CATEGORIA_SEGURIDAD\n",
       "0   BUENOS AIRES               588      Alta seguridad\n",
       "1  CAMPO HERMOSO              2784  Moderada seguridad\n",
       "2  CAMPO HERMOSO              2784  Moderada seguridad\n",
       "3      COMUNEROS              2235  Moderada seguridad\n",
       "4       GIRARDOT              2608  Moderada seguridad"
      ],
      "text/html": [
       "<div>\n",
       "<style scoped>\n",
       "    .dataframe tbody tr th:only-of-type {\n",
       "        vertical-align: middle;\n",
       "    }\n",
       "\n",
       "    .dataframe tbody tr th {\n",
       "        vertical-align: top;\n",
       "    }\n",
       "\n",
       "    .dataframe thead th {\n",
       "        text-align: right;\n",
       "    }\n",
       "</style>\n",
       "<table border=\"1\" class=\"dataframe\">\n",
       "  <thead>\n",
       "    <tr style=\"text-align: right;\">\n",
       "      <th></th>\n",
       "      <th>BARRIO</th>\n",
       "      <th>TOTAL_INCIDENTES</th>\n",
       "      <th>CATEGORIA_SEGURIDAD</th>\n",
       "    </tr>\n",
       "  </thead>\n",
       "  <tbody>\n",
       "    <tr>\n",
       "      <th>0</th>\n",
       "      <td>BUENOS AIRES</td>\n",
       "      <td>588</td>\n",
       "      <td>Alta seguridad</td>\n",
       "    </tr>\n",
       "    <tr>\n",
       "      <th>1</th>\n",
       "      <td>CAMPO HERMOSO</td>\n",
       "      <td>2784</td>\n",
       "      <td>Moderada seguridad</td>\n",
       "    </tr>\n",
       "    <tr>\n",
       "      <th>2</th>\n",
       "      <td>CAMPO HERMOSO</td>\n",
       "      <td>2784</td>\n",
       "      <td>Moderada seguridad</td>\n",
       "    </tr>\n",
       "    <tr>\n",
       "      <th>3</th>\n",
       "      <td>COMUNEROS</td>\n",
       "      <td>2235</td>\n",
       "      <td>Moderada seguridad</td>\n",
       "    </tr>\n",
       "    <tr>\n",
       "      <th>4</th>\n",
       "      <td>GIRARDOT</td>\n",
       "      <td>2608</td>\n",
       "      <td>Moderada seguridad</td>\n",
       "    </tr>\n",
       "  </tbody>\n",
       "</table>\n",
       "</div>"
      ]
     },
     "execution_count": 33,
     "metadata": {},
     "output_type": "execute_result"
    }
   ],
   "execution_count": 33
  },
  {
   "metadata": {
    "ExecuteTime": {
     "end_time": "2024-08-27T18:49:36.948163Z",
     "start_time": "2024-08-27T18:49:36.758345Z"
    }
   },
   "cell_type": "code",
   "source": "df_normalizada.TOTAL_INCIDENTES.plot.hist(bins=30, edgecolor='white', linewidth=1.2)",
   "id": "7aa46be60695a28e",
   "outputs": [
    {
     "data": {
      "text/plain": [
       "<Axes: ylabel='Frequency'>"
      ]
     },
     "execution_count": 63,
     "metadata": {},
     "output_type": "execute_result"
    },
    {
     "data": {
      "text/plain": [
       "<Figure size 640x480 with 1 Axes>"
      ],
      "image/png": "[encoded data removed]"
     },
     "metadata": {},
     "output_type": "display_data"
    }
   ],
   "execution_count": 63
  }
 ],
 "metadata": {
  "kernelspec": {
   "display_name": "Python 3",
   "language": "python",
   "name": "python3"
  },
  "language_info": {
   "codemirror_mode": {
    "name": "ipython",
    "version": 2
   },
   "file_extension": ".py",
   "mimetype": "text/x-python",
   "name": "python",
   "nbconvert_exporter": "python",
   "pygments_lexer": "ipython2",
   "version": "2.7.6"
  }
 },
 "nbformat": 4,
 "nbformat_minor": 5
}
