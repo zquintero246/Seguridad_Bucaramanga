{
 "cells": [
  {
   "metadata": {},
   "cell_type": "markdown",
   "source": "LIBRERIAS A USAR",
   "id": "753caad9e0cba243"
  },
  {
   "metadata": {
    "ExecuteTime": {
     "end_time": "2024-08-26T20:01:24.867936Z",
     "start_time": "2024-08-26T20:01:24.863934Z"
    }
   },
   "cell_type": "code",
   "source": [
    "\n",
    "# Pandas para manejo de datos\n",
    "import pandas as pd\n",
    "\n",
    "\n",
    "# MatplotLib para grafos\n",
    "import matplotlib.pyplot as plt\n",
    "\n",
    "# Seaborn para grafos\n",
    "import seaborn as sns\n",
    "\n",
    "# Numpy para manejo de datos\n",
    "import numpy as np\n",
    "from numpy import dtype"
   ],
   "id": "fbc121e30a2defb3",
   "outputs": [],
   "execution_count": 26
  },
  {
   "metadata": {},
   "cell_type": "markdown",
   "source": "CARGAR DATOS",
   "id": "39ec04f42db76971"
  },
  {
   "metadata": {
    "ExecuteTime": {
     "end_time": "2024-08-26T20:01:32.905470Z",
     "start_time": "2024-08-26T20:01:24.900490Z"
    }
   },
   "cell_type": "code",
   "source": [
    "        # Url de los datos \n",
    "url = \"https://drive.google.com/uc?id=1RoSzovZx4l6CixdVfJTt527_WfCFqPO4&export=download\"\n",
    "\n",
    "# Convertir a DataFrame con pandas\n",
    "df = pd.read_csv(url)\n"
   ],
   "id": "b531bdc199f83042",
   "outputs": [],
   "execution_count": 27
  },
  {
   "metadata": {},
   "cell_type": "markdown",
   "source": "ANALISIS EXPLORATORIO DE DATOS",
   "id": "ec9b0de3bb1edca3"
  },
  {
   "metadata": {},
   "cell_type": "markdown",
   "source": "",
   "id": "911ba4428932a75e"
  },
  {
   "metadata": {
    "ExecuteTime": {
     "end_time": "2024-08-26T20:12:53.801071Z",
     "start_time": "2024-08-26T20:12:53.752418Z"
    }
   },
   "cell_type": "code",
   "source": [
    "\n",
    "# Mostra el tipo de dato de cada columna\n",
    "df.info()\n"
   ],
   "id": "dd49ac42d01dc35b",
   "outputs": [
    {
     "name": "stdout",
     "output_type": "stream",
     "text": [
      "<class 'pandas.core.frame.DataFrame'>\n",
      "RangeIndex: 135076 entries, 0 to 135075\n",
      "Data columns (total 18 columns):\n",
      " #   Column                                      Non-Null Count   Dtype \n",
      "---  ------                                      --------------   ----- \n",
      " 0   ORDEN                                       135076 non-null  int64 \n",
      " 1   ARMAS_MEDIOS                                132963 non-null  object\n",
      " 2   BARRIOS_HECHO                               135076 non-null  object\n",
      " 3   LATITUD                                     128713 non-null  object\n",
      " 4   LONGITUD                                    128713 non-null  object\n",
      " 5   ZONA                                        132887 non-null  object\n",
      " 6   NOM_COMUNA                                  135076 non-null  object\n",
      " 7   ANO                                         135076 non-null  int64 \n",
      " 8   MES                                         135076 non-null  object\n",
      " 9   DIA                                         135076 non-null  int64 \n",
      " 10  DIA_SEMANA                                  135076 non-null  object\n",
      " 11  DESCRIPCION_CONDUCTA                        135064 non-null  object\n",
      " 12  CONDUCTA                                    135064 non-null  object\n",
      " 13  MOVIL_AGRESOR                               134642 non-null  object\n",
      " 14  MOVIL_VICTIMA                               134195 non-null  object\n",
      " 15  CLASIFICACIONES_DELITO_LESIONES FATALES     135076 non-null  int32 \n",
      " 16  CLASIFICACIONES_DELITO_LESIONES NO FATALES  135076 non-null  int32 \n",
      " 17  CLASIFICACIONES_DELITO_VIOLENCIA SEXUAL     135076 non-null  int32 \n",
      "dtypes: int32(3), int64(3), object(12)\n",
      "memory usage: 17.0+ MB\n"
     ]
    }
   ],
   "execution_count": 61
  },
  {
   "metadata": {
    "ExecuteTime": {
     "end_time": "2024-08-26T20:23:19.927982Z",
     "start_time": "2024-08-26T20:23:19.917237Z"
    }
   },
   "cell_type": "code",
   "source": [
    "# Mostrar las primeras filas del DataFrame\n",
    "df.head()\n"
   ],
   "id": "a84276137eab4ba5",
   "outputs": [
    {
     "data": {
      "text/plain": [
       "   ORDEN                 ARMAS_MEDIOS  BARRIOS_HECHO        LATITUD  \\\n",
       "0      1  ARMA BLANCA / CORTOPUNZANTE   BUENOS AIRES  7,170,557,382   \n",
       "1      2  ARMA BLANCA / CORTOPUNZANTE  CAMPO HERMOSO  7,120,645,358   \n",
       "2      3  ARMA BLANCA / CORTOPUNZANTE  CAMPO HERMOSO  7,120,645,358   \n",
       "3      4  ARMA BLANCA / CORTOPUNZANTE      COMUNEROS    715,135,927   \n",
       "4      5  ARMA BLANCA / CORTOPUNZANTE       GIRARDOT  7,170,557,382   \n",
       "\n",
       "          LONGITUD    ZONA         NOM_COMUNA   ANO        MES  DIA  ...  \\\n",
       "0      -73,135,108  URBANA      14. MORRORICO  2010  01. ENERO    1  ...   \n",
       "1       -7,312,605  URBANA  05. GARCÍA ROVIRA  2010  01. ENERO    1  ...   \n",
       "2       -7,312,605  URBANA  05. GARCÍA ROVIRA  2010  01. ENERO    1  ...   \n",
       "3  -73,145,704,583  URBANA  03. SAN FRANCISCO  2010  01. ENERO    1  ...   \n",
       "4      -73,135,108  URBANA     04. OCCIDENTAL  2010  01. ENERO    1  ...   \n",
       "\n",
       "  MOVIL_AGRESOR_CONDUCTOR MOTOCICLETA MOVIL_AGRESOR_CONDUCTOR TAXI  \\\n",
       "0                                   0                            0   \n",
       "1                                   0                            0   \n",
       "2                                   0                            0   \n",
       "3                                   0                            0   \n",
       "4                                   0                            0   \n",
       "\n",
       "   MOVIL_AGRESOR_CONDUCTOR VEHICULO  MOVIL_AGRESOR_PASAJERO BARCO  \\\n",
       "0                                 0                             0   \n",
       "1                                 0                             0   \n",
       "2                                 0                             0   \n",
       "3                                 0                             0   \n",
       "4                                 0                             0   \n",
       "\n",
       "   MOVIL_AGRESOR_PASAJERO BUS  MOVIL_AGRESOR_PASAJERO METRO  \\\n",
       "0                           0                             0   \n",
       "1                           0                             0   \n",
       "2                           0                             0   \n",
       "3                           0                             0   \n",
       "4                           0                             0   \n",
       "\n",
       "   MOVIL_AGRESOR_PASAJERO MOTOCICLETA  MOVIL_AGRESOR_PASAJERO TAXI  \\\n",
       "0                                   0                            0   \n",
       "1                                   0                            0   \n",
       "2                                   0                            0   \n",
       "3                                   0                            0   \n",
       "4                                   0                            0   \n",
       "\n",
       "   MOVIL_AGRESOR_PASAJERO VEHICULO  MOVIL_AGRESOR_TRIPULANTE AERONAVE  \n",
       "0                                0                                  0  \n",
       "1                                0                                  0  \n",
       "2                                0                                  0  \n",
       "3                                0                                  0  \n",
       "4                                0                                  0  \n",
       "\n",
       "[5 rows x 41 columns]"
      ],
      "text/html": [
       "<div>\n",
       "<style scoped>\n",
       "    .dataframe tbody tr th:only-of-type {\n",
       "        vertical-align: middle;\n",
       "    }\n",
       "\n",
       "    .dataframe tbody tr th {\n",
       "        vertical-align: top;\n",
       "    }\n",
       "\n",
       "    .dataframe thead th {\n",
       "        text-align: right;\n",
       "    }\n",
       "</style>\n",
       "<table border=\"1\" class=\"dataframe\">\n",
       "  <thead>\n",
       "    <tr style=\"text-align: right;\">\n",
       "      <th></th>\n",
       "      <th>ORDEN</th>\n",
       "      <th>ARMAS_MEDIOS</th>\n",
       "      <th>BARRIOS_HECHO</th>\n",
       "      <th>LATITUD</th>\n",
       "      <th>LONGITUD</th>\n",
       "      <th>ZONA</th>\n",
       "      <th>NOM_COMUNA</th>\n",
       "      <th>ANO</th>\n",
       "      <th>MES</th>\n",
       "      <th>DIA</th>\n",
       "      <th>...</th>\n",
       "      <th>MOVIL_AGRESOR_CONDUCTOR MOTOCICLETA</th>\n",
       "      <th>MOVIL_AGRESOR_CONDUCTOR TAXI</th>\n",
       "      <th>MOVIL_AGRESOR_CONDUCTOR VEHICULO</th>\n",
       "      <th>MOVIL_AGRESOR_PASAJERO BARCO</th>\n",
       "      <th>MOVIL_AGRESOR_PASAJERO BUS</th>\n",
       "      <th>MOVIL_AGRESOR_PASAJERO METRO</th>\n",
       "      <th>MOVIL_AGRESOR_PASAJERO MOTOCICLETA</th>\n",
       "      <th>MOVIL_AGRESOR_PASAJERO TAXI</th>\n",
       "      <th>MOVIL_AGRESOR_PASAJERO VEHICULO</th>\n",
       "      <th>MOVIL_AGRESOR_TRIPULANTE AERONAVE</th>\n",
       "    </tr>\n",
       "  </thead>\n",
       "  <tbody>\n",
       "    <tr>\n",
       "      <th>0</th>\n",
       "      <td>1</td>\n",
       "      <td>ARMA BLANCA / CORTOPUNZANTE</td>\n",
       "      <td>BUENOS AIRES</td>\n",
       "      <td>7,170,557,382</td>\n",
       "      <td>-73,135,108</td>\n",
       "      <td>URBANA</td>\n",
       "      <td>14. MORRORICO</td>\n",
       "      <td>2010</td>\n",
       "      <td>01. ENERO</td>\n",
       "      <td>1</td>\n",
       "      <td>...</td>\n",
       "      <td>0</td>\n",
       "      <td>0</td>\n",
       "      <td>0</td>\n",
       "      <td>0</td>\n",
       "      <td>0</td>\n",
       "      <td>0</td>\n",
       "      <td>0</td>\n",
       "      <td>0</td>\n",
       "      <td>0</td>\n",
       "      <td>0</td>\n",
       "    </tr>\n",
       "    <tr>\n",
       "      <th>1</th>\n",
       "      <td>2</td>\n",
       "      <td>ARMA BLANCA / CORTOPUNZANTE</td>\n",
       "      <td>CAMPO HERMOSO</td>\n",
       "      <td>7,120,645,358</td>\n",
       "      <td>-7,312,605</td>\n",
       "      <td>URBANA</td>\n",
       "      <td>05. GARCÍA ROVIRA</td>\n",
       "      <td>2010</td>\n",
       "      <td>01. ENERO</td>\n",
       "      <td>1</td>\n",
       "      <td>...</td>\n",
       "      <td>0</td>\n",
       "      <td>0</td>\n",
       "      <td>0</td>\n",
       "      <td>0</td>\n",
       "      <td>0</td>\n",
       "      <td>0</td>\n",
       "      <td>0</td>\n",
       "      <td>0</td>\n",
       "      <td>0</td>\n",
       "      <td>0</td>\n",
       "    </tr>\n",
       "    <tr>\n",
       "      <th>2</th>\n",
       "      <td>3</td>\n",
       "      <td>ARMA BLANCA / CORTOPUNZANTE</td>\n",
       "      <td>CAMPO HERMOSO</td>\n",
       "      <td>7,120,645,358</td>\n",
       "      <td>-7,312,605</td>\n",
       "      <td>URBANA</td>\n",
       "      <td>05. GARCÍA ROVIRA</td>\n",
       "      <td>2010</td>\n",
       "      <td>01. ENERO</td>\n",
       "      <td>1</td>\n",
       "      <td>...</td>\n",
       "      <td>0</td>\n",
       "      <td>0</td>\n",
       "      <td>0</td>\n",
       "      <td>0</td>\n",
       "      <td>0</td>\n",
       "      <td>0</td>\n",
       "      <td>0</td>\n",
       "      <td>0</td>\n",
       "      <td>0</td>\n",
       "      <td>0</td>\n",
       "    </tr>\n",
       "    <tr>\n",
       "      <th>3</th>\n",
       "      <td>4</td>\n",
       "      <td>ARMA BLANCA / CORTOPUNZANTE</td>\n",
       "      <td>COMUNEROS</td>\n",
       "      <td>715,135,927</td>\n",
       "      <td>-73,145,704,583</td>\n",
       "      <td>URBANA</td>\n",
       "      <td>03. SAN FRANCISCO</td>\n",
       "      <td>2010</td>\n",
       "      <td>01. ENERO</td>\n",
       "      <td>1</td>\n",
       "      <td>...</td>\n",
       "      <td>0</td>\n",
       "      <td>0</td>\n",
       "      <td>0</td>\n",
       "      <td>0</td>\n",
       "      <td>0</td>\n",
       "      <td>0</td>\n",
       "      <td>0</td>\n",
       "      <td>0</td>\n",
       "      <td>0</td>\n",
       "      <td>0</td>\n",
       "    </tr>\n",
       "    <tr>\n",
       "      <th>4</th>\n",
       "      <td>5</td>\n",
       "      <td>ARMA BLANCA / CORTOPUNZANTE</td>\n",
       "      <td>GIRARDOT</td>\n",
       "      <td>7,170,557,382</td>\n",
       "      <td>-73,135,108</td>\n",
       "      <td>URBANA</td>\n",
       "      <td>04. OCCIDENTAL</td>\n",
       "      <td>2010</td>\n",
       "      <td>01. ENERO</td>\n",
       "      <td>1</td>\n",
       "      <td>...</td>\n",
       "      <td>0</td>\n",
       "      <td>0</td>\n",
       "      <td>0</td>\n",
       "      <td>0</td>\n",
       "      <td>0</td>\n",
       "      <td>0</td>\n",
       "      <td>0</td>\n",
       "      <td>0</td>\n",
       "      <td>0</td>\n",
       "      <td>0</td>\n",
       "    </tr>\n",
       "  </tbody>\n",
       "</table>\n",
       "<p>5 rows × 41 columns</p>\n",
       "</div>"
      ]
     },
     "execution_count": 75,
     "metadata": {},
     "output_type": "execute_result"
    }
   ],
   "execution_count": 75
  },
  {
   "metadata": {
    "ExecuteTime": {
     "end_time": "2024-08-26T20:17:08.739157Z",
     "start_time": "2024-08-26T20:17:08.692299Z"
    }
   },
   "cell_type": "code",
   "source": "df.CLASIFICACIONES_COMBINADAS.value_counts()",
   "id": "fe928c2d7c899b59",
   "outputs": [
    {
     "data": {
      "text/plain": [
       "CLASIFICACIONES_COMBINADAS\n",
       "[, lesion no fatal, ]     128993\n",
       "[, , violencia sexual]      4047\n",
       "[lesion fatal, , ]          2024\n",
       "[, , ]                        12\n",
       "Name: count, dtype: int64"
      ]
     },
     "execution_count": 68,
     "metadata": {},
     "output_type": "execute_result"
    }
   ],
   "execution_count": 68
  },
  {
   "metadata": {
    "ExecuteTime": {
     "end_time": "2024-08-26T20:17:26.642936Z",
     "start_time": "2024-08-26T20:17:26.632583Z"
    }
   },
   "cell_type": "code",
   "source": "df.CLASIFICACIONES_COMBINADAS_TUPLAS.unique()",
   "id": "221938f73ced2829",
   "outputs": [
    {
     "data": {
      "text/plain": [
       "array([('', 'lesion no fatal', ''), ('lesion fatal', '', ''),\n",
       "       ('', '', 'violencia sexual'), ('', '', '')], dtype=object)"
      ]
     },
     "execution_count": 70,
     "metadata": {},
     "output_type": "execute_result"
    }
   ],
   "execution_count": 70
  },
  {
   "metadata": {
    "ExecuteTime": {
     "end_time": "2024-08-26T20:01:33.281670Z",
     "start_time": "2024-08-26T20:01:33.161396Z"
    }
   },
   "cell_type": "code",
   "source": [
    "for column in df.columns:\n",
    "    num_distinct_values = len(df[column].unique())\n",
    "    print(f\"{column}: {num_distinct_values} distintos valores\")"
   ],
   "id": "20842ca439fc53f8",
   "outputs": [
    {
     "name": "stdout",
     "output_type": "stream",
     "text": [
      "ORDEN: 135076 distintos valores\n",
      "ARMAS_MEDIOS: 43 distintos valores\n",
      "BARRIOS_HECHO: 484 distintos valores\n",
      "LATITUD: 64429 distintos valores\n",
      "LONGITUD: 60106 distintos valores\n",
      "ZONA: 4 distintos valores\n",
      "NOM_COMUNA: 26 distintos valores\n",
      "ANO: 12 distintos valores\n",
      "MES: 12 distintos valores\n",
      "DIA: 31 distintos valores\n",
      "DIA_SEMANA: 7 distintos valores\n",
      "DESCRIPCION_CONDUCTA: 43 distintos valores\n",
      "CONDUCTA: 41 distintos valores\n",
      "CLASIFICACIONES DELITO: 4 distintos valores\n",
      "CURSO_DE_VIDA: 8 distintos valores\n",
      "ESTADO_CIVIL_PERSONA: 7 distintos valores\n",
      "GENERO: 3 distintos valores\n",
      "MOVIL_AGRESOR: 14 distintos valores\n",
      "MOVIL_VICTIMA: 14 distintos valores\n"
     ]
    }
   ],
   "execution_count": 30
  },
  {
   "metadata": {
    "ExecuteTime": {
     "end_time": "2024-08-26T20:01:33.453221Z",
     "start_time": "2024-08-26T20:01:33.439792Z"
    }
   },
   "cell_type": "code",
   "source": "df.BARRIOS_HECHO.value_counts()",
   "id": "99ae2da106ec96a7",
   "outputs": [
    {
     "data": {
      "text/plain": [
       "BARRIOS_HECHO\n",
       "CENTRO                11199\n",
       "SAN FRANCISCO          5944\n",
       "CABECERA DEL LLANO     5794\n",
       "LA CONCORDIA           5078\n",
       "PROVENZA               3447\n",
       "                      ...  \n",
       "CAMPO GALAN               1\n",
       "EL CENTRO                 1\n",
       "EL PROGRESO               1\n",
       "VILLABEL                  1\n",
       "CAMPESTRE                 1\n",
       "Name: count, Length: 484, dtype: int64"
      ]
     },
     "execution_count": 31,
     "metadata": {},
     "output_type": "execute_result"
    }
   ],
   "execution_count": 31
  },
  {
   "metadata": {
    "ExecuteTime": {
     "end_time": "2024-08-26T20:01:33.597954Z",
     "start_time": "2024-08-26T20:01:33.587352Z"
    }
   },
   "cell_type": "code",
   "source": "df.BARRIOS_HECHO.unique().shape",
   "id": "cfd1e8c4d93c12b3",
   "outputs": [
    {
     "data": {
      "text/plain": [
       "(484,)"
      ]
     },
     "execution_count": 32,
     "metadata": {},
     "output_type": "execute_result"
    }
   ],
   "execution_count": 32
  },
  {
   "metadata": {
    "ExecuteTime": {
     "end_time": "2024-08-26T20:01:33.819210Z",
     "start_time": "2024-08-26T20:01:33.807033Z"
    }
   },
   "cell_type": "code",
   "source": [
    "df.ARMAS_MEDIOS.unique()\n",
    "\n",
    "#NaN No reporta"
   ],
   "id": "25cdb9986179a0d7",
   "outputs": [
    {
     "data": {
      "text/plain": [
       "array(['ARMA BLANCA / CORTOPUNZANTE', 'ARMA DE FUEGO', 'CONTUNDENTES',\n",
       "       'MOTO', 'NO REPORTADO', 'SIN EMPLEO DE ARMAS', 'VEHICULO',\n",
       "       'LLAVE MAESTRA', 'CORTANTES', 'LLAMADA TELEFONICA',\n",
       "       'CORTOPUNZANTES', 'ESCOPOLAMINA', 'DIRECTA', 'REDES SOCIALES',\n",
       "       'PUNZANTES', 'BICICLETA', 'PERRO', 'MEDICAMENTOS',\n",
       "       'SUSTANCIAS TOXICAS', 'GASES', 'MIXTA', 'QUIMICOS',\n",
       "       'AGUA CALIENTE', 'POLVORA(FUEGOS PIROTECNICOS)', 'PAPA EXPLOSIVA',\n",
       "       'JERINGA', 'ARTEFACTO INCENDIARIO', 'ACIDO', 'CARTA EXTORSIVA',\n",
       "       'LICOR ADULTERADO', 'COMBUSTIBLE', 'CARRO BOMBA', 'VENENO',\n",
       "       'CUCHILLA', 'CINTAS/CINTURON', 'CUERDA/SOGA/CADENA', 'PALANCAS',\n",
       "       'GRANADA DE MANO', 'BOLSA PLASTICA',\n",
       "       'ARTEFACTO EXPLOSIVO/CARGA DINAMITA', 'PRENDAS DE VESTIR',\n",
       "       'ARMA TRAUMATICA', 'ALUCINOGENOS'], dtype=object)"
      ]
     },
     "execution_count": 33,
     "metadata": {},
     "output_type": "execute_result"
    }
   ],
   "execution_count": 33
  },
  {
   "metadata": {
    "ExecuteTime": {
     "end_time": "2024-08-26T20:01:33.890245Z",
     "start_time": "2024-08-26T20:01:33.877380Z"
    }
   },
   "cell_type": "code",
   "source": "df.ARMAS_MEDIOS.value_counts()",
   "id": "b86d536b7b489011",
   "outputs": [
    {
     "data": {
      "text/plain": [
       "ARMAS_MEDIOS\n",
       "SIN EMPLEO DE ARMAS                   38265\n",
       "CONTUNDENTES                          37023\n",
       "ARMA BLANCA / CORTOPUNZANTE           21890\n",
       "VEHICULO                              13419\n",
       "ARMA DE FUEGO                          8947\n",
       "MOTO                                   7919\n",
       "LLAVE MAESTRA                          2500\n",
       "NO REPORTADO                           2113\n",
       "PALANCAS                               1078\n",
       "ESCOPOLAMINA                            656\n",
       "LLAMADA TELEFONICA                      278\n",
       "PUNZANTES                               248\n",
       "CORTANTES                               123\n",
       "PERRO                                    84\n",
       "REDES SOCIALES                           68\n",
       "DIRECTA                                  65\n",
       "ACIDO                                    51\n",
       "BICICLETA                                45\n",
       "MIXTA                                    45\n",
       "LICOR ADULTERADO                         36\n",
       "CORTOPUNZANTES                           33\n",
       "GASES                                    18\n",
       "ARMA TRAUMATICA                          17\n",
       "QUIMICOS                                 17\n",
       "SUSTANCIAS TOXICAS                       17\n",
       "AGUA CALIENTE                            17\n",
       "COMBUSTIBLE                              14\n",
       "MEDICAMENTOS                             13\n",
       "ARTEFACTO INCENDIARIO                    12\n",
       "PAPA EXPLOSIVA                            9\n",
       "CARTA EXTORSIVA                           8\n",
       "GRANADA DE MANO                           8\n",
       "JERINGA                                   8\n",
       "CARRO BOMBA                               7\n",
       "CUCHILLA                                  6\n",
       "CINTAS/CINTURON                           5\n",
       "VENENO                                    5\n",
       "PRENDAS DE VESTIR                         3\n",
       "BOLSA PLASTICA                            2\n",
       "CUERDA/SOGA/CADENA                        1\n",
       "ARTEFACTO EXPLOSIVO/CARGA DINAMITA        1\n",
       "POLVORA(FUEGOS PIROTECNICOS)              1\n",
       "ALUCINOGENOS                              1\n",
       "Name: count, dtype: int64"
      ]
     },
     "execution_count": 34,
     "metadata": {},
     "output_type": "execute_result"
    }
   ],
   "execution_count": 34
  },
  {
   "metadata": {
    "ExecuteTime": {
     "end_time": "2024-08-26T20:01:33.977288Z",
     "start_time": "2024-08-26T20:01:33.968794Z"
    }
   },
   "cell_type": "code",
   "source": "df.ZONA.unique()",
   "id": "c974763992d3f40d",
   "outputs": [
    {
     "data": {
      "text/plain": [
       "array(['URBANA', 'RURAL', 'OTROS', 'NO REPORTA'], dtype=object)"
      ]
     },
     "execution_count": 35,
     "metadata": {},
     "output_type": "execute_result"
    }
   ],
   "execution_count": 35
  },
  {
   "metadata": {
    "ExecuteTime": {
     "end_time": "2024-08-26T20:01:34.175096Z",
     "start_time": "2024-08-26T20:01:34.162776Z"
    }
   },
   "cell_type": "code",
   "source": "df.ZONA.value_counts()",
   "id": "5e2a77f20a7fcf",
   "outputs": [
    {
     "data": {
      "text/plain": [
       "ZONA\n",
       "URBANA        131547\n",
       "NO REPORTA      2189\n",
       "RURAL           1183\n",
       "OTROS            157\n",
       "Name: count, dtype: int64"
      ]
     },
     "execution_count": 36,
     "metadata": {},
     "output_type": "execute_result"
    }
   ],
   "execution_count": 36
  },
  {
   "metadata": {
    "ExecuteTime": {
     "end_time": "2024-08-26T20:01:34.241673Z",
     "start_time": "2024-08-26T20:01:34.231362Z"
    }
   },
   "cell_type": "code",
   "source": [
    "df.NOM_COMUNA.unique()\n",
    "\n",
    "# REVISAR QUE ES PARTE DE BUCARAMANGA\n",
    "#Nan Sin informacion"
   ],
   "id": "38937e3678dcd518",
   "outputs": [
    {
     "data": {
      "text/plain": [
       "array(['14. MORRORICO', '05. GARCÍA ROVIRA', '03. SAN FRANCISCO',\n",
       "       '04. OCCIDENTAL', '02. NOR ORIENTAL', '10. PROVENZA',\n",
       "       '12. CABECERA DEL LLANO', '11. SUR', '01. NORTE',\n",
       "       '09. LA PEDREGOSA', 'CORREGIMIENTO 1', '15. CENTRO',\n",
       "       'CORREGIMIENTO 3', '06. LA CONCORDIA', '13. ORIENTAL', '17. MUTIS',\n",
       "       '07. LA CIUDADELA', '08. SUR OCCIDENTE', '16. LAGOS DEL CACIQUE',\n",
       "       'FLORIDABLANCA', 'CORREGIMIENTO 2', 'SIN INFORMACION', 'GIRON',\n",
       "       'BARRANCABERMEJA', 'MEDELLIN', 'PIEDECUESTA'], dtype=object)"
      ]
     },
     "execution_count": 37,
     "metadata": {},
     "output_type": "execute_result"
    }
   ],
   "execution_count": 37
  },
  {
   "metadata": {
    "ExecuteTime": {
     "end_time": "2024-08-26T20:01:34.389244Z",
     "start_time": "2024-08-26T20:01:34.377305Z"
    }
   },
   "cell_type": "code",
   "source": "df.NOM_COMUNA.value_counts()",
   "id": "79137651c214e371",
   "outputs": [
    {
     "data": {
      "text/plain": [
       "NOM_COMUNA\n",
       "03. SAN FRANCISCO         15875\n",
       "15. CENTRO                13872\n",
       "13. ORIENTAL              13606\n",
       "12. CABECERA DEL LLANO    12835\n",
       "01. NORTE                 12708\n",
       "06. LA CONCORDIA           9994\n",
       "05. GARCÍA ROVIRA          8959\n",
       "04. OCCIDENTAL             7736\n",
       "10. PROVENZA               6639\n",
       "09. LA PEDREGOSA           4994\n",
       "02. NOR ORIENTAL           4654\n",
       "11. SUR                    4532\n",
       "17. MUTIS                  4196\n",
       "08. SUR OCCIDENTE          3419\n",
       "14. MORRORICO              3290\n",
       "07. LA CIUDADELA           3247\n",
       "16. LAGOS DEL CACIQUE      3228\n",
       "CORREGIMIENTO 1             577\n",
       "CORREGIMIENTO 3             404\n",
       "FLORIDABLANCA               121\n",
       "CORREGIMIENTO 2             100\n",
       "SIN INFORMACION              45\n",
       "GIRON                        38\n",
       "MEDELLIN                      3\n",
       "PIEDECUESTA                   3\n",
       "BARRANCABERMEJA               1\n",
       "Name: count, dtype: int64"
      ]
     },
     "execution_count": 38,
     "metadata": {},
     "output_type": "execute_result"
    }
   ],
   "execution_count": 38
  },
  {
   "metadata": {
    "ExecuteTime": {
     "end_time": "2024-08-26T20:01:34.534038Z",
     "start_time": "2024-08-26T20:01:34.520354Z"
    }
   },
   "cell_type": "code",
   "source": "df.LATITUD.unique()",
   "id": "b00904c2aedef649",
   "outputs": [
    {
     "data": {
      "text/plain": [
       "array(['7,170,557,382', '7,120,645,358', '715,135,927', ...,\n",
       "       '71,788,382,999', '71,202,121,019', '7,175,989'], dtype=object)"
      ]
     },
     "execution_count": 39,
     "metadata": {},
     "output_type": "execute_result"
    }
   ],
   "execution_count": 39
  },
  {
   "metadata": {
    "ExecuteTime": {
     "end_time": "2024-08-26T20:01:34.680701Z",
     "start_time": "2024-08-26T20:01:34.651940Z"
    }
   },
   "cell_type": "code",
   "source": [
    "df.LATITUD.value_counts()\n",
    "\n",
    "#Contamos con datos faltantes xx.xxxx"
   ],
   "id": "7752f59cb00da390",
   "outputs": [
    {
     "data": {
      "text/plain": [
       "LATITUD\n",
       "xx.xxxx          6363\n",
       "7,178,045,669    1799\n",
       "7,170,557,382    1375\n",
       "7,144,371        1163\n",
       "7,164,623,864    1073\n",
       "                 ... \n",
       "7,104,305,234       1\n",
       "7,102,639,059       1\n",
       "7,103,315,112       1\n",
       "7,127,396,841       1\n",
       "7,175,989           1\n",
       "Name: count, Length: 64429, dtype: int64"
      ]
     },
     "execution_count": 40,
     "metadata": {},
     "output_type": "execute_result"
    }
   ],
   "execution_count": 40
  },
  {
   "metadata": {
    "ExecuteTime": {
     "end_time": "2024-08-26T20:01:34.769129Z",
     "start_time": "2024-08-26T20:01:34.761486Z"
    }
   },
   "cell_type": "code",
   "source": "df.LATITUD.isnull().sum()",
   "id": "b50a1a07415320da",
   "outputs": [
    {
     "data": {
      "text/plain": [
       "0"
      ]
     },
     "execution_count": 41,
     "metadata": {},
     "output_type": "execute_result"
    }
   ],
   "execution_count": 41
  },
  {
   "metadata": {
    "ExecuteTime": {
     "end_time": "2024-08-26T20:01:34.938054Z",
     "start_time": "2024-08-26T20:01:34.905381Z"
    }
   },
   "cell_type": "code",
   "source": [
    "df.LATITUD.value_counts()\n",
    "\n",
    "#Contamos con datos faltantes xx.xxxx"
   ],
   "id": "d8245bbeb4028729",
   "outputs": [
    {
     "data": {
      "text/plain": [
       "LATITUD\n",
       "xx.xxxx          6363\n",
       "7,178,045,669    1799\n",
       "7,170,557,382    1375\n",
       "7,144,371        1163\n",
       "7,164,623,864    1073\n",
       "                 ... \n",
       "7,104,305,234       1\n",
       "7,102,639,059       1\n",
       "7,103,315,112       1\n",
       "7,127,396,841       1\n",
       "7,175,989           1\n",
       "Name: count, Length: 64429, dtype: int64"
      ]
     },
     "execution_count": 42,
     "metadata": {},
     "output_type": "execute_result"
    }
   ],
   "execution_count": 42
  },
  {
   "metadata": {
    "ExecuteTime": {
     "end_time": "2024-08-26T20:01:35.050455Z",
     "start_time": "2024-08-26T20:01:35.040964Z"
    }
   },
   "cell_type": "code",
   "source": "df.NOM_COMUNA.unique().shape",
   "id": "e5e297b4d94779c6",
   "outputs": [
    {
     "data": {
      "text/plain": [
       "(26,)"
      ]
     },
     "execution_count": 43,
     "metadata": {},
     "output_type": "execute_result"
    }
   ],
   "execution_count": 43
  },
  {
   "metadata": {
    "ExecuteTime": {
     "end_time": "2024-08-26T20:01:35.145848Z",
     "start_time": "2024-08-26T20:01:35.133987Z"
    }
   },
   "cell_type": "code",
   "source": "df.CLASIFICACIONES_DELITO.unique()",
   "id": "445b904237291a74",
   "outputs": [
    {
     "ename": "AttributeError",
     "evalue": "'DataFrame' object has no attribute 'CLASIFICACIONES_DELITO'",
     "output_type": "error",
     "traceback": [
      "\u001B[1;31m---------------------------------------------------------------------------\u001B[0m",
      "\u001B[1;31mAttributeError\u001B[0m                            Traceback (most recent call last)",
      "\u001B[1;32m~\\AppData\\Local\\Temp\\ipykernel_21224\\1339872594.py\u001B[0m in \u001B[0;36m?\u001B[1;34m()\u001B[0m\n\u001B[1;32m----> 1\u001B[1;33m \u001B[0mdf\u001B[0m\u001B[1;33m.\u001B[0m\u001B[0mCLASIFICACIONES_DELITO\u001B[0m\u001B[1;33m.\u001B[0m\u001B[0munique\u001B[0m\u001B[1;33m(\u001B[0m\u001B[1;33m)\u001B[0m\u001B[1;33m\u001B[0m\u001B[1;33m\u001B[0m\u001B[0m\n\u001B[0m",
      "\u001B[1;32m~\\miniconda3\\Lib\\site-packages\\pandas\\core\\generic.py\u001B[0m in \u001B[0;36m?\u001B[1;34m(self, name)\u001B[0m\n\u001B[0;32m   6295\u001B[0m             \u001B[1;32mand\u001B[0m \u001B[0mname\u001B[0m \u001B[1;32mnot\u001B[0m \u001B[1;32min\u001B[0m \u001B[0mself\u001B[0m\u001B[1;33m.\u001B[0m\u001B[0m_accessors\u001B[0m\u001B[1;33m\u001B[0m\u001B[1;33m\u001B[0m\u001B[0m\n\u001B[0;32m   6296\u001B[0m             \u001B[1;32mand\u001B[0m \u001B[0mself\u001B[0m\u001B[1;33m.\u001B[0m\u001B[0m_info_axis\u001B[0m\u001B[1;33m.\u001B[0m\u001B[0m_can_hold_identifiers_and_holds_name\u001B[0m\u001B[1;33m(\u001B[0m\u001B[0mname\u001B[0m\u001B[1;33m)\u001B[0m\u001B[1;33m\u001B[0m\u001B[1;33m\u001B[0m\u001B[0m\n\u001B[0;32m   6297\u001B[0m         \u001B[1;33m)\u001B[0m\u001B[1;33m:\u001B[0m\u001B[1;33m\u001B[0m\u001B[1;33m\u001B[0m\u001B[0m\n\u001B[0;32m   6298\u001B[0m             \u001B[1;32mreturn\u001B[0m \u001B[0mself\u001B[0m\u001B[1;33m[\u001B[0m\u001B[0mname\u001B[0m\u001B[1;33m]\u001B[0m\u001B[1;33m\u001B[0m\u001B[1;33m\u001B[0m\u001B[0m\n\u001B[1;32m-> 6299\u001B[1;33m         \u001B[1;32mreturn\u001B[0m \u001B[0mobject\u001B[0m\u001B[1;33m.\u001B[0m\u001B[0m__getattribute__\u001B[0m\u001B[1;33m(\u001B[0m\u001B[0mself\u001B[0m\u001B[1;33m,\u001B[0m \u001B[0mname\u001B[0m\u001B[1;33m)\u001B[0m\u001B[1;33m\u001B[0m\u001B[1;33m\u001B[0m\u001B[0m\n\u001B[0m",
      "\u001B[1;31mAttributeError\u001B[0m: 'DataFrame' object has no attribute 'CLASIFICACIONES_DELITO'"
     ]
    }
   ],
   "execution_count": 44
  },
  {
   "metadata": {
    "ExecuteTime": {
     "end_time": "2024-08-26T20:01:35.260593200Z",
     "start_time": "2024-08-26T19:15:18.162077Z"
    }
   },
   "cell_type": "code",
   "source": "df.CLASIFICACIONES_DELITO.value_counts()",
   "id": "29b2aed391ddeb2d",
   "outputs": [
    {
     "ename": "AttributeError",
     "evalue": "'DataFrame' object has no attribute 'CLASIFICACIONES_DELITO'",
     "output_type": "error",
     "traceback": [
      "\u001B[1;31m---------------------------------------------------------------------------\u001B[0m",
      "\u001B[1;31mAttributeError\u001B[0m                            Traceback (most recent call last)",
      "\u001B[1;32m~\\AppData\\Local\\Temp\\ipykernel_20756\\117925347.py\u001B[0m in \u001B[0;36m?\u001B[1;34m()\u001B[0m\n\u001B[1;32m----> 1\u001B[1;33m \u001B[0mdf\u001B[0m\u001B[1;33m.\u001B[0m\u001B[0mCLASIFICACIONES_DELITO\u001B[0m\u001B[1;33m.\u001B[0m\u001B[0mvalue_counts\u001B[0m\u001B[1;33m(\u001B[0m\u001B[1;33m)\u001B[0m\u001B[1;33m\u001B[0m\u001B[1;33m\u001B[0m\u001B[0m\n\u001B[0m",
      "\u001B[1;32m~\\miniconda3\\Lib\\site-packages\\pandas\\core\\generic.py\u001B[0m in \u001B[0;36m?\u001B[1;34m(self, name)\u001B[0m\n\u001B[0;32m   6295\u001B[0m             \u001B[1;32mand\u001B[0m \u001B[0mname\u001B[0m \u001B[1;32mnot\u001B[0m \u001B[1;32min\u001B[0m \u001B[0mself\u001B[0m\u001B[1;33m.\u001B[0m\u001B[0m_accessors\u001B[0m\u001B[1;33m\u001B[0m\u001B[1;33m\u001B[0m\u001B[0m\n\u001B[0;32m   6296\u001B[0m             \u001B[1;32mand\u001B[0m \u001B[0mself\u001B[0m\u001B[1;33m.\u001B[0m\u001B[0m_info_axis\u001B[0m\u001B[1;33m.\u001B[0m\u001B[0m_can_hold_identifiers_and_holds_name\u001B[0m\u001B[1;33m(\u001B[0m\u001B[0mname\u001B[0m\u001B[1;33m)\u001B[0m\u001B[1;33m\u001B[0m\u001B[1;33m\u001B[0m\u001B[0m\n\u001B[0;32m   6297\u001B[0m         \u001B[1;33m)\u001B[0m\u001B[1;33m:\u001B[0m\u001B[1;33m\u001B[0m\u001B[1;33m\u001B[0m\u001B[0m\n\u001B[0;32m   6298\u001B[0m             \u001B[1;32mreturn\u001B[0m \u001B[0mself\u001B[0m\u001B[1;33m[\u001B[0m\u001B[0mname\u001B[0m\u001B[1;33m]\u001B[0m\u001B[1;33m\u001B[0m\u001B[1;33m\u001B[0m\u001B[0m\n\u001B[1;32m-> 6299\u001B[1;33m         \u001B[1;32mreturn\u001B[0m \u001B[0mobject\u001B[0m\u001B[1;33m.\u001B[0m\u001B[0m__getattribute__\u001B[0m\u001B[1;33m(\u001B[0m\u001B[0mself\u001B[0m\u001B[1;33m,\u001B[0m \u001B[0mname\u001B[0m\u001B[1;33m)\u001B[0m\u001B[1;33m\u001B[0m\u001B[1;33m\u001B[0m\u001B[0m\n\u001B[0m",
      "\u001B[1;31mAttributeError\u001B[0m: 'DataFrame' object has no attribute 'CLASIFICACIONES_DELITO'"
     ]
    }
   ],
   "execution_count": 51
  },
  {
   "metadata": {
    "ExecuteTime": {
     "end_time": "2024-08-26T20:01:35.260593200Z",
     "start_time": "2024-08-25T02:17:46.718227Z"
    }
   },
   "cell_type": "code",
   "source": [
    "df.CONDUCTA.unique()\n",
    "\n",
    "#NaN No reporta"
   ],
   "id": "1803a27f383f0be7",
   "outputs": [
    {
     "data": {
      "text/plain": [
       "array(['LESIONES PERSONALES', 'HURTO A PERSONAS', 'HOMICIDIO',\n",
       "       'HURTO A RESIDENCIAS', 'HURTO A ENTIDADES COMERCIALES',\n",
       "       'VIOLENCIA INTRAFAMILIAR',\n",
       "       'LESIONES CULPOSAS ( EN ACCIDENTE DE TRANSITO )',\n",
       "       'ACCESO CARNAL ABUSIVO CON MENOR DE 14 AÑOS',\n",
       "       'HURTO A MOTOCICLETAS', 'ACTOS SEXUALES CON MENOR DE 14 AÑOS',\n",
       "       'ACOSO SEXUAL', 'HOMICIDIO CULPOSO ( EN ACCIDENTE DE TRÁNSITO)',\n",
       "       'ACCESO CARNAL VIOLENTO', 'EXTORSIÓN',\n",
       "       'ACCESO CARNAL ABUSIVO CON MENOR DE 14 AÑOS (CIRCUNSTANCIAS AGRAVACIÓN)',\n",
       "       'ACTO SEXUAL VIOLENTO', 'HURTO A AUTOMOTORES',\n",
       "       'SECUESTRO EXTORSIVO', 'HURTO A ENTIDADES FINANCIERAS',\n",
       "       'ACCESO CARNAL O ACTO SEXUAL EN PERSONA PUESTA EN INCAPACIDAD DE RESISTIR',\n",
       "       'ACCESO CARNAL O ACTO SEXUAL ABUSIVO CON INCAPAZ DE RESISTIR',\n",
       "       'HURTO A PIRATERÍA TERRESTRE',\n",
       "       'ACTO SEXUAL VIOLENTO (CIRCUNSTANCIAS DE AGRAVACIÓN)',\n",
       "       'ACTOS SEXUALES CON MENOR DE 14 AÑOS (CIRCUNSTANCIAS DE AGRAVACIÓN)',\n",
       "       'HURTO A ABIGEATO', 'CONSTREÑIMIENTO A LA PROSTITUCIÓN',\n",
       "       'ESTÍMULO A LA PROSTITUCIÓN DE MENORES',\n",
       "       'INDUCCIÓN A LA PROSTITUCIÓN',\n",
       "       'UTILIZACIÓN O FACILITACIÓN DE MEDIOS DE COMUNICACIÓN PARA OFRECER SERVICIOS SEXUALES DE MENORES',\n",
       "       'SECUESTRO SIMPLE', 'PORNOGRAFÍA CON MENORES',\n",
       "       'PROXENETISMO CON MENOR DE EDAD', 'LESIONES AL FETO',\n",
       "       'ACCESO CARNAL VIOLENTO (CIRCUNSTANCIAS AGRAVACIÓN)',\n",
       "       'FEMINICIDIO', 'INCAPACIDAD PARA TRABAJAR O ENFERMEDAD',\n",
       "       'DEMANDA DE EXPLOTACION SEXUAL COMERCIAL DE PERSONA MENOR DE 18 AÑOS DE EDAD',\n",
       "       'NO REPORTA', 'LESIONES CULPOSAS', 'AMENAZAS',\n",
       "       'LESIONES PERSONALES ( CIRCUNSTANCIAS DE AGRAVACIÓN)'],\n",
       "      dtype=object)"
      ]
     },
     "execution_count": 45,
     "metadata": {},
     "output_type": "execute_result"
    }
   ],
   "execution_count": 45
  },
  {
   "metadata": {
    "ExecuteTime": {
     "end_time": "2024-08-26T20:01:35.260593200Z",
     "start_time": "2024-08-25T04:05:54.339414Z"
    }
   },
   "cell_type": "code",
   "source": "df.CONDUCTA.unique().shape",
   "id": "5b8b9d6ac893ef5c",
   "outputs": [
    {
     "data": {
      "text/plain": [
       "(41,)"
      ]
     },
     "execution_count": 15,
     "metadata": {},
     "output_type": "execute_result"
    }
   ],
   "execution_count": 15
  },
  {
   "metadata": {
    "ExecuteTime": {
     "end_time": "2024-08-26T20:01:35.261594400Z",
     "start_time": "2024-08-25T04:05:55.840168Z"
    }
   },
   "cell_type": "code",
   "source": [
    "df.MOVIL_AGRESOR.unique()\n",
    "\n",
    "#NaN No reporta"
   ],
   "id": "d250daf12ab53099",
   "outputs": [
    {
     "data": {
      "text/plain": [
       "array(['A PIE', 'CONDUCTOR MOTOCICLETA', 'CONDUCTOR VEHICULO',\n",
       "       'CONDUCTOR TAXI', 'NO REPORTA', 'PASAJERO BUS', 'PASAJERO TAXI',\n",
       "       'BICICLETA', 'PASAJERO MOTOCICLETA', 'PASAJERO METRO',\n",
       "       'CONDUCTOR BUS', 'PASAJERO VEHICULO', 'TRIPULANTE AERONAVE',\n",
       "       'PASAJERO BARCO'], dtype=object)"
      ]
     },
     "execution_count": 16,
     "metadata": {},
     "output_type": "execute_result"
    }
   ],
   "execution_count": 16
  },
  {
   "metadata": {
    "ExecuteTime": {
     "end_time": "2024-08-26T20:01:35.261594400Z",
     "start_time": "2024-08-26T18:13:10.758777Z"
    }
   },
   "cell_type": "code",
   "source": "df.MOVIL_AGRESOR.value_counts()",
   "id": "8bdf27fcc35524c7",
   "outputs": [
    {
     "data": {
      "text/plain": [
       "MOVIL_AGRESOR\n",
       "A PIE                    93438\n",
       "CONDUCTOR MOTOCICLETA    15067\n",
       "CONDUCTOR VEHICULO       13022\n",
       "PASAJERO MOTOCICLETA      7339\n",
       "CONDUCTOR TAXI            2931\n",
       "PASAJERO BUS              1547\n",
       "PASAJERO TAXI              569\n",
       "NO REPORTA                 434\n",
       "BICICLETA                  366\n",
       "PASAJERO VEHICULO          185\n",
       "PASAJERO METRO             101\n",
       "CONDUCTOR BUS               75\n",
       "TRIPULANTE AERONAVE          1\n",
       "PASAJERO BARCO               1\n",
       "Name: count, dtype: int64"
      ]
     },
     "execution_count": 21,
     "metadata": {},
     "output_type": "execute_result"
    }
   ],
   "execution_count": 21
  },
  {
   "metadata": {
    "ExecuteTime": {
     "end_time": "2024-08-26T20:01:35.261594400Z",
     "start_time": "2024-08-25T04:05:58.372088Z"
    }
   },
   "cell_type": "code",
   "source": [
    "df.MOVIL_VICTIMA.unique()\n",
    "\n",
    "#NaN No reporta"
   ],
   "id": "ac3bc255c5feb3da",
   "outputs": [
    {
     "data": {
      "text/plain": [
       "array(['A PIE', 'NO REPORTA', 'CONDUCTOR MOTOCICLETA',\n",
       "       'CONDUCTOR VEHICULO', 'PASAJERO TAXI', 'PASAJERO BUS',\n",
       "       'CONDUCTOR TAXI', 'BICICLETA', 'PASAJERO MOTOCICLETA',\n",
       "       'CONDUCTOR BUS', 'PASAJERO METRO', 'PASAJERO VEHICULO',\n",
       "       'PASAJERO BARCO', 'PASAJERO AERONAVE'], dtype=object)"
      ]
     },
     "execution_count": 17,
     "metadata": {},
     "output_type": "execute_result"
    }
   ],
   "execution_count": 17
  },
  {
   "metadata": {
    "ExecuteTime": {
     "end_time": "2024-08-26T20:01:35.261594400Z",
     "start_time": "2024-08-26T18:13:22.999448Z"
    }
   },
   "cell_type": "code",
   "source": "df.MOVIL_VICTIMA.value_counts()",
   "id": "54602e6557ad6772",
   "outputs": [
    {
     "data": {
      "text/plain": [
       "MOVIL_VICTIMA\n",
       "A PIE                    104797\n",
       "CONDUCTOR MOTOCICLETA     16915\n",
       "CONDUCTOR VEHICULO         5457\n",
       "PASAJERO BUS               1877\n",
       "PASAJERO MOTOCICLETA       1250\n",
       "BICICLETA                  1126\n",
       "CONDUCTOR TAXI             1108\n",
       "NO REPORTA                  881\n",
       "PASAJERO TAXI               795\n",
       "PASAJERO VEHICULO           471\n",
       "CONDUCTOR BUS               279\n",
       "PASAJERO METRO              117\n",
       "PASAJERO AERONAVE             2\n",
       "PASAJERO BARCO                1\n",
       "Name: count, dtype: int64"
      ]
     },
     "execution_count": 22,
     "metadata": {},
     "output_type": "execute_result"
    }
   ],
   "execution_count": 22
  },
  {
   "metadata": {
    "ExecuteTime": {
     "end_time": "2024-08-26T20:01:35.262590600Z",
     "start_time": "2024-08-25T04:06:04.614091Z"
    }
   },
   "cell_type": "code",
   "source": [
    "df.DESCRIPCION_CONDUCTA.unique()\n",
    "\n"
   ],
   "id": "a35921b00f5b4cd",
   "outputs": [
    {
     "data": {
      "text/plain": [
       "array(['ARTÍCULO 111. LESIONES PERSONALES',\n",
       "       'ARTÍCULO 239. HURTO A PERSONAS', 'ARTÍCULO 103. HOMICIDIO',\n",
       "       'ARTÍCULO 239. HURTO A RESIDENCIAS',\n",
       "       'ARTÍCULO 239. HURTO A ENTIDADES COMERCIALES',\n",
       "       'ARTÍCULO 229. VIOLENCIA INTRAFAMILIAR',\n",
       "       'ARTÍCULO 120. LESIONES CULPOSAS ( EN ACCIDENTE DE TRANSITO )',\n",
       "       'ARTÍCULO 208. ACCESO CARNAL ABUSIVO CON MENOR DE 14 AÑOS',\n",
       "       'ARTÍCULO 239. HURTO A MOTOCICLETAS',\n",
       "       'ARTÍCULO 209. ACTOS SEXUALES CON MENOR DE 14 AÑOS',\n",
       "       'ARTÍCULO 210 A. ACOSO SEXUAL',\n",
       "       'ARTÍCULO 109. HOMICIDIO CULPOSO ( EN ACCIDENTE DE TRÁNSITO)',\n",
       "       'ARTÍCULO 205. ACCESO CARNAL VIOLENTO', 'ARTÍCULO 244. EXTORSIÓN',\n",
       "       'ARTÍCULO 211. ACCESO CARNAL ABUSIVO CON MENOR DE 14 AÑOS (CIRCUNSTANCIAS AGRAVACIÓN)',\n",
       "       'ARTÍCULO 206. ACTO SEXUAL VIOLENTO',\n",
       "       'ARTÍCULO 239. HURTO A AUTOMOTORES',\n",
       "       'ARTÍCULO 169. SECUESTRO EXTORSIVO',\n",
       "       'ARTÍCULO 239. HURTO A ENTIDADES FINANCIERAS',\n",
       "       'ARTÍCULO 207. ACCESO CARNAL O ACTO SEXUAL EN PERSONA PUESTA EN INCAPACIDAD DE RESISTIR',\n",
       "       'ARTÍCULO 210. ACCESO CARNAL O ACTO SEXUAL ABUSIVO CON INCAPAZ DE RESISTIR',\n",
       "       'ARTÍCULO 239. HURTO A PIRATERÍA TERRESTRE',\n",
       "       'ARTÍCULO 211. ACTO SEXUAL VIOLENTO (CIRCUNSTANCIAS DE AGRAVACIÓN)',\n",
       "       'ARTÍCULO 211. ACTOS SEXUALES CON MENOR DE 14 AÑOS (CIRCUNSTANCIAS DE AGRAVACIÓN)',\n",
       "       'ARTÍCULO 239. HURTO A ABIGEATO',\n",
       "       'ARTÍCULO 214. CONSTREÑIMIENTO A LA PROSTITUCIÓN',\n",
       "       'ARTÍCULO 217. ESTÍMULO A LA PROSTITUCIÓN DE MENORES',\n",
       "       'ARTÍCULO 213. INDUCCIÓN A LA PROSTITUCIÓN',\n",
       "       'ARTÍCULO 219 A. UTILIZACIÓN O FACILITACIÓN DE MEDIOS DE COMUNICACIÓN PARA OFRECER SERVICIOS SEXUALES DE MENORES',\n",
       "       'ARTÍCULO 168. SECUESTRO SIMPLE',\n",
       "       'ARTÍCULO 218. PORNOGRAFÍA CON MENORES',\n",
       "       'ARTÍCULO 213 A. PROXENETISMO CON MENOR DE EDAD',\n",
       "       'ARTÍCULO 125. LESIONES AL FETO',\n",
       "       'ARTÍCULO 211. ACCESO CARNAL VIOLENTO (CIRCUNSTANCIAS AGRAVACIÓN)',\n",
       "       'ARTÍCULO 104A. FEMINICIDIO',\n",
       "       'ARTÍCULO 112. INCAPACIDAD PARA TRABAJAR O ENFERMEDAD',\n",
       "       'ARTÍCULO 217 A. DEMANDA DE EXPLOTACION SEXUAL COMERCIAL DE PERSONA MENOR DE 18 AÑOS DE EDAD',\n",
       "       'NO REPORTA', 'ARTICULO 120. LESIONES CULPOSAS',\n",
       "       'ARTÍCULO 347. AMENAZAS',\n",
       "       'ARTÍCULO 119. LESIONES PERSONALES ( CIRCUNSTANCIAS DE AGRAVACIÓN)',\n",
       "       'LESION ACCIDENTAL EN TRANSITO', 'ARTÍCULO 239. HURTO ABIGEATO'],\n",
       "      dtype=object)"
      ]
     },
     "execution_count": 18,
     "metadata": {},
     "output_type": "execute_result"
    }
   ],
   "execution_count": 18
  },
  {
   "metadata": {
    "ExecuteTime": {
     "end_time": "2024-08-26T20:01:35.262590600Z",
     "start_time": "2024-08-26T18:13:37.613665Z"
    }
   },
   "cell_type": "code",
   "source": "df.DESCRIPCION_CONDUCTA.value_counts()",
   "id": "7e496d57e1e3f056",
   "outputs": [
    {
     "data": {
      "text/plain": [
       "DESCRIPCION_CONDUCTA\n",
       "ARTÍCULO 239. HURTO A PERSONAS                                                                                     48452\n",
       "ARTÍCULO 111. LESIONES PERSONALES                                                                                  24450\n",
       "ARTÍCULO 120. LESIONES CULPOSAS ( EN ACCIDENTE DE TRANSITO )                                                       21128\n",
       "ARTÍCULO 229. VIOLENCIA INTRAFAMILIAR                                                                              16519\n",
       "ARTÍCULO 239. HURTO A ENTIDADES COMERCIALES                                                                         8937\n",
       "ARTÍCULO 239. HURTO A RESIDENCIAS                                                                                   4752\n",
       "ARTÍCULO 239. HURTO A MOTOCICLETAS                                                                                  3708\n",
       "ARTÍCULO 209. ACTOS SEXUALES CON MENOR DE 14 AÑOS                                                                   1529\n",
       "ARTÍCULO 103. HOMICIDIO                                                                                             1365\n",
       "ARTÍCULO 208. ACCESO CARNAL ABUSIVO CON MENOR DE 14 AÑOS                                                             805\n",
       "ARTÍCULO 109. HOMICIDIO CULPOSO ( EN ACCIDENTE DE TRÁNSITO)                                                          615\n",
       "ARTÍCULO 244. EXTORSIÓN                                                                                              518\n",
       "ARTÍCULO 205. ACCESO CARNAL VIOLENTO                                                                                 462\n",
       "ARTÍCULO 206. ACTO SEXUAL VIOLENTO                                                                                   367\n",
       "ARTÍCULO 210 A. ACOSO SEXUAL                                                                                         271\n",
       "ARTÍCULO 347. AMENAZAS                                                                                               268\n",
       "ARTÍCULO 210. ACCESO CARNAL O ACTO SEXUAL ABUSIVO CON INCAPAZ DE RESISTIR                                            245\n",
       "ARTÍCULO 239. HURTO A AUTOMOTORES                                                                                    204\n",
       "ARTÍCULO 207. ACCESO CARNAL O ACTO SEXUAL EN PERSONA PUESTA EN INCAPACIDAD DE RESISTIR                               119\n",
       "ARTÍCULO 218. PORNOGRAFÍA CON MENORES                                                                                 72\n",
       "ARTÍCULO 219 A. UTILIZACIÓN O FACILITACIÓN DE MEDIOS DE COMUNICACIÓN PARA OFRECER SERVICIOS SEXUALES DE MENORES       68\n",
       "ARTÍCULO 104A. FEMINICIDIO                                                                                            40\n",
       "ARTÍCULO 213. INDUCCIÓN A LA PROSTITUCIÓN                                                                             34\n",
       "ARTÍCULO 211. ACCESO CARNAL ABUSIVO CON MENOR DE 14 AÑOS (CIRCUNSTANCIAS AGRAVACIÓN)                                  17\n",
       "ARTÍCULO 211. ACTOS SEXUALES CON MENOR DE 14 AÑOS (CIRCUNSTANCIAS DE AGRAVACIÓN)                                      15\n",
       "ARTÍCULO 239. HURTO A ENTIDADES FINANCIERAS                                                                           15\n",
       "ARTICULO 120. LESIONES CULPOSAS                                                                                       13\n",
       "NO REPORTA                                                                                                            12\n",
       "ARTÍCULO 217. ESTÍMULO A LA PROSTITUCIÓN DE MENORES                                                                   12\n",
       "ARTÍCULO 217 A. DEMANDA DE EXPLOTACION SEXUAL COMERCIAL DE PERSONA MENOR DE 18 AÑOS DE EDAD                           11\n",
       "ARTÍCULO 239. HURTO A ABIGEATO                                                                                        10\n",
       "ARTÍCULO 239. HURTO A PIRATERÍA TERRESTRE                                                                              7\n",
       "ARTÍCULO 214. CONSTREÑIMIENTO A LA PROSTITUCIÓN                                                                        7\n",
       "ARTÍCULO 211. ACCESO CARNAL VIOLENTO (CIRCUNSTANCIAS AGRAVACIÓN)                                                       5\n",
       "ARTÍCULO 213 A. PROXENETISMO CON MENOR DE EDAD                                                                         5\n",
       "ARTÍCULO 125. LESIONES AL FETO                                                                                         4\n",
       "ARTÍCULO 168. SECUESTRO SIMPLE                                                                                         3\n",
       "ARTÍCULO 211. ACTO SEXUAL VIOLENTO (CIRCUNSTANCIAS DE AGRAVACIÓN)                                                      3\n",
       "ARTÍCULO 169. SECUESTRO EXTORSIVO                                                                                      3\n",
       "ARTÍCULO 119. LESIONES PERSONALES ( CIRCUNSTANCIAS DE AGRAVACIÓN)                                                      2\n",
       "LESION ACCIDENTAL EN TRANSITO                                                                                          2\n",
       "ARTÍCULO 112. INCAPACIDAD PARA TRABAJAR O ENFERMEDAD                                                                   1\n",
       "ARTÍCULO 239. HURTO ABIGEATO                                                                                           1\n",
       "Name: count, dtype: int64"
      ]
     },
     "execution_count": 23,
     "metadata": {},
     "output_type": "execute_result"
    }
   ],
   "execution_count": 23
  },
  {
   "metadata": {
    "ExecuteTime": {
     "end_time": "2024-08-26T20:01:35.262590600Z",
     "start_time": "2024-08-26T19:55:36.237155Z"
    }
   },
   "cell_type": "code",
   "source": "df.DESCRIPCION_CONDUCTA.unique().shape",
   "id": "8d6466adabb57f70",
   "outputs": [
    {
     "data": {
      "text/plain": [
       "(43,)"
      ]
     },
     "execution_count": 23,
     "metadata": {},
     "output_type": "execute_result"
    }
   ],
   "execution_count": 23
  },
  {
   "metadata": {
    "ExecuteTime": {
     "end_time": "2024-08-26T20:01:35.262590600Z",
     "start_time": "2024-08-26T18:14:02.938856Z"
    }
   },
   "cell_type": "code",
   "source": [
    "# Descripcion estadistica de los datos numericos\n",
    "df.describe()"
   ],
   "id": "c0d57842ddd180b3",
   "outputs": [
    {
     "data": {
      "text/plain": [
       "               ORDEN            ANO            DIA\n",
       "count  135076.000000  135076.000000  135076.000000\n",
       "mean    67538.500000    2015.724896      15.488510\n",
       "std     38993.226818       3.344696       8.811255\n",
       "min         1.000000    2010.000000       1.000000\n",
       "25%     33769.750000    2013.000000       8.000000\n",
       "50%     67538.500000    2016.000000      15.000000\n",
       "75%    101307.250000    2019.000000      23.000000\n",
       "max    135076.000000    2021.000000      31.000000"
      ],
      "text/html": [
       "<div>\n",
       "<style scoped>\n",
       "    .dataframe tbody tr th:only-of-type {\n",
       "        vertical-align: middle;\n",
       "    }\n",
       "\n",
       "    .dataframe tbody tr th {\n",
       "        vertical-align: top;\n",
       "    }\n",
       "\n",
       "    .dataframe thead th {\n",
       "        text-align: right;\n",
       "    }\n",
       "</style>\n",
       "<table border=\"1\" class=\"dataframe\">\n",
       "  <thead>\n",
       "    <tr style=\"text-align: right;\">\n",
       "      <th></th>\n",
       "      <th>ORDEN</th>\n",
       "      <th>ANO</th>\n",
       "      <th>DIA</th>\n",
       "    </tr>\n",
       "  </thead>\n",
       "  <tbody>\n",
       "    <tr>\n",
       "      <th>count</th>\n",
       "      <td>135076.000000</td>\n",
       "      <td>135076.000000</td>\n",
       "      <td>135076.000000</td>\n",
       "    </tr>\n",
       "    <tr>\n",
       "      <th>mean</th>\n",
       "      <td>67538.500000</td>\n",
       "      <td>2015.724896</td>\n",
       "      <td>15.488510</td>\n",
       "    </tr>\n",
       "    <tr>\n",
       "      <th>std</th>\n",
       "      <td>38993.226818</td>\n",
       "      <td>3.344696</td>\n",
       "      <td>8.811255</td>\n",
       "    </tr>\n",
       "    <tr>\n",
       "      <th>min</th>\n",
       "      <td>1.000000</td>\n",
       "      <td>2010.000000</td>\n",
       "      <td>1.000000</td>\n",
       "    </tr>\n",
       "    <tr>\n",
       "      <th>25%</th>\n",
       "      <td>33769.750000</td>\n",
       "      <td>2013.000000</td>\n",
       "      <td>8.000000</td>\n",
       "    </tr>\n",
       "    <tr>\n",
       "      <th>50%</th>\n",
       "      <td>67538.500000</td>\n",
       "      <td>2016.000000</td>\n",
       "      <td>15.000000</td>\n",
       "    </tr>\n",
       "    <tr>\n",
       "      <th>75%</th>\n",
       "      <td>101307.250000</td>\n",
       "      <td>2019.000000</td>\n",
       "      <td>23.000000</td>\n",
       "    </tr>\n",
       "    <tr>\n",
       "      <th>max</th>\n",
       "      <td>135076.000000</td>\n",
       "      <td>2021.000000</td>\n",
       "      <td>31.000000</td>\n",
       "    </tr>\n",
       "  </tbody>\n",
       "</table>\n",
       "</div>"
      ]
     },
     "execution_count": 24,
     "metadata": {},
     "output_type": "execute_result"
    }
   ],
   "execution_count": 24
  },
  {
   "metadata": {
    "ExecuteTime": {
     "end_time": "2024-08-26T20:01:35.263590100Z",
     "start_time": "2024-08-26T18:14:39.506918Z"
    }
   },
   "cell_type": "code",
   "source": [
    "# Descripcion estadistica de los datos categoricos\n",
    "df[['ARMAS_MEDIOS', 'BARRIOS_HECHO', 'LATITUD', 'LONGITUD', 'ZONA', 'NOM_COMUNA', 'MES', 'DIA_SEMANA', 'DESCRIPCION_CONDUCTA', 'CLASIFICACIONES_DELITO', 'MOVIL_VICTIMA', 'MOVIL_AGRESOR']].value_counts()"
   ],
   "id": "b699a3ad44fb9313",
   "outputs": [
    {
     "data": {
      "text/plain": [
       "ARMAS_MEDIOS         BARRIOS_HECHO          LATITUD        LONGITUD         ZONA    NOM_COMUNA         MES             DIA_SEMANA     DESCRIPCION_CONDUCTA                                          CLASIFICACIONES_DELITO  MOVIL_VICTIMA  MOVIL_AGRESOR     \n",
       "SIN EMPLEO DE ARMAS  CHORRERAS DE DON JUAN  7,144,371      -73,128,085      URBANA  05. GARCÍA ROVIRA  09. SEPTIEMBRE  02. MARTES     ARTÍCULO 229. VIOLENCIA INTRAFAMILIAR                         LESIONES NO FATALES     A PIE          A PIE                 22\n",
       "VEHICULO             ANTONIA SANTOS SUR     709,910,762    -731,112,241     URBANA  09. LA PEDREGOSA   01. ENERO       03. MIÉRCOLES  ARTÍCULO 120. LESIONES CULPOSAS ( EN ACCIDENTE DE TRANSITO )  LESIONES NO FATALES     PASAJERO BUS   CONDUCTOR VEHICULO    20\n",
       "                     URB. COLSEGUROS NORTE  7,147,648,168  -7,313,271,932   URBANA  01. NORTE          01. ENERO       03. MIÉRCOLES  ARTÍCULO 120. LESIONES CULPOSAS ( EN ACCIDENTE DE TRANSITO )  LESIONES NO FATALES     PASAJERO BUS   CONDUCTOR VEHICULO    19\n",
       "                     LA CONCORDIA           7,113,055,831  -73,120,419      URBANA  06. LA CONCORDIA   12. DICIEMBRE   01. LUNES      ARTÍCULO 120. LESIONES CULPOSAS ( EN ACCIDENTE DE TRANSITO )  LESIONES NO FATALES     PASAJERO BUS   CONDUCTOR VEHICULO    19\n",
       "SIN EMPLEO DE ARMAS  CHORRERAS DE DON JUAN  7,144,371      -73,128,085      URBANA  05. GARCÍA ROVIRA  09. SEPTIEMBRE  03. MIÉRCOLES  ARTÍCULO 229. VIOLENCIA INTRAFAMILIAR                         LESIONES NO FATALES     A PIE          A PIE                 17\n",
       "                                                                                                                                                                                                                                                                 ..\n",
       "CONTUNDENTES         FONTANA                7,088,614,438  -7,312,414,361   URBANA  10. PROVENZA       12. DICIEMBRE   03. MIÉRCOLES  ARTÍCULO 229. VIOLENCIA INTRAFAMILIAR                         LESIONES NO FATALES     A PIE          A PIE                  1\n",
       "                                            7,088,595,806  -7,312,405,889   URBANA  10. PROVENZA       12. DICIEMBRE   03. MIÉRCOLES  ARTÍCULO 229. VIOLENCIA INTRAFAMILIAR                         LESIONES NO FATALES     A PIE          A PIE                  1\n",
       "                                            7,088,588,328  -73,118,143,035  URBANA  10. PROVENZA       05. MAYO        03. MIÉRCOLES  ARTÍCULO 229. VIOLENCIA INTRAFAMILIAR                         LESIONES NO FATALES     A PIE          A PIE                  1\n",
       "                                            7,088,533,257  -73,122,763,523  URBANA  10. PROVENZA       02. FEBRERO     02. MARTES     ARTÍCULO 111. LESIONES PERSONALES                             LESIONES NO FATALES     A PIE          A PIE                  1\n",
       "                     URB. MONTE REDONDO     7,094,789,816  -7,313,210,269   URBANA  17. MUTIS          02. FEBRERO     02. MARTES     ARTÍCULO 239. HURTO A PERSONAS                                LESIONES NO FATALES     A PIE          A PIE                  1\n",
       "Name: count, Length: 117038, dtype: int64"
      ]
     },
     "execution_count": 25,
     "metadata": {},
     "output_type": "execute_result"
    }
   ],
   "execution_count": 25
  },
  {
   "metadata": {
    "ExecuteTime": {
     "end_time": "2024-08-26T20:01:35.263590100Z",
     "start_time": "2024-08-25T04:11:01.325688Z"
    }
   },
   "cell_type": "code",
   "source": [
    "# Detectar valores atipicos en los datos\n",
    "df[\"\"]"
   ],
   "id": "dec1cc3e1bbabd3c",
   "outputs": [
    {
     "data": {
      "text/plain": [
       "<Axes: >"
      ]
     },
     "execution_count": 71,
     "metadata": {},
     "output_type": "execute_result"
    },
    {
     "data": {
      "text/plain": [
       "<Figure size 640x480 with 1 Axes>"
      ],
      "image/png": "[encoded data removed]"
     },
     "metadata": {},
     "output_type": "display_data"
    }
   ],
   "execution_count": 71
  },
  {
   "metadata": {
    "ExecuteTime": {
     "end_time": "2024-08-26T20:01:35.263590100Z",
     "start_time": "2024-08-25T04:11:04.075630Z"
    }
   },
   "cell_type": "code",
   "source": "df['DIA'].hist(bins='auto')",
   "id": "61c9dc548fc08237",
   "outputs": [
    {
     "data": {
      "text/plain": [
       "<Axes: >"
      ]
     },
     "execution_count": 72,
     "metadata": {},
     "output_type": "execute_result"
    },
    {
     "data": {
      "text/plain": [
       "<Figure size 640x480 with 1 Axes>"
      ],
      "image/png": "[encoded data removed]"
     },
     "metadata": {},
     "output_type": "display_data"
    }
   ],
   "execution_count": 72
  },
  {
   "metadata": {
    "ExecuteTime": {
     "end_time": "2024-08-26T20:01:35.263590100Z",
     "start_time": "2024-08-25T04:13:43.250416Z"
    }
   },
   "cell_type": "code",
   "source": "",
   "id": "8567104beae9ef29",
   "outputs": [],
   "execution_count": null
  },
  {
   "metadata": {
    "ExecuteTime": {
     "end_time": "2024-08-26T20:01:35.264590200Z",
     "start_time": "2024-08-25T02:24:32.853864Z"
    }
   },
   "cell_type": "code",
   "source": [
    "# Identificar datos null\n",
    "df.isnull().sum()"
   ],
   "id": "51a319b9452800c8",
   "outputs": [
    {
     "data": {
      "text/plain": [
       "ORDEN                     0\n",
       "ARMAS_MEDIOS              0\n",
       "BARRIOS_HECHO             0\n",
       "LATITUD                   0\n",
       "LONGITUD                  0\n",
       "ZONA                      0\n",
       "NOM_COMUNA                0\n",
       "ANO                       0\n",
       "MES                       0\n",
       "DIA                       0\n",
       "DIA_SEMANA                0\n",
       "DESCRIPCION_CONDUCTA      0\n",
       "CONDUCTA                  0\n",
       "CLASIFICACIONES_DELITO    0\n",
       "CURSO_DE_VIDA             0\n",
       "ESTADO_CIVIL_PERSONA      0\n",
       "GENERO                    0\n",
       "MOVIL_AGRESOR             0\n",
       "MOVIL_VICTIMA             0\n",
       "dtype: int64"
      ]
     },
     "execution_count": 52,
     "metadata": {},
     "output_type": "execute_result"
    }
   ],
   "execution_count": 52
  },
  {
   "metadata": {
    "ExecuteTime": {
     "end_time": "2024-08-26T20:01:35.264590200Z",
     "start_time": "2024-08-25T04:14:16.654385Z"
    }
   },
   "cell_type": "code",
   "source": [
    "duplicate_rows_data = df[df.duplicated()]\n",
    "print(\"numero de filas dulicadas completamente: \", duplicate_rows_data.shape[0])"
   ],
   "id": "4940f66cd4276d7d",
   "outputs": [
    {
     "name": "stdout",
     "output_type": "stream",
     "text": [
      "numero de filas dulicadas completamente:  0\n"
     ]
    }
   ],
   "execution_count": 83
  },
  {
   "metadata": {},
   "cell_type": "markdown",
   "source": "FEATURE ENGINEERING\n",
   "id": "c59a1e94600ce8ca"
  },
  {
   "metadata": {
    "ExecuteTime": {
     "end_time": "2024-08-26T20:02:04.156921Z",
     "start_time": "2024-08-26T20:02:04.141368Z"
    }
   },
   "cell_type": "code",
   "source": [
    "# Renombrar columnas\n",
    "df = df.rename(columns={'CLASIFICACIONES DELITO': 'CLASIFICACIONES_DELITO'})"
   ],
   "id": "db0e23d98ee2c537",
   "outputs": [],
   "execution_count": 57
  },
  {
   "metadata": {
    "ExecuteTime": {
     "end_time": "2024-08-26T20:02:02.754991Z",
     "start_time": "2024-08-26T20:02:02.734529Z"
    }
   },
   "cell_type": "code",
   "source": [
    "# Eliminar columnas innecesarias\n",
    "\n",
    "# Se elimina estado_civil_persona por falta de utilidad en prediccion\n",
    "df = df.drop([\"ESTADO_CIVIL_PERSONA\"], axis=1)"
   ],
   "id": "693355d5cc9b943e",
   "outputs": [],
   "execution_count": 56
  },
  {
   "metadata": {
    "ExecuteTime": {
     "end_time": "2024-08-26T20:02:02.123866Z",
     "start_time": "2024-08-26T20:02:02.100922Z"
    }
   },
   "cell_type": "code",
   "source": [
    "# Se elimina curso_de_vida por falta de utilidad en prediccion\n",
    "df = df.drop([\"CURSO_DE_VIDA\"], axis=1)"
   ],
   "id": "b09e372c76a7225f",
   "outputs": [],
   "execution_count": 55
  },
  {
   "metadata": {
    "ExecuteTime": {
     "end_time": "2024-08-26T20:02:01.462138Z",
     "start_time": "2024-08-26T20:02:01.442194Z"
    }
   },
   "cell_type": "code",
   "source": [
    "# Se elimina genero por falta de utilidad en prediccion\n",
    "df = df.drop([\"GENERO\"], axis=1)"
   ],
   "id": "450a5e349b7400a2",
   "outputs": [],
   "execution_count": 54
  },
  {
   "metadata": {
    "ExecuteTime": {
     "end_time": "2024-08-26T20:02:05.460413Z",
     "start_time": "2024-08-26T20:02:05.412760Z"
    }
   },
   "cell_type": "code",
   "source": "df = df.drop([\"CLASIFICACIONES_DELITO_NO REPORTA\"], axis=1)",
   "id": "5308e3806ca5c169",
   "outputs": [
    {
     "ename": "KeyError",
     "evalue": "\"['CLASIFICACIONES_DELITO_NO REPORTA'] not found in axis\"",
     "output_type": "error",
     "traceback": [
      "\u001B[1;31m---------------------------------------------------------------------------\u001B[0m",
      "\u001B[1;31mKeyError\u001B[0m                                  Traceback (most recent call last)",
      "Cell \u001B[1;32mIn[58], line 1\u001B[0m\n\u001B[1;32m----> 1\u001B[0m df \u001B[38;5;241m=\u001B[39m df\u001B[38;5;241m.\u001B[39mdrop([\u001B[38;5;124m\"\u001B[39m\u001B[38;5;124mCLASIFICACIONES_DELITO_NO REPORTA\u001B[39m\u001B[38;5;124m\"\u001B[39m], axis\u001B[38;5;241m=\u001B[39m\u001B[38;5;241m1\u001B[39m)\n",
      "File \u001B[1;32m~\\miniconda3\\Lib\\site-packages\\pandas\\core\\frame.py:5581\u001B[0m, in \u001B[0;36mDataFrame.drop\u001B[1;34m(self, labels, axis, index, columns, level, inplace, errors)\u001B[0m\n\u001B[0;32m   5433\u001B[0m \u001B[38;5;28;01mdef\u001B[39;00m \u001B[38;5;21mdrop\u001B[39m(\n\u001B[0;32m   5434\u001B[0m     \u001B[38;5;28mself\u001B[39m,\n\u001B[0;32m   5435\u001B[0m     labels: IndexLabel \u001B[38;5;241m|\u001B[39m \u001B[38;5;28;01mNone\u001B[39;00m \u001B[38;5;241m=\u001B[39m \u001B[38;5;28;01mNone\u001B[39;00m,\n\u001B[1;32m   (...)\u001B[0m\n\u001B[0;32m   5442\u001B[0m     errors: IgnoreRaise \u001B[38;5;241m=\u001B[39m \u001B[38;5;124m\"\u001B[39m\u001B[38;5;124mraise\u001B[39m\u001B[38;5;124m\"\u001B[39m,\n\u001B[0;32m   5443\u001B[0m ) \u001B[38;5;241m-\u001B[39m\u001B[38;5;241m>\u001B[39m DataFrame \u001B[38;5;241m|\u001B[39m \u001B[38;5;28;01mNone\u001B[39;00m:\n\u001B[0;32m   5444\u001B[0m \u001B[38;5;250m    \u001B[39m\u001B[38;5;124;03m\"\"\"\u001B[39;00m\n\u001B[0;32m   5445\u001B[0m \u001B[38;5;124;03m    Drop specified labels from rows or columns.\u001B[39;00m\n\u001B[0;32m   5446\u001B[0m \n\u001B[1;32m   (...)\u001B[0m\n\u001B[0;32m   5579\u001B[0m \u001B[38;5;124;03m            weight  1.0     0.8\u001B[39;00m\n\u001B[0;32m   5580\u001B[0m \u001B[38;5;124;03m    \"\"\"\u001B[39;00m\n\u001B[1;32m-> 5581\u001B[0m     \u001B[38;5;28;01mreturn\u001B[39;00m \u001B[38;5;28msuper\u001B[39m()\u001B[38;5;241m.\u001B[39mdrop(\n\u001B[0;32m   5582\u001B[0m         labels\u001B[38;5;241m=\u001B[39mlabels,\n\u001B[0;32m   5583\u001B[0m         axis\u001B[38;5;241m=\u001B[39maxis,\n\u001B[0;32m   5584\u001B[0m         index\u001B[38;5;241m=\u001B[39mindex,\n\u001B[0;32m   5585\u001B[0m         columns\u001B[38;5;241m=\u001B[39mcolumns,\n\u001B[0;32m   5586\u001B[0m         level\u001B[38;5;241m=\u001B[39mlevel,\n\u001B[0;32m   5587\u001B[0m         inplace\u001B[38;5;241m=\u001B[39minplace,\n\u001B[0;32m   5588\u001B[0m         errors\u001B[38;5;241m=\u001B[39merrors,\n\u001B[0;32m   5589\u001B[0m     )\n",
      "File \u001B[1;32m~\\miniconda3\\Lib\\site-packages\\pandas\\core\\generic.py:4788\u001B[0m, in \u001B[0;36mNDFrame.drop\u001B[1;34m(self, labels, axis, index, columns, level, inplace, errors)\u001B[0m\n\u001B[0;32m   4786\u001B[0m \u001B[38;5;28;01mfor\u001B[39;00m axis, labels \u001B[38;5;129;01min\u001B[39;00m axes\u001B[38;5;241m.\u001B[39mitems():\n\u001B[0;32m   4787\u001B[0m     \u001B[38;5;28;01mif\u001B[39;00m labels \u001B[38;5;129;01mis\u001B[39;00m \u001B[38;5;129;01mnot\u001B[39;00m \u001B[38;5;28;01mNone\u001B[39;00m:\n\u001B[1;32m-> 4788\u001B[0m         obj \u001B[38;5;241m=\u001B[39m obj\u001B[38;5;241m.\u001B[39m_drop_axis(labels, axis, level\u001B[38;5;241m=\u001B[39mlevel, errors\u001B[38;5;241m=\u001B[39merrors)\n\u001B[0;32m   4790\u001B[0m \u001B[38;5;28;01mif\u001B[39;00m inplace:\n\u001B[0;32m   4791\u001B[0m     \u001B[38;5;28mself\u001B[39m\u001B[38;5;241m.\u001B[39m_update_inplace(obj)\n",
      "File \u001B[1;32m~\\miniconda3\\Lib\\site-packages\\pandas\\core\\generic.py:4830\u001B[0m, in \u001B[0;36mNDFrame._drop_axis\u001B[1;34m(self, labels, axis, level, errors, only_slice)\u001B[0m\n\u001B[0;32m   4828\u001B[0m         new_axis \u001B[38;5;241m=\u001B[39m axis\u001B[38;5;241m.\u001B[39mdrop(labels, level\u001B[38;5;241m=\u001B[39mlevel, errors\u001B[38;5;241m=\u001B[39merrors)\n\u001B[0;32m   4829\u001B[0m     \u001B[38;5;28;01melse\u001B[39;00m:\n\u001B[1;32m-> 4830\u001B[0m         new_axis \u001B[38;5;241m=\u001B[39m axis\u001B[38;5;241m.\u001B[39mdrop(labels, errors\u001B[38;5;241m=\u001B[39merrors)\n\u001B[0;32m   4831\u001B[0m     indexer \u001B[38;5;241m=\u001B[39m axis\u001B[38;5;241m.\u001B[39mget_indexer(new_axis)\n\u001B[0;32m   4833\u001B[0m \u001B[38;5;66;03m# Case for non-unique axis\u001B[39;00m\n\u001B[0;32m   4834\u001B[0m \u001B[38;5;28;01melse\u001B[39;00m:\n",
      "File \u001B[1;32m~\\miniconda3\\Lib\\site-packages\\pandas\\core\\indexes\\base.py:7070\u001B[0m, in \u001B[0;36mIndex.drop\u001B[1;34m(self, labels, errors)\u001B[0m\n\u001B[0;32m   7068\u001B[0m \u001B[38;5;28;01mif\u001B[39;00m mask\u001B[38;5;241m.\u001B[39many():\n\u001B[0;32m   7069\u001B[0m     \u001B[38;5;28;01mif\u001B[39;00m errors \u001B[38;5;241m!=\u001B[39m \u001B[38;5;124m\"\u001B[39m\u001B[38;5;124mignore\u001B[39m\u001B[38;5;124m\"\u001B[39m:\n\u001B[1;32m-> 7070\u001B[0m         \u001B[38;5;28;01mraise\u001B[39;00m \u001B[38;5;167;01mKeyError\u001B[39;00m(\u001B[38;5;124mf\u001B[39m\u001B[38;5;124m\"\u001B[39m\u001B[38;5;132;01m{\u001B[39;00mlabels[mask]\u001B[38;5;241m.\u001B[39mtolist()\u001B[38;5;132;01m}\u001B[39;00m\u001B[38;5;124m not found in axis\u001B[39m\u001B[38;5;124m\"\u001B[39m)\n\u001B[0;32m   7071\u001B[0m     indexer \u001B[38;5;241m=\u001B[39m indexer[\u001B[38;5;241m~\u001B[39mmask]\n\u001B[0;32m   7072\u001B[0m \u001B[38;5;28;01mreturn\u001B[39;00m \u001B[38;5;28mself\u001B[39m\u001B[38;5;241m.\u001B[39mdelete(indexer)\n",
      "\u001B[1;31mKeyError\u001B[0m: \"['CLASIFICACIONES_DELITO_NO REPORTA'] not found in axis\""
     ]
    }
   ],
   "execution_count": 58
  },
  {
   "metadata": {
    "ExecuteTime": {
     "end_time": "2024-08-26T20:01:35.301838800Z",
     "start_time": "2024-08-26T19:18:28.757411Z"
    }
   },
   "cell_type": "code",
   "source": [
    "# Se elimina conducta por redundancia con descripcion_conducta y disonancia en el shape de las clasificaciones\n",
    "df = df.drop([\"CONDUCTA\"], axis=1)"
   ],
   "id": "d5e4b464299aaf52",
   "outputs": [],
   "execution_count": 9
  },
  {
   "metadata": {
    "ExecuteTime": {
     "end_time": "2024-08-26T20:01:58.874038Z",
     "start_time": "2024-08-26T20:01:58.813771Z"
    }
   },
   "cell_type": "code",
   "source": [
    "# Ver proporciones de datos faltantes\n",
    "df.isna().sum() / len(df) * 100"
   ],
   "id": "781942897efde559",
   "outputs": [
    {
     "data": {
      "text/plain": [
       "ORDEN                      0.000000\n",
       "ARMAS_MEDIOS               1.564305\n",
       "BARRIOS_HECHO              0.000000\n",
       "LATITUD                    4.710681\n",
       "LONGITUD                   4.710681\n",
       "ZONA                       1.620569\n",
       "NOM_COMUNA                 0.000000\n",
       "ANO                        0.000000\n",
       "MES                        0.000000\n",
       "DIA                        0.000000\n",
       "DIA_SEMANA                 0.000000\n",
       "DESCRIPCION_CONDUCTA       0.008884\n",
       "CONDUCTA                   0.008884\n",
       "CLASIFICACIONES DELITO     0.008884\n",
       "CURSO_DE_VIDA              7.403980\n",
       "ESTADO_CIVIL_PERSONA      12.684711\n",
       "GENERO                    11.182594\n",
       "MOVIL_AGRESOR              0.321301\n",
       "MOVIL_VICTIMA              0.652225\n",
       "dtype: float64"
      ]
     },
     "execution_count": 52,
     "metadata": {},
     "output_type": "execute_result"
    }
   ],
   "execution_count": 52
  },
  {
   "metadata": {
    "ExecuteTime": {
     "end_time": "2024-08-26T20:01:57.520408Z",
     "start_time": "2024-08-26T20:01:57.470941Z"
    }
   },
   "cell_type": "code",
   "source": "df.LATITUD.str.replace(',', '').astype('float64')",
   "id": "d69bbd09ec05e8d9",
   "outputs": [
    {
     "data": {
      "text/plain": [
       "0         7.170557e+09\n",
       "1         7.120645e+09\n",
       "2         7.120645e+09\n",
       "3         7.151359e+08\n",
       "4         7.170557e+09\n",
       "              ...     \n",
       "135071             NaN\n",
       "135072             NaN\n",
       "135073             NaN\n",
       "135074             NaN\n",
       "135075             NaN\n",
       "Name: LATITUD, Length: 135076, dtype: float64"
      ]
     },
     "execution_count": 51,
     "metadata": {},
     "output_type": "execute_result"
    }
   ],
   "execution_count": 51
  },
  {
   "metadata": {
    "ExecuteTime": {
     "end_time": "2024-08-26T20:01:56.542025Z",
     "start_time": "2024-08-26T20:01:56.492720Z"
    }
   },
   "cell_type": "code",
   "source": "df['LONGITUD'].str.replace(',', '').astype('float64')",
   "id": "86b96a9cf2e5ab06",
   "outputs": [
    {
     "data": {
      "text/plain": [
       "0        -7.313511e+07\n",
       "1        -7.312605e+06\n",
       "2        -7.312605e+06\n",
       "3        -7.314570e+10\n",
       "4        -7.313511e+07\n",
       "              ...     \n",
       "135071             NaN\n",
       "135072             NaN\n",
       "135073             NaN\n",
       "135074             NaN\n",
       "135075             NaN\n",
       "Name: LONGITUD, Length: 135076, dtype: float64"
      ]
     },
     "execution_count": 50,
     "metadata": {},
     "output_type": "execute_result"
    }
   ],
   "execution_count": 50
  },
  {
   "metadata": {
    "ExecuteTime": {
     "end_time": "2024-08-26T20:01:55.522413Z",
     "start_time": "2024-08-26T20:01:55.435564Z"
    }
   },
   "cell_type": "code",
   "source": [
    "# Cambiar a valores NaN los datos no reportados\n",
    "df.replace(\"NO REPORTA\", np.nan, inplace=True)"
   ],
   "id": "332853c64594b3b",
   "outputs": [],
   "execution_count": 49
  },
  {
   "metadata": {
    "ExecuteTime": {
     "end_time": "2024-08-26T20:01:54.849837Z",
     "start_time": "2024-08-26T20:01:54.762932Z"
    }
   },
   "cell_type": "code",
   "source": [
    "# Reemplazar datos xx.xxx por NaN para hacer la conversion del tipo de columna\n",
    "df.replace(\"xx.xxxx\", np.nan, inplace=True)"
   ],
   "id": "3b57a5135bff9ee1",
   "outputs": [],
   "execution_count": 48
  },
  {
   "metadata": {
    "ExecuteTime": {
     "end_time": "2024-08-26T20:01:53.824390Z",
     "start_time": "2024-08-26T20:01:53.739917Z"
    }
   },
   "cell_type": "code",
   "source": [
    "# Reemplazar datos -yy.yyyy por NaN para hacer la conversion del tipo de columna\n",
    "df.replace(\"-yy.yyyy\", np.nan, inplace=True)"
   ],
   "id": "d6d69cf2905481d7",
   "outputs": [],
   "execution_count": 47
  },
  {
   "metadata": {
    "ExecuteTime": {
     "end_time": "2024-08-26T20:02:08.934849Z",
     "start_time": "2024-08-26T20:02:08.898104Z"
    }
   },
   "cell_type": "code",
   "source": [
    "#Creacion de variable dummie en base a clasificacion de delito\n",
    "\n",
    "df = pd.get_dummies(df, columns=['CLASIFICACIONES_DELITO'],dtype=int)"
   ],
   "id": "83c9cfc50948a8ba",
   "outputs": [],
   "execution_count": 59
  },
  {
   "metadata": {},
   "cell_type": "code",
   "outputs": [],
   "execution_count": null,
   "source": [
    "df['CLASIFICACIONES_COMBINADAS'] = df.apply(\n",
    "    lambda row: [\n",
    "        'lesion fatal' if row['CLASIFICACIONES_DELITO_LESIONES FATALES'] == 1 else '',\n",
    "        'lesion no fatal' if row['CLASIFICACIONES_DELITO_LESIONES NO FATALES'] == 1 else '',\n",
    "        'violencia sexual' if row['CLASIFICACIONES_DELITO_VIOLENCIA SEXUAL'] == 1 else ''\n",
    "    ], axis=1\n",
    ")"
   ],
   "id": "506acb2470d4f455"
  },
  {
   "metadata": {
    "ExecuteTime": {
     "end_time": "2024-08-26T20:16:54.324500Z",
     "start_time": "2024-08-26T20:16:54.299162Z"
    }
   },
   "cell_type": "code",
   "source": "df['CLASIFICACIONES_COMBINADAS_TUPLAS'] = df['CLASIFICACIONES_COMBINADAS'].apply(tuple)",
   "id": "67d76522f1bd55af",
   "outputs": [],
   "execution_count": 66
  },
  {
   "metadata": {
    "ExecuteTime": {
     "end_time": "2024-08-26T20:21:29.494836Z",
     "start_time": "2024-08-26T20:21:29.470888Z"
    }
   },
   "cell_type": "code",
   "source": "df = df.drop('CONDUCTA', axis=1)",
   "id": "61b483144a01984e",
   "outputs": [],
   "execution_count": 71
  },
  {
   "metadata": {
    "ExecuteTime": {
     "end_time": "2024-08-26T20:23:12.672441Z",
     "start_time": "2024-08-26T20:23:12.613141Z"
    }
   },
   "cell_type": "code",
   "source": "df = pd.get_dummies(df, columns=['MOVIL_VICTIMA', 'MOVIL_AGRESOR'],dtype=int)",
   "id": "b36161e68cf40674",
   "outputs": [],
   "execution_count": 74
  },
  {
   "metadata": {
    "ExecuteTime": {
     "end_time": "2024-08-26T20:22:17.374258Z",
     "start_time": "2024-08-26T20:22:17.333973Z"
    }
   },
   "cell_type": "code",
   "source": [
    "df = df.drop('CLASIFICACIONES_COMBINADAS_TUPLAS', axis=1)\n",
    "df = df.drop('CLASIFICACIONES_COMBINADAS', axis=1)"
   ],
   "id": "6eb48117510f2490",
   "outputs": [],
   "execution_count": 72
  },
  {
   "metadata": {
    "ExecuteTime": {
     "end_time": "2024-08-26T20:23:57.046227Z",
     "start_time": "2024-08-26T20:23:56.999813Z"
    }
   },
   "cell_type": "code",
   "source": [
    "df = df.drop('MOVIL_AGRESOR', axis=1)\n",
    "df = df.drop('MOVIL_VICTIMA', axis=1)"
   ],
   "id": "8e38bc173a88ac75",
   "outputs": [
    {
     "ename": "KeyError",
     "evalue": "\"['MOVIL_AGRESOR'] not found in axis\"",
     "output_type": "error",
     "traceback": [
      "\u001B[1;31m---------------------------------------------------------------------------\u001B[0m",
      "\u001B[1;31mKeyError\u001B[0m                                  Traceback (most recent call last)",
      "Cell \u001B[1;32mIn[76], line 1\u001B[0m\n\u001B[1;32m----> 1\u001B[0m df \u001B[38;5;241m=\u001B[39m df\u001B[38;5;241m.\u001B[39mdrop(\u001B[38;5;124m'\u001B[39m\u001B[38;5;124mMOVIL_AGRESOR\u001B[39m\u001B[38;5;124m'\u001B[39m, axis\u001B[38;5;241m=\u001B[39m\u001B[38;5;241m1\u001B[39m)\n\u001B[0;32m      2\u001B[0m df \u001B[38;5;241m=\u001B[39m df\u001B[38;5;241m.\u001B[39mdrop(\u001B[38;5;124m'\u001B[39m\u001B[38;5;124mMOVIL_VICTIMA\u001B[39m\u001B[38;5;124m'\u001B[39m, axis\u001B[38;5;241m=\u001B[39m\u001B[38;5;241m1\u001B[39m)\n",
      "File \u001B[1;32m~\\miniconda3\\Lib\\site-packages\\pandas\\core\\frame.py:5581\u001B[0m, in \u001B[0;36mDataFrame.drop\u001B[1;34m(self, labels, axis, index, columns, level, inplace, errors)\u001B[0m\n\u001B[0;32m   5433\u001B[0m \u001B[38;5;28;01mdef\u001B[39;00m \u001B[38;5;21mdrop\u001B[39m(\n\u001B[0;32m   5434\u001B[0m     \u001B[38;5;28mself\u001B[39m,\n\u001B[0;32m   5435\u001B[0m     labels: IndexLabel \u001B[38;5;241m|\u001B[39m \u001B[38;5;28;01mNone\u001B[39;00m \u001B[38;5;241m=\u001B[39m \u001B[38;5;28;01mNone\u001B[39;00m,\n\u001B[1;32m   (...)\u001B[0m\n\u001B[0;32m   5442\u001B[0m     errors: IgnoreRaise \u001B[38;5;241m=\u001B[39m \u001B[38;5;124m\"\u001B[39m\u001B[38;5;124mraise\u001B[39m\u001B[38;5;124m\"\u001B[39m,\n\u001B[0;32m   5443\u001B[0m ) \u001B[38;5;241m-\u001B[39m\u001B[38;5;241m>\u001B[39m DataFrame \u001B[38;5;241m|\u001B[39m \u001B[38;5;28;01mNone\u001B[39;00m:\n\u001B[0;32m   5444\u001B[0m \u001B[38;5;250m    \u001B[39m\u001B[38;5;124;03m\"\"\"\u001B[39;00m\n\u001B[0;32m   5445\u001B[0m \u001B[38;5;124;03m    Drop specified labels from rows or columns.\u001B[39;00m\n\u001B[0;32m   5446\u001B[0m \n\u001B[1;32m   (...)\u001B[0m\n\u001B[0;32m   5579\u001B[0m \u001B[38;5;124;03m            weight  1.0     0.8\u001B[39;00m\n\u001B[0;32m   5580\u001B[0m \u001B[38;5;124;03m    \"\"\"\u001B[39;00m\n\u001B[1;32m-> 5581\u001B[0m     \u001B[38;5;28;01mreturn\u001B[39;00m \u001B[38;5;28msuper\u001B[39m()\u001B[38;5;241m.\u001B[39mdrop(\n\u001B[0;32m   5582\u001B[0m         labels\u001B[38;5;241m=\u001B[39mlabels,\n\u001B[0;32m   5583\u001B[0m         axis\u001B[38;5;241m=\u001B[39maxis,\n\u001B[0;32m   5584\u001B[0m         index\u001B[38;5;241m=\u001B[39mindex,\n\u001B[0;32m   5585\u001B[0m         columns\u001B[38;5;241m=\u001B[39mcolumns,\n\u001B[0;32m   5586\u001B[0m         level\u001B[38;5;241m=\u001B[39mlevel,\n\u001B[0;32m   5587\u001B[0m         inplace\u001B[38;5;241m=\u001B[39minplace,\n\u001B[0;32m   5588\u001B[0m         errors\u001B[38;5;241m=\u001B[39merrors,\n\u001B[0;32m   5589\u001B[0m     )\n",
      "File \u001B[1;32m~\\miniconda3\\Lib\\site-packages\\pandas\\core\\generic.py:4788\u001B[0m, in \u001B[0;36mNDFrame.drop\u001B[1;34m(self, labels, axis, index, columns, level, inplace, errors)\u001B[0m\n\u001B[0;32m   4786\u001B[0m \u001B[38;5;28;01mfor\u001B[39;00m axis, labels \u001B[38;5;129;01min\u001B[39;00m axes\u001B[38;5;241m.\u001B[39mitems():\n\u001B[0;32m   4787\u001B[0m     \u001B[38;5;28;01mif\u001B[39;00m labels \u001B[38;5;129;01mis\u001B[39;00m \u001B[38;5;129;01mnot\u001B[39;00m \u001B[38;5;28;01mNone\u001B[39;00m:\n\u001B[1;32m-> 4788\u001B[0m         obj \u001B[38;5;241m=\u001B[39m obj\u001B[38;5;241m.\u001B[39m_drop_axis(labels, axis, level\u001B[38;5;241m=\u001B[39mlevel, errors\u001B[38;5;241m=\u001B[39merrors)\n\u001B[0;32m   4790\u001B[0m \u001B[38;5;28;01mif\u001B[39;00m inplace:\n\u001B[0;32m   4791\u001B[0m     \u001B[38;5;28mself\u001B[39m\u001B[38;5;241m.\u001B[39m_update_inplace(obj)\n",
      "File \u001B[1;32m~\\miniconda3\\Lib\\site-packages\\pandas\\core\\generic.py:4830\u001B[0m, in \u001B[0;36mNDFrame._drop_axis\u001B[1;34m(self, labels, axis, level, errors, only_slice)\u001B[0m\n\u001B[0;32m   4828\u001B[0m         new_axis \u001B[38;5;241m=\u001B[39m axis\u001B[38;5;241m.\u001B[39mdrop(labels, level\u001B[38;5;241m=\u001B[39mlevel, errors\u001B[38;5;241m=\u001B[39merrors)\n\u001B[0;32m   4829\u001B[0m     \u001B[38;5;28;01melse\u001B[39;00m:\n\u001B[1;32m-> 4830\u001B[0m         new_axis \u001B[38;5;241m=\u001B[39m axis\u001B[38;5;241m.\u001B[39mdrop(labels, errors\u001B[38;5;241m=\u001B[39merrors)\n\u001B[0;32m   4831\u001B[0m     indexer \u001B[38;5;241m=\u001B[39m axis\u001B[38;5;241m.\u001B[39mget_indexer(new_axis)\n\u001B[0;32m   4833\u001B[0m \u001B[38;5;66;03m# Case for non-unique axis\u001B[39;00m\n\u001B[0;32m   4834\u001B[0m \u001B[38;5;28;01melse\u001B[39;00m:\n",
      "File \u001B[1;32m~\\miniconda3\\Lib\\site-packages\\pandas\\core\\indexes\\base.py:7070\u001B[0m, in \u001B[0;36mIndex.drop\u001B[1;34m(self, labels, errors)\u001B[0m\n\u001B[0;32m   7068\u001B[0m \u001B[38;5;28;01mif\u001B[39;00m mask\u001B[38;5;241m.\u001B[39many():\n\u001B[0;32m   7069\u001B[0m     \u001B[38;5;28;01mif\u001B[39;00m errors \u001B[38;5;241m!=\u001B[39m \u001B[38;5;124m\"\u001B[39m\u001B[38;5;124mignore\u001B[39m\u001B[38;5;124m\"\u001B[39m:\n\u001B[1;32m-> 7070\u001B[0m         \u001B[38;5;28;01mraise\u001B[39;00m \u001B[38;5;167;01mKeyError\u001B[39;00m(\u001B[38;5;124mf\u001B[39m\u001B[38;5;124m\"\u001B[39m\u001B[38;5;132;01m{\u001B[39;00mlabels[mask]\u001B[38;5;241m.\u001B[39mtolist()\u001B[38;5;132;01m}\u001B[39;00m\u001B[38;5;124m not found in axis\u001B[39m\u001B[38;5;124m\"\u001B[39m)\n\u001B[0;32m   7071\u001B[0m     indexer \u001B[38;5;241m=\u001B[39m indexer[\u001B[38;5;241m~\u001B[39mmask]\n\u001B[0;32m   7072\u001B[0m \u001B[38;5;28;01mreturn\u001B[39;00m \u001B[38;5;28mself\u001B[39m\u001B[38;5;241m.\u001B[39mdelete(indexer)\n",
      "\u001B[1;31mKeyError\u001B[0m: \"['MOVIL_AGRESOR'] not found in axis\""
     ]
    }
   ],
   "execution_count": 76
  },
  {
   "metadata": {
    "ExecuteTime": {
     "end_time": "2024-08-26T20:28:58.845728Z",
     "start_time": "2024-08-26T20:28:58.739123Z"
    }
   },
   "cell_type": "code",
   "source": "df['FECHA'] = pd.to_datetime(df[['ANO', 'MES', 'DIA']].rename(columns={'ANO': 'year', 'MES': 'month', 'DIA': 'day'}))\n",
   "id": "fb4e2ec23d0d1a3",
   "outputs": [
    {
     "ename": "ValueError",
     "evalue": "Unable to parse string \"01. ENERO\" at position 0",
     "output_type": "error",
     "traceback": [
      "\u001B[1;31m---------------------------------------------------------------------------\u001B[0m",
      "\u001B[1;31mValueError\u001B[0m                                Traceback (most recent call last)",
      "File \u001B[1;32mlib.pyx:2391\u001B[0m, in \u001B[0;36mpandas._libs.lib.maybe_convert_numeric\u001B[1;34m()\u001B[0m\n",
      "\u001B[1;31mValueError\u001B[0m: Unable to parse string \"01. ENERO\"",
      "\nDuring handling of the above exception, another exception occurred:\n",
      "\u001B[1;31mValueError\u001B[0m                                Traceback (most recent call last)",
      "Cell \u001B[1;32mIn[81], line 1\u001B[0m\n\u001B[1;32m----> 1\u001B[0m df[\u001B[38;5;124m'\u001B[39m\u001B[38;5;124mFECHA\u001B[39m\u001B[38;5;124m'\u001B[39m] \u001B[38;5;241m=\u001B[39m pd\u001B[38;5;241m.\u001B[39mto_datetime(df[[\u001B[38;5;124m'\u001B[39m\u001B[38;5;124mANO\u001B[39m\u001B[38;5;124m'\u001B[39m, \u001B[38;5;124m'\u001B[39m\u001B[38;5;124mMES\u001B[39m\u001B[38;5;124m'\u001B[39m, \u001B[38;5;124m'\u001B[39m\u001B[38;5;124mDIA\u001B[39m\u001B[38;5;124m'\u001B[39m]]\u001B[38;5;241m.\u001B[39mrename(columns\u001B[38;5;241m=\u001B[39m{\u001B[38;5;124m'\u001B[39m\u001B[38;5;124mANO\u001B[39m\u001B[38;5;124m'\u001B[39m: \u001B[38;5;124m'\u001B[39m\u001B[38;5;124myear\u001B[39m\u001B[38;5;124m'\u001B[39m, \u001B[38;5;124m'\u001B[39m\u001B[38;5;124mMES\u001B[39m\u001B[38;5;124m'\u001B[39m: \u001B[38;5;124m'\u001B[39m\u001B[38;5;124mmonth\u001B[39m\u001B[38;5;124m'\u001B[39m, \u001B[38;5;124m'\u001B[39m\u001B[38;5;124mDIA\u001B[39m\u001B[38;5;124m'\u001B[39m: \u001B[38;5;124m'\u001B[39m\u001B[38;5;124mday\u001B[39m\u001B[38;5;124m'\u001B[39m}))\n",
      "File \u001B[1;32m~\\miniconda3\\Lib\\site-packages\\pandas\\core\\tools\\datetimes.py:1070\u001B[0m, in \u001B[0;36mto_datetime\u001B[1;34m(arg, errors, dayfirst, yearfirst, utc, format, exact, unit, infer_datetime_format, origin, cache)\u001B[0m\n\u001B[0;32m   1068\u001B[0m         result \u001B[38;5;241m=\u001B[39m arg\u001B[38;5;241m.\u001B[39m_constructor(values, index\u001B[38;5;241m=\u001B[39marg\u001B[38;5;241m.\u001B[39mindex, name\u001B[38;5;241m=\u001B[39marg\u001B[38;5;241m.\u001B[39mname)\n\u001B[0;32m   1069\u001B[0m \u001B[38;5;28;01melif\u001B[39;00m \u001B[38;5;28misinstance\u001B[39m(arg, (ABCDataFrame, abc\u001B[38;5;241m.\u001B[39mMutableMapping)):\n\u001B[1;32m-> 1070\u001B[0m     result \u001B[38;5;241m=\u001B[39m _assemble_from_unit_mappings(arg, errors, utc)\n\u001B[0;32m   1071\u001B[0m \u001B[38;5;28;01melif\u001B[39;00m \u001B[38;5;28misinstance\u001B[39m(arg, Index):\n\u001B[0;32m   1072\u001B[0m     cache_array \u001B[38;5;241m=\u001B[39m _maybe_cache(arg, \u001B[38;5;28mformat\u001B[39m, cache, convert_listlike)\n",
      "File \u001B[1;32m~\\miniconda3\\Lib\\site-packages\\pandas\\core\\tools\\datetimes.py:1210\u001B[0m, in \u001B[0;36m_assemble_from_unit_mappings\u001B[1;34m(arg, errors, utc)\u001B[0m\n\u001B[0;32m   1205\u001B[0m         values \u001B[38;5;241m=\u001B[39m values\u001B[38;5;241m.\u001B[39mastype(\u001B[38;5;124m\"\u001B[39m\u001B[38;5;124mint64\u001B[39m\u001B[38;5;124m\"\u001B[39m, copy\u001B[38;5;241m=\u001B[39m\u001B[38;5;28;01mFalse\u001B[39;00m)\n\u001B[0;32m   1206\u001B[0m     \u001B[38;5;28;01mreturn\u001B[39;00m values\n\u001B[0;32m   1208\u001B[0m values \u001B[38;5;241m=\u001B[39m (\n\u001B[0;32m   1209\u001B[0m     coerce(arg[unit_rev[\u001B[38;5;124m\"\u001B[39m\u001B[38;5;124myear\u001B[39m\u001B[38;5;124m\"\u001B[39m]]) \u001B[38;5;241m*\u001B[39m \u001B[38;5;241m10000\u001B[39m\n\u001B[1;32m-> 1210\u001B[0m     \u001B[38;5;241m+\u001B[39m coerce(arg[unit_rev[\u001B[38;5;124m\"\u001B[39m\u001B[38;5;124mmonth\u001B[39m\u001B[38;5;124m\"\u001B[39m]]) \u001B[38;5;241m*\u001B[39m \u001B[38;5;241m100\u001B[39m\n\u001B[0;32m   1211\u001B[0m     \u001B[38;5;241m+\u001B[39m coerce(arg[unit_rev[\u001B[38;5;124m\"\u001B[39m\u001B[38;5;124mday\u001B[39m\u001B[38;5;124m\"\u001B[39m]])\n\u001B[0;32m   1212\u001B[0m )\n\u001B[0;32m   1213\u001B[0m \u001B[38;5;28;01mtry\u001B[39;00m:\n\u001B[0;32m   1214\u001B[0m     values \u001B[38;5;241m=\u001B[39m to_datetime(values, \u001B[38;5;28mformat\u001B[39m\u001B[38;5;241m=\u001B[39m\u001B[38;5;124m\"\u001B[39m\u001B[38;5;124m%\u001B[39m\u001B[38;5;124mY\u001B[39m\u001B[38;5;124m%\u001B[39m\u001B[38;5;124mm\u001B[39m\u001B[38;5;132;01m%d\u001B[39;00m\u001B[38;5;124m\"\u001B[39m, errors\u001B[38;5;241m=\u001B[39merrors, utc\u001B[38;5;241m=\u001B[39mutc)\n",
      "File \u001B[1;32m~\\miniconda3\\Lib\\site-packages\\pandas\\core\\tools\\datetimes.py:1201\u001B[0m, in \u001B[0;36m_assemble_from_unit_mappings.<locals>.coerce\u001B[1;34m(values)\u001B[0m\n\u001B[0;32m   1199\u001B[0m \u001B[38;5;28;01mdef\u001B[39;00m \u001B[38;5;21mcoerce\u001B[39m(values):\n\u001B[0;32m   1200\u001B[0m     \u001B[38;5;66;03m# we allow coercion to if errors allows\u001B[39;00m\n\u001B[1;32m-> 1201\u001B[0m     values \u001B[38;5;241m=\u001B[39m to_numeric(values, errors\u001B[38;5;241m=\u001B[39merrors)\n\u001B[0;32m   1203\u001B[0m     \u001B[38;5;66;03m# prevent overflow in case of int8 or int16\u001B[39;00m\n\u001B[0;32m   1204\u001B[0m     \u001B[38;5;28;01mif\u001B[39;00m is_integer_dtype(values\u001B[38;5;241m.\u001B[39mdtype):\n",
      "File \u001B[1;32m~\\miniconda3\\Lib\\site-packages\\pandas\\core\\tools\\numeric.py:232\u001B[0m, in \u001B[0;36mto_numeric\u001B[1;34m(arg, errors, downcast, dtype_backend)\u001B[0m\n\u001B[0;32m    230\u001B[0m coerce_numeric \u001B[38;5;241m=\u001B[39m errors \u001B[38;5;129;01mnot\u001B[39;00m \u001B[38;5;129;01min\u001B[39;00m (\u001B[38;5;124m\"\u001B[39m\u001B[38;5;124mignore\u001B[39m\u001B[38;5;124m\"\u001B[39m, \u001B[38;5;124m\"\u001B[39m\u001B[38;5;124mraise\u001B[39m\u001B[38;5;124m\"\u001B[39m)\n\u001B[0;32m    231\u001B[0m \u001B[38;5;28;01mtry\u001B[39;00m:\n\u001B[1;32m--> 232\u001B[0m     values, new_mask \u001B[38;5;241m=\u001B[39m lib\u001B[38;5;241m.\u001B[39mmaybe_convert_numeric(  \u001B[38;5;66;03m# type: ignore[call-overload]\u001B[39;00m\n\u001B[0;32m    233\u001B[0m         values,\n\u001B[0;32m    234\u001B[0m         \u001B[38;5;28mset\u001B[39m(),\n\u001B[0;32m    235\u001B[0m         coerce_numeric\u001B[38;5;241m=\u001B[39mcoerce_numeric,\n\u001B[0;32m    236\u001B[0m         convert_to_masked_nullable\u001B[38;5;241m=\u001B[39mdtype_backend \u001B[38;5;129;01mis\u001B[39;00m \u001B[38;5;129;01mnot\u001B[39;00m lib\u001B[38;5;241m.\u001B[39mno_default\n\u001B[0;32m    237\u001B[0m         \u001B[38;5;129;01mor\u001B[39;00m \u001B[38;5;28misinstance\u001B[39m(values_dtype, StringDtype)\n\u001B[0;32m    238\u001B[0m         \u001B[38;5;129;01mand\u001B[39;00m \u001B[38;5;129;01mnot\u001B[39;00m values_dtype\u001B[38;5;241m.\u001B[39mstorage \u001B[38;5;241m==\u001B[39m \u001B[38;5;124m\"\u001B[39m\u001B[38;5;124mpyarrow_numpy\u001B[39m\u001B[38;5;124m\"\u001B[39m,\n\u001B[0;32m    239\u001B[0m     )\n\u001B[0;32m    240\u001B[0m \u001B[38;5;28;01mexcept\u001B[39;00m (\u001B[38;5;167;01mValueError\u001B[39;00m, \u001B[38;5;167;01mTypeError\u001B[39;00m):\n\u001B[0;32m    241\u001B[0m     \u001B[38;5;28;01mif\u001B[39;00m errors \u001B[38;5;241m==\u001B[39m \u001B[38;5;124m\"\u001B[39m\u001B[38;5;124mraise\u001B[39m\u001B[38;5;124m\"\u001B[39m:\n",
      "File \u001B[1;32mlib.pyx:2433\u001B[0m, in \u001B[0;36mpandas._libs.lib.maybe_convert_numeric\u001B[1;34m()\u001B[0m\n",
      "\u001B[1;31mValueError\u001B[0m: Unable to parse string \"01. ENERO\" at position 0"
     ]
    }
   ],
   "execution_count": 81
  },
  {
   "metadata": {
    "ExecuteTime": {
     "end_time": "2024-08-26T20:26:06.642494Z",
     "start_time": "2024-08-26T20:26:06.388361Z"
    }
   },
   "cell_type": "code",
   "source": "df = pd.get_dummies(df, columns=['ZONA', 'NOM_COMUNA', 'BARRIOS_HECHO'],dtype=int)",
   "id": "3460941e1ba680df",
   "outputs": [],
   "execution_count": 78
  },
  {
   "metadata": {
    "ExecuteTime": {
     "end_time": "2024-08-26T20:01:51.842926Z",
     "start_time": "2024-08-26T20:01:51.755767Z"
    }
   },
   "cell_type": "code",
   "source": "df.replace(\"NO REPORTADO\", np.nan, inplace=True)",
   "id": "49ce74c28a6562eb",
   "outputs": [],
   "execution_count": 45
  }
 ],
 "metadata": {
  "kernelspec": {
   "display_name": "Python 3",
   "language": "python",
   "name": "python3"
  },
  "language_info": {
   "codemirror_mode": {
    "name": "ipython",
    "version": 2
   },
   "file_extension": ".py",
   "mimetype": "text/x-python",
   "name": "python",
   "nbconvert_exporter": "python",
   "pygments_lexer": "ipython2",
   "version": "2.7.6"
  }
 },
 "nbformat": 4,
 "nbformat_minor": 5
}
